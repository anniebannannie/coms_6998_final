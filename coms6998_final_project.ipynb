{
  "nbformat": 4,
  "nbformat_minor": 0,
  "metadata": {
    "colab": {
      "provenance": [],
      "machine_shape": "hm",
      "gpuType": "T4",
      "include_colab_link": true
    },
    "kernelspec": {
      "name": "python3",
      "display_name": "Python 3"
    },
    "language_info": {
      "name": "python"
    },
    "accelerator": "GPU",
    "widgets": {
      "application/vnd.jupyter.widget-state+json": {
        "ba54341eb6a44f188d10d18e62118afc": {
          "model_module": "@jupyter-widgets/controls",
          "model_name": "HBoxModel",
          "model_module_version": "1.5.0",
          "state": {
            "_dom_classes": [],
            "_model_module": "@jupyter-widgets/controls",
            "_model_module_version": "1.5.0",
            "_model_name": "HBoxModel",
            "_view_count": null,
            "_view_module": "@jupyter-widgets/controls",
            "_view_module_version": "1.5.0",
            "_view_name": "HBoxView",
            "box_style": "",
            "children": [
              "IPY_MODEL_ad0cc485a540495eb87eab601c238669",
              "IPY_MODEL_7d84139e42ae4341b071884ee2f612c3",
              "IPY_MODEL_8ed8f7fd168a46eca0cc47a320507a3c"
            ],
            "layout": "IPY_MODEL_ed1b416f33ae403d815d6a35f1293ac3"
          }
        },
        "ad0cc485a540495eb87eab601c238669": {
          "model_module": "@jupyter-widgets/controls",
          "model_name": "HTMLModel",
          "model_module_version": "1.5.0",
          "state": {
            "_dom_classes": [],
            "_model_module": "@jupyter-widgets/controls",
            "_model_module_version": "1.5.0",
            "_model_name": "HTMLModel",
            "_view_count": null,
            "_view_module": "@jupyter-widgets/controls",
            "_view_module_version": "1.5.0",
            "_view_name": "HTMLView",
            "description": "",
            "description_tooltip": null,
            "layout": "IPY_MODEL_cc195e1e421241b49db8b13f9665c87e",
            "placeholder": "​",
            "style": "IPY_MODEL_6f798496bfcb4b4f98d5650fc9255af1",
            "value": "100%"
          }
        },
        "7d84139e42ae4341b071884ee2f612c3": {
          "model_module": "@jupyter-widgets/controls",
          "model_name": "FloatProgressModel",
          "model_module_version": "1.5.0",
          "state": {
            "_dom_classes": [],
            "_model_module": "@jupyter-widgets/controls",
            "_model_module_version": "1.5.0",
            "_model_name": "FloatProgressModel",
            "_view_count": null,
            "_view_module": "@jupyter-widgets/controls",
            "_view_module_version": "1.5.0",
            "_view_name": "ProgressView",
            "bar_style": "success",
            "description": "",
            "description_tooltip": null,
            "layout": "IPY_MODEL_66714718af844cb8a707a79ad07043fb",
            "max": 4803584173,
            "min": 0,
            "orientation": "horizontal",
            "style": "IPY_MODEL_7e391f6fbdfd4e62bb50b951a25eb68f",
            "value": 4803584173
          }
        },
        "8ed8f7fd168a46eca0cc47a320507a3c": {
          "model_module": "@jupyter-widgets/controls",
          "model_name": "HTMLModel",
          "model_module_version": "1.5.0",
          "state": {
            "_dom_classes": [],
            "_model_module": "@jupyter-widgets/controls",
            "_model_module_version": "1.5.0",
            "_model_name": "HTMLModel",
            "_view_count": null,
            "_view_module": "@jupyter-widgets/controls",
            "_view_module_version": "1.5.0",
            "_view_name": "HTMLView",
            "description": "",
            "description_tooltip": null,
            "layout": "IPY_MODEL_40371898c2224afa987b546df57e8bef",
            "placeholder": "​",
            "style": "IPY_MODEL_879625863cb447aab1fc91b2c286aae8",
            "value": " 4.47G/4.47G [00:18&lt;00:00, 269MB/s]"
          }
        },
        "ed1b416f33ae403d815d6a35f1293ac3": {
          "model_module": "@jupyter-widgets/base",
          "model_name": "LayoutModel",
          "model_module_version": "1.2.0",
          "state": {
            "_model_module": "@jupyter-widgets/base",
            "_model_module_version": "1.2.0",
            "_model_name": "LayoutModel",
            "_view_count": null,
            "_view_module": "@jupyter-widgets/base",
            "_view_module_version": "1.2.0",
            "_view_name": "LayoutView",
            "align_content": null,
            "align_items": null,
            "align_self": null,
            "border": null,
            "bottom": null,
            "display": null,
            "flex": null,
            "flex_flow": null,
            "grid_area": null,
            "grid_auto_columns": null,
            "grid_auto_flow": null,
            "grid_auto_rows": null,
            "grid_column": null,
            "grid_gap": null,
            "grid_row": null,
            "grid_template_areas": null,
            "grid_template_columns": null,
            "grid_template_rows": null,
            "height": null,
            "justify_content": null,
            "justify_items": null,
            "left": null,
            "margin": null,
            "max_height": null,
            "max_width": null,
            "min_height": null,
            "min_width": null,
            "object_fit": null,
            "object_position": null,
            "order": null,
            "overflow": null,
            "overflow_x": null,
            "overflow_y": null,
            "padding": null,
            "right": null,
            "top": null,
            "visibility": null,
            "width": null
          }
        },
        "cc195e1e421241b49db8b13f9665c87e": {
          "model_module": "@jupyter-widgets/base",
          "model_name": "LayoutModel",
          "model_module_version": "1.2.0",
          "state": {
            "_model_module": "@jupyter-widgets/base",
            "_model_module_version": "1.2.0",
            "_model_name": "LayoutModel",
            "_view_count": null,
            "_view_module": "@jupyter-widgets/base",
            "_view_module_version": "1.2.0",
            "_view_name": "LayoutView",
            "align_content": null,
            "align_items": null,
            "align_self": null,
            "border": null,
            "bottom": null,
            "display": null,
            "flex": null,
            "flex_flow": null,
            "grid_area": null,
            "grid_auto_columns": null,
            "grid_auto_flow": null,
            "grid_auto_rows": null,
            "grid_column": null,
            "grid_gap": null,
            "grid_row": null,
            "grid_template_areas": null,
            "grid_template_columns": null,
            "grid_template_rows": null,
            "height": null,
            "justify_content": null,
            "justify_items": null,
            "left": null,
            "margin": null,
            "max_height": null,
            "max_width": null,
            "min_height": null,
            "min_width": null,
            "object_fit": null,
            "object_position": null,
            "order": null,
            "overflow": null,
            "overflow_x": null,
            "overflow_y": null,
            "padding": null,
            "right": null,
            "top": null,
            "visibility": null,
            "width": null
          }
        },
        "6f798496bfcb4b4f98d5650fc9255af1": {
          "model_module": "@jupyter-widgets/controls",
          "model_name": "DescriptionStyleModel",
          "model_module_version": "1.5.0",
          "state": {
            "_model_module": "@jupyter-widgets/controls",
            "_model_module_version": "1.5.0",
            "_model_name": "DescriptionStyleModel",
            "_view_count": null,
            "_view_module": "@jupyter-widgets/base",
            "_view_module_version": "1.2.0",
            "_view_name": "StyleView",
            "description_width": ""
          }
        },
        "66714718af844cb8a707a79ad07043fb": {
          "model_module": "@jupyter-widgets/base",
          "model_name": "LayoutModel",
          "model_module_version": "1.2.0",
          "state": {
            "_model_module": "@jupyter-widgets/base",
            "_model_module_version": "1.2.0",
            "_model_name": "LayoutModel",
            "_view_count": null,
            "_view_module": "@jupyter-widgets/base",
            "_view_module_version": "1.2.0",
            "_view_name": "LayoutView",
            "align_content": null,
            "align_items": null,
            "align_self": null,
            "border": null,
            "bottom": null,
            "display": null,
            "flex": null,
            "flex_flow": null,
            "grid_area": null,
            "grid_auto_columns": null,
            "grid_auto_flow": null,
            "grid_auto_rows": null,
            "grid_column": null,
            "grid_gap": null,
            "grid_row": null,
            "grid_template_areas": null,
            "grid_template_columns": null,
            "grid_template_rows": null,
            "height": null,
            "justify_content": null,
            "justify_items": null,
            "left": null,
            "margin": null,
            "max_height": null,
            "max_width": null,
            "min_height": null,
            "min_width": null,
            "object_fit": null,
            "object_position": null,
            "order": null,
            "overflow": null,
            "overflow_x": null,
            "overflow_y": null,
            "padding": null,
            "right": null,
            "top": null,
            "visibility": null,
            "width": null
          }
        },
        "7e391f6fbdfd4e62bb50b951a25eb68f": {
          "model_module": "@jupyter-widgets/controls",
          "model_name": "ProgressStyleModel",
          "model_module_version": "1.5.0",
          "state": {
            "_model_module": "@jupyter-widgets/controls",
            "_model_module_version": "1.5.0",
            "_model_name": "ProgressStyleModel",
            "_view_count": null,
            "_view_module": "@jupyter-widgets/base",
            "_view_module_version": "1.2.0",
            "_view_name": "StyleView",
            "bar_color": null,
            "description_width": ""
          }
        },
        "40371898c2224afa987b546df57e8bef": {
          "model_module": "@jupyter-widgets/base",
          "model_name": "LayoutModel",
          "model_module_version": "1.2.0",
          "state": {
            "_model_module": "@jupyter-widgets/base",
            "_model_module_version": "1.2.0",
            "_model_name": "LayoutModel",
            "_view_count": null,
            "_view_module": "@jupyter-widgets/base",
            "_view_module_version": "1.2.0",
            "_view_name": "LayoutView",
            "align_content": null,
            "align_items": null,
            "align_self": null,
            "border": null,
            "bottom": null,
            "display": null,
            "flex": null,
            "flex_flow": null,
            "grid_area": null,
            "grid_auto_columns": null,
            "grid_auto_flow": null,
            "grid_auto_rows": null,
            "grid_column": null,
            "grid_gap": null,
            "grid_row": null,
            "grid_template_areas": null,
            "grid_template_columns": null,
            "grid_template_rows": null,
            "height": null,
            "justify_content": null,
            "justify_items": null,
            "left": null,
            "margin": null,
            "max_height": null,
            "max_width": null,
            "min_height": null,
            "min_width": null,
            "object_fit": null,
            "object_position": null,
            "order": null,
            "overflow": null,
            "overflow_x": null,
            "overflow_y": null,
            "padding": null,
            "right": null,
            "top": null,
            "visibility": null,
            "width": null
          }
        },
        "879625863cb447aab1fc91b2c286aae8": {
          "model_module": "@jupyter-widgets/controls",
          "model_name": "DescriptionStyleModel",
          "model_module_version": "1.5.0",
          "state": {
            "_model_module": "@jupyter-widgets/controls",
            "_model_module_version": "1.5.0",
            "_model_name": "DescriptionStyleModel",
            "_view_count": null,
            "_view_module": "@jupyter-widgets/base",
            "_view_module_version": "1.2.0",
            "_view_name": "StyleView",
            "description_width": ""
          }
        }
      }
    }
  },
  "cells": [
    {
      "cell_type": "markdown",
      "metadata": {
        "id": "view-in-github",
        "colab_type": "text"
      },
      "source": [
        "<a href=\"https://colab.research.google.com/github/anniebannannie/coms_6998_final/blob/main/coms6998_final_project.ipynb\" target=\"_parent\"><img src=\"https://colab.research.google.com/assets/colab-badge.svg\" alt=\"Open In Colab\"/></a>"
      ]
    },
    {
      "cell_type": "code",
      "source": [
        "# Mount drive\n",
        "from google.colab import drive\n",
        "drive.mount('/content/drive')"
      ],
      "metadata": {
        "colab": {
          "base_uri": "https://localhost:8080/"
        },
        "id": "Yjtcz3IDKqPo",
        "outputId": "acacbd51-9080-4038-9798-dc6af78e3571"
      },
      "execution_count": 1,
      "outputs": [
        {
          "output_type": "stream",
          "name": "stdout",
          "text": [
            "Mounted at /content/drive\n"
          ]
        }
      ]
    },
    {
      "cell_type": "code",
      "execution_count": 2,
      "metadata": {
        "id": "e03lbKJZ5vRO",
        "colab": {
          "base_uri": "https://localhost:8080/"
        },
        "outputId": "e09471f1-ae99-4223-c137-cb0dafb837e9"
      },
      "outputs": [
        {
          "output_type": "stream",
          "name": "stdout",
          "text": [
            "Warning: Looks like you're using an outdated `kagglehub` version, please consider updating (latest version: 0.3.5)\n",
            "Downloading from https://www.kaggle.com/api/v1/datasets/download/dejolilandry/iemocapfullrelease?dataset_version_number=1...\n"
          ]
        },
        {
          "output_type": "stream",
          "name": "stderr",
          "text": [
            "100%|██████████| 11.5G/11.5G [10:25<00:00, 19.8MB/s]"
          ]
        },
        {
          "output_type": "stream",
          "name": "stdout",
          "text": [
            "Extracting files...\n"
          ]
        },
        {
          "output_type": "stream",
          "name": "stderr",
          "text": [
            "\n"
          ]
        }
      ],
      "source": [
        "import kagglehub\n",
        "\n",
        "# Download latest version of IEMOCAP dataset\n",
        "path = kagglehub.dataset_download(\"dejolilandry/iemocapfullrelease\")"
      ]
    },
    {
      "cell_type": "code",
      "source": [
        "## Clone ImageBind source code\n",
        "\n",
        "!git clone https://github.com/facebookresearch/ImageBind.git\n",
        "%cd ImageBind"
      ],
      "metadata": {
        "colab": {
          "base_uri": "https://localhost:8080/"
        },
        "id": "yNTZJchUPSeu",
        "outputId": "5fd7e793-349e-49da-b60e-0042ca1d2c18",
        "collapsed": true
      },
      "execution_count": 3,
      "outputs": [
        {
          "output_type": "stream",
          "name": "stdout",
          "text": [
            "Cloning into 'ImageBind'...\n",
            "remote: Enumerating objects: 146, done.\u001b[K\n",
            "remote: Counting objects: 100% (88/88), done.\u001b[K\n",
            "remote: Compressing objects: 100% (49/49), done.\u001b[K\n",
            "remote: Total 146 (delta 60), reused 39 (delta 39), pack-reused 58 (from 1)\u001b[K\n",
            "Receiving objects: 100% (146/146), 2.64 MiB | 10.92 MiB/s, done.\n",
            "Resolving deltas: 100% (68/68), done.\n",
            "/content/ImageBind\n"
          ]
        }
      ]
    },
    {
      "cell_type": "code",
      "source": [
        "# Install the required dependencies\n",
        "%%capture\n",
        "!pip install -r requirements.txt\n",
        "!pip install torch==1.13.1 torchvision==0.14.1 torchaudio==0.13.1\n",
        "!pip install pytorchvideo\n",
        "!pip install ftfy\n",
        "!pip install datasets\n",
        "!pip install decord[gpu]"
      ],
      "metadata": {
        "id": "8QqTMbfiRgwE"
      },
      "execution_count": 4,
      "outputs": []
    },
    {
      "cell_type": "code",
      "source": [
        "## Import required libraries\n",
        "import sys\n",
        "import torch\n",
        "import os\n",
        "import cv2\n",
        "import subprocess\n",
        "\n",
        "from collections import defaultdict\n",
        "import numpy as np\n",
        "import pandas as pd\n",
        "import torch\n",
        "import matplotlib.pyplot as plt\n",
        "import seaborn as sns\n",
        "from sklearn.model_selection import train_test_split\n",
        "from sklearn.svm import NuSVC\n",
        "from sklearn.model_selection import RandomizedSearchCV\n",
        "from sklearn.metrics import classification_report"
      ],
      "metadata": {
        "id": "p8KAElTMJHC5"
      },
      "execution_count": 3,
      "outputs": []
    },
    {
      "cell_type": "code",
      "source": [
        "sys.path.append('/content/ImageBind')"
      ],
      "metadata": {
        "id": "u9ToEPpJZQ9w"
      },
      "execution_count": 6,
      "outputs": []
    },
    {
      "cell_type": "code",
      "source": [
        "from imagebind import data\n",
        "from imagebind.models import imagebind_model\n",
        "from imagebind.models.imagebind_model import ModalityType"
      ],
      "metadata": {
        "colab": {
          "base_uri": "https://localhost:8080/"
        },
        "id": "LbL07R13lSFN",
        "outputId": "6885d6e2-2252-4412-ae7f-b69068d66e82"
      },
      "execution_count": 7,
      "outputs": [
        {
          "output_type": "stream",
          "name": "stderr",
          "text": [
            "/usr/local/lib/python3.10/dist-packages/torchvision/transforms/_functional_video.py:6: UserWarning: The 'torchvision.transforms._functional_video' module is deprecated since 0.12 and will be removed in the future. Please use the 'torchvision.transforms.functional' module instead.\n",
            "  warnings.warn(\n",
            "/usr/local/lib/python3.10/dist-packages/torchvision/transforms/_transforms_video.py:22: UserWarning: The 'torchvision.transforms._transforms_video' module is deprecated since 0.12 and will be removed in the future. Please use the 'torchvision.transforms' module instead.\n",
            "  warnings.warn(\n",
            "/usr/local/lib/python3.10/dist-packages/timm/models/layers/__init__.py:48: FutureWarning: Importing from timm.models.layers is deprecated, please import via timm.layers\n",
            "  warnings.warn(f\"Importing from {__name__} is deprecated, please import via timm.layers\", FutureWarning)\n"
          ]
        }
      ]
    },
    {
      "cell_type": "code",
      "source": [
        "sessions = ['Session1', 'Session2', 'Session3', 'Session4', 'Session5']\n",
        "iemocap_path = path + '/IEMOCAP_full_release'"
      ],
      "metadata": {
        "id": "f60DNLo9ANEJ"
      },
      "execution_count": 8,
      "outputs": []
    },
    {
      "cell_type": "code",
      "source": [
        "# Function to load audio file\n",
        "def load_audio():\n",
        "    audio_session = {}\n",
        "    for session in sessions:\n",
        "        audio_data = {}\n",
        "        audio_path = os.path.join(iemocap_path, session, \"sentences/wav/\")\n",
        "        for session_path in os.listdir(audio_path):\n",
        "          for file in os.listdir(os.path.join(audio_path, session_path)):\n",
        "            if file.endswith(\".wav\"):\n",
        "              audio_id = os.path.splitext(file)[0]\n",
        "              file_path = os.path.join(audio_path, session_path, file)\n",
        "              audio_data[audio_id] = file_path\n",
        "        audio_session[session] = dict(sorted(audio_data.items()))\n",
        "    return dict(sorted(audio_session.items()))"
      ],
      "metadata": {
        "id": "R9pacH8VG8b4"
      },
      "execution_count": 15,
      "outputs": []
    },
    {
      "cell_type": "code",
      "source": [
        "# Function to load text transcriptions and get time stamps for videos if specified\n",
        "def load_text(get_time=False):\n",
        "    for session in sessions:\n",
        "        transcriptions_path = os.path.join(iemocap_path, session, \"dialog/transcriptions/\")\n",
        "        if get_time:\n",
        "          video_time_data = {}\n",
        "        text_dialog_data = {}\n",
        "        for file in os.listdir(transcriptions_path):\n",
        "            if file.endswith(\".txt\"):\n",
        "                session_id = os.path.splitext(file)[0]\n",
        "                if get_time:\n",
        "                  time_data = {}\n",
        "                text_data = {}\n",
        "                #file_path = os.path.join(transcriptions_path, file)\n",
        "                with open(os.path.join(transcriptions_path, file), \"r\", encoding=\"utf-8\") as f:\n",
        "                  for line in f:\n",
        "                    dialog_id = line.split(\"[\")[0].strip()\n",
        "                    if \"Ses\" in dialog_id:\n",
        "                      if get_time:\n",
        "                        video_time = line.split(\"[\")[1].strip()\n",
        "                        video_time = video_time.split(\"]\")[0].strip()\n",
        "                        time_data[dialog_id] = video_time\n",
        "                      text = line.split(\":\")[1].strip()\n",
        "                      text_data[dialog_id] = text\n",
        "                if get_time:\n",
        "                  video_time_data[session_id] = dict(sorted(time_data.items()))\n",
        "                text_dialog_data[session_id] = dict(sorted(text_data.items()))\n",
        "    if get_time:\n",
        "      return dict(sorted(text_dialog_data.items())), dict(sorted(video_time_data.items()))\n",
        "    else:\n",
        "      return dict(sorted(text_dialog_data.items()))"
      ],
      "metadata": {
        "id": "dkTo9ms_IYdk"
      },
      "execution_count": 16,
      "outputs": []
    },
    {
      "cell_type": "code",
      "source": [
        "# function to load emotion labels\n",
        "def load_labels(save_labels = False):\n",
        "    label_session = {}\n",
        "    for session in sessions:\n",
        "      transcriptions_path = os.path.join(iemocap_path, session, \"dialog/EmoEvaluation/\")\n",
        "      label_data = {}\n",
        "      for file in os.listdir(transcriptions_path):\n",
        "          if file.endswith(\".txt\"):\n",
        "              with open(os.path.join(transcriptions_path, file), \"r\", encoding=\"utf-8\") as f:\n",
        "                for line in f:\n",
        "                  if \"Ses\" in line:\n",
        "                    arr = line.split('\\t')\n",
        "                    dialog_id = arr[1]\n",
        "                    emotion = arr[2]\n",
        "                    label_data[dialog_id] = [dialog_id,emotion]\n",
        "      emotion_labels = dict(sorted(label_data.items()))\n",
        "      emotion_labels = list(emotion_labels.values())\n",
        "      if save_labels:\n",
        "        np.savetxt(f\"/content/drive/MyDrive/coms6998_final_project/Embeddings/emotion_labels_{session}.csv\", emotion_labels, delimiter=\",\" ,fmt=\"%s\")\n",
        "      label_session[session] = dict(sorted(label_data.items()))\n",
        "    return dict(sorted(label_session.items()))\n"
      ],
      "metadata": {
        "id": "qf5qMKCvVFHP"
      },
      "execution_count": 21,
      "outputs": []
    },
    {
      "cell_type": "code",
      "source": [
        "def split_video(input_file, start_time, end_time, output_file):\n",
        "  cmd = [\n",
        "        \"ffmpeg\",\n",
        "        \"-i\", input_file,\n",
        "        \"-ss\", start_time,\n",
        "        \"-t\", end_time,\n",
        "        \"-codec\", \"copy\",\n",
        "        output_file\n",
        "    ]\n",
        "  subprocess.run(cmd)"
      ],
      "metadata": {
        "id": "XZt22WzDYxQt"
      },
      "execution_count": 22,
      "outputs": []
    },
    {
      "cell_type": "code",
      "source": [
        "# Function to load video files\n",
        "def load_video(video_path_output, splice_video=False, video_time_data=None):\n",
        "  if splice_video:\n",
        "    for session in sessions:\n",
        "        video_path = os.path.join(iemocap_path, session, \"dialog/avi/DivX\")\n",
        "        video_dialog_data = {}\n",
        "        for file in os.listdir(video_path):\n",
        "            if file.endswith(\".avi\"):\n",
        "                video_data = {}\n",
        "                session_id = os.path.splitext(file)[0]\n",
        "                input_file_path = os.path.join(video_path, file)\n",
        "                output_file_names = list(video_time_data[session_id].keys())\n",
        "                print(f\"Splitting video {file}......\")\n",
        "                for output in output_file_names:\n",
        "                  start_time = video_time_data[session_id][output].split(\"-\")[0]\n",
        "                  end_time = video_time_data[session_id][output].split(\"-\")[1]\n",
        "                  output_file = os.path.join(video_path_output, session_id, output + \".avi\")\n",
        "\n",
        "                  split_video(input_file_path, start_time, end_time, output_file)\n",
        "                  video_data[output] = output_file\n",
        "                video_dialog_data[session_id] = dict(sorted(video_data.items()))\n",
        "                print(f\"Done processing {file}.\")\n",
        "  else:\n",
        "      video_dialog_data = {}\n",
        "      for transcript in os.listdir(video_path_output):\n",
        "        for video in os.listdir(os.path.join(video_path_output, transcript)):\n",
        "          video_key = transcript + \"_\" + video.split(\".\")[0]\n",
        "          video_dialog_data[video_key] = os.path.join(video_path_output, transcript, video)\n",
        "          video_dialog_data = dict(sorted(video_dialog_data.items()))\n",
        "\n",
        "  return dict(sorted(video_dialog_data.items()))"
      ],
      "metadata": {
        "id": "LA-0P2dkhPGp"
      },
      "execution_count": 45,
      "outputs": []
    },
    {
      "cell_type": "code",
      "source": [
        "emotion_labels = load_labels()\n",
        "text_data = load_text()\n",
        "audio_data = load_audio()\n",
        "video_data = load_video(video_path_output = \"/content/drive/MyDrive/coms6998_final_project/data/video/\")\n"
      ],
      "metadata": {
        "id": "SJGhAnCaawVo"
      },
      "execution_count": 46,
      "outputs": []
    },
    {
      "cell_type": "code",
      "source": [
        "labels = list(emotion_labels.values())\n",
        "text_list = list(text_data.values())\n",
        "audio_paths = list(audio_data.values())\n",
        "video_paths = list(video_data.values())"
      ],
      "metadata": {
        "id": "xpDGjr-Ri82q"
      },
      "execution_count": 48,
      "outputs": []
    },
    {
      "cell_type": "code",
      "source": [
        "## LOAD AND INSTANTIATE IMAGEBIND MODEL ##\n",
        "\n",
        "device = \"cuda:0\" if torch.cuda.is_available() else \"cpu\"\n",
        "\n",
        "model = imagebind_model.imagebind_huge(pretrained=True)\n",
        "model.eval()\n",
        "model.to(device)"
      ],
      "metadata": {
        "id": "kVdXbATB8Q6L",
        "colab": {
          "base_uri": "https://localhost:8080/",
          "height": 1000,
          "referenced_widgets": [
            "ba54341eb6a44f188d10d18e62118afc",
            "ad0cc485a540495eb87eab601c238669",
            "7d84139e42ae4341b071884ee2f612c3",
            "8ed8f7fd168a46eca0cc47a320507a3c",
            "ed1b416f33ae403d815d6a35f1293ac3",
            "cc195e1e421241b49db8b13f9665c87e",
            "6f798496bfcb4b4f98d5650fc9255af1",
            "66714718af844cb8a707a79ad07043fb",
            "7e391f6fbdfd4e62bb50b951a25eb68f",
            "40371898c2224afa987b546df57e8bef",
            "879625863cb447aab1fc91b2c286aae8"
          ]
        },
        "outputId": "012ed8fc-21a8-4a1e-e7eb-b8a43b0aa1fc"
      },
      "execution_count": 49,
      "outputs": [
        {
          "output_type": "stream",
          "name": "stdout",
          "text": [
            "Downloading imagebind weights to .checkpoints/imagebind_huge.pth ...\n"
          ]
        },
        {
          "output_type": "display_data",
          "data": {
            "text/plain": [
              "  0%|          | 0.00/4.47G [00:00<?, ?B/s]"
            ],
            "application/vnd.jupyter.widget-view+json": {
              "version_major": 2,
              "version_minor": 0,
              "model_id": "ba54341eb6a44f188d10d18e62118afc"
            }
          },
          "metadata": {}
        },
        {
          "output_type": "execute_result",
          "data": {
            "text/plain": [
              "ImageBindModel(\n",
              "  (modality_preprocessors): ModuleDict(\n",
              "    (vision): RGBDTPreprocessor(\n",
              "      (cls_token): tensor((1, 1, 1280), requires_grad=True)\n",
              "      \n",
              "      (rgbt_stem): PatchEmbedGeneric(\n",
              "        (proj): Sequential(\n",
              "          (0): PadIm2Video()\n",
              "          (1): Conv3d(3, 1280, kernel_size=(2, 14, 14), stride=(2, 14, 14), bias=False)\n",
              "        )\n",
              "      )\n",
              "      (pos_embedding_helper): SpatioTemporalPosEmbeddingHelper(\n",
              "        (pos_embed): tensor((1, 257, 1280), requires_grad=True)\n",
              "        \n",
              "      )\n",
              "    )\n",
              "    (text): TextPreprocessor(\n",
              "      (pos_embed): tensor((1, 77, 1024), requires_grad=True)\n",
              "      (mask): tensor((77, 77), requires_grad=False)\n",
              "      \n",
              "      (token_embedding): Embedding(49408, 1024)\n",
              "    )\n",
              "    (audio): AudioPreprocessor(\n",
              "      (cls_token): tensor((1, 1, 768), requires_grad=True)\n",
              "      \n",
              "      (rgbt_stem): PatchEmbedGeneric(\n",
              "        (proj): Conv2d(1, 768, kernel_size=(16, 16), stride=(10, 10), bias=False)\n",
              "        (norm_layer): LayerNorm((768,), eps=1e-05, elementwise_affine=True)\n",
              "      )\n",
              "      (pos_embedding_helper): SpatioTemporalPosEmbeddingHelper(\n",
              "        (pos_embed): tensor((1, 229, 768), requires_grad=True)\n",
              "        \n",
              "      )\n",
              "    )\n",
              "    (depth): RGBDTPreprocessor(\n",
              "      (cls_token): tensor((1, 1, 384), requires_grad=True)\n",
              "      \n",
              "      (depth_stem): PatchEmbedGeneric(\n",
              "        (proj): Conv2d(1, 384, kernel_size=(16, 16), stride=(16, 16), bias=False)\n",
              "        (norm_layer): LayerNorm((384,), eps=1e-05, elementwise_affine=True)\n",
              "      )\n",
              "      (pos_embedding_helper): SpatioTemporalPosEmbeddingHelper(\n",
              "        (pos_embed): tensor((1, 197, 384), requires_grad=True)\n",
              "        \n",
              "      )\n",
              "    )\n",
              "    (thermal): ThermalPreprocessor(\n",
              "      (cls_token): tensor((1, 1, 768), requires_grad=True)\n",
              "      \n",
              "      (rgbt_stem): PatchEmbedGeneric(\n",
              "        (proj): Conv2d(1, 768, kernel_size=(16, 16), stride=(16, 16), bias=False)\n",
              "        (norm_layer): LayerNorm((768,), eps=1e-05, elementwise_affine=True)\n",
              "      )\n",
              "      (pos_embedding_helper): SpatioTemporalPosEmbeddingHelper(\n",
              "        (pos_embed): tensor((1, 197, 768), requires_grad=True)\n",
              "        \n",
              "      )\n",
              "    )\n",
              "    (imu): IMUPreprocessor(\n",
              "      (pos_embed): tensor((1, 251, 512), requires_grad=True)\n",
              "      (cls_token): tensor((1, 1, 512), requires_grad=True)\n",
              "      \n",
              "      (imu_stem): PatchEmbedGeneric(\n",
              "        (proj): Linear(in_features=48, out_features=512, bias=False)\n",
              "        (norm_layer): LayerNorm((512,), eps=1e-05, elementwise_affine=True)\n",
              "      )\n",
              "    )\n",
              "  )\n",
              "  (modality_trunks): ModuleDict(\n",
              "    (vision): SimpleTransformer(\n",
              "      (pre_transformer_layer): Sequential(\n",
              "        (0): LayerNorm((1280,), eps=1e-06, elementwise_affine=True)\n",
              "        (1): EinOpsRearrange()\n",
              "      )\n",
              "      (blocks): Sequential(\n",
              "        (0): BlockWithMasking(\n",
              "          (attn): MultiheadAttention(\n",
              "            (out_proj): NonDynamicallyQuantizableLinear(in_features=1280, out_features=1280, bias=True)\n",
              "          )\n",
              "          (drop_path): Identity()\n",
              "          (norm_1): LayerNorm((1280,), eps=1e-06, elementwise_affine=True)\n",
              "          (mlp): Mlp(\n",
              "            (fc1): Linear(in_features=1280, out_features=5120, bias=True)\n",
              "            (act): GELU(approximate='none')\n",
              "            (fc2): Linear(in_features=5120, out_features=1280, bias=True)\n",
              "            (drop): Dropout(p=0.0, inplace=False)\n",
              "          )\n",
              "          (norm_2): LayerNorm((1280,), eps=1e-06, elementwise_affine=True)\n",
              "        )\n",
              "        (1): BlockWithMasking(\n",
              "          (attn): MultiheadAttention(\n",
              "            (out_proj): NonDynamicallyQuantizableLinear(in_features=1280, out_features=1280, bias=True)\n",
              "          )\n",
              "          (drop_path): Identity()\n",
              "          (norm_1): LayerNorm((1280,), eps=1e-06, elementwise_affine=True)\n",
              "          (mlp): Mlp(\n",
              "            (fc1): Linear(in_features=1280, out_features=5120, bias=True)\n",
              "            (act): GELU(approximate='none')\n",
              "            (fc2): Linear(in_features=5120, out_features=1280, bias=True)\n",
              "            (drop): Dropout(p=0.0, inplace=False)\n",
              "          )\n",
              "          (norm_2): LayerNorm((1280,), eps=1e-06, elementwise_affine=True)\n",
              "        )\n",
              "        (2): BlockWithMasking(\n",
              "          (attn): MultiheadAttention(\n",
              "            (out_proj): NonDynamicallyQuantizableLinear(in_features=1280, out_features=1280, bias=True)\n",
              "          )\n",
              "          (drop_path): Identity()\n",
              "          (norm_1): LayerNorm((1280,), eps=1e-06, elementwise_affine=True)\n",
              "          (mlp): Mlp(\n",
              "            (fc1): Linear(in_features=1280, out_features=5120, bias=True)\n",
              "            (act): GELU(approximate='none')\n",
              "            (fc2): Linear(in_features=5120, out_features=1280, bias=True)\n",
              "            (drop): Dropout(p=0.0, inplace=False)\n",
              "          )\n",
              "          (norm_2): LayerNorm((1280,), eps=1e-06, elementwise_affine=True)\n",
              "        )\n",
              "        (3): BlockWithMasking(\n",
              "          (attn): MultiheadAttention(\n",
              "            (out_proj): NonDynamicallyQuantizableLinear(in_features=1280, out_features=1280, bias=True)\n",
              "          )\n",
              "          (drop_path): Identity()\n",
              "          (norm_1): LayerNorm((1280,), eps=1e-06, elementwise_affine=True)\n",
              "          (mlp): Mlp(\n",
              "            (fc1): Linear(in_features=1280, out_features=5120, bias=True)\n",
              "            (act): GELU(approximate='none')\n",
              "            (fc2): Linear(in_features=5120, out_features=1280, bias=True)\n",
              "            (drop): Dropout(p=0.0, inplace=False)\n",
              "          )\n",
              "          (norm_2): LayerNorm((1280,), eps=1e-06, elementwise_affine=True)\n",
              "        )\n",
              "        (4): BlockWithMasking(\n",
              "          (attn): MultiheadAttention(\n",
              "            (out_proj): NonDynamicallyQuantizableLinear(in_features=1280, out_features=1280, bias=True)\n",
              "          )\n",
              "          (drop_path): Identity()\n",
              "          (norm_1): LayerNorm((1280,), eps=1e-06, elementwise_affine=True)\n",
              "          (mlp): Mlp(\n",
              "            (fc1): Linear(in_features=1280, out_features=5120, bias=True)\n",
              "            (act): GELU(approximate='none')\n",
              "            (fc2): Linear(in_features=5120, out_features=1280, bias=True)\n",
              "            (drop): Dropout(p=0.0, inplace=False)\n",
              "          )\n",
              "          (norm_2): LayerNorm((1280,), eps=1e-06, elementwise_affine=True)\n",
              "        )\n",
              "        (5): BlockWithMasking(\n",
              "          (attn): MultiheadAttention(\n",
              "            (out_proj): NonDynamicallyQuantizableLinear(in_features=1280, out_features=1280, bias=True)\n",
              "          )\n",
              "          (drop_path): Identity()\n",
              "          (norm_1): LayerNorm((1280,), eps=1e-06, elementwise_affine=True)\n",
              "          (mlp): Mlp(\n",
              "            (fc1): Linear(in_features=1280, out_features=5120, bias=True)\n",
              "            (act): GELU(approximate='none')\n",
              "            (fc2): Linear(in_features=5120, out_features=1280, bias=True)\n",
              "            (drop): Dropout(p=0.0, inplace=False)\n",
              "          )\n",
              "          (norm_2): LayerNorm((1280,), eps=1e-06, elementwise_affine=True)\n",
              "        )\n",
              "        (6): BlockWithMasking(\n",
              "          (attn): MultiheadAttention(\n",
              "            (out_proj): NonDynamicallyQuantizableLinear(in_features=1280, out_features=1280, bias=True)\n",
              "          )\n",
              "          (drop_path): Identity()\n",
              "          (norm_1): LayerNorm((1280,), eps=1e-06, elementwise_affine=True)\n",
              "          (mlp): Mlp(\n",
              "            (fc1): Linear(in_features=1280, out_features=5120, bias=True)\n",
              "            (act): GELU(approximate='none')\n",
              "            (fc2): Linear(in_features=5120, out_features=1280, bias=True)\n",
              "            (drop): Dropout(p=0.0, inplace=False)\n",
              "          )\n",
              "          (norm_2): LayerNorm((1280,), eps=1e-06, elementwise_affine=True)\n",
              "        )\n",
              "        (7): BlockWithMasking(\n",
              "          (attn): MultiheadAttention(\n",
              "            (out_proj): NonDynamicallyQuantizableLinear(in_features=1280, out_features=1280, bias=True)\n",
              "          )\n",
              "          (drop_path): Identity()\n",
              "          (norm_1): LayerNorm((1280,), eps=1e-06, elementwise_affine=True)\n",
              "          (mlp): Mlp(\n",
              "            (fc1): Linear(in_features=1280, out_features=5120, bias=True)\n",
              "            (act): GELU(approximate='none')\n",
              "            (fc2): Linear(in_features=5120, out_features=1280, bias=True)\n",
              "            (drop): Dropout(p=0.0, inplace=False)\n",
              "          )\n",
              "          (norm_2): LayerNorm((1280,), eps=1e-06, elementwise_affine=True)\n",
              "        )\n",
              "        (8): BlockWithMasking(\n",
              "          (attn): MultiheadAttention(\n",
              "            (out_proj): NonDynamicallyQuantizableLinear(in_features=1280, out_features=1280, bias=True)\n",
              "          )\n",
              "          (drop_path): Identity()\n",
              "          (norm_1): LayerNorm((1280,), eps=1e-06, elementwise_affine=True)\n",
              "          (mlp): Mlp(\n",
              "            (fc1): Linear(in_features=1280, out_features=5120, bias=True)\n",
              "            (act): GELU(approximate='none')\n",
              "            (fc2): Linear(in_features=5120, out_features=1280, bias=True)\n",
              "            (drop): Dropout(p=0.0, inplace=False)\n",
              "          )\n",
              "          (norm_2): LayerNorm((1280,), eps=1e-06, elementwise_affine=True)\n",
              "        )\n",
              "        (9): BlockWithMasking(\n",
              "          (attn): MultiheadAttention(\n",
              "            (out_proj): NonDynamicallyQuantizableLinear(in_features=1280, out_features=1280, bias=True)\n",
              "          )\n",
              "          (drop_path): Identity()\n",
              "          (norm_1): LayerNorm((1280,), eps=1e-06, elementwise_affine=True)\n",
              "          (mlp): Mlp(\n",
              "            (fc1): Linear(in_features=1280, out_features=5120, bias=True)\n",
              "            (act): GELU(approximate='none')\n",
              "            (fc2): Linear(in_features=5120, out_features=1280, bias=True)\n",
              "            (drop): Dropout(p=0.0, inplace=False)\n",
              "          )\n",
              "          (norm_2): LayerNorm((1280,), eps=1e-06, elementwise_affine=True)\n",
              "        )\n",
              "        (10): BlockWithMasking(\n",
              "          (attn): MultiheadAttention(\n",
              "            (out_proj): NonDynamicallyQuantizableLinear(in_features=1280, out_features=1280, bias=True)\n",
              "          )\n",
              "          (drop_path): Identity()\n",
              "          (norm_1): LayerNorm((1280,), eps=1e-06, elementwise_affine=True)\n",
              "          (mlp): Mlp(\n",
              "            (fc1): Linear(in_features=1280, out_features=5120, bias=True)\n",
              "            (act): GELU(approximate='none')\n",
              "            (fc2): Linear(in_features=5120, out_features=1280, bias=True)\n",
              "            (drop): Dropout(p=0.0, inplace=False)\n",
              "          )\n",
              "          (norm_2): LayerNorm((1280,), eps=1e-06, elementwise_affine=True)\n",
              "        )\n",
              "        (11): BlockWithMasking(\n",
              "          (attn): MultiheadAttention(\n",
              "            (out_proj): NonDynamicallyQuantizableLinear(in_features=1280, out_features=1280, bias=True)\n",
              "          )\n",
              "          (drop_path): Identity()\n",
              "          (norm_1): LayerNorm((1280,), eps=1e-06, elementwise_affine=True)\n",
              "          (mlp): Mlp(\n",
              "            (fc1): Linear(in_features=1280, out_features=5120, bias=True)\n",
              "            (act): GELU(approximate='none')\n",
              "            (fc2): Linear(in_features=5120, out_features=1280, bias=True)\n",
              "            (drop): Dropout(p=0.0, inplace=False)\n",
              "          )\n",
              "          (norm_2): LayerNorm((1280,), eps=1e-06, elementwise_affine=True)\n",
              "        )\n",
              "        (12): BlockWithMasking(\n",
              "          (attn): MultiheadAttention(\n",
              "            (out_proj): NonDynamicallyQuantizableLinear(in_features=1280, out_features=1280, bias=True)\n",
              "          )\n",
              "          (drop_path): Identity()\n",
              "          (norm_1): LayerNorm((1280,), eps=1e-06, elementwise_affine=True)\n",
              "          (mlp): Mlp(\n",
              "            (fc1): Linear(in_features=1280, out_features=5120, bias=True)\n",
              "            (act): GELU(approximate='none')\n",
              "            (fc2): Linear(in_features=5120, out_features=1280, bias=True)\n",
              "            (drop): Dropout(p=0.0, inplace=False)\n",
              "          )\n",
              "          (norm_2): LayerNorm((1280,), eps=1e-06, elementwise_affine=True)\n",
              "        )\n",
              "        (13): BlockWithMasking(\n",
              "          (attn): MultiheadAttention(\n",
              "            (out_proj): NonDynamicallyQuantizableLinear(in_features=1280, out_features=1280, bias=True)\n",
              "          )\n",
              "          (drop_path): Identity()\n",
              "          (norm_1): LayerNorm((1280,), eps=1e-06, elementwise_affine=True)\n",
              "          (mlp): Mlp(\n",
              "            (fc1): Linear(in_features=1280, out_features=5120, bias=True)\n",
              "            (act): GELU(approximate='none')\n",
              "            (fc2): Linear(in_features=5120, out_features=1280, bias=True)\n",
              "            (drop): Dropout(p=0.0, inplace=False)\n",
              "          )\n",
              "          (norm_2): LayerNorm((1280,), eps=1e-06, elementwise_affine=True)\n",
              "        )\n",
              "        (14): BlockWithMasking(\n",
              "          (attn): MultiheadAttention(\n",
              "            (out_proj): NonDynamicallyQuantizableLinear(in_features=1280, out_features=1280, bias=True)\n",
              "          )\n",
              "          (drop_path): Identity()\n",
              "          (norm_1): LayerNorm((1280,), eps=1e-06, elementwise_affine=True)\n",
              "          (mlp): Mlp(\n",
              "            (fc1): Linear(in_features=1280, out_features=5120, bias=True)\n",
              "            (act): GELU(approximate='none')\n",
              "            (fc2): Linear(in_features=5120, out_features=1280, bias=True)\n",
              "            (drop): Dropout(p=0.0, inplace=False)\n",
              "          )\n",
              "          (norm_2): LayerNorm((1280,), eps=1e-06, elementwise_affine=True)\n",
              "        )\n",
              "        (15): BlockWithMasking(\n",
              "          (attn): MultiheadAttention(\n",
              "            (out_proj): NonDynamicallyQuantizableLinear(in_features=1280, out_features=1280, bias=True)\n",
              "          )\n",
              "          (drop_path): Identity()\n",
              "          (norm_1): LayerNorm((1280,), eps=1e-06, elementwise_affine=True)\n",
              "          (mlp): Mlp(\n",
              "            (fc1): Linear(in_features=1280, out_features=5120, bias=True)\n",
              "            (act): GELU(approximate='none')\n",
              "            (fc2): Linear(in_features=5120, out_features=1280, bias=True)\n",
              "            (drop): Dropout(p=0.0, inplace=False)\n",
              "          )\n",
              "          (norm_2): LayerNorm((1280,), eps=1e-06, elementwise_affine=True)\n",
              "        )\n",
              "        (16): BlockWithMasking(\n",
              "          (attn): MultiheadAttention(\n",
              "            (out_proj): NonDynamicallyQuantizableLinear(in_features=1280, out_features=1280, bias=True)\n",
              "          )\n",
              "          (drop_path): Identity()\n",
              "          (norm_1): LayerNorm((1280,), eps=1e-06, elementwise_affine=True)\n",
              "          (mlp): Mlp(\n",
              "            (fc1): Linear(in_features=1280, out_features=5120, bias=True)\n",
              "            (act): GELU(approximate='none')\n",
              "            (fc2): Linear(in_features=5120, out_features=1280, bias=True)\n",
              "            (drop): Dropout(p=0.0, inplace=False)\n",
              "          )\n",
              "          (norm_2): LayerNorm((1280,), eps=1e-06, elementwise_affine=True)\n",
              "        )\n",
              "        (17): BlockWithMasking(\n",
              "          (attn): MultiheadAttention(\n",
              "            (out_proj): NonDynamicallyQuantizableLinear(in_features=1280, out_features=1280, bias=True)\n",
              "          )\n",
              "          (drop_path): Identity()\n",
              "          (norm_1): LayerNorm((1280,), eps=1e-06, elementwise_affine=True)\n",
              "          (mlp): Mlp(\n",
              "            (fc1): Linear(in_features=1280, out_features=5120, bias=True)\n",
              "            (act): GELU(approximate='none')\n",
              "            (fc2): Linear(in_features=5120, out_features=1280, bias=True)\n",
              "            (drop): Dropout(p=0.0, inplace=False)\n",
              "          )\n",
              "          (norm_2): LayerNorm((1280,), eps=1e-06, elementwise_affine=True)\n",
              "        )\n",
              "        (18): BlockWithMasking(\n",
              "          (attn): MultiheadAttention(\n",
              "            (out_proj): NonDynamicallyQuantizableLinear(in_features=1280, out_features=1280, bias=True)\n",
              "          )\n",
              "          (drop_path): Identity()\n",
              "          (norm_1): LayerNorm((1280,), eps=1e-06, elementwise_affine=True)\n",
              "          (mlp): Mlp(\n",
              "            (fc1): Linear(in_features=1280, out_features=5120, bias=True)\n",
              "            (act): GELU(approximate='none')\n",
              "            (fc2): Linear(in_features=5120, out_features=1280, bias=True)\n",
              "            (drop): Dropout(p=0.0, inplace=False)\n",
              "          )\n",
              "          (norm_2): LayerNorm((1280,), eps=1e-06, elementwise_affine=True)\n",
              "        )\n",
              "        (19): BlockWithMasking(\n",
              "          (attn): MultiheadAttention(\n",
              "            (out_proj): NonDynamicallyQuantizableLinear(in_features=1280, out_features=1280, bias=True)\n",
              "          )\n",
              "          (drop_path): Identity()\n",
              "          (norm_1): LayerNorm((1280,), eps=1e-06, elementwise_affine=True)\n",
              "          (mlp): Mlp(\n",
              "            (fc1): Linear(in_features=1280, out_features=5120, bias=True)\n",
              "            (act): GELU(approximate='none')\n",
              "            (fc2): Linear(in_features=5120, out_features=1280, bias=True)\n",
              "            (drop): Dropout(p=0.0, inplace=False)\n",
              "          )\n",
              "          (norm_2): LayerNorm((1280,), eps=1e-06, elementwise_affine=True)\n",
              "        )\n",
              "        (20): BlockWithMasking(\n",
              "          (attn): MultiheadAttention(\n",
              "            (out_proj): NonDynamicallyQuantizableLinear(in_features=1280, out_features=1280, bias=True)\n",
              "          )\n",
              "          (drop_path): Identity()\n",
              "          (norm_1): LayerNorm((1280,), eps=1e-06, elementwise_affine=True)\n",
              "          (mlp): Mlp(\n",
              "            (fc1): Linear(in_features=1280, out_features=5120, bias=True)\n",
              "            (act): GELU(approximate='none')\n",
              "            (fc2): Linear(in_features=5120, out_features=1280, bias=True)\n",
              "            (drop): Dropout(p=0.0, inplace=False)\n",
              "          )\n",
              "          (norm_2): LayerNorm((1280,), eps=1e-06, elementwise_affine=True)\n",
              "        )\n",
              "        (21): BlockWithMasking(\n",
              "          (attn): MultiheadAttention(\n",
              "            (out_proj): NonDynamicallyQuantizableLinear(in_features=1280, out_features=1280, bias=True)\n",
              "          )\n",
              "          (drop_path): Identity()\n",
              "          (norm_1): LayerNorm((1280,), eps=1e-06, elementwise_affine=True)\n",
              "          (mlp): Mlp(\n",
              "            (fc1): Linear(in_features=1280, out_features=5120, bias=True)\n",
              "            (act): GELU(approximate='none')\n",
              "            (fc2): Linear(in_features=5120, out_features=1280, bias=True)\n",
              "            (drop): Dropout(p=0.0, inplace=False)\n",
              "          )\n",
              "          (norm_2): LayerNorm((1280,), eps=1e-06, elementwise_affine=True)\n",
              "        )\n",
              "        (22): BlockWithMasking(\n",
              "          (attn): MultiheadAttention(\n",
              "            (out_proj): NonDynamicallyQuantizableLinear(in_features=1280, out_features=1280, bias=True)\n",
              "          )\n",
              "          (drop_path): Identity()\n",
              "          (norm_1): LayerNorm((1280,), eps=1e-06, elementwise_affine=True)\n",
              "          (mlp): Mlp(\n",
              "            (fc1): Linear(in_features=1280, out_features=5120, bias=True)\n",
              "            (act): GELU(approximate='none')\n",
              "            (fc2): Linear(in_features=5120, out_features=1280, bias=True)\n",
              "            (drop): Dropout(p=0.0, inplace=False)\n",
              "          )\n",
              "          (norm_2): LayerNorm((1280,), eps=1e-06, elementwise_affine=True)\n",
              "        )\n",
              "        (23): BlockWithMasking(\n",
              "          (attn): MultiheadAttention(\n",
              "            (out_proj): NonDynamicallyQuantizableLinear(in_features=1280, out_features=1280, bias=True)\n",
              "          )\n",
              "          (drop_path): Identity()\n",
              "          (norm_1): LayerNorm((1280,), eps=1e-06, elementwise_affine=True)\n",
              "          (mlp): Mlp(\n",
              "            (fc1): Linear(in_features=1280, out_features=5120, bias=True)\n",
              "            (act): GELU(approximate='none')\n",
              "            (fc2): Linear(in_features=5120, out_features=1280, bias=True)\n",
              "            (drop): Dropout(p=0.0, inplace=False)\n",
              "          )\n",
              "          (norm_2): LayerNorm((1280,), eps=1e-06, elementwise_affine=True)\n",
              "        )\n",
              "        (24): BlockWithMasking(\n",
              "          (attn): MultiheadAttention(\n",
              "            (out_proj): NonDynamicallyQuantizableLinear(in_features=1280, out_features=1280, bias=True)\n",
              "          )\n",
              "          (drop_path): Identity()\n",
              "          (norm_1): LayerNorm((1280,), eps=1e-06, elementwise_affine=True)\n",
              "          (mlp): Mlp(\n",
              "            (fc1): Linear(in_features=1280, out_features=5120, bias=True)\n",
              "            (act): GELU(approximate='none')\n",
              "            (fc2): Linear(in_features=5120, out_features=1280, bias=True)\n",
              "            (drop): Dropout(p=0.0, inplace=False)\n",
              "          )\n",
              "          (norm_2): LayerNorm((1280,), eps=1e-06, elementwise_affine=True)\n",
              "        )\n",
              "        (25): BlockWithMasking(\n",
              "          (attn): MultiheadAttention(\n",
              "            (out_proj): NonDynamicallyQuantizableLinear(in_features=1280, out_features=1280, bias=True)\n",
              "          )\n",
              "          (drop_path): Identity()\n",
              "          (norm_1): LayerNorm((1280,), eps=1e-06, elementwise_affine=True)\n",
              "          (mlp): Mlp(\n",
              "            (fc1): Linear(in_features=1280, out_features=5120, bias=True)\n",
              "            (act): GELU(approximate='none')\n",
              "            (fc2): Linear(in_features=5120, out_features=1280, bias=True)\n",
              "            (drop): Dropout(p=0.0, inplace=False)\n",
              "          )\n",
              "          (norm_2): LayerNorm((1280,), eps=1e-06, elementwise_affine=True)\n",
              "        )\n",
              "        (26): BlockWithMasking(\n",
              "          (attn): MultiheadAttention(\n",
              "            (out_proj): NonDynamicallyQuantizableLinear(in_features=1280, out_features=1280, bias=True)\n",
              "          )\n",
              "          (drop_path): Identity()\n",
              "          (norm_1): LayerNorm((1280,), eps=1e-06, elementwise_affine=True)\n",
              "          (mlp): Mlp(\n",
              "            (fc1): Linear(in_features=1280, out_features=5120, bias=True)\n",
              "            (act): GELU(approximate='none')\n",
              "            (fc2): Linear(in_features=5120, out_features=1280, bias=True)\n",
              "            (drop): Dropout(p=0.0, inplace=False)\n",
              "          )\n",
              "          (norm_2): LayerNorm((1280,), eps=1e-06, elementwise_affine=True)\n",
              "        )\n",
              "        (27): BlockWithMasking(\n",
              "          (attn): MultiheadAttention(\n",
              "            (out_proj): NonDynamicallyQuantizableLinear(in_features=1280, out_features=1280, bias=True)\n",
              "          )\n",
              "          (drop_path): Identity()\n",
              "          (norm_1): LayerNorm((1280,), eps=1e-06, elementwise_affine=True)\n",
              "          (mlp): Mlp(\n",
              "            (fc1): Linear(in_features=1280, out_features=5120, bias=True)\n",
              "            (act): GELU(approximate='none')\n",
              "            (fc2): Linear(in_features=5120, out_features=1280, bias=True)\n",
              "            (drop): Dropout(p=0.0, inplace=False)\n",
              "          )\n",
              "          (norm_2): LayerNorm((1280,), eps=1e-06, elementwise_affine=True)\n",
              "        )\n",
              "        (28): BlockWithMasking(\n",
              "          (attn): MultiheadAttention(\n",
              "            (out_proj): NonDynamicallyQuantizableLinear(in_features=1280, out_features=1280, bias=True)\n",
              "          )\n",
              "          (drop_path): Identity()\n",
              "          (norm_1): LayerNorm((1280,), eps=1e-06, elementwise_affine=True)\n",
              "          (mlp): Mlp(\n",
              "            (fc1): Linear(in_features=1280, out_features=5120, bias=True)\n",
              "            (act): GELU(approximate='none')\n",
              "            (fc2): Linear(in_features=5120, out_features=1280, bias=True)\n",
              "            (drop): Dropout(p=0.0, inplace=False)\n",
              "          )\n",
              "          (norm_2): LayerNorm((1280,), eps=1e-06, elementwise_affine=True)\n",
              "        )\n",
              "        (29): BlockWithMasking(\n",
              "          (attn): MultiheadAttention(\n",
              "            (out_proj): NonDynamicallyQuantizableLinear(in_features=1280, out_features=1280, bias=True)\n",
              "          )\n",
              "          (drop_path): Identity()\n",
              "          (norm_1): LayerNorm((1280,), eps=1e-06, elementwise_affine=True)\n",
              "          (mlp): Mlp(\n",
              "            (fc1): Linear(in_features=1280, out_features=5120, bias=True)\n",
              "            (act): GELU(approximate='none')\n",
              "            (fc2): Linear(in_features=5120, out_features=1280, bias=True)\n",
              "            (drop): Dropout(p=0.0, inplace=False)\n",
              "          )\n",
              "          (norm_2): LayerNorm((1280,), eps=1e-06, elementwise_affine=True)\n",
              "        )\n",
              "        (30): BlockWithMasking(\n",
              "          (attn): MultiheadAttention(\n",
              "            (out_proj): NonDynamicallyQuantizableLinear(in_features=1280, out_features=1280, bias=True)\n",
              "          )\n",
              "          (drop_path): Identity()\n",
              "          (norm_1): LayerNorm((1280,), eps=1e-06, elementwise_affine=True)\n",
              "          (mlp): Mlp(\n",
              "            (fc1): Linear(in_features=1280, out_features=5120, bias=True)\n",
              "            (act): GELU(approximate='none')\n",
              "            (fc2): Linear(in_features=5120, out_features=1280, bias=True)\n",
              "            (drop): Dropout(p=0.0, inplace=False)\n",
              "          )\n",
              "          (norm_2): LayerNorm((1280,), eps=1e-06, elementwise_affine=True)\n",
              "        )\n",
              "        (31): BlockWithMasking(\n",
              "          (attn): MultiheadAttention(\n",
              "            (out_proj): NonDynamicallyQuantizableLinear(in_features=1280, out_features=1280, bias=True)\n",
              "          )\n",
              "          (drop_path): Identity()\n",
              "          (norm_1): LayerNorm((1280,), eps=1e-06, elementwise_affine=True)\n",
              "          (mlp): Mlp(\n",
              "            (fc1): Linear(in_features=1280, out_features=5120, bias=True)\n",
              "            (act): GELU(approximate='none')\n",
              "            (fc2): Linear(in_features=5120, out_features=1280, bias=True)\n",
              "            (drop): Dropout(p=0.0, inplace=False)\n",
              "          )\n",
              "          (norm_2): LayerNorm((1280,), eps=1e-06, elementwise_affine=True)\n",
              "        )\n",
              "      )\n",
              "      (post_transformer_layer): EinOpsRearrange()\n",
              "    )\n",
              "    (text): SimpleTransformer(\n",
              "      (pre_transformer_layer): Sequential(\n",
              "        (0): Identity()\n",
              "        (1): EinOpsRearrange()\n",
              "      )\n",
              "      (blocks): Sequential(\n",
              "        (0): BlockWithMasking(\n",
              "          (attn): MultiheadAttention(\n",
              "            (out_proj): NonDynamicallyQuantizableLinear(in_features=1024, out_features=1024, bias=True)\n",
              "          )\n",
              "          (drop_path): Identity()\n",
              "          (norm_1): LayerNorm((1024,), eps=1e-06, elementwise_affine=True)\n",
              "          (mlp): Mlp(\n",
              "            (fc1): Linear(in_features=1024, out_features=4096, bias=True)\n",
              "            (act): GELU(approximate='none')\n",
              "            (fc2): Linear(in_features=4096, out_features=1024, bias=True)\n",
              "            (drop): Dropout(p=0.0, inplace=False)\n",
              "          )\n",
              "          (norm_2): LayerNorm((1024,), eps=1e-06, elementwise_affine=True)\n",
              "        )\n",
              "        (1): BlockWithMasking(\n",
              "          (attn): MultiheadAttention(\n",
              "            (out_proj): NonDynamicallyQuantizableLinear(in_features=1024, out_features=1024, bias=True)\n",
              "          )\n",
              "          (drop_path): Identity()\n",
              "          (norm_1): LayerNorm((1024,), eps=1e-06, elementwise_affine=True)\n",
              "          (mlp): Mlp(\n",
              "            (fc1): Linear(in_features=1024, out_features=4096, bias=True)\n",
              "            (act): GELU(approximate='none')\n",
              "            (fc2): Linear(in_features=4096, out_features=1024, bias=True)\n",
              "            (drop): Dropout(p=0.0, inplace=False)\n",
              "          )\n",
              "          (norm_2): LayerNorm((1024,), eps=1e-06, elementwise_affine=True)\n",
              "        )\n",
              "        (2): BlockWithMasking(\n",
              "          (attn): MultiheadAttention(\n",
              "            (out_proj): NonDynamicallyQuantizableLinear(in_features=1024, out_features=1024, bias=True)\n",
              "          )\n",
              "          (drop_path): Identity()\n",
              "          (norm_1): LayerNorm((1024,), eps=1e-06, elementwise_affine=True)\n",
              "          (mlp): Mlp(\n",
              "            (fc1): Linear(in_features=1024, out_features=4096, bias=True)\n",
              "            (act): GELU(approximate='none')\n",
              "            (fc2): Linear(in_features=4096, out_features=1024, bias=True)\n",
              "            (drop): Dropout(p=0.0, inplace=False)\n",
              "          )\n",
              "          (norm_2): LayerNorm((1024,), eps=1e-06, elementwise_affine=True)\n",
              "        )\n",
              "        (3): BlockWithMasking(\n",
              "          (attn): MultiheadAttention(\n",
              "            (out_proj): NonDynamicallyQuantizableLinear(in_features=1024, out_features=1024, bias=True)\n",
              "          )\n",
              "          (drop_path): Identity()\n",
              "          (norm_1): LayerNorm((1024,), eps=1e-06, elementwise_affine=True)\n",
              "          (mlp): Mlp(\n",
              "            (fc1): Linear(in_features=1024, out_features=4096, bias=True)\n",
              "            (act): GELU(approximate='none')\n",
              "            (fc2): Linear(in_features=4096, out_features=1024, bias=True)\n",
              "            (drop): Dropout(p=0.0, inplace=False)\n",
              "          )\n",
              "          (norm_2): LayerNorm((1024,), eps=1e-06, elementwise_affine=True)\n",
              "        )\n",
              "        (4): BlockWithMasking(\n",
              "          (attn): MultiheadAttention(\n",
              "            (out_proj): NonDynamicallyQuantizableLinear(in_features=1024, out_features=1024, bias=True)\n",
              "          )\n",
              "          (drop_path): Identity()\n",
              "          (norm_1): LayerNorm((1024,), eps=1e-06, elementwise_affine=True)\n",
              "          (mlp): Mlp(\n",
              "            (fc1): Linear(in_features=1024, out_features=4096, bias=True)\n",
              "            (act): GELU(approximate='none')\n",
              "            (fc2): Linear(in_features=4096, out_features=1024, bias=True)\n",
              "            (drop): Dropout(p=0.0, inplace=False)\n",
              "          )\n",
              "          (norm_2): LayerNorm((1024,), eps=1e-06, elementwise_affine=True)\n",
              "        )\n",
              "        (5): BlockWithMasking(\n",
              "          (attn): MultiheadAttention(\n",
              "            (out_proj): NonDynamicallyQuantizableLinear(in_features=1024, out_features=1024, bias=True)\n",
              "          )\n",
              "          (drop_path): Identity()\n",
              "          (norm_1): LayerNorm((1024,), eps=1e-06, elementwise_affine=True)\n",
              "          (mlp): Mlp(\n",
              "            (fc1): Linear(in_features=1024, out_features=4096, bias=True)\n",
              "            (act): GELU(approximate='none')\n",
              "            (fc2): Linear(in_features=4096, out_features=1024, bias=True)\n",
              "            (drop): Dropout(p=0.0, inplace=False)\n",
              "          )\n",
              "          (norm_2): LayerNorm((1024,), eps=1e-06, elementwise_affine=True)\n",
              "        )\n",
              "        (6): BlockWithMasking(\n",
              "          (attn): MultiheadAttention(\n",
              "            (out_proj): NonDynamicallyQuantizableLinear(in_features=1024, out_features=1024, bias=True)\n",
              "          )\n",
              "          (drop_path): Identity()\n",
              "          (norm_1): LayerNorm((1024,), eps=1e-06, elementwise_affine=True)\n",
              "          (mlp): Mlp(\n",
              "            (fc1): Linear(in_features=1024, out_features=4096, bias=True)\n",
              "            (act): GELU(approximate='none')\n",
              "            (fc2): Linear(in_features=4096, out_features=1024, bias=True)\n",
              "            (drop): Dropout(p=0.0, inplace=False)\n",
              "          )\n",
              "          (norm_2): LayerNorm((1024,), eps=1e-06, elementwise_affine=True)\n",
              "        )\n",
              "        (7): BlockWithMasking(\n",
              "          (attn): MultiheadAttention(\n",
              "            (out_proj): NonDynamicallyQuantizableLinear(in_features=1024, out_features=1024, bias=True)\n",
              "          )\n",
              "          (drop_path): Identity()\n",
              "          (norm_1): LayerNorm((1024,), eps=1e-06, elementwise_affine=True)\n",
              "          (mlp): Mlp(\n",
              "            (fc1): Linear(in_features=1024, out_features=4096, bias=True)\n",
              "            (act): GELU(approximate='none')\n",
              "            (fc2): Linear(in_features=4096, out_features=1024, bias=True)\n",
              "            (drop): Dropout(p=0.0, inplace=False)\n",
              "          )\n",
              "          (norm_2): LayerNorm((1024,), eps=1e-06, elementwise_affine=True)\n",
              "        )\n",
              "        (8): BlockWithMasking(\n",
              "          (attn): MultiheadAttention(\n",
              "            (out_proj): NonDynamicallyQuantizableLinear(in_features=1024, out_features=1024, bias=True)\n",
              "          )\n",
              "          (drop_path): Identity()\n",
              "          (norm_1): LayerNorm((1024,), eps=1e-06, elementwise_affine=True)\n",
              "          (mlp): Mlp(\n",
              "            (fc1): Linear(in_features=1024, out_features=4096, bias=True)\n",
              "            (act): GELU(approximate='none')\n",
              "            (fc2): Linear(in_features=4096, out_features=1024, bias=True)\n",
              "            (drop): Dropout(p=0.0, inplace=False)\n",
              "          )\n",
              "          (norm_2): LayerNorm((1024,), eps=1e-06, elementwise_affine=True)\n",
              "        )\n",
              "        (9): BlockWithMasking(\n",
              "          (attn): MultiheadAttention(\n",
              "            (out_proj): NonDynamicallyQuantizableLinear(in_features=1024, out_features=1024, bias=True)\n",
              "          )\n",
              "          (drop_path): Identity()\n",
              "          (norm_1): LayerNorm((1024,), eps=1e-06, elementwise_affine=True)\n",
              "          (mlp): Mlp(\n",
              "            (fc1): Linear(in_features=1024, out_features=4096, bias=True)\n",
              "            (act): GELU(approximate='none')\n",
              "            (fc2): Linear(in_features=4096, out_features=1024, bias=True)\n",
              "            (drop): Dropout(p=0.0, inplace=False)\n",
              "          )\n",
              "          (norm_2): LayerNorm((1024,), eps=1e-06, elementwise_affine=True)\n",
              "        )\n",
              "        (10): BlockWithMasking(\n",
              "          (attn): MultiheadAttention(\n",
              "            (out_proj): NonDynamicallyQuantizableLinear(in_features=1024, out_features=1024, bias=True)\n",
              "          )\n",
              "          (drop_path): Identity()\n",
              "          (norm_1): LayerNorm((1024,), eps=1e-06, elementwise_affine=True)\n",
              "          (mlp): Mlp(\n",
              "            (fc1): Linear(in_features=1024, out_features=4096, bias=True)\n",
              "            (act): GELU(approximate='none')\n",
              "            (fc2): Linear(in_features=4096, out_features=1024, bias=True)\n",
              "            (drop): Dropout(p=0.0, inplace=False)\n",
              "          )\n",
              "          (norm_2): LayerNorm((1024,), eps=1e-06, elementwise_affine=True)\n",
              "        )\n",
              "        (11): BlockWithMasking(\n",
              "          (attn): MultiheadAttention(\n",
              "            (out_proj): NonDynamicallyQuantizableLinear(in_features=1024, out_features=1024, bias=True)\n",
              "          )\n",
              "          (drop_path): Identity()\n",
              "          (norm_1): LayerNorm((1024,), eps=1e-06, elementwise_affine=True)\n",
              "          (mlp): Mlp(\n",
              "            (fc1): Linear(in_features=1024, out_features=4096, bias=True)\n",
              "            (act): GELU(approximate='none')\n",
              "            (fc2): Linear(in_features=4096, out_features=1024, bias=True)\n",
              "            (drop): Dropout(p=0.0, inplace=False)\n",
              "          )\n",
              "          (norm_2): LayerNorm((1024,), eps=1e-06, elementwise_affine=True)\n",
              "        )\n",
              "        (12): BlockWithMasking(\n",
              "          (attn): MultiheadAttention(\n",
              "            (out_proj): NonDynamicallyQuantizableLinear(in_features=1024, out_features=1024, bias=True)\n",
              "          )\n",
              "          (drop_path): Identity()\n",
              "          (norm_1): LayerNorm((1024,), eps=1e-06, elementwise_affine=True)\n",
              "          (mlp): Mlp(\n",
              "            (fc1): Linear(in_features=1024, out_features=4096, bias=True)\n",
              "            (act): GELU(approximate='none')\n",
              "            (fc2): Linear(in_features=4096, out_features=1024, bias=True)\n",
              "            (drop): Dropout(p=0.0, inplace=False)\n",
              "          )\n",
              "          (norm_2): LayerNorm((1024,), eps=1e-06, elementwise_affine=True)\n",
              "        )\n",
              "        (13): BlockWithMasking(\n",
              "          (attn): MultiheadAttention(\n",
              "            (out_proj): NonDynamicallyQuantizableLinear(in_features=1024, out_features=1024, bias=True)\n",
              "          )\n",
              "          (drop_path): Identity()\n",
              "          (norm_1): LayerNorm((1024,), eps=1e-06, elementwise_affine=True)\n",
              "          (mlp): Mlp(\n",
              "            (fc1): Linear(in_features=1024, out_features=4096, bias=True)\n",
              "            (act): GELU(approximate='none')\n",
              "            (fc2): Linear(in_features=4096, out_features=1024, bias=True)\n",
              "            (drop): Dropout(p=0.0, inplace=False)\n",
              "          )\n",
              "          (norm_2): LayerNorm((1024,), eps=1e-06, elementwise_affine=True)\n",
              "        )\n",
              "        (14): BlockWithMasking(\n",
              "          (attn): MultiheadAttention(\n",
              "            (out_proj): NonDynamicallyQuantizableLinear(in_features=1024, out_features=1024, bias=True)\n",
              "          )\n",
              "          (drop_path): Identity()\n",
              "          (norm_1): LayerNorm((1024,), eps=1e-06, elementwise_affine=True)\n",
              "          (mlp): Mlp(\n",
              "            (fc1): Linear(in_features=1024, out_features=4096, bias=True)\n",
              "            (act): GELU(approximate='none')\n",
              "            (fc2): Linear(in_features=4096, out_features=1024, bias=True)\n",
              "            (drop): Dropout(p=0.0, inplace=False)\n",
              "          )\n",
              "          (norm_2): LayerNorm((1024,), eps=1e-06, elementwise_affine=True)\n",
              "        )\n",
              "        (15): BlockWithMasking(\n",
              "          (attn): MultiheadAttention(\n",
              "            (out_proj): NonDynamicallyQuantizableLinear(in_features=1024, out_features=1024, bias=True)\n",
              "          )\n",
              "          (drop_path): Identity()\n",
              "          (norm_1): LayerNorm((1024,), eps=1e-06, elementwise_affine=True)\n",
              "          (mlp): Mlp(\n",
              "            (fc1): Linear(in_features=1024, out_features=4096, bias=True)\n",
              "            (act): GELU(approximate='none')\n",
              "            (fc2): Linear(in_features=4096, out_features=1024, bias=True)\n",
              "            (drop): Dropout(p=0.0, inplace=False)\n",
              "          )\n",
              "          (norm_2): LayerNorm((1024,), eps=1e-06, elementwise_affine=True)\n",
              "        )\n",
              "        (16): BlockWithMasking(\n",
              "          (attn): MultiheadAttention(\n",
              "            (out_proj): NonDynamicallyQuantizableLinear(in_features=1024, out_features=1024, bias=True)\n",
              "          )\n",
              "          (drop_path): Identity()\n",
              "          (norm_1): LayerNorm((1024,), eps=1e-06, elementwise_affine=True)\n",
              "          (mlp): Mlp(\n",
              "            (fc1): Linear(in_features=1024, out_features=4096, bias=True)\n",
              "            (act): GELU(approximate='none')\n",
              "            (fc2): Linear(in_features=4096, out_features=1024, bias=True)\n",
              "            (drop): Dropout(p=0.0, inplace=False)\n",
              "          )\n",
              "          (norm_2): LayerNorm((1024,), eps=1e-06, elementwise_affine=True)\n",
              "        )\n",
              "        (17): BlockWithMasking(\n",
              "          (attn): MultiheadAttention(\n",
              "            (out_proj): NonDynamicallyQuantizableLinear(in_features=1024, out_features=1024, bias=True)\n",
              "          )\n",
              "          (drop_path): Identity()\n",
              "          (norm_1): LayerNorm((1024,), eps=1e-06, elementwise_affine=True)\n",
              "          (mlp): Mlp(\n",
              "            (fc1): Linear(in_features=1024, out_features=4096, bias=True)\n",
              "            (act): GELU(approximate='none')\n",
              "            (fc2): Linear(in_features=4096, out_features=1024, bias=True)\n",
              "            (drop): Dropout(p=0.0, inplace=False)\n",
              "          )\n",
              "          (norm_2): LayerNorm((1024,), eps=1e-06, elementwise_affine=True)\n",
              "        )\n",
              "        (18): BlockWithMasking(\n",
              "          (attn): MultiheadAttention(\n",
              "            (out_proj): NonDynamicallyQuantizableLinear(in_features=1024, out_features=1024, bias=True)\n",
              "          )\n",
              "          (drop_path): Identity()\n",
              "          (norm_1): LayerNorm((1024,), eps=1e-06, elementwise_affine=True)\n",
              "          (mlp): Mlp(\n",
              "            (fc1): Linear(in_features=1024, out_features=4096, bias=True)\n",
              "            (act): GELU(approximate='none')\n",
              "            (fc2): Linear(in_features=4096, out_features=1024, bias=True)\n",
              "            (drop): Dropout(p=0.0, inplace=False)\n",
              "          )\n",
              "          (norm_2): LayerNorm((1024,), eps=1e-06, elementwise_affine=True)\n",
              "        )\n",
              "        (19): BlockWithMasking(\n",
              "          (attn): MultiheadAttention(\n",
              "            (out_proj): NonDynamicallyQuantizableLinear(in_features=1024, out_features=1024, bias=True)\n",
              "          )\n",
              "          (drop_path): Identity()\n",
              "          (norm_1): LayerNorm((1024,), eps=1e-06, elementwise_affine=True)\n",
              "          (mlp): Mlp(\n",
              "            (fc1): Linear(in_features=1024, out_features=4096, bias=True)\n",
              "            (act): GELU(approximate='none')\n",
              "            (fc2): Linear(in_features=4096, out_features=1024, bias=True)\n",
              "            (drop): Dropout(p=0.0, inplace=False)\n",
              "          )\n",
              "          (norm_2): LayerNorm((1024,), eps=1e-06, elementwise_affine=True)\n",
              "        )\n",
              "        (20): BlockWithMasking(\n",
              "          (attn): MultiheadAttention(\n",
              "            (out_proj): NonDynamicallyQuantizableLinear(in_features=1024, out_features=1024, bias=True)\n",
              "          )\n",
              "          (drop_path): Identity()\n",
              "          (norm_1): LayerNorm((1024,), eps=1e-06, elementwise_affine=True)\n",
              "          (mlp): Mlp(\n",
              "            (fc1): Linear(in_features=1024, out_features=4096, bias=True)\n",
              "            (act): GELU(approximate='none')\n",
              "            (fc2): Linear(in_features=4096, out_features=1024, bias=True)\n",
              "            (drop): Dropout(p=0.0, inplace=False)\n",
              "          )\n",
              "          (norm_2): LayerNorm((1024,), eps=1e-06, elementwise_affine=True)\n",
              "        )\n",
              "        (21): BlockWithMasking(\n",
              "          (attn): MultiheadAttention(\n",
              "            (out_proj): NonDynamicallyQuantizableLinear(in_features=1024, out_features=1024, bias=True)\n",
              "          )\n",
              "          (drop_path): Identity()\n",
              "          (norm_1): LayerNorm((1024,), eps=1e-06, elementwise_affine=True)\n",
              "          (mlp): Mlp(\n",
              "            (fc1): Linear(in_features=1024, out_features=4096, bias=True)\n",
              "            (act): GELU(approximate='none')\n",
              "            (fc2): Linear(in_features=4096, out_features=1024, bias=True)\n",
              "            (drop): Dropout(p=0.0, inplace=False)\n",
              "          )\n",
              "          (norm_2): LayerNorm((1024,), eps=1e-06, elementwise_affine=True)\n",
              "        )\n",
              "        (22): BlockWithMasking(\n",
              "          (attn): MultiheadAttention(\n",
              "            (out_proj): NonDynamicallyQuantizableLinear(in_features=1024, out_features=1024, bias=True)\n",
              "          )\n",
              "          (drop_path): Identity()\n",
              "          (norm_1): LayerNorm((1024,), eps=1e-06, elementwise_affine=True)\n",
              "          (mlp): Mlp(\n",
              "            (fc1): Linear(in_features=1024, out_features=4096, bias=True)\n",
              "            (act): GELU(approximate='none')\n",
              "            (fc2): Linear(in_features=4096, out_features=1024, bias=True)\n",
              "            (drop): Dropout(p=0.0, inplace=False)\n",
              "          )\n",
              "          (norm_2): LayerNorm((1024,), eps=1e-06, elementwise_affine=True)\n",
              "        )\n",
              "        (23): BlockWithMasking(\n",
              "          (attn): MultiheadAttention(\n",
              "            (out_proj): NonDynamicallyQuantizableLinear(in_features=1024, out_features=1024, bias=True)\n",
              "          )\n",
              "          (drop_path): Identity()\n",
              "          (norm_1): LayerNorm((1024,), eps=1e-06, elementwise_affine=True)\n",
              "          (mlp): Mlp(\n",
              "            (fc1): Linear(in_features=1024, out_features=4096, bias=True)\n",
              "            (act): GELU(approximate='none')\n",
              "            (fc2): Linear(in_features=4096, out_features=1024, bias=True)\n",
              "            (drop): Dropout(p=0.0, inplace=False)\n",
              "          )\n",
              "          (norm_2): LayerNorm((1024,), eps=1e-06, elementwise_affine=True)\n",
              "        )\n",
              "      )\n",
              "      (post_transformer_layer): EinOpsRearrange()\n",
              "    )\n",
              "    (audio): SimpleTransformer(\n",
              "      (pre_transformer_layer): Sequential(\n",
              "        (0): Identity()\n",
              "        (1): EinOpsRearrange()\n",
              "      )\n",
              "      (blocks): Sequential(\n",
              "        (0): BlockWithMasking(\n",
              "          (attn): MultiheadAttention(\n",
              "            (out_proj): NonDynamicallyQuantizableLinear(in_features=768, out_features=768, bias=True)\n",
              "          )\n",
              "          (drop_path): Identity()\n",
              "          (norm_1): LayerNorm((768,), eps=1e-06, elementwise_affine=True)\n",
              "          (mlp): Mlp(\n",
              "            (fc1): Linear(in_features=768, out_features=3072, bias=True)\n",
              "            (act): GELU(approximate='none')\n",
              "            (fc2): Linear(in_features=3072, out_features=768, bias=True)\n",
              "            (drop): Dropout(p=0.0, inplace=False)\n",
              "          )\n",
              "          (norm_2): LayerNorm((768,), eps=1e-06, elementwise_affine=True)\n",
              "        )\n",
              "        (1): BlockWithMasking(\n",
              "          (attn): MultiheadAttention(\n",
              "            (out_proj): NonDynamicallyQuantizableLinear(in_features=768, out_features=768, bias=True)\n",
              "          )\n",
              "          (drop_path): DropPath(drop_prob=0.009)\n",
              "          (norm_1): LayerNorm((768,), eps=1e-06, elementwise_affine=True)\n",
              "          (mlp): Mlp(\n",
              "            (fc1): Linear(in_features=768, out_features=3072, bias=True)\n",
              "            (act): GELU(approximate='none')\n",
              "            (fc2): Linear(in_features=3072, out_features=768, bias=True)\n",
              "            (drop): Dropout(p=0.0, inplace=False)\n",
              "          )\n",
              "          (norm_2): LayerNorm((768,), eps=1e-06, elementwise_affine=True)\n",
              "        )\n",
              "        (2): BlockWithMasking(\n",
              "          (attn): MultiheadAttention(\n",
              "            (out_proj): NonDynamicallyQuantizableLinear(in_features=768, out_features=768, bias=True)\n",
              "          )\n",
              "          (drop_path): DropPath(drop_prob=0.018)\n",
              "          (norm_1): LayerNorm((768,), eps=1e-06, elementwise_affine=True)\n",
              "          (mlp): Mlp(\n",
              "            (fc1): Linear(in_features=768, out_features=3072, bias=True)\n",
              "            (act): GELU(approximate='none')\n",
              "            (fc2): Linear(in_features=3072, out_features=768, bias=True)\n",
              "            (drop): Dropout(p=0.0, inplace=False)\n",
              "          )\n",
              "          (norm_2): LayerNorm((768,), eps=1e-06, elementwise_affine=True)\n",
              "        )\n",
              "        (3): BlockWithMasking(\n",
              "          (attn): MultiheadAttention(\n",
              "            (out_proj): NonDynamicallyQuantizableLinear(in_features=768, out_features=768, bias=True)\n",
              "          )\n",
              "          (drop_path): DropPath(drop_prob=0.027)\n",
              "          (norm_1): LayerNorm((768,), eps=1e-06, elementwise_affine=True)\n",
              "          (mlp): Mlp(\n",
              "            (fc1): Linear(in_features=768, out_features=3072, bias=True)\n",
              "            (act): GELU(approximate='none')\n",
              "            (fc2): Linear(in_features=3072, out_features=768, bias=True)\n",
              "            (drop): Dropout(p=0.0, inplace=False)\n",
              "          )\n",
              "          (norm_2): LayerNorm((768,), eps=1e-06, elementwise_affine=True)\n",
              "        )\n",
              "        (4): BlockWithMasking(\n",
              "          (attn): MultiheadAttention(\n",
              "            (out_proj): NonDynamicallyQuantizableLinear(in_features=768, out_features=768, bias=True)\n",
              "          )\n",
              "          (drop_path): DropPath(drop_prob=0.036)\n",
              "          (norm_1): LayerNorm((768,), eps=1e-06, elementwise_affine=True)\n",
              "          (mlp): Mlp(\n",
              "            (fc1): Linear(in_features=768, out_features=3072, bias=True)\n",
              "            (act): GELU(approximate='none')\n",
              "            (fc2): Linear(in_features=3072, out_features=768, bias=True)\n",
              "            (drop): Dropout(p=0.0, inplace=False)\n",
              "          )\n",
              "          (norm_2): LayerNorm((768,), eps=1e-06, elementwise_affine=True)\n",
              "        )\n",
              "        (5): BlockWithMasking(\n",
              "          (attn): MultiheadAttention(\n",
              "            (out_proj): NonDynamicallyQuantizableLinear(in_features=768, out_features=768, bias=True)\n",
              "          )\n",
              "          (drop_path): DropPath(drop_prob=0.045)\n",
              "          (norm_1): LayerNorm((768,), eps=1e-06, elementwise_affine=True)\n",
              "          (mlp): Mlp(\n",
              "            (fc1): Linear(in_features=768, out_features=3072, bias=True)\n",
              "            (act): GELU(approximate='none')\n",
              "            (fc2): Linear(in_features=3072, out_features=768, bias=True)\n",
              "            (drop): Dropout(p=0.0, inplace=False)\n",
              "          )\n",
              "          (norm_2): LayerNorm((768,), eps=1e-06, elementwise_affine=True)\n",
              "        )\n",
              "        (6): BlockWithMasking(\n",
              "          (attn): MultiheadAttention(\n",
              "            (out_proj): NonDynamicallyQuantizableLinear(in_features=768, out_features=768, bias=True)\n",
              "          )\n",
              "          (drop_path): DropPath(drop_prob=0.055)\n",
              "          (norm_1): LayerNorm((768,), eps=1e-06, elementwise_affine=True)\n",
              "          (mlp): Mlp(\n",
              "            (fc1): Linear(in_features=768, out_features=3072, bias=True)\n",
              "            (act): GELU(approximate='none')\n",
              "            (fc2): Linear(in_features=3072, out_features=768, bias=True)\n",
              "            (drop): Dropout(p=0.0, inplace=False)\n",
              "          )\n",
              "          (norm_2): LayerNorm((768,), eps=1e-06, elementwise_affine=True)\n",
              "        )\n",
              "        (7): BlockWithMasking(\n",
              "          (attn): MultiheadAttention(\n",
              "            (out_proj): NonDynamicallyQuantizableLinear(in_features=768, out_features=768, bias=True)\n",
              "          )\n",
              "          (drop_path): DropPath(drop_prob=0.064)\n",
              "          (norm_1): LayerNorm((768,), eps=1e-06, elementwise_affine=True)\n",
              "          (mlp): Mlp(\n",
              "            (fc1): Linear(in_features=768, out_features=3072, bias=True)\n",
              "            (act): GELU(approximate='none')\n",
              "            (fc2): Linear(in_features=3072, out_features=768, bias=True)\n",
              "            (drop): Dropout(p=0.0, inplace=False)\n",
              "          )\n",
              "          (norm_2): LayerNorm((768,), eps=1e-06, elementwise_affine=True)\n",
              "        )\n",
              "        (8): BlockWithMasking(\n",
              "          (attn): MultiheadAttention(\n",
              "            (out_proj): NonDynamicallyQuantizableLinear(in_features=768, out_features=768, bias=True)\n",
              "          )\n",
              "          (drop_path): DropPath(drop_prob=0.073)\n",
              "          (norm_1): LayerNorm((768,), eps=1e-06, elementwise_affine=True)\n",
              "          (mlp): Mlp(\n",
              "            (fc1): Linear(in_features=768, out_features=3072, bias=True)\n",
              "            (act): GELU(approximate='none')\n",
              "            (fc2): Linear(in_features=3072, out_features=768, bias=True)\n",
              "            (drop): Dropout(p=0.0, inplace=False)\n",
              "          )\n",
              "          (norm_2): LayerNorm((768,), eps=1e-06, elementwise_affine=True)\n",
              "        )\n",
              "        (9): BlockWithMasking(\n",
              "          (attn): MultiheadAttention(\n",
              "            (out_proj): NonDynamicallyQuantizableLinear(in_features=768, out_features=768, bias=True)\n",
              "          )\n",
              "          (drop_path): DropPath(drop_prob=0.082)\n",
              "          (norm_1): LayerNorm((768,), eps=1e-06, elementwise_affine=True)\n",
              "          (mlp): Mlp(\n",
              "            (fc1): Linear(in_features=768, out_features=3072, bias=True)\n",
              "            (act): GELU(approximate='none')\n",
              "            (fc2): Linear(in_features=3072, out_features=768, bias=True)\n",
              "            (drop): Dropout(p=0.0, inplace=False)\n",
              "          )\n",
              "          (norm_2): LayerNorm((768,), eps=1e-06, elementwise_affine=True)\n",
              "        )\n",
              "        (10): BlockWithMasking(\n",
              "          (attn): MultiheadAttention(\n",
              "            (out_proj): NonDynamicallyQuantizableLinear(in_features=768, out_features=768, bias=True)\n",
              "          )\n",
              "          (drop_path): DropPath(drop_prob=0.091)\n",
              "          (norm_1): LayerNorm((768,), eps=1e-06, elementwise_affine=True)\n",
              "          (mlp): Mlp(\n",
              "            (fc1): Linear(in_features=768, out_features=3072, bias=True)\n",
              "            (act): GELU(approximate='none')\n",
              "            (fc2): Linear(in_features=3072, out_features=768, bias=True)\n",
              "            (drop): Dropout(p=0.0, inplace=False)\n",
              "          )\n",
              "          (norm_2): LayerNorm((768,), eps=1e-06, elementwise_affine=True)\n",
              "        )\n",
              "        (11): BlockWithMasking(\n",
              "          (attn): MultiheadAttention(\n",
              "            (out_proj): NonDynamicallyQuantizableLinear(in_features=768, out_features=768, bias=True)\n",
              "          )\n",
              "          (drop_path): DropPath(drop_prob=0.100)\n",
              "          (norm_1): LayerNorm((768,), eps=1e-06, elementwise_affine=True)\n",
              "          (mlp): Mlp(\n",
              "            (fc1): Linear(in_features=768, out_features=3072, bias=True)\n",
              "            (act): GELU(approximate='none')\n",
              "            (fc2): Linear(in_features=3072, out_features=768, bias=True)\n",
              "            (drop): Dropout(p=0.0, inplace=False)\n",
              "          )\n",
              "          (norm_2): LayerNorm((768,), eps=1e-06, elementwise_affine=True)\n",
              "        )\n",
              "      )\n",
              "      (post_transformer_layer): EinOpsRearrange()\n",
              "    )\n",
              "    (depth): SimpleTransformer(\n",
              "      (pre_transformer_layer): Sequential(\n",
              "        (0): Identity()\n",
              "        (1): EinOpsRearrange()\n",
              "      )\n",
              "      (blocks): Sequential(\n",
              "        (0): BlockWithMasking(\n",
              "          (attn): MultiheadAttention(\n",
              "            (out_proj): NonDynamicallyQuantizableLinear(in_features=384, out_features=384, bias=True)\n",
              "          )\n",
              "          (drop_path): Identity()\n",
              "          (norm_1): LayerNorm((384,), eps=1e-06, elementwise_affine=True)\n",
              "          (mlp): Mlp(\n",
              "            (fc1): Linear(in_features=384, out_features=1536, bias=True)\n",
              "            (act): GELU(approximate='none')\n",
              "            (fc2): Linear(in_features=1536, out_features=384, bias=True)\n",
              "            (drop): Dropout(p=0.0, inplace=False)\n",
              "          )\n",
              "          (norm_2): LayerNorm((384,), eps=1e-06, elementwise_affine=True)\n",
              "        )\n",
              "        (1): BlockWithMasking(\n",
              "          (attn): MultiheadAttention(\n",
              "            (out_proj): NonDynamicallyQuantizableLinear(in_features=384, out_features=384, bias=True)\n",
              "          )\n",
              "          (drop_path): Identity()\n",
              "          (norm_1): LayerNorm((384,), eps=1e-06, elementwise_affine=True)\n",
              "          (mlp): Mlp(\n",
              "            (fc1): Linear(in_features=384, out_features=1536, bias=True)\n",
              "            (act): GELU(approximate='none')\n",
              "            (fc2): Linear(in_features=1536, out_features=384, bias=True)\n",
              "            (drop): Dropout(p=0.0, inplace=False)\n",
              "          )\n",
              "          (norm_2): LayerNorm((384,), eps=1e-06, elementwise_affine=True)\n",
              "        )\n",
              "        (2): BlockWithMasking(\n",
              "          (attn): MultiheadAttention(\n",
              "            (out_proj): NonDynamicallyQuantizableLinear(in_features=384, out_features=384, bias=True)\n",
              "          )\n",
              "          (drop_path): Identity()\n",
              "          (norm_1): LayerNorm((384,), eps=1e-06, elementwise_affine=True)\n",
              "          (mlp): Mlp(\n",
              "            (fc1): Linear(in_features=384, out_features=1536, bias=True)\n",
              "            (act): GELU(approximate='none')\n",
              "            (fc2): Linear(in_features=1536, out_features=384, bias=True)\n",
              "            (drop): Dropout(p=0.0, inplace=False)\n",
              "          )\n",
              "          (norm_2): LayerNorm((384,), eps=1e-06, elementwise_affine=True)\n",
              "        )\n",
              "        (3): BlockWithMasking(\n",
              "          (attn): MultiheadAttention(\n",
              "            (out_proj): NonDynamicallyQuantizableLinear(in_features=384, out_features=384, bias=True)\n",
              "          )\n",
              "          (drop_path): Identity()\n",
              "          (norm_1): LayerNorm((384,), eps=1e-06, elementwise_affine=True)\n",
              "          (mlp): Mlp(\n",
              "            (fc1): Linear(in_features=384, out_features=1536, bias=True)\n",
              "            (act): GELU(approximate='none')\n",
              "            (fc2): Linear(in_features=1536, out_features=384, bias=True)\n",
              "            (drop): Dropout(p=0.0, inplace=False)\n",
              "          )\n",
              "          (norm_2): LayerNorm((384,), eps=1e-06, elementwise_affine=True)\n",
              "        )\n",
              "        (4): BlockWithMasking(\n",
              "          (attn): MultiheadAttention(\n",
              "            (out_proj): NonDynamicallyQuantizableLinear(in_features=384, out_features=384, bias=True)\n",
              "          )\n",
              "          (drop_path): Identity()\n",
              "          (norm_1): LayerNorm((384,), eps=1e-06, elementwise_affine=True)\n",
              "          (mlp): Mlp(\n",
              "            (fc1): Linear(in_features=384, out_features=1536, bias=True)\n",
              "            (act): GELU(approximate='none')\n",
              "            (fc2): Linear(in_features=1536, out_features=384, bias=True)\n",
              "            (drop): Dropout(p=0.0, inplace=False)\n",
              "          )\n",
              "          (norm_2): LayerNorm((384,), eps=1e-06, elementwise_affine=True)\n",
              "        )\n",
              "        (5): BlockWithMasking(\n",
              "          (attn): MultiheadAttention(\n",
              "            (out_proj): NonDynamicallyQuantizableLinear(in_features=384, out_features=384, bias=True)\n",
              "          )\n",
              "          (drop_path): Identity()\n",
              "          (norm_1): LayerNorm((384,), eps=1e-06, elementwise_affine=True)\n",
              "          (mlp): Mlp(\n",
              "            (fc1): Linear(in_features=384, out_features=1536, bias=True)\n",
              "            (act): GELU(approximate='none')\n",
              "            (fc2): Linear(in_features=1536, out_features=384, bias=True)\n",
              "            (drop): Dropout(p=0.0, inplace=False)\n",
              "          )\n",
              "          (norm_2): LayerNorm((384,), eps=1e-06, elementwise_affine=True)\n",
              "        )\n",
              "        (6): BlockWithMasking(\n",
              "          (attn): MultiheadAttention(\n",
              "            (out_proj): NonDynamicallyQuantizableLinear(in_features=384, out_features=384, bias=True)\n",
              "          )\n",
              "          (drop_path): Identity()\n",
              "          (norm_1): LayerNorm((384,), eps=1e-06, elementwise_affine=True)\n",
              "          (mlp): Mlp(\n",
              "            (fc1): Linear(in_features=384, out_features=1536, bias=True)\n",
              "            (act): GELU(approximate='none')\n",
              "            (fc2): Linear(in_features=1536, out_features=384, bias=True)\n",
              "            (drop): Dropout(p=0.0, inplace=False)\n",
              "          )\n",
              "          (norm_2): LayerNorm((384,), eps=1e-06, elementwise_affine=True)\n",
              "        )\n",
              "        (7): BlockWithMasking(\n",
              "          (attn): MultiheadAttention(\n",
              "            (out_proj): NonDynamicallyQuantizableLinear(in_features=384, out_features=384, bias=True)\n",
              "          )\n",
              "          (drop_path): Identity()\n",
              "          (norm_1): LayerNorm((384,), eps=1e-06, elementwise_affine=True)\n",
              "          (mlp): Mlp(\n",
              "            (fc1): Linear(in_features=384, out_features=1536, bias=True)\n",
              "            (act): GELU(approximate='none')\n",
              "            (fc2): Linear(in_features=1536, out_features=384, bias=True)\n",
              "            (drop): Dropout(p=0.0, inplace=False)\n",
              "          )\n",
              "          (norm_2): LayerNorm((384,), eps=1e-06, elementwise_affine=True)\n",
              "        )\n",
              "        (8): BlockWithMasking(\n",
              "          (attn): MultiheadAttention(\n",
              "            (out_proj): NonDynamicallyQuantizableLinear(in_features=384, out_features=384, bias=True)\n",
              "          )\n",
              "          (drop_path): Identity()\n",
              "          (norm_1): LayerNorm((384,), eps=1e-06, elementwise_affine=True)\n",
              "          (mlp): Mlp(\n",
              "            (fc1): Linear(in_features=384, out_features=1536, bias=True)\n",
              "            (act): GELU(approximate='none')\n",
              "            (fc2): Linear(in_features=1536, out_features=384, bias=True)\n",
              "            (drop): Dropout(p=0.0, inplace=False)\n",
              "          )\n",
              "          (norm_2): LayerNorm((384,), eps=1e-06, elementwise_affine=True)\n",
              "        )\n",
              "        (9): BlockWithMasking(\n",
              "          (attn): MultiheadAttention(\n",
              "            (out_proj): NonDynamicallyQuantizableLinear(in_features=384, out_features=384, bias=True)\n",
              "          )\n",
              "          (drop_path): Identity()\n",
              "          (norm_1): LayerNorm((384,), eps=1e-06, elementwise_affine=True)\n",
              "          (mlp): Mlp(\n",
              "            (fc1): Linear(in_features=384, out_features=1536, bias=True)\n",
              "            (act): GELU(approximate='none')\n",
              "            (fc2): Linear(in_features=1536, out_features=384, bias=True)\n",
              "            (drop): Dropout(p=0.0, inplace=False)\n",
              "          )\n",
              "          (norm_2): LayerNorm((384,), eps=1e-06, elementwise_affine=True)\n",
              "        )\n",
              "        (10): BlockWithMasking(\n",
              "          (attn): MultiheadAttention(\n",
              "            (out_proj): NonDynamicallyQuantizableLinear(in_features=384, out_features=384, bias=True)\n",
              "          )\n",
              "          (drop_path): Identity()\n",
              "          (norm_1): LayerNorm((384,), eps=1e-06, elementwise_affine=True)\n",
              "          (mlp): Mlp(\n",
              "            (fc1): Linear(in_features=384, out_features=1536, bias=True)\n",
              "            (act): GELU(approximate='none')\n",
              "            (fc2): Linear(in_features=1536, out_features=384, bias=True)\n",
              "            (drop): Dropout(p=0.0, inplace=False)\n",
              "          )\n",
              "          (norm_2): LayerNorm((384,), eps=1e-06, elementwise_affine=True)\n",
              "        )\n",
              "        (11): BlockWithMasking(\n",
              "          (attn): MultiheadAttention(\n",
              "            (out_proj): NonDynamicallyQuantizableLinear(in_features=384, out_features=384, bias=True)\n",
              "          )\n",
              "          (drop_path): Identity()\n",
              "          (norm_1): LayerNorm((384,), eps=1e-06, elementwise_affine=True)\n",
              "          (mlp): Mlp(\n",
              "            (fc1): Linear(in_features=384, out_features=1536, bias=True)\n",
              "            (act): GELU(approximate='none')\n",
              "            (fc2): Linear(in_features=1536, out_features=384, bias=True)\n",
              "            (drop): Dropout(p=0.0, inplace=False)\n",
              "          )\n",
              "          (norm_2): LayerNorm((384,), eps=1e-06, elementwise_affine=True)\n",
              "        )\n",
              "      )\n",
              "      (post_transformer_layer): EinOpsRearrange()\n",
              "    )\n",
              "    (thermal): SimpleTransformer(\n",
              "      (pre_transformer_layer): Sequential(\n",
              "        (0): Identity()\n",
              "        (1): EinOpsRearrange()\n",
              "      )\n",
              "      (blocks): Sequential(\n",
              "        (0): BlockWithMasking(\n",
              "          (attn): MultiheadAttention(\n",
              "            (out_proj): NonDynamicallyQuantizableLinear(in_features=768, out_features=768, bias=True)\n",
              "          )\n",
              "          (drop_path): Identity()\n",
              "          (norm_1): LayerNorm((768,), eps=1e-06, elementwise_affine=True)\n",
              "          (mlp): Mlp(\n",
              "            (fc1): Linear(in_features=768, out_features=3072, bias=True)\n",
              "            (act): GELU(approximate='none')\n",
              "            (fc2): Linear(in_features=3072, out_features=768, bias=True)\n",
              "            (drop): Dropout(p=0.0, inplace=False)\n",
              "          )\n",
              "          (norm_2): LayerNorm((768,), eps=1e-06, elementwise_affine=True)\n",
              "        )\n",
              "        (1): BlockWithMasking(\n",
              "          (attn): MultiheadAttention(\n",
              "            (out_proj): NonDynamicallyQuantizableLinear(in_features=768, out_features=768, bias=True)\n",
              "          )\n",
              "          (drop_path): Identity()\n",
              "          (norm_1): LayerNorm((768,), eps=1e-06, elementwise_affine=True)\n",
              "          (mlp): Mlp(\n",
              "            (fc1): Linear(in_features=768, out_features=3072, bias=True)\n",
              "            (act): GELU(approximate='none')\n",
              "            (fc2): Linear(in_features=3072, out_features=768, bias=True)\n",
              "            (drop): Dropout(p=0.0, inplace=False)\n",
              "          )\n",
              "          (norm_2): LayerNorm((768,), eps=1e-06, elementwise_affine=True)\n",
              "        )\n",
              "        (2): BlockWithMasking(\n",
              "          (attn): MultiheadAttention(\n",
              "            (out_proj): NonDynamicallyQuantizableLinear(in_features=768, out_features=768, bias=True)\n",
              "          )\n",
              "          (drop_path): Identity()\n",
              "          (norm_1): LayerNorm((768,), eps=1e-06, elementwise_affine=True)\n",
              "          (mlp): Mlp(\n",
              "            (fc1): Linear(in_features=768, out_features=3072, bias=True)\n",
              "            (act): GELU(approximate='none')\n",
              "            (fc2): Linear(in_features=3072, out_features=768, bias=True)\n",
              "            (drop): Dropout(p=0.0, inplace=False)\n",
              "          )\n",
              "          (norm_2): LayerNorm((768,), eps=1e-06, elementwise_affine=True)\n",
              "        )\n",
              "        (3): BlockWithMasking(\n",
              "          (attn): MultiheadAttention(\n",
              "            (out_proj): NonDynamicallyQuantizableLinear(in_features=768, out_features=768, bias=True)\n",
              "          )\n",
              "          (drop_path): Identity()\n",
              "          (norm_1): LayerNorm((768,), eps=1e-06, elementwise_affine=True)\n",
              "          (mlp): Mlp(\n",
              "            (fc1): Linear(in_features=768, out_features=3072, bias=True)\n",
              "            (act): GELU(approximate='none')\n",
              "            (fc2): Linear(in_features=3072, out_features=768, bias=True)\n",
              "            (drop): Dropout(p=0.0, inplace=False)\n",
              "          )\n",
              "          (norm_2): LayerNorm((768,), eps=1e-06, elementwise_affine=True)\n",
              "        )\n",
              "        (4): BlockWithMasking(\n",
              "          (attn): MultiheadAttention(\n",
              "            (out_proj): NonDynamicallyQuantizableLinear(in_features=768, out_features=768, bias=True)\n",
              "          )\n",
              "          (drop_path): Identity()\n",
              "          (norm_1): LayerNorm((768,), eps=1e-06, elementwise_affine=True)\n",
              "          (mlp): Mlp(\n",
              "            (fc1): Linear(in_features=768, out_features=3072, bias=True)\n",
              "            (act): GELU(approximate='none')\n",
              "            (fc2): Linear(in_features=3072, out_features=768, bias=True)\n",
              "            (drop): Dropout(p=0.0, inplace=False)\n",
              "          )\n",
              "          (norm_2): LayerNorm((768,), eps=1e-06, elementwise_affine=True)\n",
              "        )\n",
              "        (5): BlockWithMasking(\n",
              "          (attn): MultiheadAttention(\n",
              "            (out_proj): NonDynamicallyQuantizableLinear(in_features=768, out_features=768, bias=True)\n",
              "          )\n",
              "          (drop_path): Identity()\n",
              "          (norm_1): LayerNorm((768,), eps=1e-06, elementwise_affine=True)\n",
              "          (mlp): Mlp(\n",
              "            (fc1): Linear(in_features=768, out_features=3072, bias=True)\n",
              "            (act): GELU(approximate='none')\n",
              "            (fc2): Linear(in_features=3072, out_features=768, bias=True)\n",
              "            (drop): Dropout(p=0.0, inplace=False)\n",
              "          )\n",
              "          (norm_2): LayerNorm((768,), eps=1e-06, elementwise_affine=True)\n",
              "        )\n",
              "        (6): BlockWithMasking(\n",
              "          (attn): MultiheadAttention(\n",
              "            (out_proj): NonDynamicallyQuantizableLinear(in_features=768, out_features=768, bias=True)\n",
              "          )\n",
              "          (drop_path): Identity()\n",
              "          (norm_1): LayerNorm((768,), eps=1e-06, elementwise_affine=True)\n",
              "          (mlp): Mlp(\n",
              "            (fc1): Linear(in_features=768, out_features=3072, bias=True)\n",
              "            (act): GELU(approximate='none')\n",
              "            (fc2): Linear(in_features=3072, out_features=768, bias=True)\n",
              "            (drop): Dropout(p=0.0, inplace=False)\n",
              "          )\n",
              "          (norm_2): LayerNorm((768,), eps=1e-06, elementwise_affine=True)\n",
              "        )\n",
              "        (7): BlockWithMasking(\n",
              "          (attn): MultiheadAttention(\n",
              "            (out_proj): NonDynamicallyQuantizableLinear(in_features=768, out_features=768, bias=True)\n",
              "          )\n",
              "          (drop_path): Identity()\n",
              "          (norm_1): LayerNorm((768,), eps=1e-06, elementwise_affine=True)\n",
              "          (mlp): Mlp(\n",
              "            (fc1): Linear(in_features=768, out_features=3072, bias=True)\n",
              "            (act): GELU(approximate='none')\n",
              "            (fc2): Linear(in_features=3072, out_features=768, bias=True)\n",
              "            (drop): Dropout(p=0.0, inplace=False)\n",
              "          )\n",
              "          (norm_2): LayerNorm((768,), eps=1e-06, elementwise_affine=True)\n",
              "        )\n",
              "        (8): BlockWithMasking(\n",
              "          (attn): MultiheadAttention(\n",
              "            (out_proj): NonDynamicallyQuantizableLinear(in_features=768, out_features=768, bias=True)\n",
              "          )\n",
              "          (drop_path): Identity()\n",
              "          (norm_1): LayerNorm((768,), eps=1e-06, elementwise_affine=True)\n",
              "          (mlp): Mlp(\n",
              "            (fc1): Linear(in_features=768, out_features=3072, bias=True)\n",
              "            (act): GELU(approximate='none')\n",
              "            (fc2): Linear(in_features=3072, out_features=768, bias=True)\n",
              "            (drop): Dropout(p=0.0, inplace=False)\n",
              "          )\n",
              "          (norm_2): LayerNorm((768,), eps=1e-06, elementwise_affine=True)\n",
              "        )\n",
              "        (9): BlockWithMasking(\n",
              "          (attn): MultiheadAttention(\n",
              "            (out_proj): NonDynamicallyQuantizableLinear(in_features=768, out_features=768, bias=True)\n",
              "          )\n",
              "          (drop_path): Identity()\n",
              "          (norm_1): LayerNorm((768,), eps=1e-06, elementwise_affine=True)\n",
              "          (mlp): Mlp(\n",
              "            (fc1): Linear(in_features=768, out_features=3072, bias=True)\n",
              "            (act): GELU(approximate='none')\n",
              "            (fc2): Linear(in_features=3072, out_features=768, bias=True)\n",
              "            (drop): Dropout(p=0.0, inplace=False)\n",
              "          )\n",
              "          (norm_2): LayerNorm((768,), eps=1e-06, elementwise_affine=True)\n",
              "        )\n",
              "        (10): BlockWithMasking(\n",
              "          (attn): MultiheadAttention(\n",
              "            (out_proj): NonDynamicallyQuantizableLinear(in_features=768, out_features=768, bias=True)\n",
              "          )\n",
              "          (drop_path): Identity()\n",
              "          (norm_1): LayerNorm((768,), eps=1e-06, elementwise_affine=True)\n",
              "          (mlp): Mlp(\n",
              "            (fc1): Linear(in_features=768, out_features=3072, bias=True)\n",
              "            (act): GELU(approximate='none')\n",
              "            (fc2): Linear(in_features=3072, out_features=768, bias=True)\n",
              "            (drop): Dropout(p=0.0, inplace=False)\n",
              "          )\n",
              "          (norm_2): LayerNorm((768,), eps=1e-06, elementwise_affine=True)\n",
              "        )\n",
              "        (11): BlockWithMasking(\n",
              "          (attn): MultiheadAttention(\n",
              "            (out_proj): NonDynamicallyQuantizableLinear(in_features=768, out_features=768, bias=True)\n",
              "          )\n",
              "          (drop_path): Identity()\n",
              "          (norm_1): LayerNorm((768,), eps=1e-06, elementwise_affine=True)\n",
              "          (mlp): Mlp(\n",
              "            (fc1): Linear(in_features=768, out_features=3072, bias=True)\n",
              "            (act): GELU(approximate='none')\n",
              "            (fc2): Linear(in_features=3072, out_features=768, bias=True)\n",
              "            (drop): Dropout(p=0.0, inplace=False)\n",
              "          )\n",
              "          (norm_2): LayerNorm((768,), eps=1e-06, elementwise_affine=True)\n",
              "        )\n",
              "      )\n",
              "      (post_transformer_layer): EinOpsRearrange()\n",
              "    )\n",
              "    (imu): SimpleTransformer(\n",
              "      (pre_transformer_layer): Sequential(\n",
              "        (0): Identity()\n",
              "        (1): EinOpsRearrange()\n",
              "      )\n",
              "      (blocks): Sequential(\n",
              "        (0): BlockWithMasking(\n",
              "          (attn): MultiheadAttention(\n",
              "            (out_proj): NonDynamicallyQuantizableLinear(in_features=512, out_features=512, bias=True)\n",
              "          )\n",
              "          (drop_path): Identity()\n",
              "          (norm_1): LayerNorm((512,), eps=1e-06, elementwise_affine=True)\n",
              "          (mlp): Mlp(\n",
              "            (fc1): Linear(in_features=512, out_features=2048, bias=True)\n",
              "            (act): GELU(approximate='none')\n",
              "            (fc2): Linear(in_features=2048, out_features=512, bias=True)\n",
              "            (drop): Dropout(p=0.0, inplace=False)\n",
              "          )\n",
              "          (norm_2): LayerNorm((512,), eps=1e-06, elementwise_affine=True)\n",
              "        )\n",
              "        (1): BlockWithMasking(\n",
              "          (attn): MultiheadAttention(\n",
              "            (out_proj): NonDynamicallyQuantizableLinear(in_features=512, out_features=512, bias=True)\n",
              "          )\n",
              "          (drop_path): DropPath(drop_prob=0.140)\n",
              "          (norm_1): LayerNorm((512,), eps=1e-06, elementwise_affine=True)\n",
              "          (mlp): Mlp(\n",
              "            (fc1): Linear(in_features=512, out_features=2048, bias=True)\n",
              "            (act): GELU(approximate='none')\n",
              "            (fc2): Linear(in_features=2048, out_features=512, bias=True)\n",
              "            (drop): Dropout(p=0.0, inplace=False)\n",
              "          )\n",
              "          (norm_2): LayerNorm((512,), eps=1e-06, elementwise_affine=True)\n",
              "        )\n",
              "        (2): BlockWithMasking(\n",
              "          (attn): MultiheadAttention(\n",
              "            (out_proj): NonDynamicallyQuantizableLinear(in_features=512, out_features=512, bias=True)\n",
              "          )\n",
              "          (drop_path): DropPath(drop_prob=0.280)\n",
              "          (norm_1): LayerNorm((512,), eps=1e-06, elementwise_affine=True)\n",
              "          (mlp): Mlp(\n",
              "            (fc1): Linear(in_features=512, out_features=2048, bias=True)\n",
              "            (act): GELU(approximate='none')\n",
              "            (fc2): Linear(in_features=2048, out_features=512, bias=True)\n",
              "            (drop): Dropout(p=0.0, inplace=False)\n",
              "          )\n",
              "          (norm_2): LayerNorm((512,), eps=1e-06, elementwise_affine=True)\n",
              "        )\n",
              "        (3): BlockWithMasking(\n",
              "          (attn): MultiheadAttention(\n",
              "            (out_proj): NonDynamicallyQuantizableLinear(in_features=512, out_features=512, bias=True)\n",
              "          )\n",
              "          (drop_path): DropPath(drop_prob=0.420)\n",
              "          (norm_1): LayerNorm((512,), eps=1e-06, elementwise_affine=True)\n",
              "          (mlp): Mlp(\n",
              "            (fc1): Linear(in_features=512, out_features=2048, bias=True)\n",
              "            (act): GELU(approximate='none')\n",
              "            (fc2): Linear(in_features=2048, out_features=512, bias=True)\n",
              "            (drop): Dropout(p=0.0, inplace=False)\n",
              "          )\n",
              "          (norm_2): LayerNorm((512,), eps=1e-06, elementwise_affine=True)\n",
              "        )\n",
              "        (4): BlockWithMasking(\n",
              "          (attn): MultiheadAttention(\n",
              "            (out_proj): NonDynamicallyQuantizableLinear(in_features=512, out_features=512, bias=True)\n",
              "          )\n",
              "          (drop_path): DropPath(drop_prob=0.560)\n",
              "          (norm_1): LayerNorm((512,), eps=1e-06, elementwise_affine=True)\n",
              "          (mlp): Mlp(\n",
              "            (fc1): Linear(in_features=512, out_features=2048, bias=True)\n",
              "            (act): GELU(approximate='none')\n",
              "            (fc2): Linear(in_features=2048, out_features=512, bias=True)\n",
              "            (drop): Dropout(p=0.0, inplace=False)\n",
              "          )\n",
              "          (norm_2): LayerNorm((512,), eps=1e-06, elementwise_affine=True)\n",
              "        )\n",
              "        (5): BlockWithMasking(\n",
              "          (attn): MultiheadAttention(\n",
              "            (out_proj): NonDynamicallyQuantizableLinear(in_features=512, out_features=512, bias=True)\n",
              "          )\n",
              "          (drop_path): DropPath(drop_prob=0.700)\n",
              "          (norm_1): LayerNorm((512,), eps=1e-06, elementwise_affine=True)\n",
              "          (mlp): Mlp(\n",
              "            (fc1): Linear(in_features=512, out_features=2048, bias=True)\n",
              "            (act): GELU(approximate='none')\n",
              "            (fc2): Linear(in_features=2048, out_features=512, bias=True)\n",
              "            (drop): Dropout(p=0.0, inplace=False)\n",
              "          )\n",
              "          (norm_2): LayerNorm((512,), eps=1e-06, elementwise_affine=True)\n",
              "        )\n",
              "      )\n",
              "      (post_transformer_layer): EinOpsRearrange()\n",
              "    )\n",
              "  )\n",
              "  (modality_heads): ModuleDict(\n",
              "    (vision): Sequential(\n",
              "      (0): LayerNorm((1280,), eps=1e-06, elementwise_affine=True)\n",
              "      (1): SelectElement()\n",
              "      (2): Linear(in_features=1280, out_features=1024, bias=False)\n",
              "    )\n",
              "    (text): SelectEOSAndProject(\n",
              "      (proj): Sequential(\n",
              "        (0): LayerNorm((1024,), eps=1e-06, elementwise_affine=True)\n",
              "        (1): Linear(in_features=1024, out_features=1024, bias=False)\n",
              "      )\n",
              "    )\n",
              "    (audio): Sequential(\n",
              "      (0): LayerNorm((768,), eps=1e-06, elementwise_affine=True)\n",
              "      (1): SelectElement()\n",
              "      (2): Linear(in_features=768, out_features=1024, bias=False)\n",
              "    )\n",
              "    (depth): Sequential(\n",
              "      (0): LayerNorm((384,), eps=1e-06, elementwise_affine=True)\n",
              "      (1): SelectElement()\n",
              "      (2): Linear(in_features=384, out_features=1024, bias=False)\n",
              "    )\n",
              "    (thermal): Sequential(\n",
              "      (0): LayerNorm((768,), eps=1e-06, elementwise_affine=True)\n",
              "      (1): SelectElement()\n",
              "      (2): Linear(in_features=768, out_features=1024, bias=False)\n",
              "    )\n",
              "    (imu): Sequential(\n",
              "      (0): LayerNorm((512,), eps=1e-06, elementwise_affine=True)\n",
              "      (1): SelectElement()\n",
              "      (2): Dropout(p=0.5, inplace=False)\n",
              "      (3): Linear(in_features=512, out_features=1024, bias=False)\n",
              "    )\n",
              "  )\n",
              "  (modality_postprocessors): ModuleDict(\n",
              "    (vision): Normalize()\n",
              "    (text): Sequential(\n",
              "      (0): Normalize()\n",
              "      (1): LearnableLogitScaling(logit_scale_init=14.285714285714285,learnable=True, max_logit_scale=100)\n",
              "    )\n",
              "    (audio): Sequential(\n",
              "      (0): Normalize()\n",
              "      (1): LearnableLogitScaling(logit_scale_init=20.0,learnable=False, max_logit_scale=100)\n",
              "    )\n",
              "    (depth): Sequential(\n",
              "      (0): Normalize()\n",
              "      (1): LearnableLogitScaling(logit_scale_init=5.0,learnable=False, max_logit_scale=100)\n",
              "    )\n",
              "    (thermal): Sequential(\n",
              "      (0): Normalize()\n",
              "      (1): LearnableLogitScaling(logit_scale_init=10.0,learnable=False, max_logit_scale=100)\n",
              "    )\n",
              "    (imu): Sequential(\n",
              "      (0): Normalize()\n",
              "      (1): LearnableLogitScaling(logit_scale_init=5.0,learnable=False, max_logit_scale=100)\n",
              "    )\n",
              "  )\n",
              ")"
            ]
          },
          "metadata": {},
          "execution_count": 49
        }
      ]
    },
    {
      "cell_type": "code",
      "source": [
        "num_data = len(text_data)\n",
        "batch_size = 28\n",
        "\n",
        "num_batches = int(np.floor(num_data / batch_size))"
      ],
      "metadata": {
        "id": "VuWMMH-kl8dL"
      },
      "execution_count": null,
      "outputs": []
    },
    {
      "cell_type": "code",
      "source": [
        "def batch_process_all(batch_size, num_data):\n",
        "  num_batches = int(np.floor(num_data / batch_size))\n",
        "  for i in range(num_batches):\n",
        "    j = i + 1\n",
        "    print(f\"Batch {j}/{num_batches}\")\n",
        "    try:\n",
        "      text_tensor_data = data.load_and_transform_text(text_list[i*batch_size:j*batch_size], device)\n",
        "      video_tensor_data = data.load_and_transform_video_data(video_paths[i*batch_size:j*batch_size], device)\n",
        "      audio_tensor_data = data.load_and_transform_audio_data(audio_paths[i*batch_size:j*batch_size], device)\n",
        "\n",
        "      inputs = {\n",
        "        ModalityType.TEXT: text_tensor_data,\n",
        "        ModalityType.VISION: video_tensor_data,\n",
        "        ModalityType.AUDIO: audio_tensor_data,\n",
        "        }\n",
        "\n",
        "\n",
        "      with torch.no_grad():\n",
        "        embeddings = model(inputs)\n",
        "\n",
        "      if i == 0:\n",
        "        labels_save = labels[i*batch_size:j*batch_size]\n",
        "        vision_embeddings = embeddings[ModalityType.VISION].cpu().numpy()\n",
        "        audio_embeddings = embeddings[ModalityType.AUDIO].cpu().numpy()\n",
        "        text_embeddings = embeddings[ModalityType.TEXT].cpu().numpy()\n",
        "      else:\n",
        "        labels_save = labels_save + labels[i*batch_size:j*batch_size]\n",
        "        vision_embeddings = np.concatenate((vision_embeddings, embeddings[ModalityType.VISION].cpu().numpy()), axis=0)\n",
        "        audio_embeddings = np.concatenate((audio_embeddings, embeddings[ModalityType.AUDIO].cpu().numpy()), axis=0)\n",
        "        text_embeddings = np.concatenate((text_embeddings, embeddings[ModalityType.TEXT].cpu().numpy()), axis=0)\n",
        "    except Exception as e:\n",
        "      print(e)\n",
        "\n",
        "  return labels_save, audio_embeddings, text_embeddings, vision_embeddings"
      ],
      "metadata": {
        "id": "wsxSqFTPWUhr"
      },
      "execution_count": null,
      "outputs": []
    },
    {
      "cell_type": "code",
      "source": [
        "def batch_process_audio_text(batch_size, num_data):\n",
        "  num_batches = int(np.floor(num_data / batch_size))\n",
        "  for i in range(num_batches):\n",
        "    j = i + 1\n",
        "    print(f\"Batch {j}/{num_batches}\")\n",
        "    try:\n",
        "      text_tensor_data = data.load_and_transform_text(text_list[i*batch_size:j*batch_size], device)\n",
        "      audio_tensor_data = data.load_and_transform_audio_data(audio_paths[i*batch_size:j*batch_size], device)\n",
        "\n",
        "      inputs = {\n",
        "        ModalityType.TEXT: text_tensor_data,\n",
        "        ModalityType.AUDIO: audio_tensor_data,\n",
        "        }\n",
        "\n",
        "\n",
        "      with torch.no_grad():\n",
        "        embeddings = model(inputs)\n",
        "\n",
        "      if i == 0:\n",
        "        labels_save = labels[i*batch_size:j*batch_size]\n",
        "        audio_embeddings = embeddings[ModalityType.AUDIO].cpu().numpy()\n",
        "        text_embeddings = embeddings[ModalityType.TEXT].cpu().numpy()\n",
        "      else:\n",
        "        labels_save = labels_save + labels[i*batch_size:j*batch_size]\n",
        "        audio_embeddings = np.concatenate((audio_embeddings, embeddings[ModalityType.AUDIO].cpu().numpy()), axis=0)\n",
        "        text_embeddings = np.concatenate((text_embeddings, embeddings[ModalityType.TEXT].cpu().numpy()), axis=0)\n",
        "    except Exception as e:\n",
        "      print(e)\n",
        "\n",
        "  return labels_save, audio_embeddings, text_embeddings"
      ],
      "metadata": {
        "id": "mJDr5H4d2qqi"
      },
      "execution_count": null,
      "outputs": []
    },
    {
      "cell_type": "code",
      "source": [
        "### BATCH PROCESSING\n",
        "\n",
        "sessions = ['Session1']\n",
        "\n",
        "for session in sessions:\n",
        "  print(f\"Processing session {session}......\")\n",
        "  labels = list(emotion_labels[session].values())\n",
        "  text_list = list(text_data[session].values())\n",
        "  audio_paths = list(audio_data[session].values())\n",
        "\n",
        "  labels_save, audio_embeddings, text_embeddings, vision_embeddings = batch_process_all(batch_size, len(text_list))\n",
        "\n",
        "  np.savetxt(f\"/content/drive/MyDrive/coms6998_final_project/Embeddings/vision_embeddings_{session}.csv\", vision_embeddings, delimiter=\",\")\n",
        "  np.savetxt(f\"/content/drive/MyDrive/coms6998_final_project/Embeddings/audio_embeddings_{session}.csv\", audio_embeddings, delimiter=\",\")\n",
        "  np.savetxt(f\"/content/drive/MyDrive/coms6998_final_project/Embeddings/text_embeddings_{session}.csv\", text_embeddings, delimiter=\",\")\n",
        "  np.savetxt(f\"/content/drive/MyDrive/coms6998_final_project/Embeddings/labels_{session}.csv\", labels_save, delimiter=\",\" ,fmt=\"%s\")\n",
        "\n"
      ],
      "metadata": {
        "colab": {
          "base_uri": "https://localhost:8080/"
        },
        "id": "icoo0x4NltxZ",
        "outputId": "7e39d9ad-197e-4903-f761-5c3db0eb274c"
      },
      "execution_count": null,
      "outputs": [
        {
          "output_type": "stream",
          "name": "stdout",
          "text": [
            "Processing session Session1......\n",
            "Batch 1/64\n"
          ]
        },
        {
          "output_type": "stream",
          "name": "stderr",
          "text": [
            "WARNING:root:Large gap between audio n_frames(136) and target_length (204). Is the audio_target_length setting correct?\n",
            "WARNING:root:Large gap between audio n_frames(136) and target_length (204). Is the audio_target_length setting correct?\n",
            "WARNING:root:Large gap between audio n_frames(136) and target_length (204). Is the audio_target_length setting correct?\n",
            "WARNING:root:Large gap between audio n_frames(148) and target_length (204). Is the audio_target_length setting correct?\n",
            "WARNING:root:Large gap between audio n_frames(148) and target_length (204). Is the audio_target_length setting correct?\n",
            "WARNING:root:Large gap between audio n_frames(148) and target_length (204). Is the audio_target_length setting correct?\n"
          ]
        },
        {
          "output_type": "stream",
          "name": "stdout",
          "text": [
            "Batch 2/64\n"
          ]
        },
        {
          "output_type": "stream",
          "name": "stderr",
          "text": [
            "WARNING:root:Large gap between audio n_frames(123) and target_length (204). Is the audio_target_length setting correct?\n",
            "WARNING:root:Large gap between audio n_frames(123) and target_length (204). Is the audio_target_length setting correct?\n",
            "WARNING:root:Large gap between audio n_frames(123) and target_length (204). Is the audio_target_length setting correct?\n"
          ]
        },
        {
          "output_type": "stream",
          "name": "stdout",
          "text": [
            "Batch 3/64\n"
          ]
        },
        {
          "output_type": "stream",
          "name": "stderr",
          "text": [
            "WARNING:root:Large gap between audio n_frames(168) and target_length (204). Is the audio_target_length setting correct?\n",
            "WARNING:root:Large gap between audio n_frames(168) and target_length (204). Is the audio_target_length setting correct?\n",
            "WARNING:root:Large gap between audio n_frames(168) and target_length (204). Is the audio_target_length setting correct?\n",
            "WARNING:root:Large gap between audio n_frames(140) and target_length (204). Is the audio_target_length setting correct?\n",
            "WARNING:root:Large gap between audio n_frames(140) and target_length (204). Is the audio_target_length setting correct?\n",
            "WARNING:root:Large gap between audio n_frames(140) and target_length (204). Is the audio_target_length setting correct?\n",
            "WARNING:root:Large gap between audio n_frames(136) and target_length (204). Is the audio_target_length setting correct?\n",
            "WARNING:root:Large gap between audio n_frames(136) and target_length (204). Is the audio_target_length setting correct?\n",
            "WARNING:root:Large gap between audio n_frames(136) and target_length (204). Is the audio_target_length setting correct?\n",
            "WARNING:root:Large gap between audio n_frames(82) and target_length (204). Is the audio_target_length setting correct?\n",
            "WARNING:root:Large gap between audio n_frames(82) and target_length (204). Is the audio_target_length setting correct?\n",
            "WARNING:root:Large gap between audio n_frames(82) and target_length (204). Is the audio_target_length setting correct?\n"
          ]
        },
        {
          "output_type": "stream",
          "name": "stdout",
          "text": [
            "Batch 4/64\n"
          ]
        },
        {
          "output_type": "stream",
          "name": "stderr",
          "text": [
            "WARNING:root:Large gap between audio n_frames(130) and target_length (204). Is the audio_target_length setting correct?\n",
            "WARNING:root:Large gap between audio n_frames(130) and target_length (204). Is the audio_target_length setting correct?\n",
            "WARNING:root:Large gap between audio n_frames(130) and target_length (204). Is the audio_target_length setting correct?\n",
            "WARNING:root:Large gap between audio n_frames(142) and target_length (204). Is the audio_target_length setting correct?\n",
            "WARNING:root:Large gap between audio n_frames(142) and target_length (204). Is the audio_target_length setting correct?\n",
            "WARNING:root:Large gap between audio n_frames(142) and target_length (204). Is the audio_target_length setting correct?\n",
            "WARNING:root:Large gap between audio n_frames(164) and target_length (204). Is the audio_target_length setting correct?\n",
            "WARNING:root:Large gap between audio n_frames(164) and target_length (204). Is the audio_target_length setting correct?\n",
            "WARNING:root:Large gap between audio n_frames(164) and target_length (204). Is the audio_target_length setting correct?\n"
          ]
        },
        {
          "output_type": "stream",
          "name": "stdout",
          "text": [
            "Batch 5/64\n"
          ]
        },
        {
          "output_type": "stream",
          "name": "stderr",
          "text": [
            "WARNING:root:Large gap between audio n_frames(128) and target_length (204). Is the audio_target_length setting correct?\n",
            "WARNING:root:Large gap between audio n_frames(128) and target_length (204). Is the audio_target_length setting correct?\n",
            "WARNING:root:Large gap between audio n_frames(128) and target_length (204). Is the audio_target_length setting correct?\n",
            "WARNING:root:Large gap between audio n_frames(136) and target_length (204). Is the audio_target_length setting correct?\n",
            "WARNING:root:Large gap between audio n_frames(136) and target_length (204). Is the audio_target_length setting correct?\n",
            "WARNING:root:Large gap between audio n_frames(136) and target_length (204). Is the audio_target_length setting correct?\n",
            "WARNING:root:Large gap between audio n_frames(149) and target_length (204). Is the audio_target_length setting correct?\n",
            "WARNING:root:Large gap between audio n_frames(149) and target_length (204). Is the audio_target_length setting correct?\n",
            "WARNING:root:Large gap between audio n_frames(149) and target_length (204). Is the audio_target_length setting correct?\n",
            "WARNING:root:Large gap between audio n_frames(147) and target_length (204). Is the audio_target_length setting correct?\n",
            "WARNING:root:Large gap between audio n_frames(147) and target_length (204). Is the audio_target_length setting correct?\n",
            "WARNING:root:Large gap between audio n_frames(147) and target_length (204). Is the audio_target_length setting correct?\n",
            "WARNING:root:Large gap between audio n_frames(165) and target_length (204). Is the audio_target_length setting correct?\n",
            "WARNING:root:Large gap between audio n_frames(165) and target_length (204). Is the audio_target_length setting correct?\n",
            "WARNING:root:Large gap between audio n_frames(165) and target_length (204). Is the audio_target_length setting correct?\n"
          ]
        },
        {
          "output_type": "stream",
          "name": "stdout",
          "text": [
            "Batch 6/64\n"
          ]
        },
        {
          "output_type": "stream",
          "name": "stderr",
          "text": [
            "WARNING:root:Large gap between audio n_frames(117) and target_length (204). Is the audio_target_length setting correct?\n",
            "WARNING:root:Large gap between audio n_frames(117) and target_length (204). Is the audio_target_length setting correct?\n",
            "WARNING:root:Large gap between audio n_frames(117) and target_length (204). Is the audio_target_length setting correct?\n",
            "WARNING:root:Large gap between audio n_frames(110) and target_length (204). Is the audio_target_length setting correct?\n",
            "WARNING:root:Large gap between audio n_frames(110) and target_length (204). Is the audio_target_length setting correct?\n",
            "WARNING:root:Large gap between audio n_frames(110) and target_length (204). Is the audio_target_length setting correct?\n",
            "WARNING:root:Large gap between audio n_frames(129) and target_length (204). Is the audio_target_length setting correct?\n",
            "WARNING:root:Large gap between audio n_frames(129) and target_length (204). Is the audio_target_length setting correct?\n",
            "WARNING:root:Large gap between audio n_frames(129) and target_length (204). Is the audio_target_length setting correct?\n"
          ]
        },
        {
          "output_type": "stream",
          "name": "stdout",
          "text": [
            "Batch 7/64\n"
          ]
        },
        {
          "output_type": "stream",
          "name": "stderr",
          "text": [
            "WARNING:root:Large gap between audio n_frames(122) and target_length (204). Is the audio_target_length setting correct?\n",
            "WARNING:root:Large gap between audio n_frames(122) and target_length (204). Is the audio_target_length setting correct?\n",
            "WARNING:root:Large gap between audio n_frames(122) and target_length (204). Is the audio_target_length setting correct?\n",
            "WARNING:root:Large gap between audio n_frames(132) and target_length (204). Is the audio_target_length setting correct?\n",
            "WARNING:root:Large gap between audio n_frames(132) and target_length (204). Is the audio_target_length setting correct?\n",
            "WARNING:root:Large gap between audio n_frames(132) and target_length (204). Is the audio_target_length setting correct?\n",
            "WARNING:root:Large gap between audio n_frames(97) and target_length (204). Is the audio_target_length setting correct?\n",
            "WARNING:root:Large gap between audio n_frames(97) and target_length (204). Is the audio_target_length setting correct?\n",
            "WARNING:root:Large gap between audio n_frames(97) and target_length (204). Is the audio_target_length setting correct?\n",
            "WARNING:root:Large gap between audio n_frames(148) and target_length (204). Is the audio_target_length setting correct?\n",
            "WARNING:root:Large gap between audio n_frames(148) and target_length (204). Is the audio_target_length setting correct?\n",
            "WARNING:root:Large gap between audio n_frames(148) and target_length (204). Is the audio_target_length setting correct?\n",
            "WARNING:root:Large gap between audio n_frames(139) and target_length (204). Is the audio_target_length setting correct?\n",
            "WARNING:root:Large gap between audio n_frames(139) and target_length (204). Is the audio_target_length setting correct?\n",
            "WARNING:root:Large gap between audio n_frames(139) and target_length (204). Is the audio_target_length setting correct?\n",
            "WARNING:root:Large gap between audio n_frames(165) and target_length (204). Is the audio_target_length setting correct?\n",
            "WARNING:root:Large gap between audio n_frames(165) and target_length (204). Is the audio_target_length setting correct?\n",
            "WARNING:root:Large gap between audio n_frames(165) and target_length (204). Is the audio_target_length setting correct?\n",
            "WARNING:root:Large gap between audio n_frames(129) and target_length (204). Is the audio_target_length setting correct?\n",
            "WARNING:root:Large gap between audio n_frames(129) and target_length (204). Is the audio_target_length setting correct?\n",
            "WARNING:root:Large gap between audio n_frames(129) and target_length (204). Is the audio_target_length setting correct?\n",
            "WARNING:root:Large gap between audio n_frames(165) and target_length (204). Is the audio_target_length setting correct?\n",
            "WARNING:root:Large gap between audio n_frames(165) and target_length (204). Is the audio_target_length setting correct?\n",
            "WARNING:root:Large gap between audio n_frames(165) and target_length (204). Is the audio_target_length setting correct?\n"
          ]
        },
        {
          "output_type": "stream",
          "name": "stdout",
          "text": [
            "Batch 8/64\n"
          ]
        },
        {
          "output_type": "stream",
          "name": "stderr",
          "text": [
            "WARNING:root:Large gap between audio n_frames(136) and target_length (204). Is the audio_target_length setting correct?\n",
            "WARNING:root:Large gap between audio n_frames(136) and target_length (204). Is the audio_target_length setting correct?\n",
            "WARNING:root:Large gap between audio n_frames(136) and target_length (204). Is the audio_target_length setting correct?\n",
            "WARNING:root:Large gap between audio n_frames(147) and target_length (204). Is the audio_target_length setting correct?\n",
            "WARNING:root:Large gap between audio n_frames(147) and target_length (204). Is the audio_target_length setting correct?\n",
            "WARNING:root:Large gap between audio n_frames(147) and target_length (204). Is the audio_target_length setting correct?\n",
            "WARNING:root:Large gap between audio n_frames(156) and target_length (204). Is the audio_target_length setting correct?\n",
            "WARNING:root:Large gap between audio n_frames(156) and target_length (204). Is the audio_target_length setting correct?\n",
            "WARNING:root:Large gap between audio n_frames(156) and target_length (204). Is the audio_target_length setting correct?\n",
            "WARNING:root:Large gap between audio n_frames(121) and target_length (204). Is the audio_target_length setting correct?\n",
            "WARNING:root:Large gap between audio n_frames(121) and target_length (204). Is the audio_target_length setting correct?\n",
            "WARNING:root:Large gap between audio n_frames(121) and target_length (204). Is the audio_target_length setting correct?\n",
            "WARNING:root:Large gap between audio n_frames(109) and target_length (204). Is the audio_target_length setting correct?\n",
            "WARNING:root:Large gap between audio n_frames(109) and target_length (204). Is the audio_target_length setting correct?\n",
            "WARNING:root:Large gap between audio n_frames(109) and target_length (204). Is the audio_target_length setting correct?\n",
            "WARNING:root:Large gap between audio n_frames(146) and target_length (204). Is the audio_target_length setting correct?\n",
            "WARNING:root:Large gap between audio n_frames(146) and target_length (204). Is the audio_target_length setting correct?\n",
            "WARNING:root:Large gap between audio n_frames(146) and target_length (204). Is the audio_target_length setting correct?\n",
            "WARNING:root:Large gap between audio n_frames(150) and target_length (204). Is the audio_target_length setting correct?\n",
            "WARNING:root:Large gap between audio n_frames(150) and target_length (204). Is the audio_target_length setting correct?\n",
            "WARNING:root:Large gap between audio n_frames(150) and target_length (204). Is the audio_target_length setting correct?\n",
            "WARNING:root:Large gap between audio n_frames(142) and target_length (204). Is the audio_target_length setting correct?\n",
            "WARNING:root:Large gap between audio n_frames(142) and target_length (204). Is the audio_target_length setting correct?\n",
            "WARNING:root:Large gap between audio n_frames(142) and target_length (204). Is the audio_target_length setting correct?\n",
            "WARNING:root:Large gap between audio n_frames(143) and target_length (204). Is the audio_target_length setting correct?\n",
            "WARNING:root:Large gap between audio n_frames(143) and target_length (204). Is the audio_target_length setting correct?\n",
            "WARNING:root:Large gap between audio n_frames(143) and target_length (204). Is the audio_target_length setting correct?\n"
          ]
        },
        {
          "output_type": "stream",
          "name": "stdout",
          "text": [
            "Batch 9/64\n"
          ]
        },
        {
          "output_type": "stream",
          "name": "stderr",
          "text": [
            "WARNING:root:Large gap between audio n_frames(151) and target_length (204). Is the audio_target_length setting correct?\n",
            "WARNING:root:Large gap between audio n_frames(151) and target_length (204). Is the audio_target_length setting correct?\n",
            "WARNING:root:Large gap between audio n_frames(151) and target_length (204). Is the audio_target_length setting correct?\n",
            "WARNING:root:Large gap between audio n_frames(131) and target_length (204). Is the audio_target_length setting correct?\n",
            "WARNING:root:Large gap between audio n_frames(131) and target_length (204). Is the audio_target_length setting correct?\n",
            "WARNING:root:Large gap between audio n_frames(131) and target_length (204). Is the audio_target_length setting correct?\n",
            "WARNING:root:Large gap between audio n_frames(135) and target_length (204). Is the audio_target_length setting correct?\n",
            "WARNING:root:Large gap between audio n_frames(135) and target_length (204). Is the audio_target_length setting correct?\n",
            "WARNING:root:Large gap between audio n_frames(135) and target_length (204). Is the audio_target_length setting correct?\n",
            "WARNING:root:Large gap between audio n_frames(169) and target_length (204). Is the audio_target_length setting correct?\n",
            "WARNING:root:Large gap between audio n_frames(169) and target_length (204). Is the audio_target_length setting correct?\n",
            "WARNING:root:Large gap between audio n_frames(169) and target_length (204). Is the audio_target_length setting correct?\n",
            "WARNING:root:Large gap between audio n_frames(165) and target_length (204). Is the audio_target_length setting correct?\n",
            "WARNING:root:Large gap between audio n_frames(165) and target_length (204). Is the audio_target_length setting correct?\n",
            "WARNING:root:Large gap between audio n_frames(165) and target_length (204). Is the audio_target_length setting correct?\n",
            "WARNING:root:Large gap between audio n_frames(156) and target_length (204). Is the audio_target_length setting correct?\n",
            "WARNING:root:Large gap between audio n_frames(156) and target_length (204). Is the audio_target_length setting correct?\n",
            "WARNING:root:Large gap between audio n_frames(156) and target_length (204). Is the audio_target_length setting correct?\n",
            "WARNING:root:Large gap between audio n_frames(131) and target_length (204). Is the audio_target_length setting correct?\n",
            "WARNING:root:Large gap between audio n_frames(131) and target_length (204). Is the audio_target_length setting correct?\n",
            "WARNING:root:Large gap between audio n_frames(131) and target_length (204). Is the audio_target_length setting correct?\n"
          ]
        },
        {
          "output_type": "stream",
          "name": "stdout",
          "text": [
            "Batch 10/64\n"
          ]
        },
        {
          "output_type": "stream",
          "name": "stderr",
          "text": [
            "WARNING:root:Large gap between audio n_frames(151) and target_length (204). Is the audio_target_length setting correct?\n",
            "WARNING:root:Large gap between audio n_frames(151) and target_length (204). Is the audio_target_length setting correct?\n",
            "WARNING:root:Large gap between audio n_frames(151) and target_length (204). Is the audio_target_length setting correct?\n",
            "WARNING:root:Large gap between audio n_frames(164) and target_length (204). Is the audio_target_length setting correct?\n",
            "WARNING:root:Large gap between audio n_frames(164) and target_length (204). Is the audio_target_length setting correct?\n",
            "WARNING:root:Large gap between audio n_frames(164) and target_length (204). Is the audio_target_length setting correct?\n",
            "WARNING:root:Large gap between audio n_frames(142) and target_length (204). Is the audio_target_length setting correct?\n",
            "WARNING:root:Large gap between audio n_frames(142) and target_length (204). Is the audio_target_length setting correct?\n",
            "WARNING:root:Large gap between audio n_frames(142) and target_length (204). Is the audio_target_length setting correct?\n"
          ]
        },
        {
          "output_type": "stream",
          "name": "stdout",
          "text": [
            "Batch 11/64\n"
          ]
        },
        {
          "output_type": "stream",
          "name": "stderr",
          "text": [
            "WARNING:root:Large gap between audio n_frames(130) and target_length (204). Is the audio_target_length setting correct?\n",
            "WARNING:root:Large gap between audio n_frames(130) and target_length (204). Is the audio_target_length setting correct?\n",
            "WARNING:root:Large gap between audio n_frames(130) and target_length (204). Is the audio_target_length setting correct?\n",
            "WARNING:root:Large gap between audio n_frames(165) and target_length (204). Is the audio_target_length setting correct?\n",
            "WARNING:root:Large gap between audio n_frames(165) and target_length (204). Is the audio_target_length setting correct?\n",
            "WARNING:root:Large gap between audio n_frames(165) and target_length (204). Is the audio_target_length setting correct?\n",
            "WARNING:root:Large gap between audio n_frames(147) and target_length (204). Is the audio_target_length setting correct?\n",
            "WARNING:root:Large gap between audio n_frames(147) and target_length (204). Is the audio_target_length setting correct?\n",
            "WARNING:root:Large gap between audio n_frames(147) and target_length (204). Is the audio_target_length setting correct?\n",
            "WARNING:root:Large gap between audio n_frames(133) and target_length (204). Is the audio_target_length setting correct?\n",
            "WARNING:root:Large gap between audio n_frames(133) and target_length (204). Is the audio_target_length setting correct?\n",
            "WARNING:root:Large gap between audio n_frames(133) and target_length (204). Is the audio_target_length setting correct?\n",
            "WARNING:root:Large gap between audio n_frames(157) and target_length (204). Is the audio_target_length setting correct?\n",
            "WARNING:root:Large gap between audio n_frames(157) and target_length (204). Is the audio_target_length setting correct?\n",
            "WARNING:root:Large gap between audio n_frames(157) and target_length (204). Is the audio_target_length setting correct?\n",
            "WARNING:root:Large gap between audio n_frames(128) and target_length (204). Is the audio_target_length setting correct?\n",
            "WARNING:root:Large gap between audio n_frames(128) and target_length (204). Is the audio_target_length setting correct?\n",
            "WARNING:root:Large gap between audio n_frames(128) and target_length (204). Is the audio_target_length setting correct?\n"
          ]
        },
        {
          "output_type": "stream",
          "name": "stdout",
          "text": [
            "Batch 12/64\n"
          ]
        },
        {
          "output_type": "stream",
          "name": "stderr",
          "text": [
            "WARNING:root:Large gap between audio n_frames(153) and target_length (204). Is the audio_target_length setting correct?\n",
            "WARNING:root:Large gap between audio n_frames(153) and target_length (204). Is the audio_target_length setting correct?\n",
            "WARNING:root:Large gap between audio n_frames(153) and target_length (204). Is the audio_target_length setting correct?\n"
          ]
        },
        {
          "output_type": "stream",
          "name": "stdout",
          "text": [
            "Batch 13/64\n",
            "Batch 14/64\n",
            "Batch 15/64\n",
            "Batch 16/64\n"
          ]
        },
        {
          "output_type": "stream",
          "name": "stderr",
          "text": [
            "WARNING:root:Large gap between audio n_frames(155) and target_length (204). Is the audio_target_length setting correct?\n",
            "WARNING:root:Large gap between audio n_frames(155) and target_length (204). Is the audio_target_length setting correct?\n",
            "WARNING:root:Large gap between audio n_frames(155) and target_length (204). Is the audio_target_length setting correct?\n"
          ]
        },
        {
          "output_type": "stream",
          "name": "stdout",
          "text": [
            "Batch 17/64\n"
          ]
        },
        {
          "output_type": "stream",
          "name": "stderr",
          "text": [
            "WARNING:root:Large gap between audio n_frames(138) and target_length (204). Is the audio_target_length setting correct?\n",
            "WARNING:root:Large gap between audio n_frames(138) and target_length (204). Is the audio_target_length setting correct?\n",
            "WARNING:root:Large gap between audio n_frames(138) and target_length (204). Is the audio_target_length setting correct?\n"
          ]
        },
        {
          "output_type": "stream",
          "name": "stdout",
          "text": [
            "Batch 18/64\n"
          ]
        },
        {
          "output_type": "stream",
          "name": "stderr",
          "text": [
            "WARNING:root:Large gap between audio n_frames(154) and target_length (204). Is the audio_target_length setting correct?\n",
            "WARNING:root:Large gap between audio n_frames(154) and target_length (204). Is the audio_target_length setting correct?\n",
            "WARNING:root:Large gap between audio n_frames(154) and target_length (204). Is the audio_target_length setting correct?\n"
          ]
        },
        {
          "output_type": "stream",
          "name": "stdout",
          "text": [
            "Batch 19/64\n"
          ]
        },
        {
          "output_type": "stream",
          "name": "stderr",
          "text": [
            "WARNING:root:Large gap between audio n_frames(148) and target_length (204). Is the audio_target_length setting correct?\n",
            "WARNING:root:Large gap between audio n_frames(148) and target_length (204). Is the audio_target_length setting correct?\n",
            "WARNING:root:Large gap between audio n_frames(148) and target_length (204). Is the audio_target_length setting correct?\n",
            "WARNING:root:Large gap between audio n_frames(104) and target_length (204). Is the audio_target_length setting correct?\n",
            "WARNING:root:Large gap between audio n_frames(104) and target_length (204). Is the audio_target_length setting correct?\n",
            "WARNING:root:Large gap between audio n_frames(104) and target_length (204). Is the audio_target_length setting correct?\n"
          ]
        },
        {
          "output_type": "stream",
          "name": "stdout",
          "text": [
            "Batch 20/64\n"
          ]
        },
        {
          "output_type": "stream",
          "name": "stderr",
          "text": [
            "WARNING:root:Large gap between audio n_frames(135) and target_length (204). Is the audio_target_length setting correct?\n",
            "WARNING:root:Large gap between audio n_frames(135) and target_length (204). Is the audio_target_length setting correct?\n",
            "WARNING:root:Large gap between audio n_frames(135) and target_length (204). Is the audio_target_length setting correct?\n",
            "WARNING:root:Large gap between audio n_frames(156) and target_length (204). Is the audio_target_length setting correct?\n",
            "WARNING:root:Large gap between audio n_frames(156) and target_length (204). Is the audio_target_length setting correct?\n",
            "WARNING:root:Large gap between audio n_frames(156) and target_length (204). Is the audio_target_length setting correct?\n",
            "WARNING:root:Large gap between audio n_frames(164) and target_length (204). Is the audio_target_length setting correct?\n",
            "WARNING:root:Large gap between audio n_frames(164) and target_length (204). Is the audio_target_length setting correct?\n",
            "WARNING:root:Large gap between audio n_frames(164) and target_length (204). Is the audio_target_length setting correct?\n",
            "WARNING:root:Large gap between audio n_frames(126) and target_length (204). Is the audio_target_length setting correct?\n",
            "WARNING:root:Large gap between audio n_frames(126) and target_length (204). Is the audio_target_length setting correct?\n",
            "WARNING:root:Large gap between audio n_frames(126) and target_length (204). Is the audio_target_length setting correct?\n",
            "WARNING:root:Large gap between audio n_frames(153) and target_length (204). Is the audio_target_length setting correct?\n",
            "WARNING:root:Large gap between audio n_frames(153) and target_length (204). Is the audio_target_length setting correct?\n",
            "WARNING:root:Large gap between audio n_frames(153) and target_length (204). Is the audio_target_length setting correct?\n"
          ]
        },
        {
          "output_type": "stream",
          "name": "stdout",
          "text": [
            "Batch 21/64\n"
          ]
        },
        {
          "output_type": "stream",
          "name": "stderr",
          "text": [
            "WARNING:root:Large gap between audio n_frames(111) and target_length (204). Is the audio_target_length setting correct?\n",
            "WARNING:root:Large gap between audio n_frames(111) and target_length (204). Is the audio_target_length setting correct?\n",
            "WARNING:root:Large gap between audio n_frames(111) and target_length (204). Is the audio_target_length setting correct?\n",
            "WARNING:root:Large gap between audio n_frames(157) and target_length (204). Is the audio_target_length setting correct?\n",
            "WARNING:root:Large gap between audio n_frames(157) and target_length (204). Is the audio_target_length setting correct?\n",
            "WARNING:root:Large gap between audio n_frames(157) and target_length (204). Is the audio_target_length setting correct?\n",
            "WARNING:root:Large gap between audio n_frames(147) and target_length (204). Is the audio_target_length setting correct?\n",
            "WARNING:root:Large gap between audio n_frames(147) and target_length (204). Is the audio_target_length setting correct?\n",
            "WARNING:root:Large gap between audio n_frames(147) and target_length (204). Is the audio_target_length setting correct?\n"
          ]
        },
        {
          "output_type": "stream",
          "name": "stdout",
          "text": [
            "Batch 22/64\n",
            "Batch 23/64\n"
          ]
        },
        {
          "output_type": "stream",
          "name": "stderr",
          "text": [
            "WARNING:root:Large gap between audio n_frames(165) and target_length (204). Is the audio_target_length setting correct?\n",
            "WARNING:root:Large gap between audio n_frames(165) and target_length (204). Is the audio_target_length setting correct?\n",
            "WARNING:root:Large gap between audio n_frames(165) and target_length (204). Is the audio_target_length setting correct?\n",
            "WARNING:root:Large gap between audio n_frames(142) and target_length (204). Is the audio_target_length setting correct?\n",
            "WARNING:root:Large gap between audio n_frames(142) and target_length (204). Is the audio_target_length setting correct?\n",
            "WARNING:root:Large gap between audio n_frames(142) and target_length (204). Is the audio_target_length setting correct?\n"
          ]
        },
        {
          "output_type": "stream",
          "name": "stdout",
          "text": [
            "Batch 24/64\n"
          ]
        },
        {
          "output_type": "stream",
          "name": "stderr",
          "text": [
            "WARNING:root:Large gap between audio n_frames(163) and target_length (204). Is the audio_target_length setting correct?\n",
            "WARNING:root:Large gap between audio n_frames(163) and target_length (204). Is the audio_target_length setting correct?\n",
            "WARNING:root:Large gap between audio n_frames(163) and target_length (204). Is the audio_target_length setting correct?\n",
            "WARNING:root:Large gap between audio n_frames(150) and target_length (204). Is the audio_target_length setting correct?\n",
            "WARNING:root:Large gap between audio n_frames(150) and target_length (204). Is the audio_target_length setting correct?\n",
            "WARNING:root:Large gap between audio n_frames(150) and target_length (204). Is the audio_target_length setting correct?\n"
          ]
        },
        {
          "output_type": "stream",
          "name": "stdout",
          "text": [
            "Batch 25/64\n"
          ]
        },
        {
          "output_type": "stream",
          "name": "stderr",
          "text": [
            "WARNING:root:Large gap between audio n_frames(166) and target_length (204). Is the audio_target_length setting correct?\n",
            "WARNING:root:Large gap between audio n_frames(166) and target_length (204). Is the audio_target_length setting correct?\n",
            "WARNING:root:Large gap between audio n_frames(166) and target_length (204). Is the audio_target_length setting correct?\n",
            "WARNING:root:Large gap between audio n_frames(138) and target_length (204). Is the audio_target_length setting correct?\n",
            "WARNING:root:Large gap between audio n_frames(138) and target_length (204). Is the audio_target_length setting correct?\n",
            "WARNING:root:Large gap between audio n_frames(138) and target_length (204). Is the audio_target_length setting correct?\n"
          ]
        },
        {
          "output_type": "stream",
          "name": "stdout",
          "text": [
            "Batch 26/64\n"
          ]
        },
        {
          "output_type": "stream",
          "name": "stderr",
          "text": [
            "WARNING:root:Large gap between audio n_frames(150) and target_length (204). Is the audio_target_length setting correct?\n",
            "WARNING:root:Large gap between audio n_frames(150) and target_length (204). Is the audio_target_length setting correct?\n",
            "WARNING:root:Large gap between audio n_frames(150) and target_length (204). Is the audio_target_length setting correct?\n"
          ]
        },
        {
          "output_type": "stream",
          "name": "stdout",
          "text": [
            "Batch 27/64\n"
          ]
        },
        {
          "output_type": "stream",
          "name": "stderr",
          "text": [
            "WARNING:root:Large gap between audio n_frames(142) and target_length (204). Is the audio_target_length setting correct?\n",
            "WARNING:root:Large gap between audio n_frames(142) and target_length (204). Is the audio_target_length setting correct?\n",
            "WARNING:root:Large gap between audio n_frames(142) and target_length (204). Is the audio_target_length setting correct?\n"
          ]
        },
        {
          "output_type": "stream",
          "name": "stdout",
          "text": [
            "Batch 28/64\n"
          ]
        },
        {
          "output_type": "stream",
          "name": "stderr",
          "text": [
            "WARNING:root:Large gap between audio n_frames(152) and target_length (204). Is the audio_target_length setting correct?\n",
            "WARNING:root:Large gap between audio n_frames(152) and target_length (204). Is the audio_target_length setting correct?\n",
            "WARNING:root:Large gap between audio n_frames(152) and target_length (204). Is the audio_target_length setting correct?\n"
          ]
        },
        {
          "output_type": "stream",
          "name": "stdout",
          "text": [
            "Batch 29/64\n"
          ]
        },
        {
          "output_type": "stream",
          "name": "stderr",
          "text": [
            "WARNING:root:Large gap between audio n_frames(137) and target_length (204). Is the audio_target_length setting correct?\n",
            "WARNING:root:Large gap between audio n_frames(137) and target_length (204). Is the audio_target_length setting correct?\n",
            "WARNING:root:Large gap between audio n_frames(137) and target_length (204). Is the audio_target_length setting correct?\n"
          ]
        },
        {
          "output_type": "stream",
          "name": "stdout",
          "text": [
            "Batch 30/64\n"
          ]
        },
        {
          "output_type": "stream",
          "name": "stderr",
          "text": [
            "WARNING:root:Large gap between audio n_frames(135) and target_length (204). Is the audio_target_length setting correct?\n",
            "WARNING:root:Large gap between audio n_frames(135) and target_length (204). Is the audio_target_length setting correct?\n",
            "WARNING:root:Large gap between audio n_frames(135) and target_length (204). Is the audio_target_length setting correct?\n"
          ]
        },
        {
          "output_type": "stream",
          "name": "stdout",
          "text": [
            "Batch 31/64\n"
          ]
        },
        {
          "output_type": "stream",
          "name": "stderr",
          "text": [
            "WARNING:root:Large gap between audio n_frames(147) and target_length (204). Is the audio_target_length setting correct?\n",
            "WARNING:root:Large gap between audio n_frames(147) and target_length (204). Is the audio_target_length setting correct?\n",
            "WARNING:root:Large gap between audio n_frames(147) and target_length (204). Is the audio_target_length setting correct?\n",
            "WARNING:root:Large gap between audio n_frames(167) and target_length (204). Is the audio_target_length setting correct?\n",
            "WARNING:root:Large gap between audio n_frames(167) and target_length (204). Is the audio_target_length setting correct?\n",
            "WARNING:root:Large gap between audio n_frames(167) and target_length (204). Is the audio_target_length setting correct?\n",
            "WARNING:root:Large gap between audio n_frames(137) and target_length (204). Is the audio_target_length setting correct?\n",
            "WARNING:root:Large gap between audio n_frames(137) and target_length (204). Is the audio_target_length setting correct?\n",
            "WARNING:root:Large gap between audio n_frames(137) and target_length (204). Is the audio_target_length setting correct?\n",
            "WARNING:root:Large gap between audio n_frames(151) and target_length (204). Is the audio_target_length setting correct?\n",
            "WARNING:root:Large gap between audio n_frames(151) and target_length (204). Is the audio_target_length setting correct?\n",
            "WARNING:root:Large gap between audio n_frames(151) and target_length (204). Is the audio_target_length setting correct?\n"
          ]
        },
        {
          "output_type": "stream",
          "name": "stdout",
          "text": [
            "Batch 32/64\n"
          ]
        },
        {
          "output_type": "stream",
          "name": "stderr",
          "text": [
            "WARNING:root:Large gap between audio n_frames(163) and target_length (204). Is the audio_target_length setting correct?\n",
            "WARNING:root:Large gap between audio n_frames(163) and target_length (204). Is the audio_target_length setting correct?\n",
            "WARNING:root:Large gap between audio n_frames(163) and target_length (204). Is the audio_target_length setting correct?\n",
            "WARNING:root:Large gap between audio n_frames(107) and target_length (204). Is the audio_target_length setting correct?\n",
            "WARNING:root:Large gap between audio n_frames(107) and target_length (204). Is the audio_target_length setting correct?\n",
            "WARNING:root:Large gap between audio n_frames(107) and target_length (204). Is the audio_target_length setting correct?\n",
            "WARNING:root:Large gap between audio n_frames(137) and target_length (204). Is the audio_target_length setting correct?\n",
            "WARNING:root:Large gap between audio n_frames(137) and target_length (204). Is the audio_target_length setting correct?\n",
            "WARNING:root:Large gap between audio n_frames(137) and target_length (204). Is the audio_target_length setting correct?\n",
            "WARNING:root:Large gap between audio n_frames(108) and target_length (204). Is the audio_target_length setting correct?\n",
            "WARNING:root:Large gap between audio n_frames(108) and target_length (204). Is the audio_target_length setting correct?\n",
            "WARNING:root:Large gap between audio n_frames(108) and target_length (204). Is the audio_target_length setting correct?\n",
            "WARNING:root:Large gap between audio n_frames(116) and target_length (204). Is the audio_target_length setting correct?\n",
            "WARNING:root:Large gap between audio n_frames(116) and target_length (204). Is the audio_target_length setting correct?\n",
            "WARNING:root:Large gap between audio n_frames(116) and target_length (204). Is the audio_target_length setting correct?\n"
          ]
        },
        {
          "output_type": "stream",
          "name": "stdout",
          "text": [
            "Batch 33/64\n"
          ]
        },
        {
          "output_type": "stream",
          "name": "stderr",
          "text": [
            "WARNING:root:Large gap between audio n_frames(135) and target_length (204). Is the audio_target_length setting correct?\n",
            "WARNING:root:Large gap between audio n_frames(135) and target_length (204). Is the audio_target_length setting correct?\n",
            "WARNING:root:Large gap between audio n_frames(135) and target_length (204). Is the audio_target_length setting correct?\n",
            "WARNING:root:Large gap between audio n_frames(110) and target_length (204). Is the audio_target_length setting correct?\n",
            "WARNING:root:Large gap between audio n_frames(110) and target_length (204). Is the audio_target_length setting correct?\n",
            "WARNING:root:Large gap between audio n_frames(110) and target_length (204). Is the audio_target_length setting correct?\n",
            "WARNING:root:Large gap between audio n_frames(148) and target_length (204). Is the audio_target_length setting correct?\n",
            "WARNING:root:Large gap between audio n_frames(148) and target_length (204). Is the audio_target_length setting correct?\n",
            "WARNING:root:Large gap between audio n_frames(148) and target_length (204). Is the audio_target_length setting correct?\n",
            "WARNING:root:Large gap between audio n_frames(124) and target_length (204). Is the audio_target_length setting correct?\n",
            "WARNING:root:Large gap between audio n_frames(124) and target_length (204). Is the audio_target_length setting correct?\n",
            "WARNING:root:Large gap between audio n_frames(124) and target_length (204). Is the audio_target_length setting correct?\n"
          ]
        },
        {
          "output_type": "stream",
          "name": "stdout",
          "text": [
            "Batch 34/64\n",
            "Batch 35/64\n"
          ]
        },
        {
          "output_type": "stream",
          "name": "stderr",
          "text": [
            "WARNING:root:Large gap between audio n_frames(127) and target_length (204). Is the audio_target_length setting correct?\n",
            "WARNING:root:Large gap between audio n_frames(127) and target_length (204). Is the audio_target_length setting correct?\n",
            "WARNING:root:Large gap between audio n_frames(127) and target_length (204). Is the audio_target_length setting correct?\n",
            "WARNING:root:Large gap between audio n_frames(136) and target_length (204). Is the audio_target_length setting correct?\n",
            "WARNING:root:Large gap between audio n_frames(136) and target_length (204). Is the audio_target_length setting correct?\n",
            "WARNING:root:Large gap between audio n_frames(136) and target_length (204). Is the audio_target_length setting correct?\n",
            "WARNING:root:Large gap between audio n_frames(153) and target_length (204). Is the audio_target_length setting correct?\n",
            "WARNING:root:Large gap between audio n_frames(153) and target_length (204). Is the audio_target_length setting correct?\n",
            "WARNING:root:Large gap between audio n_frames(153) and target_length (204). Is the audio_target_length setting correct?\n"
          ]
        },
        {
          "output_type": "stream",
          "name": "stdout",
          "text": [
            "Batch 36/64\n"
          ]
        },
        {
          "output_type": "stream",
          "name": "stderr",
          "text": [
            "WARNING:root:Large gap between audio n_frames(124) and target_length (204). Is the audio_target_length setting correct?\n",
            "WARNING:root:Large gap between audio n_frames(124) and target_length (204). Is the audio_target_length setting correct?\n",
            "WARNING:root:Large gap between audio n_frames(124) and target_length (204). Is the audio_target_length setting correct?\n",
            "WARNING:root:Large gap between audio n_frames(126) and target_length (204). Is the audio_target_length setting correct?\n",
            "WARNING:root:Large gap between audio n_frames(126) and target_length (204). Is the audio_target_length setting correct?\n",
            "WARNING:root:Large gap between audio n_frames(126) and target_length (204). Is the audio_target_length setting correct?\n",
            "WARNING:root:Large gap between audio n_frames(129) and target_length (204). Is the audio_target_length setting correct?\n",
            "WARNING:root:Large gap between audio n_frames(129) and target_length (204). Is the audio_target_length setting correct?\n",
            "WARNING:root:Large gap between audio n_frames(129) and target_length (204). Is the audio_target_length setting correct?\n"
          ]
        },
        {
          "output_type": "stream",
          "name": "stdout",
          "text": [
            "Batch 37/64\n"
          ]
        },
        {
          "output_type": "stream",
          "name": "stderr",
          "text": [
            "WARNING:root:Large gap between audio n_frames(144) and target_length (204). Is the audio_target_length setting correct?\n",
            "WARNING:root:Large gap between audio n_frames(144) and target_length (204). Is the audio_target_length setting correct?\n",
            "WARNING:root:Large gap between audio n_frames(144) and target_length (204). Is the audio_target_length setting correct?\n",
            "WARNING:root:Large gap between audio n_frames(113) and target_length (204). Is the audio_target_length setting correct?\n",
            "WARNING:root:Large gap between audio n_frames(113) and target_length (204). Is the audio_target_length setting correct?\n",
            "WARNING:root:Large gap between audio n_frames(113) and target_length (204). Is the audio_target_length setting correct?\n",
            "WARNING:root:Large gap between audio n_frames(147) and target_length (204). Is the audio_target_length setting correct?\n",
            "WARNING:root:Large gap between audio n_frames(147) and target_length (204). Is the audio_target_length setting correct?\n",
            "WARNING:root:Large gap between audio n_frames(147) and target_length (204). Is the audio_target_length setting correct?\n"
          ]
        },
        {
          "output_type": "stream",
          "name": "stdout",
          "text": [
            "Batch 38/64\n"
          ]
        },
        {
          "output_type": "stream",
          "name": "stderr",
          "text": [
            "WARNING:root:Large gap between audio n_frames(154) and target_length (204). Is the audio_target_length setting correct?\n",
            "WARNING:root:Large gap between audio n_frames(154) and target_length (204). Is the audio_target_length setting correct?\n",
            "WARNING:root:Large gap between audio n_frames(154) and target_length (204). Is the audio_target_length setting correct?\n",
            "WARNING:root:Large gap between audio n_frames(126) and target_length (204). Is the audio_target_length setting correct?\n",
            "WARNING:root:Large gap between audio n_frames(126) and target_length (204). Is the audio_target_length setting correct?\n",
            "WARNING:root:Large gap between audio n_frames(126) and target_length (204). Is the audio_target_length setting correct?\n",
            "WARNING:root:Large gap between audio n_frames(169) and target_length (204). Is the audio_target_length setting correct?\n",
            "WARNING:root:Large gap between audio n_frames(169) and target_length (204). Is the audio_target_length setting correct?\n",
            "WARNING:root:Large gap between audio n_frames(169) and target_length (204). Is the audio_target_length setting correct?\n",
            "WARNING:root:Large gap between audio n_frames(164) and target_length (204). Is the audio_target_length setting correct?\n",
            "WARNING:root:Large gap between audio n_frames(164) and target_length (204). Is the audio_target_length setting correct?\n",
            "WARNING:root:Large gap between audio n_frames(164) and target_length (204). Is the audio_target_length setting correct?\n"
          ]
        },
        {
          "output_type": "stream",
          "name": "stdout",
          "text": [
            "Batch 39/64\n"
          ]
        },
        {
          "output_type": "stream",
          "name": "stderr",
          "text": [
            "WARNING:root:Large gap between audio n_frames(151) and target_length (204). Is the audio_target_length setting correct?\n",
            "WARNING:root:Large gap between audio n_frames(151) and target_length (204). Is the audio_target_length setting correct?\n",
            "WARNING:root:Large gap between audio n_frames(151) and target_length (204). Is the audio_target_length setting correct?\n",
            "WARNING:root:Large gap between audio n_frames(127) and target_length (204). Is the audio_target_length setting correct?\n",
            "WARNING:root:Large gap between audio n_frames(127) and target_length (204). Is the audio_target_length setting correct?\n",
            "WARNING:root:Large gap between audio n_frames(127) and target_length (204). Is the audio_target_length setting correct?\n",
            "WARNING:root:Large gap between audio n_frames(126) and target_length (204). Is the audio_target_length setting correct?\n",
            "WARNING:root:Large gap between audio n_frames(126) and target_length (204). Is the audio_target_length setting correct?\n",
            "WARNING:root:Large gap between audio n_frames(126) and target_length (204). Is the audio_target_length setting correct?\n",
            "WARNING:root:Large gap between audio n_frames(146) and target_length (204). Is the audio_target_length setting correct?\n",
            "WARNING:root:Large gap between audio n_frames(146) and target_length (204). Is the audio_target_length setting correct?\n",
            "WARNING:root:Large gap between audio n_frames(146) and target_length (204). Is the audio_target_length setting correct?\n",
            "WARNING:root:Large gap between audio n_frames(159) and target_length (204). Is the audio_target_length setting correct?\n",
            "WARNING:root:Large gap between audio n_frames(159) and target_length (204). Is the audio_target_length setting correct?\n",
            "WARNING:root:Large gap between audio n_frames(159) and target_length (204). Is the audio_target_length setting correct?\n",
            "WARNING:root:Large gap between audio n_frames(145) and target_length (204). Is the audio_target_length setting correct?\n"
          ]
        },
        {
          "output_type": "stream",
          "name": "stdout",
          "text": [
            "Batch 40/64\n"
          ]
        },
        {
          "output_type": "stream",
          "name": "stderr",
          "text": [
            "WARNING:root:Large gap between audio n_frames(145) and target_length (204). Is the audio_target_length setting correct?\n",
            "WARNING:root:Large gap between audio n_frames(145) and target_length (204). Is the audio_target_length setting correct?\n",
            "WARNING:root:Large gap between audio n_frames(123) and target_length (204). Is the audio_target_length setting correct?\n",
            "WARNING:root:Large gap between audio n_frames(123) and target_length (204). Is the audio_target_length setting correct?\n",
            "WARNING:root:Large gap between audio n_frames(123) and target_length (204). Is the audio_target_length setting correct?\n",
            "WARNING:root:Large gap between audio n_frames(121) and target_length (204). Is the audio_target_length setting correct?\n",
            "WARNING:root:Large gap between audio n_frames(121) and target_length (204). Is the audio_target_length setting correct?\n",
            "WARNING:root:Large gap between audio n_frames(121) and target_length (204). Is the audio_target_length setting correct?\n"
          ]
        },
        {
          "output_type": "stream",
          "name": "stdout",
          "text": [
            "Batch 41/64\n"
          ]
        },
        {
          "output_type": "stream",
          "name": "stderr",
          "text": [
            "WARNING:root:Large gap between audio n_frames(111) and target_length (204). Is the audio_target_length setting correct?\n",
            "WARNING:root:Large gap between audio n_frames(111) and target_length (204). Is the audio_target_length setting correct?\n",
            "WARNING:root:Large gap between audio n_frames(111) and target_length (204). Is the audio_target_length setting correct?\n",
            "WARNING:root:Large gap between audio n_frames(152) and target_length (204). Is the audio_target_length setting correct?\n",
            "WARNING:root:Large gap between audio n_frames(152) and target_length (204). Is the audio_target_length setting correct?\n",
            "WARNING:root:Large gap between audio n_frames(152) and target_length (204). Is the audio_target_length setting correct?\n",
            "WARNING:root:Large gap between audio n_frames(134) and target_length (204). Is the audio_target_length setting correct?\n",
            "WARNING:root:Large gap between audio n_frames(134) and target_length (204). Is the audio_target_length setting correct?\n",
            "WARNING:root:Large gap between audio n_frames(134) and target_length (204). Is the audio_target_length setting correct?\n",
            "WARNING:root:Large gap between audio n_frames(135) and target_length (204). Is the audio_target_length setting correct?\n"
          ]
        },
        {
          "output_type": "stream",
          "name": "stdout",
          "text": [
            "Batch 42/64\n"
          ]
        },
        {
          "output_type": "stream",
          "name": "stderr",
          "text": [
            "WARNING:root:Large gap between audio n_frames(135) and target_length (204). Is the audio_target_length setting correct?\n",
            "WARNING:root:Large gap between audio n_frames(135) and target_length (204). Is the audio_target_length setting correct?\n",
            "WARNING:root:Large gap between audio n_frames(120) and target_length (204). Is the audio_target_length setting correct?\n",
            "WARNING:root:Large gap between audio n_frames(120) and target_length (204). Is the audio_target_length setting correct?\n",
            "WARNING:root:Large gap between audio n_frames(120) and target_length (204). Is the audio_target_length setting correct?\n",
            "WARNING:root:Large gap between audio n_frames(144) and target_length (204). Is the audio_target_length setting correct?\n",
            "WARNING:root:Large gap between audio n_frames(144) and target_length (204). Is the audio_target_length setting correct?\n"
          ]
        },
        {
          "output_type": "stream",
          "name": "stdout",
          "text": [
            "Batch 43/64\n"
          ]
        },
        {
          "output_type": "stream",
          "name": "stderr",
          "text": [
            "WARNING:root:Large gap between audio n_frames(144) and target_length (204). Is the audio_target_length setting correct?\n",
            "WARNING:root:Large gap between audio n_frames(137) and target_length (204). Is the audio_target_length setting correct?\n",
            "WARNING:root:Large gap between audio n_frames(137) and target_length (204). Is the audio_target_length setting correct?\n",
            "WARNING:root:Large gap between audio n_frames(137) and target_length (204). Is the audio_target_length setting correct?\n",
            "WARNING:root:Large gap between audio n_frames(132) and target_length (204). Is the audio_target_length setting correct?\n",
            "WARNING:root:Large gap between audio n_frames(132) and target_length (204). Is the audio_target_length setting correct?\n",
            "WARNING:root:Large gap between audio n_frames(132) and target_length (204). Is the audio_target_length setting correct?\n",
            "WARNING:root:Large gap between audio n_frames(92) and target_length (204). Is the audio_target_length setting correct?\n",
            "WARNING:root:Large gap between audio n_frames(92) and target_length (204). Is the audio_target_length setting correct?\n",
            "WARNING:root:Large gap between audio n_frames(92) and target_length (204). Is the audio_target_length setting correct?\n",
            "WARNING:root:Large gap between audio n_frames(135) and target_length (204). Is the audio_target_length setting correct?\n",
            "WARNING:root:Large gap between audio n_frames(135) and target_length (204). Is the audio_target_length setting correct?\n",
            "WARNING:root:Large gap between audio n_frames(135) and target_length (204). Is the audio_target_length setting correct?\n"
          ]
        },
        {
          "output_type": "stream",
          "name": "stdout",
          "text": [
            "Batch 44/64\n"
          ]
        },
        {
          "output_type": "stream",
          "name": "stderr",
          "text": [
            "WARNING:root:Large gap between audio n_frames(141) and target_length (204). Is the audio_target_length setting correct?\n",
            "WARNING:root:Large gap between audio n_frames(141) and target_length (204). Is the audio_target_length setting correct?\n",
            "WARNING:root:Large gap between audio n_frames(141) and target_length (204). Is the audio_target_length setting correct?\n",
            "WARNING:root:Large gap between audio n_frames(168) and target_length (204). Is the audio_target_length setting correct?\n",
            "WARNING:root:Large gap between audio n_frames(168) and target_length (204). Is the audio_target_length setting correct?\n",
            "WARNING:root:Large gap between audio n_frames(168) and target_length (204). Is the audio_target_length setting correct?\n",
            "WARNING:root:Large gap between audio n_frames(118) and target_length (204). Is the audio_target_length setting correct?\n",
            "WARNING:root:Large gap between audio n_frames(118) and target_length (204). Is the audio_target_length setting correct?\n",
            "WARNING:root:Large gap between audio n_frames(118) and target_length (204). Is the audio_target_length setting correct?\n"
          ]
        },
        {
          "output_type": "stream",
          "name": "stdout",
          "text": [
            "Batch 45/64\n"
          ]
        },
        {
          "output_type": "stream",
          "name": "stderr",
          "text": [
            "WARNING:root:Large gap between audio n_frames(166) and target_length (204). Is the audio_target_length setting correct?\n",
            "WARNING:root:Large gap between audio n_frames(166) and target_length (204). Is the audio_target_length setting correct?\n",
            "WARNING:root:Large gap between audio n_frames(166) and target_length (204). Is the audio_target_length setting correct?\n",
            "WARNING:root:Large gap between audio n_frames(132) and target_length (204). Is the audio_target_length setting correct?\n",
            "WARNING:root:Large gap between audio n_frames(132) and target_length (204). Is the audio_target_length setting correct?\n",
            "WARNING:root:Large gap between audio n_frames(132) and target_length (204). Is the audio_target_length setting correct?\n",
            "WARNING:root:Large gap between audio n_frames(147) and target_length (204). Is the audio_target_length setting correct?\n",
            "WARNING:root:Large gap between audio n_frames(147) and target_length (204). Is the audio_target_length setting correct?\n",
            "WARNING:root:Large gap between audio n_frames(147) and target_length (204). Is the audio_target_length setting correct?\n"
          ]
        },
        {
          "output_type": "stream",
          "name": "stdout",
          "text": [
            "Batch 46/64\n"
          ]
        },
        {
          "output_type": "stream",
          "name": "stderr",
          "text": [
            "WARNING:root:Large gap between audio n_frames(123) and target_length (204). Is the audio_target_length setting correct?\n",
            "WARNING:root:Large gap between audio n_frames(123) and target_length (204). Is the audio_target_length setting correct?\n",
            "WARNING:root:Large gap between audio n_frames(123) and target_length (204). Is the audio_target_length setting correct?\n"
          ]
        },
        {
          "output_type": "stream",
          "name": "stdout",
          "text": [
            "Batch 47/64\n",
            "Batch 48/64\n",
            "Batch 49/64\n",
            "Batch 50/64\n"
          ]
        },
        {
          "output_type": "stream",
          "name": "stderr",
          "text": [
            "WARNING:root:Large gap between audio n_frames(103) and target_length (204). Is the audio_target_length setting correct?\n",
            "WARNING:root:Large gap between audio n_frames(103) and target_length (204). Is the audio_target_length setting correct?\n",
            "WARNING:root:Large gap between audio n_frames(103) and target_length (204). Is the audio_target_length setting correct?\n"
          ]
        },
        {
          "output_type": "stream",
          "name": "stdout",
          "text": [
            "Batch 51/64\n"
          ]
        },
        {
          "output_type": "stream",
          "name": "stderr",
          "text": [
            "WARNING:root:Large gap between audio n_frames(169) and target_length (204). Is the audio_target_length setting correct?\n",
            "WARNING:root:Large gap between audio n_frames(169) and target_length (204). Is the audio_target_length setting correct?\n",
            "WARNING:root:Large gap between audio n_frames(169) and target_length (204). Is the audio_target_length setting correct?\n"
          ]
        },
        {
          "output_type": "stream",
          "name": "stdout",
          "text": [
            "Batch 52/64\n",
            "Batch 53/64\n"
          ]
        },
        {
          "output_type": "stream",
          "name": "stderr",
          "text": [
            "WARNING:root:Large gap between audio n_frames(126) and target_length (204). Is the audio_target_length setting correct?\n",
            "WARNING:root:Large gap between audio n_frames(126) and target_length (204). Is the audio_target_length setting correct?\n",
            "WARNING:root:Large gap between audio n_frames(126) and target_length (204). Is the audio_target_length setting correct?\n",
            "WARNING:root:Large gap between audio n_frames(148) and target_length (204). Is the audio_target_length setting correct?\n",
            "WARNING:root:Large gap between audio n_frames(148) and target_length (204). Is the audio_target_length setting correct?\n",
            "WARNING:root:Large gap between audio n_frames(148) and target_length (204). Is the audio_target_length setting correct?\n"
          ]
        },
        {
          "output_type": "stream",
          "name": "stdout",
          "text": [
            "Batch 54/64\n"
          ]
        },
        {
          "output_type": "stream",
          "name": "stderr",
          "text": [
            "WARNING:root:Large gap between audio n_frames(167) and target_length (204). Is the audio_target_length setting correct?\n",
            "WARNING:root:Large gap between audio n_frames(167) and target_length (204). Is the audio_target_length setting correct?\n",
            "WARNING:root:Large gap between audio n_frames(167) and target_length (204). Is the audio_target_length setting correct?\n"
          ]
        },
        {
          "output_type": "stream",
          "name": "stdout",
          "text": [
            "Batch 55/64\n"
          ]
        },
        {
          "output_type": "stream",
          "name": "stderr",
          "text": [
            "WARNING:root:Large gap between audio n_frames(158) and target_length (204). Is the audio_target_length setting correct?\n",
            "WARNING:root:Large gap between audio n_frames(158) and target_length (204). Is the audio_target_length setting correct?\n",
            "WARNING:root:Large gap between audio n_frames(158) and target_length (204). Is the audio_target_length setting correct?\n"
          ]
        },
        {
          "output_type": "stream",
          "name": "stdout",
          "text": [
            "Batch 56/64\n"
          ]
        },
        {
          "output_type": "stream",
          "name": "stderr",
          "text": [
            "WARNING:root:Large gap between audio n_frames(145) and target_length (204). Is the audio_target_length setting correct?\n",
            "WARNING:root:Large gap between audio n_frames(145) and target_length (204). Is the audio_target_length setting correct?\n",
            "WARNING:root:Large gap between audio n_frames(145) and target_length (204). Is the audio_target_length setting correct?\n"
          ]
        },
        {
          "output_type": "stream",
          "name": "stdout",
          "text": [
            "Batch 57/64\n"
          ]
        },
        {
          "output_type": "stream",
          "name": "stderr",
          "text": [
            "WARNING:root:Large gap between audio n_frames(142) and target_length (204). Is the audio_target_length setting correct?\n",
            "WARNING:root:Large gap between audio n_frames(142) and target_length (204). Is the audio_target_length setting correct?\n",
            "WARNING:root:Large gap between audio n_frames(142) and target_length (204). Is the audio_target_length setting correct?\n"
          ]
        },
        {
          "output_type": "stream",
          "name": "stdout",
          "text": [
            "Batch 58/64\n"
          ]
        },
        {
          "output_type": "stream",
          "name": "stderr",
          "text": [
            "WARNING:root:Large gap between audio n_frames(137) and target_length (204). Is the audio_target_length setting correct?\n",
            "WARNING:root:Large gap between audio n_frames(137) and target_length (204). Is the audio_target_length setting correct?\n",
            "WARNING:root:Large gap between audio n_frames(137) and target_length (204). Is the audio_target_length setting correct?\n",
            "WARNING:root:Large gap between audio n_frames(163) and target_length (204). Is the audio_target_length setting correct?\n",
            "WARNING:root:Large gap between audio n_frames(163) and target_length (204). Is the audio_target_length setting correct?\n",
            "WARNING:root:Large gap between audio n_frames(163) and target_length (204). Is the audio_target_length setting correct?\n"
          ]
        },
        {
          "output_type": "stream",
          "name": "stdout",
          "text": [
            "Batch 59/64\n"
          ]
        },
        {
          "output_type": "stream",
          "name": "stderr",
          "text": [
            "WARNING:root:Large gap between audio n_frames(153) and target_length (204). Is the audio_target_length setting correct?\n",
            "WARNING:root:Large gap between audio n_frames(153) and target_length (204). Is the audio_target_length setting correct?\n",
            "WARNING:root:Large gap between audio n_frames(153) and target_length (204). Is the audio_target_length setting correct?\n",
            "WARNING:root:Large gap between audio n_frames(117) and target_length (204). Is the audio_target_length setting correct?\n",
            "WARNING:root:Large gap between audio n_frames(117) and target_length (204). Is the audio_target_length setting correct?\n",
            "WARNING:root:Large gap between audio n_frames(117) and target_length (204). Is the audio_target_length setting correct?\n",
            "WARNING:root:Large gap between audio n_frames(134) and target_length (204). Is the audio_target_length setting correct?\n",
            "WARNING:root:Large gap between audio n_frames(134) and target_length (204). Is the audio_target_length setting correct?\n",
            "WARNING:root:Large gap between audio n_frames(134) and target_length (204). Is the audio_target_length setting correct?\n",
            "WARNING:root:Large gap between audio n_frames(128) and target_length (204). Is the audio_target_length setting correct?\n",
            "WARNING:root:Large gap between audio n_frames(128) and target_length (204). Is the audio_target_length setting correct?\n",
            "WARNING:root:Large gap between audio n_frames(128) and target_length (204). Is the audio_target_length setting correct?\n"
          ]
        },
        {
          "output_type": "stream",
          "name": "stdout",
          "text": [
            "Batch 60/64\n"
          ]
        },
        {
          "output_type": "stream",
          "name": "stderr",
          "text": [
            "WARNING:root:Large gap between audio n_frames(135) and target_length (204). Is the audio_target_length setting correct?\n",
            "WARNING:root:Large gap between audio n_frames(135) and target_length (204). Is the audio_target_length setting correct?\n",
            "WARNING:root:Large gap between audio n_frames(135) and target_length (204). Is the audio_target_length setting correct?\n"
          ]
        },
        {
          "output_type": "stream",
          "name": "stdout",
          "text": [
            "Batch 61/64\n"
          ]
        },
        {
          "output_type": "stream",
          "name": "stderr",
          "text": [
            "WARNING:root:Large gap between audio n_frames(158) and target_length (204). Is the audio_target_length setting correct?\n",
            "WARNING:root:Large gap between audio n_frames(158) and target_length (204). Is the audio_target_length setting correct?\n",
            "WARNING:root:Large gap between audio n_frames(158) and target_length (204). Is the audio_target_length setting correct?\n",
            "WARNING:root:Large gap between audio n_frames(116) and target_length (204). Is the audio_target_length setting correct?\n",
            "WARNING:root:Large gap between audio n_frames(116) and target_length (204). Is the audio_target_length setting correct?\n",
            "WARNING:root:Large gap between audio n_frames(116) and target_length (204). Is the audio_target_length setting correct?\n",
            "WARNING:root:Large gap between audio n_frames(131) and target_length (204). Is the audio_target_length setting correct?\n",
            "WARNING:root:Large gap between audio n_frames(131) and target_length (204). Is the audio_target_length setting correct?\n",
            "WARNING:root:Large gap between audio n_frames(131) and target_length (204). Is the audio_target_length setting correct?\n",
            "WARNING:root:Large gap between audio n_frames(112) and target_length (204). Is the audio_target_length setting correct?\n",
            "WARNING:root:Large gap between audio n_frames(112) and target_length (204). Is the audio_target_length setting correct?\n",
            "WARNING:root:Large gap between audio n_frames(112) and target_length (204). Is the audio_target_length setting correct?\n"
          ]
        },
        {
          "output_type": "stream",
          "name": "stdout",
          "text": [
            "Batch 62/64\n",
            "Batch 63/64\n"
          ]
        },
        {
          "output_type": "stream",
          "name": "stderr",
          "text": [
            "WARNING:root:Large gap between audio n_frames(120) and target_length (204). Is the audio_target_length setting correct?\n",
            "WARNING:root:Large gap between audio n_frames(120) and target_length (204). Is the audio_target_length setting correct?\n",
            "WARNING:root:Large gap between audio n_frames(120) and target_length (204). Is the audio_target_length setting correct?\n",
            "WARNING:root:Large gap between audio n_frames(164) and target_length (204). Is the audio_target_length setting correct?\n",
            "WARNING:root:Large gap between audio n_frames(164) and target_length (204). Is the audio_target_length setting correct?\n",
            "WARNING:root:Large gap between audio n_frames(164) and target_length (204). Is the audio_target_length setting correct?\n",
            "WARNING:root:Large gap between audio n_frames(166) and target_length (204). Is the audio_target_length setting correct?\n",
            "WARNING:root:Large gap between audio n_frames(166) and target_length (204). Is the audio_target_length setting correct?\n",
            "WARNING:root:Large gap between audio n_frames(166) and target_length (204). Is the audio_target_length setting correct?\n"
          ]
        },
        {
          "output_type": "stream",
          "name": "stdout",
          "text": [
            "Batch 64/64\n"
          ]
        },
        {
          "output_type": "stream",
          "name": "stderr",
          "text": [
            "WARNING:root:Large gap between audio n_frames(168) and target_length (204). Is the audio_target_length setting correct?\n",
            "WARNING:root:Large gap between audio n_frames(168) and target_length (204). Is the audio_target_length setting correct?\n",
            "WARNING:root:Large gap between audio n_frames(168) and target_length (204). Is the audio_target_length setting correct?\n"
          ]
        },
        {
          "output_type": "stream",
          "name": "stdout",
          "text": [
            "Processing session Session2......\n",
            "Batch 1/64\n"
          ]
        },
        {
          "output_type": "stream",
          "name": "stderr",
          "text": [
            "WARNING:root:Large gap between audio n_frames(141) and target_length (204). Is the audio_target_length setting correct?\n",
            "WARNING:root:Large gap between audio n_frames(141) and target_length (204). Is the audio_target_length setting correct?\n",
            "WARNING:root:Large gap between audio n_frames(141) and target_length (204). Is the audio_target_length setting correct?\n",
            "WARNING:root:Large gap between audio n_frames(144) and target_length (204). Is the audio_target_length setting correct?\n",
            "WARNING:root:Large gap between audio n_frames(144) and target_length (204). Is the audio_target_length setting correct?\n",
            "WARNING:root:Large gap between audio n_frames(144) and target_length (204). Is the audio_target_length setting correct?\n",
            "WARNING:root:Large gap between audio n_frames(117) and target_length (204). Is the audio_target_length setting correct?\n",
            "WARNING:root:Large gap between audio n_frames(117) and target_length (204). Is the audio_target_length setting correct?\n",
            "WARNING:root:Large gap between audio n_frames(117) and target_length (204). Is the audio_target_length setting correct?\n",
            "WARNING:root:Large gap between audio n_frames(155) and target_length (204). Is the audio_target_length setting correct?\n",
            "WARNING:root:Large gap between audio n_frames(155) and target_length (204). Is the audio_target_length setting correct?\n",
            "WARNING:root:Large gap between audio n_frames(155) and target_length (204). Is the audio_target_length setting correct?\n"
          ]
        },
        {
          "output_type": "stream",
          "name": "stdout",
          "text": [
            "Batch 2/64\n"
          ]
        },
        {
          "output_type": "stream",
          "name": "stderr",
          "text": [
            "WARNING:root:Large gap between audio n_frames(152) and target_length (204). Is the audio_target_length setting correct?\n",
            "WARNING:root:Large gap between audio n_frames(152) and target_length (204). Is the audio_target_length setting correct?\n",
            "WARNING:root:Large gap between audio n_frames(152) and target_length (204). Is the audio_target_length setting correct?\n"
          ]
        },
        {
          "output_type": "stream",
          "name": "stdout",
          "text": [
            "Batch 3/64\n"
          ]
        },
        {
          "output_type": "stream",
          "name": "stderr",
          "text": [
            "WARNING:root:Large gap between audio n_frames(140) and target_length (204). Is the audio_target_length setting correct?\n",
            "WARNING:root:Large gap between audio n_frames(140) and target_length (204). Is the audio_target_length setting correct?\n",
            "WARNING:root:Large gap between audio n_frames(140) and target_length (204). Is the audio_target_length setting correct?\n"
          ]
        },
        {
          "output_type": "stream",
          "name": "stdout",
          "text": [
            "Batch 4/64\n"
          ]
        },
        {
          "output_type": "stream",
          "name": "stderr",
          "text": [
            "WARNING:root:Large gap between audio n_frames(166) and target_length (204). Is the audio_target_length setting correct?\n",
            "WARNING:root:Large gap between audio n_frames(166) and target_length (204). Is the audio_target_length setting correct?\n",
            "WARNING:root:Large gap between audio n_frames(166) and target_length (204). Is the audio_target_length setting correct?\n",
            "WARNING:root:Large gap between audio n_frames(142) and target_length (204). Is the audio_target_length setting correct?\n",
            "WARNING:root:Large gap between audio n_frames(142) and target_length (204). Is the audio_target_length setting correct?\n",
            "WARNING:root:Large gap between audio n_frames(142) and target_length (204). Is the audio_target_length setting correct?\n",
            "WARNING:root:Large gap between audio n_frames(143) and target_length (204). Is the audio_target_length setting correct?\n",
            "WARNING:root:Large gap between audio n_frames(143) and target_length (204). Is the audio_target_length setting correct?\n"
          ]
        },
        {
          "output_type": "stream",
          "name": "stdout",
          "text": [
            "Batch 5/64\n"
          ]
        },
        {
          "output_type": "stream",
          "name": "stderr",
          "text": [
            "WARNING:root:Large gap between audio n_frames(143) and target_length (204). Is the audio_target_length setting correct?\n"
          ]
        },
        {
          "output_type": "stream",
          "name": "stdout",
          "text": [
            "Batch 6/64\n"
          ]
        },
        {
          "output_type": "stream",
          "name": "stderr",
          "text": [
            "WARNING:root:Large gap between audio n_frames(109) and target_length (204). Is the audio_target_length setting correct?\n",
            "WARNING:root:Large gap between audio n_frames(109) and target_length (204). Is the audio_target_length setting correct?\n",
            "WARNING:root:Large gap between audio n_frames(109) and target_length (204). Is the audio_target_length setting correct?\n",
            "WARNING:root:Large gap between audio n_frames(134) and target_length (204). Is the audio_target_length setting correct?\n",
            "WARNING:root:Large gap between audio n_frames(134) and target_length (204). Is the audio_target_length setting correct?\n",
            "WARNING:root:Large gap between audio n_frames(134) and target_length (204). Is the audio_target_length setting correct?\n",
            "WARNING:root:Large gap between audio n_frames(144) and target_length (204). Is the audio_target_length setting correct?\n",
            "WARNING:root:Large gap between audio n_frames(144) and target_length (204). Is the audio_target_length setting correct?\n",
            "WARNING:root:Large gap between audio n_frames(144) and target_length (204). Is the audio_target_length setting correct?\n"
          ]
        },
        {
          "output_type": "stream",
          "name": "stdout",
          "text": [
            "Batch 7/64\n"
          ]
        },
        {
          "output_type": "stream",
          "name": "stderr",
          "text": [
            "WARNING:root:Large gap between audio n_frames(115) and target_length (204). Is the audio_target_length setting correct?\n",
            "WARNING:root:Large gap between audio n_frames(115) and target_length (204). Is the audio_target_length setting correct?\n",
            "WARNING:root:Large gap between audio n_frames(115) and target_length (204). Is the audio_target_length setting correct?\n"
          ]
        },
        {
          "output_type": "stream",
          "name": "stdout",
          "text": [
            "Batch 8/64\n"
          ]
        },
        {
          "output_type": "stream",
          "name": "stderr",
          "text": [
            "WARNING:root:Large gap between audio n_frames(162) and target_length (204). Is the audio_target_length setting correct?\n",
            "WARNING:root:Large gap between audio n_frames(162) and target_length (204). Is the audio_target_length setting correct?\n",
            "WARNING:root:Large gap between audio n_frames(162) and target_length (204). Is the audio_target_length setting correct?\n",
            "WARNING:root:Large gap between audio n_frames(122) and target_length (204). Is the audio_target_length setting correct?\n",
            "WARNING:root:Large gap between audio n_frames(122) and target_length (204). Is the audio_target_length setting correct?\n",
            "WARNING:root:Large gap between audio n_frames(122) and target_length (204). Is the audio_target_length setting correct?\n",
            "WARNING:root:Large gap between audio n_frames(131) and target_length (204). Is the audio_target_length setting correct?\n",
            "WARNING:root:Large gap between audio n_frames(131) and target_length (204). Is the audio_target_length setting correct?\n",
            "WARNING:root:Large gap between audio n_frames(131) and target_length (204). Is the audio_target_length setting correct?\n"
          ]
        },
        {
          "output_type": "stream",
          "name": "stdout",
          "text": [
            "Batch 9/64\n"
          ]
        },
        {
          "output_type": "stream",
          "name": "stderr",
          "text": [
            "WARNING:root:Large gap between audio n_frames(118) and target_length (204). Is the audio_target_length setting correct?\n",
            "WARNING:root:Large gap between audio n_frames(118) and target_length (204). Is the audio_target_length setting correct?\n",
            "WARNING:root:Large gap between audio n_frames(118) and target_length (204). Is the audio_target_length setting correct?\n",
            "WARNING:root:Large gap between audio n_frames(109) and target_length (204). Is the audio_target_length setting correct?\n",
            "WARNING:root:Large gap between audio n_frames(109) and target_length (204). Is the audio_target_length setting correct?\n",
            "WARNING:root:Large gap between audio n_frames(109) and target_length (204). Is the audio_target_length setting correct?\n"
          ]
        },
        {
          "output_type": "stream",
          "name": "stdout",
          "text": [
            "Batch 10/64\n"
          ]
        },
        {
          "output_type": "stream",
          "name": "stderr",
          "text": [
            "WARNING:root:Large gap between audio n_frames(167) and target_length (204). Is the audio_target_length setting correct?\n",
            "WARNING:root:Large gap between audio n_frames(167) and target_length (204). Is the audio_target_length setting correct?\n",
            "WARNING:root:Large gap between audio n_frames(167) and target_length (204). Is the audio_target_length setting correct?\n",
            "WARNING:root:Large gap between audio n_frames(128) and target_length (204). Is the audio_target_length setting correct?\n",
            "WARNING:root:Large gap between audio n_frames(128) and target_length (204). Is the audio_target_length setting correct?\n",
            "WARNING:root:Large gap between audio n_frames(128) and target_length (204). Is the audio_target_length setting correct?\n",
            "WARNING:root:Large gap between audio n_frames(105) and target_length (204). Is the audio_target_length setting correct?\n",
            "WARNING:root:Large gap between audio n_frames(105) and target_length (204). Is the audio_target_length setting correct?\n",
            "WARNING:root:Large gap between audio n_frames(105) and target_length (204). Is the audio_target_length setting correct?\n",
            "WARNING:root:Large gap between audio n_frames(162) and target_length (204). Is the audio_target_length setting correct?\n",
            "WARNING:root:Large gap between audio n_frames(162) and target_length (204). Is the audio_target_length setting correct?\n",
            "WARNING:root:Large gap between audio n_frames(162) and target_length (204). Is the audio_target_length setting correct?\n"
          ]
        },
        {
          "output_type": "stream",
          "name": "stdout",
          "text": [
            "Batch 11/64\n"
          ]
        },
        {
          "output_type": "stream",
          "name": "stderr",
          "text": [
            "WARNING:root:Large gap between audio n_frames(164) and target_length (204). Is the audio_target_length setting correct?\n",
            "WARNING:root:Large gap between audio n_frames(164) and target_length (204). Is the audio_target_length setting correct?\n",
            "WARNING:root:Large gap between audio n_frames(164) and target_length (204). Is the audio_target_length setting correct?\n",
            "WARNING:root:Large gap between audio n_frames(140) and target_length (204). Is the audio_target_length setting correct?\n",
            "WARNING:root:Large gap between audio n_frames(140) and target_length (204). Is the audio_target_length setting correct?\n",
            "WARNING:root:Large gap between audio n_frames(140) and target_length (204). Is the audio_target_length setting correct?\n",
            "WARNING:root:Large gap between audio n_frames(120) and target_length (204). Is the audio_target_length setting correct?\n",
            "WARNING:root:Large gap between audio n_frames(120) and target_length (204). Is the audio_target_length setting correct?\n",
            "WARNING:root:Large gap between audio n_frames(120) and target_length (204). Is the audio_target_length setting correct?\n",
            "WARNING:root:Large gap between audio n_frames(130) and target_length (204). Is the audio_target_length setting correct?\n",
            "WARNING:root:Large gap between audio n_frames(130) and target_length (204). Is the audio_target_length setting correct?\n",
            "WARNING:root:Large gap between audio n_frames(130) and target_length (204). Is the audio_target_length setting correct?\n",
            "WARNING:root:Large gap between audio n_frames(112) and target_length (204). Is the audio_target_length setting correct?\n",
            "WARNING:root:Large gap between audio n_frames(112) and target_length (204). Is the audio_target_length setting correct?\n",
            "WARNING:root:Large gap between audio n_frames(112) and target_length (204). Is the audio_target_length setting correct?\n",
            "WARNING:root:Large gap between audio n_frames(131) and target_length (204). Is the audio_target_length setting correct?\n",
            "WARNING:root:Large gap between audio n_frames(131) and target_length (204). Is the audio_target_length setting correct?\n",
            "WARNING:root:Large gap between audio n_frames(131) and target_length (204). Is the audio_target_length setting correct?\n",
            "WARNING:root:Large gap between audio n_frames(111) and target_length (204). Is the audio_target_length setting correct?\n",
            "WARNING:root:Large gap between audio n_frames(111) and target_length (204). Is the audio_target_length setting correct?\n",
            "WARNING:root:Large gap between audio n_frames(111) and target_length (204). Is the audio_target_length setting correct?\n",
            "WARNING:root:Large gap between audio n_frames(108) and target_length (204). Is the audio_target_length setting correct?\n",
            "WARNING:root:Large gap between audio n_frames(108) and target_length (204). Is the audio_target_length setting correct?\n",
            "WARNING:root:Large gap between audio n_frames(108) and target_length (204). Is the audio_target_length setting correct?\n",
            "WARNING:root:Large gap between audio n_frames(157) and target_length (204). Is the audio_target_length setting correct?\n",
            "WARNING:root:Large gap between audio n_frames(157) and target_length (204). Is the audio_target_length setting correct?\n",
            "WARNING:root:Large gap between audio n_frames(157) and target_length (204). Is the audio_target_length setting correct?\n",
            "WARNING:root:Large gap between audio n_frames(135) and target_length (204). Is the audio_target_length setting correct?\n",
            "WARNING:root:Large gap between audio n_frames(135) and target_length (204). Is the audio_target_length setting correct?\n",
            "WARNING:root:Large gap between audio n_frames(135) and target_length (204). Is the audio_target_length setting correct?\n",
            "WARNING:root:Large gap between audio n_frames(89) and target_length (204). Is the audio_target_length setting correct?\n",
            "WARNING:root:Large gap between audio n_frames(89) and target_length (204). Is the audio_target_length setting correct?\n",
            "WARNING:root:Large gap between audio n_frames(89) and target_length (204). Is the audio_target_length setting correct?\n",
            "WARNING:root:Large gap between audio n_frames(129) and target_length (204). Is the audio_target_length setting correct?\n",
            "WARNING:root:Large gap between audio n_frames(129) and target_length (204). Is the audio_target_length setting correct?\n",
            "WARNING:root:Large gap between audio n_frames(129) and target_length (204). Is the audio_target_length setting correct?\n",
            "WARNING:root:Large gap between audio n_frames(167) and target_length (204). Is the audio_target_length setting correct?\n",
            "WARNING:root:Large gap between audio n_frames(167) and target_length (204). Is the audio_target_length setting correct?\n",
            "WARNING:root:Large gap between audio n_frames(167) and target_length (204). Is the audio_target_length setting correct?\n"
          ]
        },
        {
          "output_type": "stream",
          "name": "stdout",
          "text": [
            "Batch 12/64\n"
          ]
        },
        {
          "output_type": "stream",
          "name": "stderr",
          "text": [
            "WARNING:root:Large gap between audio n_frames(129) and target_length (204). Is the audio_target_length setting correct?\n",
            "WARNING:root:Large gap between audio n_frames(129) and target_length (204). Is the audio_target_length setting correct?\n",
            "WARNING:root:Large gap between audio n_frames(129) and target_length (204). Is the audio_target_length setting correct?\n",
            "WARNING:root:Large gap between audio n_frames(169) and target_length (204). Is the audio_target_length setting correct?\n",
            "WARNING:root:Large gap between audio n_frames(169) and target_length (204). Is the audio_target_length setting correct?\n",
            "WARNING:root:Large gap between audio n_frames(169) and target_length (204). Is the audio_target_length setting correct?\n",
            "WARNING:root:Large gap between audio n_frames(109) and target_length (204). Is the audio_target_length setting correct?\n",
            "WARNING:root:Large gap between audio n_frames(109) and target_length (204). Is the audio_target_length setting correct?\n",
            "WARNING:root:Large gap between audio n_frames(109) and target_length (204). Is the audio_target_length setting correct?\n",
            "WARNING:root:Large gap between audio n_frames(138) and target_length (204). Is the audio_target_length setting correct?\n",
            "WARNING:root:Large gap between audio n_frames(138) and target_length (204). Is the audio_target_length setting correct?\n",
            "WARNING:root:Large gap between audio n_frames(138) and target_length (204). Is the audio_target_length setting correct?\n",
            "WARNING:root:Large gap between audio n_frames(147) and target_length (204). Is the audio_target_length setting correct?\n",
            "WARNING:root:Large gap between audio n_frames(147) and target_length (204). Is the audio_target_length setting correct?\n",
            "WARNING:root:Large gap between audio n_frames(147) and target_length (204). Is the audio_target_length setting correct?\n"
          ]
        },
        {
          "output_type": "stream",
          "name": "stdout",
          "text": [
            "Batch 13/64\n"
          ]
        },
        {
          "output_type": "stream",
          "name": "stderr",
          "text": [
            "WARNING:root:Large gap between audio n_frames(142) and target_length (204). Is the audio_target_length setting correct?\n",
            "WARNING:root:Large gap between audio n_frames(142) and target_length (204). Is the audio_target_length setting correct?\n",
            "WARNING:root:Large gap between audio n_frames(142) and target_length (204). Is the audio_target_length setting correct?\n",
            "WARNING:root:Large gap between audio n_frames(109) and target_length (204). Is the audio_target_length setting correct?\n",
            "WARNING:root:Large gap between audio n_frames(109) and target_length (204). Is the audio_target_length setting correct?\n",
            "WARNING:root:Large gap between audio n_frames(109) and target_length (204). Is the audio_target_length setting correct?\n",
            "WARNING:root:Large gap between audio n_frames(167) and target_length (204). Is the audio_target_length setting correct?\n",
            "WARNING:root:Large gap between audio n_frames(167) and target_length (204). Is the audio_target_length setting correct?\n",
            "WARNING:root:Large gap between audio n_frames(167) and target_length (204). Is the audio_target_length setting correct?\n",
            "WARNING:root:Large gap between audio n_frames(155) and target_length (204). Is the audio_target_length setting correct?\n",
            "WARNING:root:Large gap between audio n_frames(155) and target_length (204). Is the audio_target_length setting correct?\n",
            "WARNING:root:Large gap between audio n_frames(155) and target_length (204). Is the audio_target_length setting correct?\n",
            "WARNING:root:Large gap between audio n_frames(128) and target_length (204). Is the audio_target_length setting correct?\n",
            "WARNING:root:Large gap between audio n_frames(128) and target_length (204). Is the audio_target_length setting correct?\n",
            "WARNING:root:Large gap between audio n_frames(128) and target_length (204). Is the audio_target_length setting correct?\n"
          ]
        },
        {
          "output_type": "stream",
          "name": "stdout",
          "text": [
            "Batch 14/64\n"
          ]
        },
        {
          "output_type": "stream",
          "name": "stderr",
          "text": [
            "WARNING:root:Large gap between audio n_frames(143) and target_length (204). Is the audio_target_length setting correct?\n",
            "WARNING:root:Large gap between audio n_frames(143) and target_length (204). Is the audio_target_length setting correct?\n",
            "WARNING:root:Large gap between audio n_frames(143) and target_length (204). Is the audio_target_length setting correct?\n",
            "WARNING:root:Large gap between audio n_frames(139) and target_length (204). Is the audio_target_length setting correct?\n",
            "WARNING:root:Large gap between audio n_frames(139) and target_length (204). Is the audio_target_length setting correct?\n",
            "WARNING:root:Large gap between audio n_frames(139) and target_length (204). Is the audio_target_length setting correct?\n",
            "WARNING:root:Large gap between audio n_frames(143) and target_length (204). Is the audio_target_length setting correct?\n",
            "WARNING:root:Large gap between audio n_frames(143) and target_length (204). Is the audio_target_length setting correct?\n",
            "WARNING:root:Large gap between audio n_frames(143) and target_length (204). Is the audio_target_length setting correct?\n"
          ]
        },
        {
          "output_type": "stream",
          "name": "stdout",
          "text": [
            "Batch 15/64\n"
          ]
        },
        {
          "output_type": "stream",
          "name": "stderr",
          "text": [
            "WARNING:root:Large gap between audio n_frames(153) and target_length (204). Is the audio_target_length setting correct?\n",
            "WARNING:root:Large gap between audio n_frames(153) and target_length (204). Is the audio_target_length setting correct?\n",
            "WARNING:root:Large gap between audio n_frames(153) and target_length (204). Is the audio_target_length setting correct?\n",
            "WARNING:root:Large gap between audio n_frames(167) and target_length (204). Is the audio_target_length setting correct?\n",
            "WARNING:root:Large gap between audio n_frames(167) and target_length (204). Is the audio_target_length setting correct?\n",
            "WARNING:root:Large gap between audio n_frames(167) and target_length (204). Is the audio_target_length setting correct?\n",
            "WARNING:root:Large gap between audio n_frames(162) and target_length (204). Is the audio_target_length setting correct?\n",
            "WARNING:root:Large gap between audio n_frames(162) and target_length (204). Is the audio_target_length setting correct?\n",
            "WARNING:root:Large gap between audio n_frames(162) and target_length (204). Is the audio_target_length setting correct?\n"
          ]
        },
        {
          "output_type": "stream",
          "name": "stdout",
          "text": [
            "Batch 16/64\n"
          ]
        },
        {
          "output_type": "stream",
          "name": "stderr",
          "text": [
            "WARNING:root:Large gap between audio n_frames(133) and target_length (204). Is the audio_target_length setting correct?\n",
            "WARNING:root:Large gap between audio n_frames(133) and target_length (204). Is the audio_target_length setting correct?\n",
            "WARNING:root:Large gap between audio n_frames(133) and target_length (204). Is the audio_target_length setting correct?\n",
            "WARNING:root:Large gap between audio n_frames(130) and target_length (204). Is the audio_target_length setting correct?\n",
            "WARNING:root:Large gap between audio n_frames(130) and target_length (204). Is the audio_target_length setting correct?\n",
            "WARNING:root:Large gap between audio n_frames(130) and target_length (204). Is the audio_target_length setting correct?\n",
            "WARNING:root:Large gap between audio n_frames(162) and target_length (204). Is the audio_target_length setting correct?\n",
            "WARNING:root:Large gap between audio n_frames(162) and target_length (204). Is the audio_target_length setting correct?\n",
            "WARNING:root:Large gap between audio n_frames(162) and target_length (204). Is the audio_target_length setting correct?\n",
            "WARNING:root:Large gap between audio n_frames(136) and target_length (204). Is the audio_target_length setting correct?\n",
            "WARNING:root:Large gap between audio n_frames(136) and target_length (204). Is the audio_target_length setting correct?\n",
            "WARNING:root:Large gap between audio n_frames(136) and target_length (204). Is the audio_target_length setting correct?\n",
            "WARNING:root:Large gap between audio n_frames(156) and target_length (204). Is the audio_target_length setting correct?\n",
            "WARNING:root:Large gap between audio n_frames(156) and target_length (204). Is the audio_target_length setting correct?\n",
            "WARNING:root:Large gap between audio n_frames(156) and target_length (204). Is the audio_target_length setting correct?\n"
          ]
        },
        {
          "output_type": "stream",
          "name": "stdout",
          "text": [
            "Batch 17/64\n"
          ]
        },
        {
          "output_type": "stream",
          "name": "stderr",
          "text": [
            "WARNING:root:Large gap between audio n_frames(111) and target_length (204). Is the audio_target_length setting correct?\n",
            "WARNING:root:Large gap between audio n_frames(111) and target_length (204). Is the audio_target_length setting correct?\n",
            "WARNING:root:Large gap between audio n_frames(111) and target_length (204). Is the audio_target_length setting correct?\n",
            "WARNING:root:Large gap between audio n_frames(162) and target_length (204). Is the audio_target_length setting correct?\n",
            "WARNING:root:Large gap between audio n_frames(162) and target_length (204). Is the audio_target_length setting correct?\n",
            "WARNING:root:Large gap between audio n_frames(162) and target_length (204). Is the audio_target_length setting correct?\n"
          ]
        },
        {
          "output_type": "stream",
          "name": "stdout",
          "text": [
            "Batch 18/64\n"
          ]
        },
        {
          "output_type": "stream",
          "name": "stderr",
          "text": [
            "WARNING:root:Large gap between audio n_frames(125) and target_length (204). Is the audio_target_length setting correct?\n",
            "WARNING:root:Large gap between audio n_frames(125) and target_length (204). Is the audio_target_length setting correct?\n",
            "WARNING:root:Large gap between audio n_frames(125) and target_length (204). Is the audio_target_length setting correct?\n",
            "WARNING:root:Large gap between audio n_frames(165) and target_length (204). Is the audio_target_length setting correct?\n",
            "WARNING:root:Large gap between audio n_frames(165) and target_length (204). Is the audio_target_length setting correct?\n",
            "WARNING:root:Large gap between audio n_frames(165) and target_length (204). Is the audio_target_length setting correct?\n",
            "WARNING:root:Large gap between audio n_frames(65) and target_length (204). Is the audio_target_length setting correct?\n",
            "WARNING:root:Large gap between audio n_frames(65) and target_length (204). Is the audio_target_length setting correct?\n",
            "WARNING:root:Large gap between audio n_frames(65) and target_length (204). Is the audio_target_length setting correct?\n"
          ]
        },
        {
          "output_type": "stream",
          "name": "stdout",
          "text": [
            "Batch 19/64\n"
          ]
        },
        {
          "output_type": "stream",
          "name": "stderr",
          "text": [
            "WARNING:root:Large gap between audio n_frames(160) and target_length (204). Is the audio_target_length setting correct?\n",
            "WARNING:root:Large gap between audio n_frames(160) and target_length (204). Is the audio_target_length setting correct?\n",
            "WARNING:root:Large gap between audio n_frames(160) and target_length (204). Is the audio_target_length setting correct?\n",
            "WARNING:root:Large gap between audio n_frames(140) and target_length (204). Is the audio_target_length setting correct?\n",
            "WARNING:root:Large gap between audio n_frames(140) and target_length (204). Is the audio_target_length setting correct?\n",
            "WARNING:root:Large gap between audio n_frames(140) and target_length (204). Is the audio_target_length setting correct?\n",
            "WARNING:root:Large gap between audio n_frames(168) and target_length (204). Is the audio_target_length setting correct?\n",
            "WARNING:root:Large gap between audio n_frames(168) and target_length (204). Is the audio_target_length setting correct?\n",
            "WARNING:root:Large gap between audio n_frames(168) and target_length (204). Is the audio_target_length setting correct?\n",
            "WARNING:root:Large gap between audio n_frames(163) and target_length (204). Is the audio_target_length setting correct?\n",
            "WARNING:root:Large gap between audio n_frames(163) and target_length (204). Is the audio_target_length setting correct?\n",
            "WARNING:root:Large gap between audio n_frames(163) and target_length (204). Is the audio_target_length setting correct?\n",
            "WARNING:root:Large gap between audio n_frames(111) and target_length (204). Is the audio_target_length setting correct?\n",
            "WARNING:root:Large gap between audio n_frames(111) and target_length (204). Is the audio_target_length setting correct?\n",
            "WARNING:root:Large gap between audio n_frames(111) and target_length (204). Is the audio_target_length setting correct?\n",
            "WARNING:root:Large gap between audio n_frames(90) and target_length (204). Is the audio_target_length setting correct?\n",
            "WARNING:root:Large gap between audio n_frames(90) and target_length (204). Is the audio_target_length setting correct?\n",
            "WARNING:root:Large gap between audio n_frames(90) and target_length (204). Is the audio_target_length setting correct?\n",
            "WARNING:root:Large gap between audio n_frames(92) and target_length (204). Is the audio_target_length setting correct?\n",
            "WARNING:root:Large gap between audio n_frames(92) and target_length (204). Is the audio_target_length setting correct?\n",
            "WARNING:root:Large gap between audio n_frames(92) and target_length (204). Is the audio_target_length setting correct?\n",
            "WARNING:root:Large gap between audio n_frames(117) and target_length (204). Is the audio_target_length setting correct?\n"
          ]
        },
        {
          "output_type": "stream",
          "name": "stdout",
          "text": [
            "Batch 20/64\n"
          ]
        },
        {
          "output_type": "stream",
          "name": "stderr",
          "text": [
            "WARNING:root:Large gap between audio n_frames(117) and target_length (204). Is the audio_target_length setting correct?\n",
            "WARNING:root:Large gap between audio n_frames(117) and target_length (204). Is the audio_target_length setting correct?\n",
            "WARNING:root:Large gap between audio n_frames(127) and target_length (204). Is the audio_target_length setting correct?\n",
            "WARNING:root:Large gap between audio n_frames(127) and target_length (204). Is the audio_target_length setting correct?\n",
            "WARNING:root:Large gap between audio n_frames(127) and target_length (204). Is the audio_target_length setting correct?\n",
            "WARNING:root:Large gap between audio n_frames(155) and target_length (204). Is the audio_target_length setting correct?\n",
            "WARNING:root:Large gap between audio n_frames(155) and target_length (204). Is the audio_target_length setting correct?\n",
            "WARNING:root:Large gap between audio n_frames(155) and target_length (204). Is the audio_target_length setting correct?\n",
            "WARNING:root:Large gap between audio n_frames(132) and target_length (204). Is the audio_target_length setting correct?\n",
            "WARNING:root:Large gap between audio n_frames(132) and target_length (204). Is the audio_target_length setting correct?\n",
            "WARNING:root:Large gap between audio n_frames(132) and target_length (204). Is the audio_target_length setting correct?\n",
            "WARNING:root:Large gap between audio n_frames(116) and target_length (204). Is the audio_target_length setting correct?\n",
            "WARNING:root:Large gap between audio n_frames(116) and target_length (204). Is the audio_target_length setting correct?\n",
            "WARNING:root:Large gap between audio n_frames(116) and target_length (204). Is the audio_target_length setting correct?\n",
            "WARNING:root:Large gap between audio n_frames(126) and target_length (204). Is the audio_target_length setting correct?\n"
          ]
        },
        {
          "output_type": "stream",
          "name": "stdout",
          "text": [
            "Batch 21/64\n"
          ]
        },
        {
          "output_type": "stream",
          "name": "stderr",
          "text": [
            "WARNING:root:Large gap between audio n_frames(126) and target_length (204). Is the audio_target_length setting correct?\n",
            "WARNING:root:Large gap between audio n_frames(126) and target_length (204). Is the audio_target_length setting correct?\n",
            "WARNING:root:Large gap between audio n_frames(146) and target_length (204). Is the audio_target_length setting correct?\n",
            "WARNING:root:Large gap between audio n_frames(146) and target_length (204). Is the audio_target_length setting correct?\n",
            "WARNING:root:Large gap between audio n_frames(146) and target_length (204). Is the audio_target_length setting correct?\n",
            "WARNING:root:Large gap between audio n_frames(147) and target_length (204). Is the audio_target_length setting correct?\n",
            "WARNING:root:Large gap between audio n_frames(147) and target_length (204). Is the audio_target_length setting correct?\n",
            "WARNING:root:Large gap between audio n_frames(147) and target_length (204). Is the audio_target_length setting correct?\n",
            "WARNING:root:Large gap between audio n_frames(129) and target_length (204). Is the audio_target_length setting correct?\n",
            "WARNING:root:Large gap between audio n_frames(129) and target_length (204). Is the audio_target_length setting correct?\n",
            "WARNING:root:Large gap between audio n_frames(129) and target_length (204). Is the audio_target_length setting correct?\n",
            "WARNING:root:Large gap between audio n_frames(166) and target_length (204). Is the audio_target_length setting correct?\n",
            "WARNING:root:Large gap between audio n_frames(166) and target_length (204). Is the audio_target_length setting correct?\n",
            "WARNING:root:Large gap between audio n_frames(166) and target_length (204). Is the audio_target_length setting correct?\n",
            "WARNING:root:Large gap between audio n_frames(139) and target_length (204). Is the audio_target_length setting correct?\n",
            "WARNING:root:Large gap between audio n_frames(139) and target_length (204). Is the audio_target_length setting correct?\n",
            "WARNING:root:Large gap between audio n_frames(139) and target_length (204). Is the audio_target_length setting correct?\n",
            "WARNING:root:Large gap between audio n_frames(125) and target_length (204). Is the audio_target_length setting correct?\n",
            "WARNING:root:Large gap between audio n_frames(125) and target_length (204). Is the audio_target_length setting correct?\n",
            "WARNING:root:Large gap between audio n_frames(125) and target_length (204). Is the audio_target_length setting correct?\n",
            "WARNING:root:Large gap between audio n_frames(154) and target_length (204). Is the audio_target_length setting correct?\n",
            "WARNING:root:Large gap between audio n_frames(154) and target_length (204). Is the audio_target_length setting correct?\n",
            "WARNING:root:Large gap between audio n_frames(154) and target_length (204). Is the audio_target_length setting correct?\n",
            "WARNING:root:Large gap between audio n_frames(147) and target_length (204). Is the audio_target_length setting correct?\n",
            "WARNING:root:Large gap between audio n_frames(147) and target_length (204). Is the audio_target_length setting correct?\n",
            "WARNING:root:Large gap between audio n_frames(147) and target_length (204). Is the audio_target_length setting correct?\n",
            "WARNING:root:Large gap between audio n_frames(138) and target_length (204). Is the audio_target_length setting correct?\n",
            "WARNING:root:Large gap between audio n_frames(138) and target_length (204). Is the audio_target_length setting correct?\n",
            "WARNING:root:Large gap between audio n_frames(138) and target_length (204). Is the audio_target_length setting correct?\n",
            "WARNING:root:Large gap between audio n_frames(107) and target_length (204). Is the audio_target_length setting correct?\n",
            "WARNING:root:Large gap between audio n_frames(107) and target_length (204). Is the audio_target_length setting correct?\n",
            "WARNING:root:Large gap between audio n_frames(107) and target_length (204). Is the audio_target_length setting correct?\n"
          ]
        },
        {
          "output_type": "stream",
          "name": "stdout",
          "text": [
            "Batch 22/64\n"
          ]
        },
        {
          "output_type": "stream",
          "name": "stderr",
          "text": [
            "WARNING:root:Large gap between audio n_frames(118) and target_length (204). Is the audio_target_length setting correct?\n",
            "WARNING:root:Large gap between audio n_frames(118) and target_length (204). Is the audio_target_length setting correct?\n",
            "WARNING:root:Large gap between audio n_frames(118) and target_length (204). Is the audio_target_length setting correct?\n",
            "WARNING:root:Large gap between audio n_frames(147) and target_length (204). Is the audio_target_length setting correct?\n",
            "WARNING:root:Large gap between audio n_frames(147) and target_length (204). Is the audio_target_length setting correct?\n",
            "WARNING:root:Large gap between audio n_frames(147) and target_length (204). Is the audio_target_length setting correct?\n",
            "WARNING:root:Large gap between audio n_frames(141) and target_length (204). Is the audio_target_length setting correct?\n",
            "WARNING:root:Large gap between audio n_frames(141) and target_length (204). Is the audio_target_length setting correct?\n",
            "WARNING:root:Large gap between audio n_frames(141) and target_length (204). Is the audio_target_length setting correct?\n",
            "WARNING:root:Large gap between audio n_frames(87) and target_length (204). Is the audio_target_length setting correct?\n",
            "WARNING:root:Large gap between audio n_frames(87) and target_length (204). Is the audio_target_length setting correct?\n",
            "WARNING:root:Large gap between audio n_frames(87) and target_length (204). Is the audio_target_length setting correct?\n",
            "WARNING:root:Large gap between audio n_frames(148) and target_length (204). Is the audio_target_length setting correct?\n",
            "WARNING:root:Large gap between audio n_frames(148) and target_length (204). Is the audio_target_length setting correct?\n",
            "WARNING:root:Large gap between audio n_frames(148) and target_length (204). Is the audio_target_length setting correct?\n",
            "WARNING:root:Large gap between audio n_frames(138) and target_length (204). Is the audio_target_length setting correct?\n",
            "WARNING:root:Large gap between audio n_frames(138) and target_length (204). Is the audio_target_length setting correct?\n",
            "WARNING:root:Large gap between audio n_frames(138) and target_length (204). Is the audio_target_length setting correct?\n",
            "WARNING:root:Large gap between audio n_frames(161) and target_length (204). Is the audio_target_length setting correct?\n",
            "WARNING:root:Large gap between audio n_frames(161) and target_length (204). Is the audio_target_length setting correct?\n",
            "WARNING:root:Large gap between audio n_frames(161) and target_length (204). Is the audio_target_length setting correct?\n",
            "WARNING:root:Large gap between audio n_frames(110) and target_length (204). Is the audio_target_length setting correct?\n",
            "WARNING:root:Large gap between audio n_frames(110) and target_length (204). Is the audio_target_length setting correct?\n",
            "WARNING:root:Large gap between audio n_frames(110) and target_length (204). Is the audio_target_length setting correct?\n",
            "WARNING:root:Large gap between audio n_frames(163) and target_length (204). Is the audio_target_length setting correct?\n",
            "WARNING:root:Large gap between audio n_frames(163) and target_length (204). Is the audio_target_length setting correct?\n",
            "WARNING:root:Large gap between audio n_frames(163) and target_length (204). Is the audio_target_length setting correct?\n"
          ]
        },
        {
          "output_type": "stream",
          "name": "stdout",
          "text": [
            "Batch 23/64\n"
          ]
        },
        {
          "output_type": "stream",
          "name": "stderr",
          "text": [
            "WARNING:root:Large gap between audio n_frames(147) and target_length (204). Is the audio_target_length setting correct?\n",
            "WARNING:root:Large gap between audio n_frames(147) and target_length (204). Is the audio_target_length setting correct?\n",
            "WARNING:root:Large gap between audio n_frames(147) and target_length (204). Is the audio_target_length setting correct?\n",
            "WARNING:root:Large gap between audio n_frames(137) and target_length (204). Is the audio_target_length setting correct?\n",
            "WARNING:root:Large gap between audio n_frames(137) and target_length (204). Is the audio_target_length setting correct?\n",
            "WARNING:root:Large gap between audio n_frames(137) and target_length (204). Is the audio_target_length setting correct?\n",
            "WARNING:root:Large gap between audio n_frames(112) and target_length (204). Is the audio_target_length setting correct?\n",
            "WARNING:root:Large gap between audio n_frames(112) and target_length (204). Is the audio_target_length setting correct?\n",
            "WARNING:root:Large gap between audio n_frames(112) and target_length (204). Is the audio_target_length setting correct?\n",
            "WARNING:root:Large gap between audio n_frames(96) and target_length (204). Is the audio_target_length setting correct?\n",
            "WARNING:root:Large gap between audio n_frames(96) and target_length (204). Is the audio_target_length setting correct?\n"
          ]
        },
        {
          "output_type": "stream",
          "name": "stdout",
          "text": [
            "Batch 24/64\n"
          ]
        },
        {
          "output_type": "stream",
          "name": "stderr",
          "text": [
            "WARNING:root:Large gap between audio n_frames(96) and target_length (204). Is the audio_target_length setting correct?\n",
            "WARNING:root:Large gap between audio n_frames(113) and target_length (204). Is the audio_target_length setting correct?\n",
            "WARNING:root:Large gap between audio n_frames(113) and target_length (204). Is the audio_target_length setting correct?\n",
            "WARNING:root:Large gap between audio n_frames(113) and target_length (204). Is the audio_target_length setting correct?\n",
            "WARNING:root:Large gap between audio n_frames(85) and target_length (204). Is the audio_target_length setting correct?\n",
            "WARNING:root:Large gap between audio n_frames(85) and target_length (204). Is the audio_target_length setting correct?\n",
            "WARNING:root:Large gap between audio n_frames(85) and target_length (204). Is the audio_target_length setting correct?\n",
            "WARNING:root:Large gap between audio n_frames(97) and target_length (204). Is the audio_target_length setting correct?\n",
            "WARNING:root:Large gap between audio n_frames(97) and target_length (204). Is the audio_target_length setting correct?\n",
            "WARNING:root:Large gap between audio n_frames(97) and target_length (204). Is the audio_target_length setting correct?\n",
            "WARNING:root:Large gap between audio n_frames(125) and target_length (204). Is the audio_target_length setting correct?\n",
            "WARNING:root:Large gap between audio n_frames(125) and target_length (204). Is the audio_target_length setting correct?\n",
            "WARNING:root:Large gap between audio n_frames(125) and target_length (204). Is the audio_target_length setting correct?\n",
            "WARNING:root:Large gap between audio n_frames(119) and target_length (204). Is the audio_target_length setting correct?\n",
            "WARNING:root:Large gap between audio n_frames(119) and target_length (204). Is the audio_target_length setting correct?\n",
            "WARNING:root:Large gap between audio n_frames(119) and target_length (204). Is the audio_target_length setting correct?\n",
            "WARNING:root:Large gap between audio n_frames(160) and target_length (204). Is the audio_target_length setting correct?\n",
            "WARNING:root:Large gap between audio n_frames(160) and target_length (204). Is the audio_target_length setting correct?\n",
            "WARNING:root:Large gap between audio n_frames(160) and target_length (204). Is the audio_target_length setting correct?\n"
          ]
        },
        {
          "output_type": "stream",
          "name": "stdout",
          "text": [
            "Batch 25/64\n"
          ]
        },
        {
          "output_type": "stream",
          "name": "stderr",
          "text": [
            "WARNING:root:Large gap between audio n_frames(129) and target_length (204). Is the audio_target_length setting correct?\n",
            "WARNING:root:Large gap between audio n_frames(129) and target_length (204). Is the audio_target_length setting correct?\n",
            "WARNING:root:Large gap between audio n_frames(129) and target_length (204). Is the audio_target_length setting correct?\n",
            "WARNING:root:Large gap between audio n_frames(140) and target_length (204). Is the audio_target_length setting correct?\n",
            "WARNING:root:Large gap between audio n_frames(140) and target_length (204). Is the audio_target_length setting correct?\n",
            "WARNING:root:Large gap between audio n_frames(140) and target_length (204). Is the audio_target_length setting correct?\n",
            "WARNING:root:Large gap between audio n_frames(157) and target_length (204). Is the audio_target_length setting correct?\n",
            "WARNING:root:Large gap between audio n_frames(157) and target_length (204). Is the audio_target_length setting correct?\n",
            "WARNING:root:Large gap between audio n_frames(157) and target_length (204). Is the audio_target_length setting correct?\n",
            "WARNING:root:Large gap between audio n_frames(131) and target_length (204). Is the audio_target_length setting correct?\n",
            "WARNING:root:Large gap between audio n_frames(131) and target_length (204). Is the audio_target_length setting correct?\n",
            "WARNING:root:Large gap between audio n_frames(131) and target_length (204). Is the audio_target_length setting correct?\n"
          ]
        },
        {
          "output_type": "stream",
          "name": "stdout",
          "text": [
            "Batch 26/64\n"
          ]
        },
        {
          "output_type": "stream",
          "name": "stderr",
          "text": [
            "WARNING:root:Large gap between audio n_frames(124) and target_length (204). Is the audio_target_length setting correct?\n",
            "WARNING:root:Large gap between audio n_frames(124) and target_length (204). Is the audio_target_length setting correct?\n",
            "WARNING:root:Large gap between audio n_frames(124) and target_length (204). Is the audio_target_length setting correct?\n",
            "WARNING:root:Large gap between audio n_frames(107) and target_length (204). Is the audio_target_length setting correct?\n",
            "WARNING:root:Large gap between audio n_frames(107) and target_length (204). Is the audio_target_length setting correct?\n",
            "WARNING:root:Large gap between audio n_frames(107) and target_length (204). Is the audio_target_length setting correct?\n",
            "WARNING:root:Large gap between audio n_frames(117) and target_length (204). Is the audio_target_length setting correct?\n",
            "WARNING:root:Large gap between audio n_frames(117) and target_length (204). Is the audio_target_length setting correct?\n",
            "WARNING:root:Large gap between audio n_frames(117) and target_length (204). Is the audio_target_length setting correct?\n",
            "WARNING:root:Large gap between audio n_frames(163) and target_length (204). Is the audio_target_length setting correct?\n",
            "WARNING:root:Large gap between audio n_frames(163) and target_length (204). Is the audio_target_length setting correct?\n",
            "WARNING:root:Large gap between audio n_frames(163) and target_length (204). Is the audio_target_length setting correct?\n",
            "WARNING:root:Large gap between audio n_frames(157) and target_length (204). Is the audio_target_length setting correct?\n",
            "WARNING:root:Large gap between audio n_frames(157) and target_length (204). Is the audio_target_length setting correct?\n",
            "WARNING:root:Large gap between audio n_frames(157) and target_length (204). Is the audio_target_length setting correct?\n",
            "WARNING:root:Large gap between audio n_frames(123) and target_length (204). Is the audio_target_length setting correct?\n",
            "WARNING:root:Large gap between audio n_frames(123) and target_length (204). Is the audio_target_length setting correct?\n",
            "WARNING:root:Large gap between audio n_frames(123) and target_length (204). Is the audio_target_length setting correct?\n",
            "WARNING:root:Large gap between audio n_frames(123) and target_length (204). Is the audio_target_length setting correct?\n",
            "WARNING:root:Large gap between audio n_frames(123) and target_length (204). Is the audio_target_length setting correct?\n",
            "WARNING:root:Large gap between audio n_frames(123) and target_length (204). Is the audio_target_length setting correct?\n"
          ]
        },
        {
          "output_type": "stream",
          "name": "stdout",
          "text": [
            "Batch 27/64\n"
          ]
        },
        {
          "output_type": "stream",
          "name": "stderr",
          "text": [
            "WARNING:root:Large gap between audio n_frames(107) and target_length (204). Is the audio_target_length setting correct?\n",
            "WARNING:root:Large gap between audio n_frames(107) and target_length (204). Is the audio_target_length setting correct?\n",
            "WARNING:root:Large gap between audio n_frames(107) and target_length (204). Is the audio_target_length setting correct?\n",
            "WARNING:root:Large gap between audio n_frames(107) and target_length (204). Is the audio_target_length setting correct?\n",
            "WARNING:root:Large gap between audio n_frames(107) and target_length (204). Is the audio_target_length setting correct?\n",
            "WARNING:root:Large gap between audio n_frames(107) and target_length (204). Is the audio_target_length setting correct?\n",
            "WARNING:root:Large gap between audio n_frames(151) and target_length (204). Is the audio_target_length setting correct?\n",
            "WARNING:root:Large gap between audio n_frames(151) and target_length (204). Is the audio_target_length setting correct?\n",
            "WARNING:root:Large gap between audio n_frames(151) and target_length (204). Is the audio_target_length setting correct?\n"
          ]
        },
        {
          "output_type": "stream",
          "name": "stdout",
          "text": [
            "Batch 28/64\n"
          ]
        },
        {
          "output_type": "stream",
          "name": "stderr",
          "text": [
            "WARNING:root:Large gap between audio n_frames(134) and target_length (204). Is the audio_target_length setting correct?\n",
            "WARNING:root:Large gap between audio n_frames(134) and target_length (204). Is the audio_target_length setting correct?\n",
            "WARNING:root:Large gap between audio n_frames(134) and target_length (204). Is the audio_target_length setting correct?\n"
          ]
        },
        {
          "output_type": "stream",
          "name": "stdout",
          "text": [
            "Batch 29/64\n"
          ]
        },
        {
          "output_type": "stream",
          "name": "stderr",
          "text": [
            "WARNING:root:Large gap between audio n_frames(142) and target_length (204). Is the audio_target_length setting correct?\n",
            "WARNING:root:Large gap between audio n_frames(142) and target_length (204). Is the audio_target_length setting correct?\n",
            "WARNING:root:Large gap between audio n_frames(142) and target_length (204). Is the audio_target_length setting correct?\n",
            "WARNING:root:Large gap between audio n_frames(154) and target_length (204). Is the audio_target_length setting correct?\n",
            "WARNING:root:Large gap between audio n_frames(154) and target_length (204). Is the audio_target_length setting correct?\n",
            "WARNING:root:Large gap between audio n_frames(154) and target_length (204). Is the audio_target_length setting correct?\n",
            "WARNING:root:Large gap between audio n_frames(112) and target_length (204). Is the audio_target_length setting correct?\n",
            "WARNING:root:Large gap between audio n_frames(112) and target_length (204). Is the audio_target_length setting correct?\n",
            "WARNING:root:Large gap between audio n_frames(112) and target_length (204). Is the audio_target_length setting correct?\n",
            "WARNING:root:Large gap between audio n_frames(116) and target_length (204). Is the audio_target_length setting correct?\n",
            "WARNING:root:Large gap between audio n_frames(116) and target_length (204). Is the audio_target_length setting correct?\n",
            "WARNING:root:Large gap between audio n_frames(116) and target_length (204). Is the audio_target_length setting correct?\n",
            "WARNING:root:Large gap between audio n_frames(162) and target_length (204). Is the audio_target_length setting correct?\n",
            "WARNING:root:Large gap between audio n_frames(162) and target_length (204). Is the audio_target_length setting correct?\n",
            "WARNING:root:Large gap between audio n_frames(162) and target_length (204). Is the audio_target_length setting correct?\n",
            "WARNING:root:Large gap between audio n_frames(147) and target_length (204). Is the audio_target_length setting correct?\n",
            "WARNING:root:Large gap between audio n_frames(147) and target_length (204). Is the audio_target_length setting correct?\n",
            "WARNING:root:Large gap between audio n_frames(147) and target_length (204). Is the audio_target_length setting correct?\n"
          ]
        },
        {
          "output_type": "stream",
          "name": "stdout",
          "text": [
            "Batch 30/64\n"
          ]
        },
        {
          "output_type": "stream",
          "name": "stderr",
          "text": [
            "WARNING:root:Large gap between audio n_frames(115) and target_length (204). Is the audio_target_length setting correct?\n",
            "WARNING:root:Large gap between audio n_frames(115) and target_length (204). Is the audio_target_length setting correct?\n",
            "WARNING:root:Large gap between audio n_frames(115) and target_length (204). Is the audio_target_length setting correct?\n",
            "WARNING:root:Large gap between audio n_frames(157) and target_length (204). Is the audio_target_length setting correct?\n",
            "WARNING:root:Large gap between audio n_frames(157) and target_length (204). Is the audio_target_length setting correct?\n",
            "WARNING:root:Large gap between audio n_frames(157) and target_length (204). Is the audio_target_length setting correct?\n"
          ]
        },
        {
          "output_type": "stream",
          "name": "stdout",
          "text": [
            "Batch 31/64\n"
          ]
        },
        {
          "output_type": "stream",
          "name": "stderr",
          "text": [
            "WARNING:root:Large gap between audio n_frames(94) and target_length (204). Is the audio_target_length setting correct?\n",
            "WARNING:root:Large gap between audio n_frames(94) and target_length (204). Is the audio_target_length setting correct?\n",
            "WARNING:root:Large gap between audio n_frames(94) and target_length (204). Is the audio_target_length setting correct?\n",
            "WARNING:root:Large gap between audio n_frames(136) and target_length (204). Is the audio_target_length setting correct?\n",
            "WARNING:root:Large gap between audio n_frames(136) and target_length (204). Is the audio_target_length setting correct?\n",
            "WARNING:root:Large gap between audio n_frames(136) and target_length (204). Is the audio_target_length setting correct?\n",
            "WARNING:root:Large gap between audio n_frames(146) and target_length (204). Is the audio_target_length setting correct?\n",
            "WARNING:root:Large gap between audio n_frames(146) and target_length (204). Is the audio_target_length setting correct?\n",
            "WARNING:root:Large gap between audio n_frames(146) and target_length (204). Is the audio_target_length setting correct?\n",
            "WARNING:root:Large gap between audio n_frames(123) and target_length (204). Is the audio_target_length setting correct?\n",
            "WARNING:root:Large gap between audio n_frames(123) and target_length (204). Is the audio_target_length setting correct?\n",
            "WARNING:root:Large gap between audio n_frames(123) and target_length (204). Is the audio_target_length setting correct?\n",
            "WARNING:root:Large gap between audio n_frames(147) and target_length (204). Is the audio_target_length setting correct?\n",
            "WARNING:root:Large gap between audio n_frames(147) and target_length (204). Is the audio_target_length setting correct?\n",
            "WARNING:root:Large gap between audio n_frames(147) and target_length (204). Is the audio_target_length setting correct?\n"
          ]
        },
        {
          "output_type": "stream",
          "name": "stdout",
          "text": [
            "Batch 32/64\n"
          ]
        },
        {
          "output_type": "stream",
          "name": "stderr",
          "text": [
            "WARNING:root:Large gap between audio n_frames(122) and target_length (204). Is the audio_target_length setting correct?\n",
            "WARNING:root:Large gap between audio n_frames(122) and target_length (204). Is the audio_target_length setting correct?\n",
            "WARNING:root:Large gap between audio n_frames(122) and target_length (204). Is the audio_target_length setting correct?\n",
            "WARNING:root:Large gap between audio n_frames(162) and target_length (204). Is the audio_target_length setting correct?\n",
            "WARNING:root:Large gap between audio n_frames(162) and target_length (204). Is the audio_target_length setting correct?\n",
            "WARNING:root:Large gap between audio n_frames(162) and target_length (204). Is the audio_target_length setting correct?\n",
            "WARNING:root:Large gap between audio n_frames(140) and target_length (204). Is the audio_target_length setting correct?\n",
            "WARNING:root:Large gap between audio n_frames(140) and target_length (204). Is the audio_target_length setting correct?\n",
            "WARNING:root:Large gap between audio n_frames(140) and target_length (204). Is the audio_target_length setting correct?\n",
            "WARNING:root:Large gap between audio n_frames(139) and target_length (204). Is the audio_target_length setting correct?\n",
            "WARNING:root:Large gap between audio n_frames(139) and target_length (204). Is the audio_target_length setting correct?\n",
            "WARNING:root:Large gap between audio n_frames(139) and target_length (204). Is the audio_target_length setting correct?\n",
            "WARNING:root:Large gap between audio n_frames(133) and target_length (204). Is the audio_target_length setting correct?\n",
            "WARNING:root:Large gap between audio n_frames(133) and target_length (204). Is the audio_target_length setting correct?\n",
            "WARNING:root:Large gap between audio n_frames(133) and target_length (204). Is the audio_target_length setting correct?\n",
            "WARNING:root:Large gap between audio n_frames(149) and target_length (204). Is the audio_target_length setting correct?\n",
            "WARNING:root:Large gap between audio n_frames(149) and target_length (204). Is the audio_target_length setting correct?\n",
            "WARNING:root:Large gap between audio n_frames(149) and target_length (204). Is the audio_target_length setting correct?\n"
          ]
        },
        {
          "output_type": "stream",
          "name": "stdout",
          "text": [
            "Batch 33/64\n"
          ]
        },
        {
          "output_type": "stream",
          "name": "stderr",
          "text": [
            "WARNING:root:Large gap between audio n_frames(131) and target_length (204). Is the audio_target_length setting correct?\n",
            "WARNING:root:Large gap between audio n_frames(131) and target_length (204). Is the audio_target_length setting correct?\n",
            "WARNING:root:Large gap between audio n_frames(131) and target_length (204). Is the audio_target_length setting correct?\n"
          ]
        },
        {
          "output_type": "stream",
          "name": "stdout",
          "text": [
            "Batch 34/64\n"
          ]
        },
        {
          "output_type": "stream",
          "name": "stderr",
          "text": [
            "WARNING:root:Large gap between audio n_frames(154) and target_length (204). Is the audio_target_length setting correct?\n",
            "WARNING:root:Large gap between audio n_frames(154) and target_length (204). Is the audio_target_length setting correct?\n",
            "WARNING:root:Large gap between audio n_frames(154) and target_length (204). Is the audio_target_length setting correct?\n",
            "WARNING:root:Large gap between audio n_frames(143) and target_length (204). Is the audio_target_length setting correct?\n",
            "WARNING:root:Large gap between audio n_frames(143) and target_length (204). Is the audio_target_length setting correct?\n",
            "WARNING:root:Large gap between audio n_frames(143) and target_length (204). Is the audio_target_length setting correct?\n",
            "WARNING:root:Large gap between audio n_frames(96) and target_length (204). Is the audio_target_length setting correct?\n",
            "WARNING:root:Large gap between audio n_frames(96) and target_length (204). Is the audio_target_length setting correct?\n",
            "WARNING:root:Large gap between audio n_frames(96) and target_length (204). Is the audio_target_length setting correct?\n",
            "WARNING:root:Large gap between audio n_frames(145) and target_length (204). Is the audio_target_length setting correct?\n",
            "WARNING:root:Large gap between audio n_frames(145) and target_length (204). Is the audio_target_length setting correct?\n",
            "WARNING:root:Large gap between audio n_frames(145) and target_length (204). Is the audio_target_length setting correct?\n",
            "WARNING:root:Large gap between audio n_frames(133) and target_length (204). Is the audio_target_length setting correct?\n",
            "WARNING:root:Large gap between audio n_frames(133) and target_length (204). Is the audio_target_length setting correct?\n",
            "WARNING:root:Large gap between audio n_frames(133) and target_length (204). Is the audio_target_length setting correct?\n"
          ]
        },
        {
          "output_type": "stream",
          "name": "stdout",
          "text": [
            "Batch 35/64\n"
          ]
        },
        {
          "output_type": "stream",
          "name": "stderr",
          "text": [
            "WARNING:root:Large gap between audio n_frames(132) and target_length (204). Is the audio_target_length setting correct?\n",
            "WARNING:root:Large gap between audio n_frames(132) and target_length (204). Is the audio_target_length setting correct?\n",
            "WARNING:root:Large gap between audio n_frames(132) and target_length (204). Is the audio_target_length setting correct?\n",
            "WARNING:root:Large gap between audio n_frames(93) and target_length (204). Is the audio_target_length setting correct?\n",
            "WARNING:root:Large gap between audio n_frames(93) and target_length (204). Is the audio_target_length setting correct?\n",
            "WARNING:root:Large gap between audio n_frames(93) and target_length (204). Is the audio_target_length setting correct?\n",
            "WARNING:root:Large gap between audio n_frames(140) and target_length (204). Is the audio_target_length setting correct?\n",
            "WARNING:root:Large gap between audio n_frames(140) and target_length (204). Is the audio_target_length setting correct?\n",
            "WARNING:root:Large gap between audio n_frames(140) and target_length (204). Is the audio_target_length setting correct?\n",
            "WARNING:root:Large gap between audio n_frames(106) and target_length (204). Is the audio_target_length setting correct?\n",
            "WARNING:root:Large gap between audio n_frames(106) and target_length (204). Is the audio_target_length setting correct?\n",
            "WARNING:root:Large gap between audio n_frames(106) and target_length (204). Is the audio_target_length setting correct?\n"
          ]
        },
        {
          "output_type": "stream",
          "name": "stdout",
          "text": [
            "Batch 36/64\n"
          ]
        },
        {
          "output_type": "stream",
          "name": "stderr",
          "text": [
            "WARNING:root:Large gap between audio n_frames(87) and target_length (204). Is the audio_target_length setting correct?\n",
            "WARNING:root:Large gap between audio n_frames(87) and target_length (204). Is the audio_target_length setting correct?\n",
            "WARNING:root:Large gap between audio n_frames(87) and target_length (204). Is the audio_target_length setting correct?\n",
            "WARNING:root:Large gap between audio n_frames(145) and target_length (204). Is the audio_target_length setting correct?\n",
            "WARNING:root:Large gap between audio n_frames(145) and target_length (204). Is the audio_target_length setting correct?\n",
            "WARNING:root:Large gap between audio n_frames(145) and target_length (204). Is the audio_target_length setting correct?\n",
            "WARNING:root:Large gap between audio n_frames(167) and target_length (204). Is the audio_target_length setting correct?\n",
            "WARNING:root:Large gap between audio n_frames(167) and target_length (204). Is the audio_target_length setting correct?\n",
            "WARNING:root:Large gap between audio n_frames(167) and target_length (204). Is the audio_target_length setting correct?\n",
            "WARNING:root:Large gap between audio n_frames(134) and target_length (204). Is the audio_target_length setting correct?\n",
            "WARNING:root:Large gap between audio n_frames(134) and target_length (204). Is the audio_target_length setting correct?\n",
            "WARNING:root:Large gap between audio n_frames(134) and target_length (204). Is the audio_target_length setting correct?\n",
            "WARNING:root:Large gap between audio n_frames(163) and target_length (204). Is the audio_target_length setting correct?\n",
            "WARNING:root:Large gap between audio n_frames(163) and target_length (204). Is the audio_target_length setting correct?\n",
            "WARNING:root:Large gap between audio n_frames(163) and target_length (204). Is the audio_target_length setting correct?\n",
            "WARNING:root:Large gap between audio n_frames(146) and target_length (204). Is the audio_target_length setting correct?\n",
            "WARNING:root:Large gap between audio n_frames(146) and target_length (204). Is the audio_target_length setting correct?\n",
            "WARNING:root:Large gap between audio n_frames(146) and target_length (204). Is the audio_target_length setting correct?\n"
          ]
        },
        {
          "output_type": "stream",
          "name": "stdout",
          "text": [
            "Batch 37/64\n"
          ]
        },
        {
          "output_type": "stream",
          "name": "stderr",
          "text": [
            "WARNING:root:Large gap between audio n_frames(128) and target_length (204). Is the audio_target_length setting correct?\n",
            "WARNING:root:Large gap between audio n_frames(128) and target_length (204). Is the audio_target_length setting correct?\n",
            "WARNING:root:Large gap between audio n_frames(128) and target_length (204). Is the audio_target_length setting correct?\n",
            "WARNING:root:Large gap between audio n_frames(94) and target_length (204). Is the audio_target_length setting correct?\n",
            "WARNING:root:Large gap between audio n_frames(94) and target_length (204). Is the audio_target_length setting correct?\n",
            "WARNING:root:Large gap between audio n_frames(94) and target_length (204). Is the audio_target_length setting correct?\n"
          ]
        },
        {
          "output_type": "stream",
          "name": "stdout",
          "text": [
            "Batch 38/64\n"
          ]
        },
        {
          "output_type": "stream",
          "name": "stderr",
          "text": [
            "WARNING:root:Large gap between audio n_frames(121) and target_length (204). Is the audio_target_length setting correct?\n",
            "WARNING:root:Large gap between audio n_frames(121) and target_length (204). Is the audio_target_length setting correct?\n",
            "WARNING:root:Large gap between audio n_frames(121) and target_length (204). Is the audio_target_length setting correct?\n"
          ]
        },
        {
          "output_type": "stream",
          "name": "stdout",
          "text": [
            "Batch 39/64\n"
          ]
        },
        {
          "output_type": "stream",
          "name": "stderr",
          "text": [
            "WARNING:root:Large gap between audio n_frames(71) and target_length (204). Is the audio_target_length setting correct?\n",
            "WARNING:root:Large gap between audio n_frames(71) and target_length (204). Is the audio_target_length setting correct?\n",
            "WARNING:root:Large gap between audio n_frames(71) and target_length (204). Is the audio_target_length setting correct?\n",
            "WARNING:root:Large gap between audio n_frames(121) and target_length (204). Is the audio_target_length setting correct?\n",
            "WARNING:root:Large gap between audio n_frames(121) and target_length (204). Is the audio_target_length setting correct?\n",
            "WARNING:root:Large gap between audio n_frames(121) and target_length (204). Is the audio_target_length setting correct?\n",
            "WARNING:root:Large gap between audio n_frames(154) and target_length (204). Is the audio_target_length setting correct?\n",
            "WARNING:root:Large gap between audio n_frames(154) and target_length (204). Is the audio_target_length setting correct?\n",
            "WARNING:root:Large gap between audio n_frames(154) and target_length (204). Is the audio_target_length setting correct?\n",
            "WARNING:root:Large gap between audio n_frames(154) and target_length (204). Is the audio_target_length setting correct?\n",
            "WARNING:root:Large gap between audio n_frames(154) and target_length (204). Is the audio_target_length setting correct?\n",
            "WARNING:root:Large gap between audio n_frames(154) and target_length (204). Is the audio_target_length setting correct?\n",
            "WARNING:root:Large gap between audio n_frames(164) and target_length (204). Is the audio_target_length setting correct?\n",
            "WARNING:root:Large gap between audio n_frames(164) and target_length (204). Is the audio_target_length setting correct?\n",
            "WARNING:root:Large gap between audio n_frames(164) and target_length (204). Is the audio_target_length setting correct?\n",
            "WARNING:root:Large gap between audio n_frames(168) and target_length (204). Is the audio_target_length setting correct?\n",
            "WARNING:root:Large gap between audio n_frames(168) and target_length (204). Is the audio_target_length setting correct?\n",
            "WARNING:root:Large gap between audio n_frames(168) and target_length (204). Is the audio_target_length setting correct?\n",
            "WARNING:root:Large gap between audio n_frames(95) and target_length (204). Is the audio_target_length setting correct?\n",
            "WARNING:root:Large gap between audio n_frames(95) and target_length (204). Is the audio_target_length setting correct?\n",
            "WARNING:root:Large gap between audio n_frames(95) and target_length (204). Is the audio_target_length setting correct?\n",
            "WARNING:root:Large gap between audio n_frames(126) and target_length (204). Is the audio_target_length setting correct?\n",
            "WARNING:root:Large gap between audio n_frames(126) and target_length (204). Is the audio_target_length setting correct?\n",
            "WARNING:root:Large gap between audio n_frames(126) and target_length (204). Is the audio_target_length setting correct?\n"
          ]
        },
        {
          "output_type": "stream",
          "name": "stdout",
          "text": [
            "Batch 40/64\n"
          ]
        },
        {
          "output_type": "stream",
          "name": "stderr",
          "text": [
            "WARNING:root:Large gap between audio n_frames(122) and target_length (204). Is the audio_target_length setting correct?\n",
            "WARNING:root:Large gap between audio n_frames(122) and target_length (204). Is the audio_target_length setting correct?\n",
            "WARNING:root:Large gap between audio n_frames(122) and target_length (204). Is the audio_target_length setting correct?\n",
            "WARNING:root:Large gap between audio n_frames(168) and target_length (204). Is the audio_target_length setting correct?\n",
            "WARNING:root:Large gap between audio n_frames(168) and target_length (204). Is the audio_target_length setting correct?\n",
            "WARNING:root:Large gap between audio n_frames(168) and target_length (204). Is the audio_target_length setting correct?\n",
            "WARNING:root:Large gap between audio n_frames(79) and target_length (204). Is the audio_target_length setting correct?\n",
            "WARNING:root:Large gap between audio n_frames(79) and target_length (204). Is the audio_target_length setting correct?\n",
            "WARNING:root:Large gap between audio n_frames(79) and target_length (204). Is the audio_target_length setting correct?\n",
            "WARNING:root:Large gap between audio n_frames(87) and target_length (204). Is the audio_target_length setting correct?\n",
            "WARNING:root:Large gap between audio n_frames(87) and target_length (204). Is the audio_target_length setting correct?\n",
            "WARNING:root:Large gap between audio n_frames(87) and target_length (204). Is the audio_target_length setting correct?\n"
          ]
        },
        {
          "output_type": "stream",
          "name": "stdout",
          "text": [
            "Batch 41/64\n"
          ]
        },
        {
          "output_type": "stream",
          "name": "stderr",
          "text": [
            "WARNING:root:Large gap between audio n_frames(152) and target_length (204). Is the audio_target_length setting correct?\n",
            "WARNING:root:Large gap between audio n_frames(152) and target_length (204). Is the audio_target_length setting correct?\n",
            "WARNING:root:Large gap between audio n_frames(152) and target_length (204). Is the audio_target_length setting correct?\n",
            "WARNING:root:Large gap between audio n_frames(74) and target_length (204). Is the audio_target_length setting correct?\n",
            "WARNING:root:Large gap between audio n_frames(74) and target_length (204). Is the audio_target_length setting correct?\n",
            "WARNING:root:Large gap between audio n_frames(74) and target_length (204). Is the audio_target_length setting correct?\n",
            "WARNING:root:Large gap between audio n_frames(153) and target_length (204). Is the audio_target_length setting correct?\n",
            "WARNING:root:Large gap between audio n_frames(153) and target_length (204). Is the audio_target_length setting correct?\n",
            "WARNING:root:Large gap between audio n_frames(153) and target_length (204). Is the audio_target_length setting correct?\n"
          ]
        },
        {
          "output_type": "stream",
          "name": "stdout",
          "text": [
            "Batch 42/64\n"
          ]
        },
        {
          "output_type": "stream",
          "name": "stderr",
          "text": [
            "WARNING:root:Large gap between audio n_frames(168) and target_length (204). Is the audio_target_length setting correct?\n",
            "WARNING:root:Large gap between audio n_frames(168) and target_length (204). Is the audio_target_length setting correct?\n",
            "WARNING:root:Large gap between audio n_frames(168) and target_length (204). Is the audio_target_length setting correct?\n",
            "WARNING:root:Large gap between audio n_frames(138) and target_length (204). Is the audio_target_length setting correct?\n",
            "WARNING:root:Large gap between audio n_frames(138) and target_length (204). Is the audio_target_length setting correct?\n",
            "WARNING:root:Large gap between audio n_frames(138) and target_length (204). Is the audio_target_length setting correct?\n",
            "WARNING:root:Large gap between audio n_frames(159) and target_length (204). Is the audio_target_length setting correct?\n",
            "WARNING:root:Large gap between audio n_frames(159) and target_length (204). Is the audio_target_length setting correct?\n",
            "WARNING:root:Large gap between audio n_frames(159) and target_length (204). Is the audio_target_length setting correct?\n",
            "WARNING:root:Large gap between audio n_frames(125) and target_length (204). Is the audio_target_length setting correct?\n",
            "WARNING:root:Large gap between audio n_frames(125) and target_length (204). Is the audio_target_length setting correct?\n",
            "WARNING:root:Large gap between audio n_frames(125) and target_length (204). Is the audio_target_length setting correct?\n"
          ]
        },
        {
          "output_type": "stream",
          "name": "stdout",
          "text": [
            "Batch 43/64\n"
          ]
        },
        {
          "output_type": "stream",
          "name": "stderr",
          "text": [
            "WARNING:root:Large gap between audio n_frames(157) and target_length (204). Is the audio_target_length setting correct?\n",
            "WARNING:root:Large gap between audio n_frames(157) and target_length (204). Is the audio_target_length setting correct?\n",
            "WARNING:root:Large gap between audio n_frames(157) and target_length (204). Is the audio_target_length setting correct?\n",
            "WARNING:root:Large gap between audio n_frames(162) and target_length (204). Is the audio_target_length setting correct?\n",
            "WARNING:root:Large gap between audio n_frames(162) and target_length (204). Is the audio_target_length setting correct?\n",
            "WARNING:root:Large gap between audio n_frames(162) and target_length (204). Is the audio_target_length setting correct?\n",
            "WARNING:root:Large gap between audio n_frames(147) and target_length (204). Is the audio_target_length setting correct?\n",
            "WARNING:root:Large gap between audio n_frames(147) and target_length (204). Is the audio_target_length setting correct?\n",
            "WARNING:root:Large gap between audio n_frames(147) and target_length (204). Is the audio_target_length setting correct?\n",
            "WARNING:root:Large gap between audio n_frames(147) and target_length (204). Is the audio_target_length setting correct?\n",
            "WARNING:root:Large gap between audio n_frames(147) and target_length (204). Is the audio_target_length setting correct?\n",
            "WARNING:root:Large gap between audio n_frames(147) and target_length (204). Is the audio_target_length setting correct?\n",
            "WARNING:root:Large gap between audio n_frames(118) and target_length (204). Is the audio_target_length setting correct?\n",
            "WARNING:root:Large gap between audio n_frames(118) and target_length (204). Is the audio_target_length setting correct?\n",
            "WARNING:root:Large gap between audio n_frames(118) and target_length (204). Is the audio_target_length setting correct?\n",
            "WARNING:root:Large gap between audio n_frames(142) and target_length (204). Is the audio_target_length setting correct?\n",
            "WARNING:root:Large gap between audio n_frames(142) and target_length (204). Is the audio_target_length setting correct?\n",
            "WARNING:root:Large gap between audio n_frames(142) and target_length (204). Is the audio_target_length setting correct?\n",
            "WARNING:root:Large gap between audio n_frames(161) and target_length (204). Is the audio_target_length setting correct?\n",
            "WARNING:root:Large gap between audio n_frames(161) and target_length (204). Is the audio_target_length setting correct?\n"
          ]
        },
        {
          "output_type": "stream",
          "name": "stdout",
          "text": [
            "Batch 44/64\n"
          ]
        },
        {
          "output_type": "stream",
          "name": "stderr",
          "text": [
            "WARNING:root:Large gap between audio n_frames(161) and target_length (204). Is the audio_target_length setting correct?\n",
            "WARNING:root:Large gap between audio n_frames(99) and target_length (204). Is the audio_target_length setting correct?\n",
            "WARNING:root:Large gap between audio n_frames(99) and target_length (204). Is the audio_target_length setting correct?\n",
            "WARNING:root:Large gap between audio n_frames(99) and target_length (204). Is the audio_target_length setting correct?\n",
            "WARNING:root:Large gap between audio n_frames(160) and target_length (204). Is the audio_target_length setting correct?\n",
            "WARNING:root:Large gap between audio n_frames(160) and target_length (204). Is the audio_target_length setting correct?\n",
            "WARNING:root:Large gap between audio n_frames(160) and target_length (204). Is the audio_target_length setting correct?\n"
          ]
        },
        {
          "output_type": "stream",
          "name": "stdout",
          "text": [
            "Batch 45/64\n"
          ]
        },
        {
          "output_type": "stream",
          "name": "stderr",
          "text": [
            "WARNING:root:Large gap between audio n_frames(99) and target_length (204). Is the audio_target_length setting correct?\n",
            "WARNING:root:Large gap between audio n_frames(99) and target_length (204). Is the audio_target_length setting correct?\n",
            "WARNING:root:Large gap between audio n_frames(99) and target_length (204). Is the audio_target_length setting correct?\n",
            "WARNING:root:Large gap between audio n_frames(116) and target_length (204). Is the audio_target_length setting correct?\n",
            "WARNING:root:Large gap between audio n_frames(116) and target_length (204). Is the audio_target_length setting correct?\n",
            "WARNING:root:Large gap between audio n_frames(116) and target_length (204). Is the audio_target_length setting correct?\n",
            "WARNING:root:Large gap between audio n_frames(127) and target_length (204). Is the audio_target_length setting correct?\n",
            "WARNING:root:Large gap between audio n_frames(127) and target_length (204). Is the audio_target_length setting correct?\n",
            "WARNING:root:Large gap between audio n_frames(127) and target_length (204). Is the audio_target_length setting correct?\n",
            "WARNING:root:Large gap between audio n_frames(98) and target_length (204). Is the audio_target_length setting correct?\n",
            "WARNING:root:Large gap between audio n_frames(98) and target_length (204). Is the audio_target_length setting correct?\n",
            "WARNING:root:Large gap between audio n_frames(98) and target_length (204). Is the audio_target_length setting correct?\n",
            "WARNING:root:Large gap between audio n_frames(142) and target_length (204). Is the audio_target_length setting correct?\n",
            "WARNING:root:Large gap between audio n_frames(142) and target_length (204). Is the audio_target_length setting correct?\n",
            "WARNING:root:Large gap between audio n_frames(142) and target_length (204). Is the audio_target_length setting correct?\n",
            "WARNING:root:Large gap between audio n_frames(122) and target_length (204). Is the audio_target_length setting correct?\n",
            "WARNING:root:Large gap between audio n_frames(122) and target_length (204). Is the audio_target_length setting correct?\n",
            "WARNING:root:Large gap between audio n_frames(122) and target_length (204). Is the audio_target_length setting correct?\n",
            "WARNING:root:Large gap between audio n_frames(118) and target_length (204). Is the audio_target_length setting correct?\n",
            "WARNING:root:Large gap between audio n_frames(118) and target_length (204). Is the audio_target_length setting correct?\n",
            "WARNING:root:Large gap between audio n_frames(118) and target_length (204). Is the audio_target_length setting correct?\n",
            "WARNING:root:Large gap between audio n_frames(148) and target_length (204). Is the audio_target_length setting correct?\n",
            "WARNING:root:Large gap between audio n_frames(148) and target_length (204). Is the audio_target_length setting correct?\n",
            "WARNING:root:Large gap between audio n_frames(148) and target_length (204). Is the audio_target_length setting correct?\n"
          ]
        },
        {
          "output_type": "stream",
          "name": "stdout",
          "text": [
            "Batch 46/64\n"
          ]
        },
        {
          "output_type": "stream",
          "name": "stderr",
          "text": [
            "WARNING:root:Large gap between audio n_frames(129) and target_length (204). Is the audio_target_length setting correct?\n",
            "WARNING:root:Large gap between audio n_frames(129) and target_length (204). Is the audio_target_length setting correct?\n",
            "WARNING:root:Large gap between audio n_frames(129) and target_length (204). Is the audio_target_length setting correct?\n",
            "WARNING:root:Large gap between audio n_frames(112) and target_length (204). Is the audio_target_length setting correct?\n",
            "WARNING:root:Large gap between audio n_frames(112) and target_length (204). Is the audio_target_length setting correct?\n",
            "WARNING:root:Large gap between audio n_frames(112) and target_length (204). Is the audio_target_length setting correct?\n",
            "WARNING:root:Large gap between audio n_frames(161) and target_length (204). Is the audio_target_length setting correct?\n",
            "WARNING:root:Large gap between audio n_frames(161) and target_length (204). Is the audio_target_length setting correct?\n",
            "WARNING:root:Large gap between audio n_frames(161) and target_length (204). Is the audio_target_length setting correct?\n"
          ]
        },
        {
          "output_type": "stream",
          "name": "stdout",
          "text": [
            "Batch 47/64\n"
          ]
        },
        {
          "output_type": "stream",
          "name": "stderr",
          "text": [
            "WARNING:root:Large gap between audio n_frames(117) and target_length (204). Is the audio_target_length setting correct?\n",
            "WARNING:root:Large gap between audio n_frames(117) and target_length (204). Is the audio_target_length setting correct?\n",
            "WARNING:root:Large gap between audio n_frames(117) and target_length (204). Is the audio_target_length setting correct?\n",
            "WARNING:root:Large gap between audio n_frames(137) and target_length (204). Is the audio_target_length setting correct?\n",
            "WARNING:root:Large gap between audio n_frames(137) and target_length (204). Is the audio_target_length setting correct?\n",
            "WARNING:root:Large gap between audio n_frames(137) and target_length (204). Is the audio_target_length setting correct?\n"
          ]
        },
        {
          "output_type": "stream",
          "name": "stdout",
          "text": [
            "Batch 48/64\n"
          ]
        },
        {
          "output_type": "stream",
          "name": "stderr",
          "text": [
            "WARNING:root:Large gap between audio n_frames(141) and target_length (204). Is the audio_target_length setting correct?\n",
            "WARNING:root:Large gap between audio n_frames(141) and target_length (204). Is the audio_target_length setting correct?\n",
            "WARNING:root:Large gap between audio n_frames(141) and target_length (204). Is the audio_target_length setting correct?\n"
          ]
        },
        {
          "output_type": "stream",
          "name": "stdout",
          "text": [
            "Batch 49/64\n"
          ]
        },
        {
          "output_type": "stream",
          "name": "stderr",
          "text": [
            "WARNING:root:Large gap between audio n_frames(139) and target_length (204). Is the audio_target_length setting correct?\n",
            "WARNING:root:Large gap between audio n_frames(139) and target_length (204). Is the audio_target_length setting correct?\n",
            "WARNING:root:Large gap between audio n_frames(139) and target_length (204). Is the audio_target_length setting correct?\n"
          ]
        },
        {
          "output_type": "stream",
          "name": "stdout",
          "text": [
            "Batch 50/64\n",
            "Batch 51/64\n",
            "Batch 52/64\n",
            "Batch 53/64\n"
          ]
        },
        {
          "output_type": "stream",
          "name": "stderr",
          "text": [
            "WARNING:root:Large gap between audio n_frames(137) and target_length (204). Is the audio_target_length setting correct?\n",
            "WARNING:root:Large gap between audio n_frames(137) and target_length (204). Is the audio_target_length setting correct?\n",
            "WARNING:root:Large gap between audio n_frames(137) and target_length (204). Is the audio_target_length setting correct?\n"
          ]
        },
        {
          "output_type": "stream",
          "name": "stdout",
          "text": [
            "Batch 54/64\n"
          ]
        },
        {
          "output_type": "stream",
          "name": "stderr",
          "text": [
            "WARNING:root:Large gap between audio n_frames(160) and target_length (204). Is the audio_target_length setting correct?\n",
            "WARNING:root:Large gap between audio n_frames(160) and target_length (204). Is the audio_target_length setting correct?\n",
            "WARNING:root:Large gap between audio n_frames(160) and target_length (204). Is the audio_target_length setting correct?\n",
            "WARNING:root:Large gap between audio n_frames(166) and target_length (204). Is the audio_target_length setting correct?\n",
            "WARNING:root:Large gap between audio n_frames(166) and target_length (204). Is the audio_target_length setting correct?\n",
            "WARNING:root:Large gap between audio n_frames(166) and target_length (204). Is the audio_target_length setting correct?\n",
            "WARNING:root:Large gap between audio n_frames(115) and target_length (204). Is the audio_target_length setting correct?\n",
            "WARNING:root:Large gap between audio n_frames(115) and target_length (204). Is the audio_target_length setting correct?\n",
            "WARNING:root:Large gap between audio n_frames(115) and target_length (204). Is the audio_target_length setting correct?\n",
            "WARNING:root:Large gap between audio n_frames(161) and target_length (204). Is the audio_target_length setting correct?\n",
            "WARNING:root:Large gap between audio n_frames(161) and target_length (204). Is the audio_target_length setting correct?\n",
            "WARNING:root:Large gap between audio n_frames(161) and target_length (204). Is the audio_target_length setting correct?\n",
            "WARNING:root:Large gap between audio n_frames(97) and target_length (204). Is the audio_target_length setting correct?\n",
            "WARNING:root:Large gap between audio n_frames(97) and target_length (204). Is the audio_target_length setting correct?\n",
            "WARNING:root:Large gap between audio n_frames(97) and target_length (204). Is the audio_target_length setting correct?\n",
            "WARNING:root:Large gap between audio n_frames(151) and target_length (204). Is the audio_target_length setting correct?\n",
            "WARNING:root:Large gap between audio n_frames(151) and target_length (204). Is the audio_target_length setting correct?\n",
            "WARNING:root:Large gap between audio n_frames(151) and target_length (204). Is the audio_target_length setting correct?\n",
            "WARNING:root:Large gap between audio n_frames(131) and target_length (204). Is the audio_target_length setting correct?\n",
            "WARNING:root:Large gap between audio n_frames(131) and target_length (204). Is the audio_target_length setting correct?\n",
            "WARNING:root:Large gap between audio n_frames(131) and target_length (204). Is the audio_target_length setting correct?\n",
            "WARNING:root:Large gap between audio n_frames(141) and target_length (204). Is the audio_target_length setting correct?\n",
            "WARNING:root:Large gap between audio n_frames(141) and target_length (204). Is the audio_target_length setting correct?\n",
            "WARNING:root:Large gap between audio n_frames(141) and target_length (204). Is the audio_target_length setting correct?\n"
          ]
        },
        {
          "output_type": "stream",
          "name": "stdout",
          "text": [
            "Batch 55/64\n"
          ]
        },
        {
          "output_type": "stream",
          "name": "stderr",
          "text": [
            "WARNING:root:Large gap between audio n_frames(133) and target_length (204). Is the audio_target_length setting correct?\n",
            "WARNING:root:Large gap between audio n_frames(133) and target_length (204). Is the audio_target_length setting correct?\n",
            "WARNING:root:Large gap between audio n_frames(133) and target_length (204). Is the audio_target_length setting correct?\n",
            "WARNING:root:Large gap between audio n_frames(165) and target_length (204). Is the audio_target_length setting correct?\n",
            "WARNING:root:Large gap between audio n_frames(165) and target_length (204). Is the audio_target_length setting correct?\n",
            "WARNING:root:Large gap between audio n_frames(165) and target_length (204). Is the audio_target_length setting correct?\n",
            "WARNING:root:Large gap between audio n_frames(109) and target_length (204). Is the audio_target_length setting correct?\n",
            "WARNING:root:Large gap between audio n_frames(109) and target_length (204). Is the audio_target_length setting correct?\n",
            "WARNING:root:Large gap between audio n_frames(109) and target_length (204). Is the audio_target_length setting correct?\n",
            "WARNING:root:Large gap between audio n_frames(166) and target_length (204). Is the audio_target_length setting correct?\n",
            "WARNING:root:Large gap between audio n_frames(166) and target_length (204). Is the audio_target_length setting correct?\n",
            "WARNING:root:Large gap between audio n_frames(166) and target_length (204). Is the audio_target_length setting correct?\n",
            "WARNING:root:Large gap between audio n_frames(146) and target_length (204). Is the audio_target_length setting correct?\n",
            "WARNING:root:Large gap between audio n_frames(146) and target_length (204). Is the audio_target_length setting correct?\n",
            "WARNING:root:Large gap between audio n_frames(146) and target_length (204). Is the audio_target_length setting correct?\n",
            "WARNING:root:Large gap between audio n_frames(143) and target_length (204). Is the audio_target_length setting correct?\n",
            "WARNING:root:Large gap between audio n_frames(143) and target_length (204). Is the audio_target_length setting correct?\n",
            "WARNING:root:Large gap between audio n_frames(143) and target_length (204). Is the audio_target_length setting correct?\n",
            "WARNING:root:Large gap between audio n_frames(120) and target_length (204). Is the audio_target_length setting correct?\n",
            "WARNING:root:Large gap between audio n_frames(120) and target_length (204). Is the audio_target_length setting correct?\n",
            "WARNING:root:Large gap between audio n_frames(120) and target_length (204). Is the audio_target_length setting correct?\n"
          ]
        },
        {
          "output_type": "stream",
          "name": "stdout",
          "text": [
            "Batch 56/64\n"
          ]
        },
        {
          "output_type": "stream",
          "name": "stderr",
          "text": [
            "WARNING:root:Large gap between audio n_frames(153) and target_length (204). Is the audio_target_length setting correct?\n",
            "WARNING:root:Large gap between audio n_frames(153) and target_length (204). Is the audio_target_length setting correct?\n",
            "WARNING:root:Large gap between audio n_frames(153) and target_length (204). Is the audio_target_length setting correct?\n",
            "WARNING:root:Large gap between audio n_frames(159) and target_length (204). Is the audio_target_length setting correct?\n",
            "WARNING:root:Large gap between audio n_frames(159) and target_length (204). Is the audio_target_length setting correct?\n",
            "WARNING:root:Large gap between audio n_frames(159) and target_length (204). Is the audio_target_length setting correct?\n",
            "WARNING:root:Large gap between audio n_frames(93) and target_length (204). Is the audio_target_length setting correct?\n",
            "WARNING:root:Large gap between audio n_frames(93) and target_length (204). Is the audio_target_length setting correct?\n"
          ]
        },
        {
          "output_type": "stream",
          "name": "stdout",
          "text": [
            "Batch 57/64\n"
          ]
        },
        {
          "output_type": "stream",
          "name": "stderr",
          "text": [
            "WARNING:root:Large gap between audio n_frames(93) and target_length (204). Is the audio_target_length setting correct?\n",
            "WARNING:root:Large gap between audio n_frames(95) and target_length (204). Is the audio_target_length setting correct?\n",
            "WARNING:root:Large gap between audio n_frames(95) and target_length (204). Is the audio_target_length setting correct?\n",
            "WARNING:root:Large gap between audio n_frames(95) and target_length (204). Is the audio_target_length setting correct?\n",
            "WARNING:root:Large gap between audio n_frames(99) and target_length (204). Is the audio_target_length setting correct?\n",
            "WARNING:root:Large gap between audio n_frames(99) and target_length (204). Is the audio_target_length setting correct?\n",
            "WARNING:root:Large gap between audio n_frames(99) and target_length (204). Is the audio_target_length setting correct?\n",
            "WARNING:root:Large gap between audio n_frames(94) and target_length (204). Is the audio_target_length setting correct?\n",
            "WARNING:root:Large gap between audio n_frames(94) and target_length (204). Is the audio_target_length setting correct?\n",
            "WARNING:root:Large gap between audio n_frames(94) and target_length (204). Is the audio_target_length setting correct?\n",
            "WARNING:root:Large gap between audio n_frames(96) and target_length (204). Is the audio_target_length setting correct?\n",
            "WARNING:root:Large gap between audio n_frames(96) and target_length (204). Is the audio_target_length setting correct?\n",
            "WARNING:root:Large gap between audio n_frames(96) and target_length (204). Is the audio_target_length setting correct?\n",
            "WARNING:root:Large gap between audio n_frames(96) and target_length (204). Is the audio_target_length setting correct?\n",
            "WARNING:root:Large gap between audio n_frames(96) and target_length (204). Is the audio_target_length setting correct?\n",
            "WARNING:root:Large gap between audio n_frames(96) and target_length (204). Is the audio_target_length setting correct?\n",
            "WARNING:root:Large gap between audio n_frames(115) and target_length (204). Is the audio_target_length setting correct?\n",
            "WARNING:root:Large gap between audio n_frames(115) and target_length (204). Is the audio_target_length setting correct?\n",
            "WARNING:root:Large gap between audio n_frames(115) and target_length (204). Is the audio_target_length setting correct?\n",
            "WARNING:root:Large gap between audio n_frames(149) and target_length (204). Is the audio_target_length setting correct?\n",
            "WARNING:root:Large gap between audio n_frames(149) and target_length (204). Is the audio_target_length setting correct?\n",
            "WARNING:root:Large gap between audio n_frames(149) and target_length (204). Is the audio_target_length setting correct?\n",
            "WARNING:root:Large gap between audio n_frames(136) and target_length (204). Is the audio_target_length setting correct?\n",
            "WARNING:root:Large gap between audio n_frames(136) and target_length (204). Is the audio_target_length setting correct?\n",
            "WARNING:root:Large gap between audio n_frames(136) and target_length (204). Is the audio_target_length setting correct?\n"
          ]
        },
        {
          "output_type": "stream",
          "name": "stdout",
          "text": [
            "Batch 58/64\n"
          ]
        },
        {
          "output_type": "stream",
          "name": "stderr",
          "text": [
            "WARNING:root:Large gap between audio n_frames(130) and target_length (204). Is the audio_target_length setting correct?\n",
            "WARNING:root:Large gap between audio n_frames(130) and target_length (204). Is the audio_target_length setting correct?\n",
            "WARNING:root:Large gap between audio n_frames(130) and target_length (204). Is the audio_target_length setting correct?\n",
            "WARNING:root:Large gap between audio n_frames(160) and target_length (204). Is the audio_target_length setting correct?\n",
            "WARNING:root:Large gap between audio n_frames(160) and target_length (204). Is the audio_target_length setting correct?\n",
            "WARNING:root:Large gap between audio n_frames(160) and target_length (204). Is the audio_target_length setting correct?\n",
            "WARNING:root:Large gap between audio n_frames(112) and target_length (204). Is the audio_target_length setting correct?\n",
            "WARNING:root:Large gap between audio n_frames(112) and target_length (204). Is the audio_target_length setting correct?\n",
            "WARNING:root:Large gap between audio n_frames(112) and target_length (204). Is the audio_target_length setting correct?\n"
          ]
        },
        {
          "output_type": "stream",
          "name": "stdout",
          "text": [
            "Batch 59/64\n"
          ]
        },
        {
          "output_type": "stream",
          "name": "stderr",
          "text": [
            "WARNING:root:Large gap between audio n_frames(146) and target_length (204). Is the audio_target_length setting correct?\n",
            "WARNING:root:Large gap between audio n_frames(146) and target_length (204). Is the audio_target_length setting correct?\n",
            "WARNING:root:Large gap between audio n_frames(146) and target_length (204). Is the audio_target_length setting correct?\n",
            "WARNING:root:Large gap between audio n_frames(118) and target_length (204). Is the audio_target_length setting correct?\n",
            "WARNING:root:Large gap between audio n_frames(118) and target_length (204). Is the audio_target_length setting correct?\n",
            "WARNING:root:Large gap between audio n_frames(118) and target_length (204). Is the audio_target_length setting correct?\n",
            "WARNING:root:Large gap between audio n_frames(129) and target_length (204). Is the audio_target_length setting correct?\n",
            "WARNING:root:Large gap between audio n_frames(129) and target_length (204). Is the audio_target_length setting correct?\n",
            "WARNING:root:Large gap between audio n_frames(129) and target_length (204). Is the audio_target_length setting correct?\n",
            "WARNING:root:Large gap between audio n_frames(137) and target_length (204). Is the audio_target_length setting correct?\n",
            "WARNING:root:Large gap between audio n_frames(137) and target_length (204). Is the audio_target_length setting correct?\n",
            "WARNING:root:Large gap between audio n_frames(137) and target_length (204). Is the audio_target_length setting correct?\n",
            "WARNING:root:Large gap between audio n_frames(148) and target_length (204). Is the audio_target_length setting correct?\n",
            "WARNING:root:Large gap between audio n_frames(148) and target_length (204). Is the audio_target_length setting correct?\n"
          ]
        },
        {
          "output_type": "stream",
          "name": "stdout",
          "text": [
            "Batch 60/64\n"
          ]
        },
        {
          "output_type": "stream",
          "name": "stderr",
          "text": [
            "WARNING:root:Large gap between audio n_frames(148) and target_length (204). Is the audio_target_length setting correct?\n",
            "WARNING:root:Large gap between audio n_frames(144) and target_length (204). Is the audio_target_length setting correct?\n",
            "WARNING:root:Large gap between audio n_frames(144) and target_length (204). Is the audio_target_length setting correct?\n",
            "WARNING:root:Large gap between audio n_frames(144) and target_length (204). Is the audio_target_length setting correct?\n",
            "WARNING:root:Large gap between audio n_frames(169) and target_length (204). Is the audio_target_length setting correct?\n",
            "WARNING:root:Large gap between audio n_frames(169) and target_length (204). Is the audio_target_length setting correct?\n",
            "WARNING:root:Large gap between audio n_frames(169) and target_length (204). Is the audio_target_length setting correct?\n"
          ]
        },
        {
          "output_type": "stream",
          "name": "stdout",
          "text": [
            "Batch 61/64\n",
            "Batch 62/64\n"
          ]
        },
        {
          "output_type": "stream",
          "name": "stderr",
          "text": [
            "WARNING:root:Large gap between audio n_frames(159) and target_length (204). Is the audio_target_length setting correct?\n",
            "WARNING:root:Large gap between audio n_frames(159) and target_length (204). Is the audio_target_length setting correct?\n",
            "WARNING:root:Large gap between audio n_frames(159) and target_length (204). Is the audio_target_length setting correct?\n",
            "WARNING:root:Large gap between audio n_frames(126) and target_length (204). Is the audio_target_length setting correct?\n",
            "WARNING:root:Large gap between audio n_frames(126) and target_length (204). Is the audio_target_length setting correct?\n",
            "WARNING:root:Large gap between audio n_frames(126) and target_length (204). Is the audio_target_length setting correct?\n",
            "WARNING:root:Large gap between audio n_frames(132) and target_length (204). Is the audio_target_length setting correct?\n",
            "WARNING:root:Large gap between audio n_frames(132) and target_length (204). Is the audio_target_length setting correct?\n",
            "WARNING:root:Large gap between audio n_frames(132) and target_length (204). Is the audio_target_length setting correct?\n"
          ]
        },
        {
          "output_type": "stream",
          "name": "stdout",
          "text": [
            "Batch 63/64\n"
          ]
        },
        {
          "output_type": "stream",
          "name": "stderr",
          "text": [
            "WARNING:root:Large gap between audio n_frames(154) and target_length (204). Is the audio_target_length setting correct?\n",
            "WARNING:root:Large gap between audio n_frames(154) and target_length (204). Is the audio_target_length setting correct?\n",
            "WARNING:root:Large gap between audio n_frames(154) and target_length (204). Is the audio_target_length setting correct?\n",
            "WARNING:root:Large gap between audio n_frames(168) and target_length (204). Is the audio_target_length setting correct?\n",
            "WARNING:root:Large gap between audio n_frames(168) and target_length (204). Is the audio_target_length setting correct?\n",
            "WARNING:root:Large gap between audio n_frames(168) and target_length (204). Is the audio_target_length setting correct?\n"
          ]
        },
        {
          "output_type": "stream",
          "name": "stdout",
          "text": [
            "Batch 64/64\n"
          ]
        },
        {
          "output_type": "stream",
          "name": "stderr",
          "text": [
            "WARNING:root:Large gap between audio n_frames(67) and target_length (204). Is the audio_target_length setting correct?\n",
            "WARNING:root:Large gap between audio n_frames(67) and target_length (204). Is the audio_target_length setting correct?\n",
            "WARNING:root:Large gap between audio n_frames(67) and target_length (204). Is the audio_target_length setting correct?\n",
            "WARNING:root:Large gap between audio n_frames(108) and target_length (204). Is the audio_target_length setting correct?\n",
            "WARNING:root:Large gap between audio n_frames(108) and target_length (204). Is the audio_target_length setting correct?\n",
            "WARNING:root:Large gap between audio n_frames(108) and target_length (204). Is the audio_target_length setting correct?\n",
            "WARNING:root:Large gap between audio n_frames(122) and target_length (204). Is the audio_target_length setting correct?\n",
            "WARNING:root:Large gap between audio n_frames(122) and target_length (204). Is the audio_target_length setting correct?\n",
            "WARNING:root:Large gap between audio n_frames(122) and target_length (204). Is the audio_target_length setting correct?\n",
            "WARNING:root:Large gap between audio n_frames(128) and target_length (204). Is the audio_target_length setting correct?\n",
            "WARNING:root:Large gap between audio n_frames(128) and target_length (204). Is the audio_target_length setting correct?\n",
            "WARNING:root:Large gap between audio n_frames(128) and target_length (204). Is the audio_target_length setting correct?\n"
          ]
        },
        {
          "output_type": "stream",
          "name": "stdout",
          "text": [
            "Processing session Session3......\n",
            "Batch 1/77\n"
          ]
        },
        {
          "output_type": "stream",
          "name": "stderr",
          "text": [
            "WARNING:root:Large gap between audio n_frames(158) and target_length (204). Is the audio_target_length setting correct?\n",
            "WARNING:root:Large gap between audio n_frames(158) and target_length (204). Is the audio_target_length setting correct?\n",
            "WARNING:root:Large gap between audio n_frames(158) and target_length (204). Is the audio_target_length setting correct?\n",
            "WARNING:root:Large gap between audio n_frames(161) and target_length (204). Is the audio_target_length setting correct?\n",
            "WARNING:root:Large gap between audio n_frames(161) and target_length (204). Is the audio_target_length setting correct?\n",
            "WARNING:root:Large gap between audio n_frames(161) and target_length (204). Is the audio_target_length setting correct?\n",
            "WARNING:root:Large gap between audio n_frames(168) and target_length (204). Is the audio_target_length setting correct?\n",
            "WARNING:root:Large gap between audio n_frames(168) and target_length (204). Is the audio_target_length setting correct?\n",
            "WARNING:root:Large gap between audio n_frames(168) and target_length (204). Is the audio_target_length setting correct?\n",
            "WARNING:root:Large gap between audio n_frames(100) and target_length (204). Is the audio_target_length setting correct?\n",
            "WARNING:root:Large gap between audio n_frames(100) and target_length (204). Is the audio_target_length setting correct?\n",
            "WARNING:root:Large gap between audio n_frames(100) and target_length (204). Is the audio_target_length setting correct?\n",
            "WARNING:root:Large gap between audio n_frames(156) and target_length (204). Is the audio_target_length setting correct?\n",
            "WARNING:root:Large gap between audio n_frames(156) and target_length (204). Is the audio_target_length setting correct?\n",
            "WARNING:root:Large gap between audio n_frames(156) and target_length (204). Is the audio_target_length setting correct?\n",
            "WARNING:root:Large gap between audio n_frames(150) and target_length (204). Is the audio_target_length setting correct?\n",
            "WARNING:root:Large gap between audio n_frames(150) and target_length (204). Is the audio_target_length setting correct?\n",
            "WARNING:root:Large gap between audio n_frames(150) and target_length (204). Is the audio_target_length setting correct?\n",
            "WARNING:root:Large gap between audio n_frames(112) and target_length (204). Is the audio_target_length setting correct?\n",
            "WARNING:root:Large gap between audio n_frames(112) and target_length (204). Is the audio_target_length setting correct?\n",
            "WARNING:root:Large gap between audio n_frames(112) and target_length (204). Is the audio_target_length setting correct?\n",
            "WARNING:root:Large gap between audio n_frames(98) and target_length (204). Is the audio_target_length setting correct?\n",
            "WARNING:root:Large gap between audio n_frames(98) and target_length (204). Is the audio_target_length setting correct?\n",
            "WARNING:root:Large gap between audio n_frames(98) and target_length (204). Is the audio_target_length setting correct?\n"
          ]
        },
        {
          "output_type": "stream",
          "name": "stdout",
          "text": [
            "Batch 2/77\n"
          ]
        },
        {
          "output_type": "stream",
          "name": "stderr",
          "text": [
            "WARNING:root:Large gap between audio n_frames(142) and target_length (204). Is the audio_target_length setting correct?\n",
            "WARNING:root:Large gap between audio n_frames(142) and target_length (204). Is the audio_target_length setting correct?\n",
            "WARNING:root:Large gap between audio n_frames(142) and target_length (204). Is the audio_target_length setting correct?\n",
            "WARNING:root:Large gap between audio n_frames(156) and target_length (204). Is the audio_target_length setting correct?\n",
            "WARNING:root:Large gap between audio n_frames(156) and target_length (204). Is the audio_target_length setting correct?\n",
            "WARNING:root:Large gap between audio n_frames(156) and target_length (204). Is the audio_target_length setting correct?\n",
            "WARNING:root:Large gap between audio n_frames(164) and target_length (204). Is the audio_target_length setting correct?\n",
            "WARNING:root:Large gap between audio n_frames(164) and target_length (204). Is the audio_target_length setting correct?\n",
            "WARNING:root:Large gap between audio n_frames(164) and target_length (204). Is the audio_target_length setting correct?\n"
          ]
        },
        {
          "output_type": "stream",
          "name": "stdout",
          "text": [
            "Batch 3/77\n"
          ]
        },
        {
          "output_type": "stream",
          "name": "stderr",
          "text": [
            "WARNING:root:Large gap between audio n_frames(135) and target_length (204). Is the audio_target_length setting correct?\n",
            "WARNING:root:Large gap between audio n_frames(135) and target_length (204). Is the audio_target_length setting correct?\n",
            "WARNING:root:Large gap between audio n_frames(135) and target_length (204). Is the audio_target_length setting correct?\n",
            "WARNING:root:Large gap between audio n_frames(126) and target_length (204). Is the audio_target_length setting correct?\n",
            "WARNING:root:Large gap between audio n_frames(126) and target_length (204). Is the audio_target_length setting correct?\n",
            "WARNING:root:Large gap between audio n_frames(126) and target_length (204). Is the audio_target_length setting correct?\n",
            "WARNING:root:Large gap between audio n_frames(144) and target_length (204). Is the audio_target_length setting correct?\n",
            "WARNING:root:Large gap between audio n_frames(144) and target_length (204). Is the audio_target_length setting correct?\n",
            "WARNING:root:Large gap between audio n_frames(144) and target_length (204). Is the audio_target_length setting correct?\n",
            "WARNING:root:Large gap between audio n_frames(138) and target_length (204). Is the audio_target_length setting correct?\n",
            "WARNING:root:Large gap between audio n_frames(138) and target_length (204). Is the audio_target_length setting correct?\n",
            "WARNING:root:Large gap between audio n_frames(138) and target_length (204). Is the audio_target_length setting correct?\n",
            "WARNING:root:Large gap between audio n_frames(163) and target_length (204). Is the audio_target_length setting correct?\n",
            "WARNING:root:Large gap between audio n_frames(163) and target_length (204). Is the audio_target_length setting correct?\n",
            "WARNING:root:Large gap between audio n_frames(163) and target_length (204). Is the audio_target_length setting correct?\n"
          ]
        },
        {
          "output_type": "stream",
          "name": "stdout",
          "text": [
            "Batch 4/77\n"
          ]
        },
        {
          "output_type": "stream",
          "name": "stderr",
          "text": [
            "WARNING:root:Large gap between audio n_frames(165) and target_length (204). Is the audio_target_length setting correct?\n",
            "WARNING:root:Large gap between audio n_frames(165) and target_length (204). Is the audio_target_length setting correct?\n",
            "WARNING:root:Large gap between audio n_frames(165) and target_length (204). Is the audio_target_length setting correct?\n"
          ]
        },
        {
          "output_type": "stream",
          "name": "stdout",
          "text": [
            "Batch 5/77\n"
          ]
        },
        {
          "output_type": "stream",
          "name": "stderr",
          "text": [
            "WARNING:root:Large gap between audio n_frames(140) and target_length (204). Is the audio_target_length setting correct?\n",
            "WARNING:root:Large gap between audio n_frames(140) and target_length (204). Is the audio_target_length setting correct?\n",
            "WARNING:root:Large gap between audio n_frames(140) and target_length (204). Is the audio_target_length setting correct?\n",
            "WARNING:root:Large gap between audio n_frames(160) and target_length (204). Is the audio_target_length setting correct?\n",
            "WARNING:root:Large gap between audio n_frames(160) and target_length (204). Is the audio_target_length setting correct?\n",
            "WARNING:root:Large gap between audio n_frames(160) and target_length (204). Is the audio_target_length setting correct?\n",
            "WARNING:root:Large gap between audio n_frames(151) and target_length (204). Is the audio_target_length setting correct?\n",
            "WARNING:root:Large gap between audio n_frames(151) and target_length (204). Is the audio_target_length setting correct?\n",
            "WARNING:root:Large gap between audio n_frames(151) and target_length (204). Is the audio_target_length setting correct?\n",
            "WARNING:root:Large gap between audio n_frames(133) and target_length (204). Is the audio_target_length setting correct?\n",
            "WARNING:root:Large gap between audio n_frames(133) and target_length (204). Is the audio_target_length setting correct?\n",
            "WARNING:root:Large gap between audio n_frames(133) and target_length (204). Is the audio_target_length setting correct?\n",
            "WARNING:root:Large gap between audio n_frames(146) and target_length (204). Is the audio_target_length setting correct?\n",
            "WARNING:root:Large gap between audio n_frames(146) and target_length (204). Is the audio_target_length setting correct?\n",
            "WARNING:root:Large gap between audio n_frames(146) and target_length (204). Is the audio_target_length setting correct?\n"
          ]
        },
        {
          "output_type": "stream",
          "name": "stdout",
          "text": [
            "Batch 6/77\n"
          ]
        },
        {
          "output_type": "stream",
          "name": "stderr",
          "text": [
            "WARNING:root:Large gap between audio n_frames(158) and target_length (204). Is the audio_target_length setting correct?\n",
            "WARNING:root:Large gap between audio n_frames(158) and target_length (204). Is the audio_target_length setting correct?\n",
            "WARNING:root:Large gap between audio n_frames(158) and target_length (204). Is the audio_target_length setting correct?\n",
            "WARNING:root:Large gap between audio n_frames(160) and target_length (204). Is the audio_target_length setting correct?\n",
            "WARNING:root:Large gap between audio n_frames(160) and target_length (204). Is the audio_target_length setting correct?\n",
            "WARNING:root:Large gap between audio n_frames(160) and target_length (204). Is the audio_target_length setting correct?\n",
            "WARNING:root:Large gap between audio n_frames(110) and target_length (204). Is the audio_target_length setting correct?\n",
            "WARNING:root:Large gap between audio n_frames(110) and target_length (204). Is the audio_target_length setting correct?\n",
            "WARNING:root:Large gap between audio n_frames(110) and target_length (204). Is the audio_target_length setting correct?\n"
          ]
        },
        {
          "output_type": "stream",
          "name": "stdout",
          "text": [
            "Batch 7/77\n"
          ]
        },
        {
          "output_type": "stream",
          "name": "stderr",
          "text": [
            "WARNING:root:Large gap between audio n_frames(134) and target_length (204). Is the audio_target_length setting correct?\n",
            "WARNING:root:Large gap between audio n_frames(134) and target_length (204). Is the audio_target_length setting correct?\n",
            "WARNING:root:Large gap between audio n_frames(134) and target_length (204). Is the audio_target_length setting correct?\n",
            "WARNING:root:Large gap between audio n_frames(154) and target_length (204). Is the audio_target_length setting correct?\n",
            "WARNING:root:Large gap between audio n_frames(154) and target_length (204). Is the audio_target_length setting correct?\n",
            "WARNING:root:Large gap between audio n_frames(154) and target_length (204). Is the audio_target_length setting correct?\n"
          ]
        },
        {
          "output_type": "stream",
          "name": "stdout",
          "text": [
            "Batch 8/77\n",
            "Batch 9/77\n",
            "Batch 10/77\n"
          ]
        },
        {
          "output_type": "stream",
          "name": "stderr",
          "text": [
            "WARNING:root:Large gap between audio n_frames(117) and target_length (204). Is the audio_target_length setting correct?\n",
            "WARNING:root:Large gap between audio n_frames(117) and target_length (204). Is the audio_target_length setting correct?\n",
            "WARNING:root:Large gap between audio n_frames(117) and target_length (204). Is the audio_target_length setting correct?\n"
          ]
        },
        {
          "output_type": "stream",
          "name": "stdout",
          "text": [
            "Batch 11/77\n"
          ]
        },
        {
          "output_type": "stream",
          "name": "stderr",
          "text": [
            "WARNING:root:Large gap between audio n_frames(98) and target_length (204). Is the audio_target_length setting correct?\n",
            "WARNING:root:Large gap between audio n_frames(98) and target_length (204). Is the audio_target_length setting correct?\n",
            "WARNING:root:Large gap between audio n_frames(98) and target_length (204). Is the audio_target_length setting correct?\n",
            "WARNING:root:Large gap between audio n_frames(156) and target_length (204). Is the audio_target_length setting correct?\n",
            "WARNING:root:Large gap between audio n_frames(156) and target_length (204). Is the audio_target_length setting correct?\n",
            "WARNING:root:Large gap between audio n_frames(156) and target_length (204). Is the audio_target_length setting correct?\n",
            "WARNING:root:Large gap between audio n_frames(135) and target_length (204). Is the audio_target_length setting correct?\n",
            "WARNING:root:Large gap between audio n_frames(135) and target_length (204). Is the audio_target_length setting correct?\n",
            "WARNING:root:Large gap between audio n_frames(135) and target_length (204). Is the audio_target_length setting correct?\n",
            "WARNING:root:Large gap between audio n_frames(149) and target_length (204). Is the audio_target_length setting correct?\n"
          ]
        },
        {
          "output_type": "stream",
          "name": "stdout",
          "text": [
            "Batch 12/77\n"
          ]
        },
        {
          "output_type": "stream",
          "name": "stderr",
          "text": [
            "WARNING:root:Large gap between audio n_frames(149) and target_length (204). Is the audio_target_length setting correct?\n",
            "WARNING:root:Large gap between audio n_frames(149) and target_length (204). Is the audio_target_length setting correct?\n",
            "WARNING:root:Large gap between audio n_frames(164) and target_length (204). Is the audio_target_length setting correct?\n",
            "WARNING:root:Large gap between audio n_frames(164) and target_length (204). Is the audio_target_length setting correct?\n",
            "WARNING:root:Large gap between audio n_frames(164) and target_length (204). Is the audio_target_length setting correct?\n",
            "WARNING:root:Large gap between audio n_frames(136) and target_length (204). Is the audio_target_length setting correct?\n",
            "WARNING:root:Large gap between audio n_frames(136) and target_length (204). Is the audio_target_length setting correct?\n",
            "WARNING:root:Large gap between audio n_frames(136) and target_length (204). Is the audio_target_length setting correct?\n",
            "WARNING:root:Large gap between audio n_frames(166) and target_length (204). Is the audio_target_length setting correct?\n",
            "WARNING:root:Large gap between audio n_frames(166) and target_length (204). Is the audio_target_length setting correct?\n",
            "WARNING:root:Large gap between audio n_frames(166) and target_length (204). Is the audio_target_length setting correct?\n",
            "WARNING:root:Large gap between audio n_frames(115) and target_length (204). Is the audio_target_length setting correct?\n",
            "WARNING:root:Large gap between audio n_frames(115) and target_length (204). Is the audio_target_length setting correct?\n",
            "WARNING:root:Large gap between audio n_frames(115) and target_length (204). Is the audio_target_length setting correct?\n",
            "WARNING:root:Large gap between audio n_frames(130) and target_length (204). Is the audio_target_length setting correct?\n",
            "WARNING:root:Large gap between audio n_frames(130) and target_length (204). Is the audio_target_length setting correct?\n",
            "WARNING:root:Large gap between audio n_frames(130) and target_length (204). Is the audio_target_length setting correct?\n",
            "WARNING:root:Large gap between audio n_frames(105) and target_length (204). Is the audio_target_length setting correct?\n",
            "WARNING:root:Large gap between audio n_frames(105) and target_length (204). Is the audio_target_length setting correct?\n",
            "WARNING:root:Large gap between audio n_frames(105) and target_length (204). Is the audio_target_length setting correct?\n"
          ]
        },
        {
          "output_type": "stream",
          "name": "stdout",
          "text": [
            "Batch 13/77\n"
          ]
        },
        {
          "output_type": "stream",
          "name": "stderr",
          "text": [
            "WARNING:root:Large gap between audio n_frames(117) and target_length (204). Is the audio_target_length setting correct?\n",
            "WARNING:root:Large gap between audio n_frames(117) and target_length (204). Is the audio_target_length setting correct?\n",
            "WARNING:root:Large gap between audio n_frames(117) and target_length (204). Is the audio_target_length setting correct?\n",
            "WARNING:root:Large gap between audio n_frames(130) and target_length (204). Is the audio_target_length setting correct?\n",
            "WARNING:root:Large gap between audio n_frames(130) and target_length (204). Is the audio_target_length setting correct?\n",
            "WARNING:root:Large gap between audio n_frames(130) and target_length (204). Is the audio_target_length setting correct?\n",
            "WARNING:root:Large gap between audio n_frames(71) and target_length (204). Is the audio_target_length setting correct?\n",
            "WARNING:root:Large gap between audio n_frames(71) and target_length (204). Is the audio_target_length setting correct?\n",
            "WARNING:root:Large gap between audio n_frames(71) and target_length (204). Is the audio_target_length setting correct?\n",
            "WARNING:root:Large gap between audio n_frames(156) and target_length (204). Is the audio_target_length setting correct?\n",
            "WARNING:root:Large gap between audio n_frames(156) and target_length (204). Is the audio_target_length setting correct?\n",
            "WARNING:root:Large gap between audio n_frames(156) and target_length (204). Is the audio_target_length setting correct?\n",
            "WARNING:root:Large gap between audio n_frames(131) and target_length (204). Is the audio_target_length setting correct?\n",
            "WARNING:root:Large gap between audio n_frames(131) and target_length (204). Is the audio_target_length setting correct?\n"
          ]
        },
        {
          "output_type": "stream",
          "name": "stdout",
          "text": [
            "Batch 14/77\n"
          ]
        },
        {
          "output_type": "stream",
          "name": "stderr",
          "text": [
            "WARNING:root:Large gap between audio n_frames(131) and target_length (204). Is the audio_target_length setting correct?\n",
            "WARNING:root:Large gap between audio n_frames(123) and target_length (204). Is the audio_target_length setting correct?\n",
            "WARNING:root:Large gap between audio n_frames(123) and target_length (204). Is the audio_target_length setting correct?\n",
            "WARNING:root:Large gap between audio n_frames(123) and target_length (204). Is the audio_target_length setting correct?\n",
            "WARNING:root:Large gap between audio n_frames(164) and target_length (204). Is the audio_target_length setting correct?\n",
            "WARNING:root:Large gap between audio n_frames(164) and target_length (204). Is the audio_target_length setting correct?\n",
            "WARNING:root:Large gap between audio n_frames(164) and target_length (204). Is the audio_target_length setting correct?\n"
          ]
        },
        {
          "output_type": "stream",
          "name": "stdout",
          "text": [
            "Batch 15/77\n",
            "Batch 16/77\n",
            "Batch 17/77\n",
            "Batch 18/77\n",
            "Batch 19/77\n"
          ]
        },
        {
          "output_type": "stream",
          "name": "stderr",
          "text": [
            "WARNING:root:Large gap between audio n_frames(166) and target_length (204). Is the audio_target_length setting correct?\n",
            "WARNING:root:Large gap between audio n_frames(166) and target_length (204). Is the audio_target_length setting correct?\n",
            "WARNING:root:Large gap between audio n_frames(166) and target_length (204). Is the audio_target_length setting correct?\n"
          ]
        },
        {
          "output_type": "stream",
          "name": "stdout",
          "text": [
            "Batch 20/77\n"
          ]
        },
        {
          "output_type": "stream",
          "name": "stderr",
          "text": [
            "WARNING:root:Large gap between audio n_frames(162) and target_length (204). Is the audio_target_length setting correct?\n",
            "WARNING:root:Large gap between audio n_frames(162) and target_length (204). Is the audio_target_length setting correct?\n",
            "WARNING:root:Large gap between audio n_frames(162) and target_length (204). Is the audio_target_length setting correct?\n",
            "WARNING:root:Large gap between audio n_frames(161) and target_length (204). Is the audio_target_length setting correct?\n",
            "WARNING:root:Large gap between audio n_frames(161) and target_length (204). Is the audio_target_length setting correct?\n",
            "WARNING:root:Large gap between audio n_frames(161) and target_length (204). Is the audio_target_length setting correct?\n"
          ]
        },
        {
          "output_type": "stream",
          "name": "stdout",
          "text": [
            "Batch 21/77\n",
            "Batch 22/77\n"
          ]
        },
        {
          "output_type": "stream",
          "name": "stderr",
          "text": [
            "WARNING:root:Large gap between audio n_frames(169) and target_length (204). Is the audio_target_length setting correct?\n",
            "WARNING:root:Large gap between audio n_frames(169) and target_length (204). Is the audio_target_length setting correct?\n",
            "WARNING:root:Large gap between audio n_frames(169) and target_length (204). Is the audio_target_length setting correct?\n"
          ]
        },
        {
          "output_type": "stream",
          "name": "stdout",
          "text": [
            "Batch 23/77\n"
          ]
        },
        {
          "output_type": "stream",
          "name": "stderr",
          "text": [
            "WARNING:root:Large gap between audio n_frames(120) and target_length (204). Is the audio_target_length setting correct?\n",
            "WARNING:root:Large gap between audio n_frames(120) and target_length (204). Is the audio_target_length setting correct?\n",
            "WARNING:root:Large gap between audio n_frames(120) and target_length (204). Is the audio_target_length setting correct?\n",
            "WARNING:root:Large gap between audio n_frames(162) and target_length (204). Is the audio_target_length setting correct?\n"
          ]
        },
        {
          "output_type": "stream",
          "name": "stdout",
          "text": [
            "Batch 24/77\n"
          ]
        },
        {
          "output_type": "stream",
          "name": "stderr",
          "text": [
            "WARNING:root:Large gap between audio n_frames(162) and target_length (204). Is the audio_target_length setting correct?\n",
            "WARNING:root:Large gap between audio n_frames(162) and target_length (204). Is the audio_target_length setting correct?\n"
          ]
        },
        {
          "output_type": "stream",
          "name": "stdout",
          "text": [
            "Batch 25/77\n",
            "Batch 26/77\n",
            "Batch 27/77\n",
            "Batch 28/77\n",
            "Batch 29/77\n"
          ]
        },
        {
          "output_type": "stream",
          "name": "stderr",
          "text": [
            "WARNING:root:Large gap between audio n_frames(164) and target_length (204). Is the audio_target_length setting correct?\n",
            "WARNING:root:Large gap between audio n_frames(164) and target_length (204). Is the audio_target_length setting correct?\n",
            "WARNING:root:Large gap between audio n_frames(164) and target_length (204). Is the audio_target_length setting correct?\n"
          ]
        },
        {
          "output_type": "stream",
          "name": "stdout",
          "text": [
            "Batch 30/77\n"
          ]
        },
        {
          "output_type": "stream",
          "name": "stderr",
          "text": [
            "WARNING:root:Large gap between audio n_frames(150) and target_length (204). Is the audio_target_length setting correct?\n",
            "WARNING:root:Large gap between audio n_frames(150) and target_length (204). Is the audio_target_length setting correct?\n",
            "WARNING:root:Large gap between audio n_frames(150) and target_length (204). Is the audio_target_length setting correct?\n"
          ]
        },
        {
          "output_type": "stream",
          "name": "stdout",
          "text": [
            "Batch 31/77\n"
          ]
        },
        {
          "output_type": "stream",
          "name": "stderr",
          "text": [
            "WARNING:root:Large gap between audio n_frames(145) and target_length (204). Is the audio_target_length setting correct?\n",
            "WARNING:root:Large gap between audio n_frames(145) and target_length (204). Is the audio_target_length setting correct?\n",
            "WARNING:root:Large gap between audio n_frames(145) and target_length (204). Is the audio_target_length setting correct?\n",
            "WARNING:root:Large gap between audio n_frames(136) and target_length (204). Is the audio_target_length setting correct?\n",
            "WARNING:root:Large gap between audio n_frames(136) and target_length (204). Is the audio_target_length setting correct?\n",
            "WARNING:root:Large gap between audio n_frames(136) and target_length (204). Is the audio_target_length setting correct?\n"
          ]
        },
        {
          "output_type": "stream",
          "name": "stdout",
          "text": [
            "Batch 32/77\n"
          ]
        },
        {
          "output_type": "stream",
          "name": "stderr",
          "text": [
            "WARNING:root:Large gap between audio n_frames(136) and target_length (204). Is the audio_target_length setting correct?\n",
            "WARNING:root:Large gap between audio n_frames(136) and target_length (204). Is the audio_target_length setting correct?\n",
            "WARNING:root:Large gap between audio n_frames(136) and target_length (204). Is the audio_target_length setting correct?\n",
            "WARNING:root:Large gap between audio n_frames(140) and target_length (204). Is the audio_target_length setting correct?\n",
            "WARNING:root:Large gap between audio n_frames(140) and target_length (204). Is the audio_target_length setting correct?\n",
            "WARNING:root:Large gap between audio n_frames(140) and target_length (204). Is the audio_target_length setting correct?\n",
            "WARNING:root:Large gap between audio n_frames(144) and target_length (204). Is the audio_target_length setting correct?\n",
            "WARNING:root:Large gap between audio n_frames(144) and target_length (204). Is the audio_target_length setting correct?\n",
            "WARNING:root:Large gap between audio n_frames(144) and target_length (204). Is the audio_target_length setting correct?\n",
            "WARNING:root:Large gap between audio n_frames(154) and target_length (204). Is the audio_target_length setting correct?\n",
            "WARNING:root:Large gap between audio n_frames(154) and target_length (204). Is the audio_target_length setting correct?\n",
            "WARNING:root:Large gap between audio n_frames(154) and target_length (204). Is the audio_target_length setting correct?\n"
          ]
        },
        {
          "output_type": "stream",
          "name": "stdout",
          "text": [
            "Batch 33/77\n"
          ]
        },
        {
          "output_type": "stream",
          "name": "stderr",
          "text": [
            "WARNING:root:Large gap between audio n_frames(169) and target_length (204). Is the audio_target_length setting correct?\n",
            "WARNING:root:Large gap between audio n_frames(169) and target_length (204). Is the audio_target_length setting correct?\n",
            "WARNING:root:Large gap between audio n_frames(169) and target_length (204). Is the audio_target_length setting correct?\n",
            "WARNING:root:Large gap between audio n_frames(161) and target_length (204). Is the audio_target_length setting correct?\n",
            "WARNING:root:Large gap between audio n_frames(161) and target_length (204). Is the audio_target_length setting correct?\n",
            "WARNING:root:Large gap between audio n_frames(161) and target_length (204). Is the audio_target_length setting correct?\n",
            "WARNING:root:Large gap between audio n_frames(110) and target_length (204). Is the audio_target_length setting correct?\n",
            "WARNING:root:Large gap between audio n_frames(110) and target_length (204). Is the audio_target_length setting correct?\n",
            "WARNING:root:Large gap between audio n_frames(110) and target_length (204). Is the audio_target_length setting correct?\n",
            "WARNING:root:Large gap between audio n_frames(137) and target_length (204). Is the audio_target_length setting correct?\n",
            "WARNING:root:Large gap between audio n_frames(137) and target_length (204). Is the audio_target_length setting correct?\n",
            "WARNING:root:Large gap between audio n_frames(137) and target_length (204). Is the audio_target_length setting correct?\n",
            "WARNING:root:Large gap between audio n_frames(116) and target_length (204). Is the audio_target_length setting correct?\n",
            "WARNING:root:Large gap between audio n_frames(116) and target_length (204). Is the audio_target_length setting correct?\n",
            "WARNING:root:Large gap between audio n_frames(116) and target_length (204). Is the audio_target_length setting correct?\n"
          ]
        },
        {
          "output_type": "stream",
          "name": "stdout",
          "text": [
            "Batch 34/77\n"
          ]
        },
        {
          "output_type": "stream",
          "name": "stderr",
          "text": [
            "WARNING:root:Large gap between audio n_frames(148) and target_length (204). Is the audio_target_length setting correct?\n",
            "WARNING:root:Large gap between audio n_frames(148) and target_length (204). Is the audio_target_length setting correct?\n",
            "WARNING:root:Large gap between audio n_frames(148) and target_length (204). Is the audio_target_length setting correct?\n"
          ]
        },
        {
          "output_type": "stream",
          "name": "stdout",
          "text": [
            "Batch 35/77\n"
          ]
        },
        {
          "output_type": "stream",
          "name": "stderr",
          "text": [
            "WARNING:root:Large gap between audio n_frames(167) and target_length (204). Is the audio_target_length setting correct?\n",
            "WARNING:root:Large gap between audio n_frames(167) and target_length (204). Is the audio_target_length setting correct?\n",
            "WARNING:root:Large gap between audio n_frames(167) and target_length (204). Is the audio_target_length setting correct?\n",
            "WARNING:root:Large gap between audio n_frames(161) and target_length (204). Is the audio_target_length setting correct?\n",
            "WARNING:root:Large gap between audio n_frames(161) and target_length (204). Is the audio_target_length setting correct?\n",
            "WARNING:root:Large gap between audio n_frames(161) and target_length (204). Is the audio_target_length setting correct?\n",
            "WARNING:root:Large gap between audio n_frames(113) and target_length (204). Is the audio_target_length setting correct?\n",
            "WARNING:root:Large gap between audio n_frames(113) and target_length (204). Is the audio_target_length setting correct?\n",
            "WARNING:root:Large gap between audio n_frames(113) and target_length (204). Is the audio_target_length setting correct?\n",
            "WARNING:root:Large gap between audio n_frames(158) and target_length (204). Is the audio_target_length setting correct?\n",
            "WARNING:root:Large gap between audio n_frames(158) and target_length (204). Is the audio_target_length setting correct?\n",
            "WARNING:root:Large gap between audio n_frames(158) and target_length (204). Is the audio_target_length setting correct?\n"
          ]
        },
        {
          "output_type": "stream",
          "name": "stdout",
          "text": [
            "Batch 36/77\n"
          ]
        },
        {
          "output_type": "stream",
          "name": "stderr",
          "text": [
            "WARNING:root:Large gap between audio n_frames(157) and target_length (204). Is the audio_target_length setting correct?\n",
            "WARNING:root:Large gap between audio n_frames(157) and target_length (204). Is the audio_target_length setting correct?\n",
            "WARNING:root:Large gap between audio n_frames(157) and target_length (204). Is the audio_target_length setting correct?\n"
          ]
        },
        {
          "output_type": "stream",
          "name": "stdout",
          "text": [
            "Batch 37/77\n",
            "Batch 38/77\n",
            "Batch 39/77\n"
          ]
        },
        {
          "output_type": "stream",
          "name": "stderr",
          "text": [
            "WARNING:root:Large gap between audio n_frames(158) and target_length (204). Is the audio_target_length setting correct?\n",
            "WARNING:root:Large gap between audio n_frames(158) and target_length (204). Is the audio_target_length setting correct?\n",
            "WARNING:root:Large gap between audio n_frames(158) and target_length (204). Is the audio_target_length setting correct?\n",
            "WARNING:root:Large gap between audio n_frames(139) and target_length (204). Is the audio_target_length setting correct?\n",
            "WARNING:root:Large gap between audio n_frames(139) and target_length (204). Is the audio_target_length setting correct?\n",
            "WARNING:root:Large gap between audio n_frames(139) and target_length (204). Is the audio_target_length setting correct?\n"
          ]
        },
        {
          "output_type": "stream",
          "name": "stdout",
          "text": [
            "Batch 40/77\n",
            "Batch 41/77\n",
            "Batch 42/77\n"
          ]
        },
        {
          "output_type": "stream",
          "name": "stderr",
          "text": [
            "WARNING:root:Large gap between audio n_frames(169) and target_length (204). Is the audio_target_length setting correct?\n",
            "WARNING:root:Large gap between audio n_frames(169) and target_length (204). Is the audio_target_length setting correct?\n",
            "WARNING:root:Large gap between audio n_frames(169) and target_length (204). Is the audio_target_length setting correct?\n",
            "WARNING:root:Large gap between audio n_frames(157) and target_length (204). Is the audio_target_length setting correct?\n",
            "WARNING:root:Large gap between audio n_frames(157) and target_length (204). Is the audio_target_length setting correct?\n",
            "WARNING:root:Large gap between audio n_frames(157) and target_length (204). Is the audio_target_length setting correct?\n",
            "WARNING:root:Large gap between audio n_frames(123) and target_length (204). Is the audio_target_length setting correct?\n",
            "WARNING:root:Large gap between audio n_frames(123) and target_length (204). Is the audio_target_length setting correct?\n",
            "WARNING:root:Large gap between audio n_frames(123) and target_length (204). Is the audio_target_length setting correct?\n"
          ]
        },
        {
          "output_type": "stream",
          "name": "stdout",
          "text": [
            "Batch 43/77\n",
            "Batch 44/77\n"
          ]
        },
        {
          "output_type": "stream",
          "name": "stderr",
          "text": [
            "WARNING:root:Large gap between audio n_frames(150) and target_length (204). Is the audio_target_length setting correct?\n",
            "WARNING:root:Large gap between audio n_frames(150) and target_length (204). Is the audio_target_length setting correct?\n",
            "WARNING:root:Large gap between audio n_frames(150) and target_length (204). Is the audio_target_length setting correct?\n",
            "WARNING:root:Large gap between audio n_frames(152) and target_length (204). Is the audio_target_length setting correct?\n",
            "WARNING:root:Large gap between audio n_frames(152) and target_length (204). Is the audio_target_length setting correct?\n",
            "WARNING:root:Large gap between audio n_frames(152) and target_length (204). Is the audio_target_length setting correct?\n",
            "WARNING:root:Large gap between audio n_frames(164) and target_length (204). Is the audio_target_length setting correct?\n",
            "WARNING:root:Large gap between audio n_frames(164) and target_length (204). Is the audio_target_length setting correct?\n",
            "WARNING:root:Large gap between audio n_frames(164) and target_length (204). Is the audio_target_length setting correct?\n"
          ]
        },
        {
          "output_type": "stream",
          "name": "stdout",
          "text": [
            "Batch 45/77\n"
          ]
        },
        {
          "output_type": "stream",
          "name": "stderr",
          "text": [
            "WARNING:root:Large gap between audio n_frames(167) and target_length (204). Is the audio_target_length setting correct?\n",
            "WARNING:root:Large gap between audio n_frames(167) and target_length (204). Is the audio_target_length setting correct?\n",
            "WARNING:root:Large gap between audio n_frames(167) and target_length (204). Is the audio_target_length setting correct?\n",
            "WARNING:root:Large gap between audio n_frames(120) and target_length (204). Is the audio_target_length setting correct?\n",
            "WARNING:root:Large gap between audio n_frames(120) and target_length (204). Is the audio_target_length setting correct?\n",
            "WARNING:root:Large gap between audio n_frames(120) and target_length (204). Is the audio_target_length setting correct?\n",
            "WARNING:root:Large gap between audio n_frames(124) and target_length (204). Is the audio_target_length setting correct?\n",
            "WARNING:root:Large gap between audio n_frames(124) and target_length (204). Is the audio_target_length setting correct?\n",
            "WARNING:root:Large gap between audio n_frames(124) and target_length (204). Is the audio_target_length setting correct?\n",
            "WARNING:root:Large gap between audio n_frames(136) and target_length (204). Is the audio_target_length setting correct?\n",
            "WARNING:root:Large gap between audio n_frames(136) and target_length (204). Is the audio_target_length setting correct?\n",
            "WARNING:root:Large gap between audio n_frames(136) and target_length (204). Is the audio_target_length setting correct?\n"
          ]
        },
        {
          "output_type": "stream",
          "name": "stdout",
          "text": [
            "Batch 46/77\n"
          ]
        },
        {
          "output_type": "stream",
          "name": "stderr",
          "text": [
            "WARNING:root:Large gap between audio n_frames(127) and target_length (204). Is the audio_target_length setting correct?\n",
            "WARNING:root:Large gap between audio n_frames(127) and target_length (204). Is the audio_target_length setting correct?\n",
            "WARNING:root:Large gap between audio n_frames(127) and target_length (204). Is the audio_target_length setting correct?\n",
            "WARNING:root:Large gap between audio n_frames(168) and target_length (204). Is the audio_target_length setting correct?\n",
            "WARNING:root:Large gap between audio n_frames(168) and target_length (204). Is the audio_target_length setting correct?\n",
            "WARNING:root:Large gap between audio n_frames(168) and target_length (204). Is the audio_target_length setting correct?\n",
            "WARNING:root:Large gap between audio n_frames(104) and target_length (204). Is the audio_target_length setting correct?\n",
            "WARNING:root:Large gap between audio n_frames(104) and target_length (204). Is the audio_target_length setting correct?\n",
            "WARNING:root:Large gap between audio n_frames(104) and target_length (204). Is the audio_target_length setting correct?\n",
            "WARNING:root:Large gap between audio n_frames(104) and target_length (204). Is the audio_target_length setting correct?\n",
            "WARNING:root:Large gap between audio n_frames(104) and target_length (204). Is the audio_target_length setting correct?\n",
            "WARNING:root:Large gap between audio n_frames(104) and target_length (204). Is the audio_target_length setting correct?\n",
            "WARNING:root:Large gap between audio n_frames(150) and target_length (204). Is the audio_target_length setting correct?\n",
            "WARNING:root:Large gap between audio n_frames(150) and target_length (204). Is the audio_target_length setting correct?\n",
            "WARNING:root:Large gap between audio n_frames(150) and target_length (204). Is the audio_target_length setting correct?\n",
            "WARNING:root:Large gap between audio n_frames(129) and target_length (204). Is the audio_target_length setting correct?\n",
            "WARNING:root:Large gap between audio n_frames(129) and target_length (204). Is the audio_target_length setting correct?\n",
            "WARNING:root:Large gap between audio n_frames(129) and target_length (204). Is the audio_target_length setting correct?\n"
          ]
        },
        {
          "output_type": "stream",
          "name": "stdout",
          "text": [
            "Batch 47/77\n"
          ]
        },
        {
          "output_type": "stream",
          "name": "stderr",
          "text": [
            "WARNING:root:Large gap between audio n_frames(102) and target_length (204). Is the audio_target_length setting correct?\n",
            "WARNING:root:Large gap between audio n_frames(102) and target_length (204). Is the audio_target_length setting correct?\n",
            "WARNING:root:Large gap between audio n_frames(102) and target_length (204). Is the audio_target_length setting correct?\n",
            "WARNING:root:Large gap between audio n_frames(144) and target_length (204). Is the audio_target_length setting correct?\n",
            "WARNING:root:Large gap between audio n_frames(144) and target_length (204). Is the audio_target_length setting correct?\n",
            "WARNING:root:Large gap between audio n_frames(144) and target_length (204). Is the audio_target_length setting correct?\n"
          ]
        },
        {
          "output_type": "stream",
          "name": "stdout",
          "text": [
            "Batch 48/77\n"
          ]
        },
        {
          "output_type": "stream",
          "name": "stderr",
          "text": [
            "WARNING:root:Large gap between audio n_frames(142) and target_length (204). Is the audio_target_length setting correct?\n",
            "WARNING:root:Large gap between audio n_frames(142) and target_length (204). Is the audio_target_length setting correct?\n",
            "WARNING:root:Large gap between audio n_frames(142) and target_length (204). Is the audio_target_length setting correct?\n",
            "WARNING:root:Large gap between audio n_frames(136) and target_length (204). Is the audio_target_length setting correct?\n",
            "WARNING:root:Large gap between audio n_frames(136) and target_length (204). Is the audio_target_length setting correct?\n",
            "WARNING:root:Large gap between audio n_frames(136) and target_length (204). Is the audio_target_length setting correct?\n"
          ]
        },
        {
          "output_type": "stream",
          "name": "stdout",
          "text": [
            "Batch 49/77\n",
            "Batch 50/77\n",
            "Batch 51/77\n"
          ]
        },
        {
          "output_type": "stream",
          "name": "stderr",
          "text": [
            "WARNING:root:Large gap between audio n_frames(142) and target_length (204). Is the audio_target_length setting correct?\n",
            "WARNING:root:Large gap between audio n_frames(142) and target_length (204). Is the audio_target_length setting correct?\n",
            "WARNING:root:Large gap between audio n_frames(142) and target_length (204). Is the audio_target_length setting correct?\n",
            "WARNING:root:Large gap between audio n_frames(154) and target_length (204). Is the audio_target_length setting correct?\n",
            "WARNING:root:Large gap between audio n_frames(154) and target_length (204). Is the audio_target_length setting correct?\n",
            "WARNING:root:Large gap between audio n_frames(154) and target_length (204). Is the audio_target_length setting correct?\n",
            "WARNING:root:Large gap between audio n_frames(158) and target_length (204). Is the audio_target_length setting correct?\n",
            "WARNING:root:Large gap between audio n_frames(158) and target_length (204). Is the audio_target_length setting correct?\n"
          ]
        },
        {
          "output_type": "stream",
          "name": "stdout",
          "text": [
            "Batch 52/77\n"
          ]
        },
        {
          "output_type": "stream",
          "name": "stderr",
          "text": [
            "WARNING:root:Large gap between audio n_frames(158) and target_length (204). Is the audio_target_length setting correct?\n",
            "WARNING:root:Large gap between audio n_frames(147) and target_length (204). Is the audio_target_length setting correct?\n",
            "WARNING:root:Large gap between audio n_frames(147) and target_length (204). Is the audio_target_length setting correct?\n",
            "WARNING:root:Large gap between audio n_frames(147) and target_length (204). Is the audio_target_length setting correct?\n",
            "WARNING:root:Large gap between audio n_frames(142) and target_length (204). Is the audio_target_length setting correct?\n",
            "WARNING:root:Large gap between audio n_frames(142) and target_length (204). Is the audio_target_length setting correct?\n",
            "WARNING:root:Large gap between audio n_frames(142) and target_length (204). Is the audio_target_length setting correct?\n",
            "WARNING:root:Large gap between audio n_frames(135) and target_length (204). Is the audio_target_length setting correct?\n",
            "WARNING:root:Large gap between audio n_frames(135) and target_length (204). Is the audio_target_length setting correct?\n",
            "WARNING:root:Large gap between audio n_frames(135) and target_length (204). Is the audio_target_length setting correct?\n",
            "WARNING:root:Large gap between audio n_frames(56) and target_length (204). Is the audio_target_length setting correct?\n",
            "WARNING:root:Large gap between audio n_frames(56) and target_length (204). Is the audio_target_length setting correct?\n",
            "WARNING:root:Large gap between audio n_frames(56) and target_length (204). Is the audio_target_length setting correct?\n",
            "WARNING:root:Large gap between audio n_frames(148) and target_length (204). Is the audio_target_length setting correct?\n",
            "WARNING:root:Large gap between audio n_frames(148) and target_length (204). Is the audio_target_length setting correct?\n",
            "WARNING:root:Large gap between audio n_frames(148) and target_length (204). Is the audio_target_length setting correct?\n",
            "WARNING:root:Large gap between audio n_frames(166) and target_length (204). Is the audio_target_length setting correct?\n",
            "WARNING:root:Large gap between audio n_frames(166) and target_length (204). Is the audio_target_length setting correct?\n",
            "WARNING:root:Large gap between audio n_frames(166) and target_length (204). Is the audio_target_length setting correct?\n"
          ]
        },
        {
          "output_type": "stream",
          "name": "stdout",
          "text": [
            "Batch 53/77\n"
          ]
        },
        {
          "output_type": "stream",
          "name": "stderr",
          "text": [
            "WARNING:root:Large gap between audio n_frames(157) and target_length (204). Is the audio_target_length setting correct?\n",
            "WARNING:root:Large gap between audio n_frames(157) and target_length (204). Is the audio_target_length setting correct?\n",
            "WARNING:root:Large gap between audio n_frames(157) and target_length (204). Is the audio_target_length setting correct?\n",
            "WARNING:root:Large gap between audio n_frames(127) and target_length (204). Is the audio_target_length setting correct?\n",
            "WARNING:root:Large gap between audio n_frames(127) and target_length (204). Is the audio_target_length setting correct?\n",
            "WARNING:root:Large gap between audio n_frames(127) and target_length (204). Is the audio_target_length setting correct?\n",
            "WARNING:root:Large gap between audio n_frames(136) and target_length (204). Is the audio_target_length setting correct?\n",
            "WARNING:root:Large gap between audio n_frames(136) and target_length (204). Is the audio_target_length setting correct?\n",
            "WARNING:root:Large gap between audio n_frames(136) and target_length (204). Is the audio_target_length setting correct?\n"
          ]
        },
        {
          "output_type": "stream",
          "name": "stdout",
          "text": [
            "Batch 54/77\n",
            "Batch 55/77\n",
            "Batch 56/77\n"
          ]
        },
        {
          "output_type": "stream",
          "name": "stderr",
          "text": [
            "WARNING:root:Large gap between audio n_frames(164) and target_length (204). Is the audio_target_length setting correct?\n",
            "WARNING:root:Large gap between audio n_frames(164) and target_length (204). Is the audio_target_length setting correct?\n",
            "WARNING:root:Large gap between audio n_frames(164) and target_length (204). Is the audio_target_length setting correct?\n",
            "WARNING:root:Large gap between audio n_frames(112) and target_length (204). Is the audio_target_length setting correct?\n",
            "WARNING:root:Large gap between audio n_frames(112) and target_length (204). Is the audio_target_length setting correct?\n",
            "WARNING:root:Large gap between audio n_frames(112) and target_length (204). Is the audio_target_length setting correct?\n",
            "WARNING:root:Large gap between audio n_frames(133) and target_length (204). Is the audio_target_length setting correct?\n",
            "WARNING:root:Large gap between audio n_frames(133) and target_length (204). Is the audio_target_length setting correct?\n",
            "WARNING:root:Large gap between audio n_frames(133) and target_length (204). Is the audio_target_length setting correct?\n"
          ]
        },
        {
          "output_type": "stream",
          "name": "stdout",
          "text": [
            "Batch 57/77\n",
            "Batch 58/77\n",
            "Batch 59/77\n",
            "Batch 60/77\n",
            "Batch 61/77\n"
          ]
        },
        {
          "output_type": "stream",
          "name": "stderr",
          "text": [
            "WARNING:root:Large gap between audio n_frames(169) and target_length (204). Is the audio_target_length setting correct?\n",
            "WARNING:root:Large gap between audio n_frames(169) and target_length (204). Is the audio_target_length setting correct?\n",
            "WARNING:root:Large gap between audio n_frames(169) and target_length (204). Is the audio_target_length setting correct?\n"
          ]
        },
        {
          "output_type": "stream",
          "name": "stdout",
          "text": [
            "Batch 62/77\n",
            "Batch 63/77\n",
            "Batch 64/77\n"
          ]
        },
        {
          "output_type": "stream",
          "name": "stderr",
          "text": [
            "WARNING:root:Large gap between audio n_frames(146) and target_length (204). Is the audio_target_length setting correct?\n",
            "WARNING:root:Large gap between audio n_frames(146) and target_length (204). Is the audio_target_length setting correct?\n",
            "WARNING:root:Large gap between audio n_frames(146) and target_length (204). Is the audio_target_length setting correct?\n"
          ]
        },
        {
          "output_type": "stream",
          "name": "stdout",
          "text": [
            "Batch 65/77\n"
          ]
        },
        {
          "output_type": "stream",
          "name": "stderr",
          "text": [
            "WARNING:root:Large gap between audio n_frames(166) and target_length (204). Is the audio_target_length setting correct?\n",
            "WARNING:root:Large gap between audio n_frames(166) and target_length (204). Is the audio_target_length setting correct?\n",
            "WARNING:root:Large gap between audio n_frames(166) and target_length (204). Is the audio_target_length setting correct?\n",
            "WARNING:root:Large gap between audio n_frames(142) and target_length (204). Is the audio_target_length setting correct?\n",
            "WARNING:root:Large gap between audio n_frames(142) and target_length (204). Is the audio_target_length setting correct?\n",
            "WARNING:root:Large gap between audio n_frames(142) and target_length (204). Is the audio_target_length setting correct?\n",
            "WARNING:root:Large gap between audio n_frames(158) and target_length (204). Is the audio_target_length setting correct?\n",
            "WARNING:root:Large gap between audio n_frames(158) and target_length (204). Is the audio_target_length setting correct?\n",
            "WARNING:root:Large gap between audio n_frames(158) and target_length (204). Is the audio_target_length setting correct?\n"
          ]
        },
        {
          "output_type": "stream",
          "name": "stdout",
          "text": [
            "Batch 66/77\n"
          ]
        },
        {
          "output_type": "stream",
          "name": "stderr",
          "text": [
            "WARNING:root:Large gap between audio n_frames(148) and target_length (204). Is the audio_target_length setting correct?\n",
            "WARNING:root:Large gap between audio n_frames(148) and target_length (204). Is the audio_target_length setting correct?\n",
            "WARNING:root:Large gap between audio n_frames(148) and target_length (204). Is the audio_target_length setting correct?\n",
            "WARNING:root:Large gap between audio n_frames(134) and target_length (204). Is the audio_target_length setting correct?\n",
            "WARNING:root:Large gap between audio n_frames(134) and target_length (204). Is the audio_target_length setting correct?\n",
            "WARNING:root:Large gap between audio n_frames(134) and target_length (204). Is the audio_target_length setting correct?\n"
          ]
        },
        {
          "output_type": "stream",
          "name": "stdout",
          "text": [
            "Batch 67/77\n"
          ]
        },
        {
          "output_type": "stream",
          "name": "stderr",
          "text": [
            "WARNING:root:Large gap between audio n_frames(128) and target_length (204). Is the audio_target_length setting correct?\n",
            "WARNING:root:Large gap between audio n_frames(128) and target_length (204). Is the audio_target_length setting correct?\n",
            "WARNING:root:Large gap between audio n_frames(128) and target_length (204). Is the audio_target_length setting correct?\n"
          ]
        },
        {
          "output_type": "stream",
          "name": "stdout",
          "text": [
            "Batch 68/77\n"
          ]
        },
        {
          "output_type": "stream",
          "name": "stderr",
          "text": [
            "WARNING:root:Large gap between audio n_frames(167) and target_length (204). Is the audio_target_length setting correct?\n",
            "WARNING:root:Large gap between audio n_frames(167) and target_length (204). Is the audio_target_length setting correct?\n",
            "WARNING:root:Large gap between audio n_frames(167) and target_length (204). Is the audio_target_length setting correct?\n"
          ]
        },
        {
          "output_type": "stream",
          "name": "stdout",
          "text": [
            "Batch 69/77\n",
            "Batch 70/77\n"
          ]
        },
        {
          "output_type": "stream",
          "name": "stderr",
          "text": [
            "WARNING:root:Large gap between audio n_frames(158) and target_length (204). Is the audio_target_length setting correct?\n",
            "WARNING:root:Large gap between audio n_frames(158) and target_length (204). Is the audio_target_length setting correct?\n",
            "WARNING:root:Large gap between audio n_frames(158) and target_length (204). Is the audio_target_length setting correct?\n"
          ]
        },
        {
          "output_type": "stream",
          "name": "stdout",
          "text": [
            "Batch 71/77\n"
          ]
        },
        {
          "output_type": "stream",
          "name": "stderr",
          "text": [
            "WARNING:root:Large gap between audio n_frames(138) and target_length (204). Is the audio_target_length setting correct?\n",
            "WARNING:root:Large gap between audio n_frames(138) and target_length (204). Is the audio_target_length setting correct?\n",
            "WARNING:root:Large gap between audio n_frames(138) and target_length (204). Is the audio_target_length setting correct?\n",
            "WARNING:root:Large gap between audio n_frames(134) and target_length (204). Is the audio_target_length setting correct?\n",
            "WARNING:root:Large gap between audio n_frames(134) and target_length (204). Is the audio_target_length setting correct?\n",
            "WARNING:root:Large gap between audio n_frames(134) and target_length (204). Is the audio_target_length setting correct?\n"
          ]
        },
        {
          "output_type": "stream",
          "name": "stdout",
          "text": [
            "Batch 72/77\n"
          ]
        },
        {
          "output_type": "stream",
          "name": "stderr",
          "text": [
            "WARNING:root:Large gap between audio n_frames(133) and target_length (204). Is the audio_target_length setting correct?\n",
            "WARNING:root:Large gap between audio n_frames(133) and target_length (204). Is the audio_target_length setting correct?\n",
            "WARNING:root:Large gap between audio n_frames(133) and target_length (204). Is the audio_target_length setting correct?\n",
            "WARNING:root:Large gap between audio n_frames(117) and target_length (204). Is the audio_target_length setting correct?\n"
          ]
        },
        {
          "output_type": "stream",
          "name": "stdout",
          "text": [
            "Batch 73/77\n"
          ]
        },
        {
          "output_type": "stream",
          "name": "stderr",
          "text": [
            "WARNING:root:Large gap between audio n_frames(117) and target_length (204). Is the audio_target_length setting correct?\n",
            "WARNING:root:Large gap between audio n_frames(117) and target_length (204). Is the audio_target_length setting correct?\n",
            "WARNING:root:Large gap between audio n_frames(158) and target_length (204). Is the audio_target_length setting correct?\n",
            "WARNING:root:Large gap between audio n_frames(158) and target_length (204). Is the audio_target_length setting correct?\n",
            "WARNING:root:Large gap between audio n_frames(158) and target_length (204). Is the audio_target_length setting correct?\n",
            "WARNING:root:Large gap between audio n_frames(147) and target_length (204). Is the audio_target_length setting correct?\n",
            "WARNING:root:Large gap between audio n_frames(147) and target_length (204). Is the audio_target_length setting correct?\n",
            "WARNING:root:Large gap between audio n_frames(147) and target_length (204). Is the audio_target_length setting correct?\n",
            "WARNING:root:Large gap between audio n_frames(167) and target_length (204). Is the audio_target_length setting correct?\n",
            "WARNING:root:Large gap between audio n_frames(167) and target_length (204). Is the audio_target_length setting correct?\n",
            "WARNING:root:Large gap between audio n_frames(167) and target_length (204). Is the audio_target_length setting correct?\n",
            "WARNING:root:Large gap between audio n_frames(151) and target_length (204). Is the audio_target_length setting correct?\n",
            "WARNING:root:Large gap between audio n_frames(151) and target_length (204). Is the audio_target_length setting correct?\n",
            "WARNING:root:Large gap between audio n_frames(151) and target_length (204). Is the audio_target_length setting correct?\n"
          ]
        },
        {
          "output_type": "stream",
          "name": "stdout",
          "text": [
            "Batch 74/77\n"
          ]
        },
        {
          "output_type": "stream",
          "name": "stderr",
          "text": [
            "WARNING:root:Large gap between audio n_frames(144) and target_length (204). Is the audio_target_length setting correct?\n",
            "WARNING:root:Large gap between audio n_frames(144) and target_length (204). Is the audio_target_length setting correct?\n",
            "WARNING:root:Large gap between audio n_frames(144) and target_length (204). Is the audio_target_length setting correct?\n"
          ]
        },
        {
          "output_type": "stream",
          "name": "stdout",
          "text": [
            "Batch 75/77\n"
          ]
        },
        {
          "output_type": "stream",
          "name": "stderr",
          "text": [
            "WARNING:root:Large gap between audio n_frames(129) and target_length (204). Is the audio_target_length setting correct?\n",
            "WARNING:root:Large gap between audio n_frames(129) and target_length (204). Is the audio_target_length setting correct?\n",
            "WARNING:root:Large gap between audio n_frames(129) and target_length (204). Is the audio_target_length setting correct?\n"
          ]
        },
        {
          "output_type": "stream",
          "name": "stdout",
          "text": [
            "Batch 76/77\n",
            "Batch 77/77\n",
            "Processing session Session4......\n",
            "Batch 1/75\n"
          ]
        },
        {
          "output_type": "stream",
          "name": "stderr",
          "text": [
            "WARNING:root:Large gap between audio n_frames(169) and target_length (204). Is the audio_target_length setting correct?\n",
            "WARNING:root:Large gap between audio n_frames(169) and target_length (204). Is the audio_target_length setting correct?\n",
            "WARNING:root:Large gap between audio n_frames(169) and target_length (204). Is the audio_target_length setting correct?\n",
            "WARNING:root:Large gap between audio n_frames(137) and target_length (204). Is the audio_target_length setting correct?\n",
            "WARNING:root:Large gap between audio n_frames(137) and target_length (204). Is the audio_target_length setting correct?\n",
            "WARNING:root:Large gap between audio n_frames(137) and target_length (204). Is the audio_target_length setting correct?\n"
          ]
        },
        {
          "output_type": "stream",
          "name": "stdout",
          "text": [
            "Batch 2/75\n",
            "Batch 3/75\n"
          ]
        },
        {
          "output_type": "stream",
          "name": "stderr",
          "text": [
            "WARNING:root:Large gap between audio n_frames(151) and target_length (204). Is the audio_target_length setting correct?\n",
            "WARNING:root:Large gap between audio n_frames(151) and target_length (204). Is the audio_target_length setting correct?\n",
            "WARNING:root:Large gap between audio n_frames(151) and target_length (204). Is the audio_target_length setting correct?\n",
            "WARNING:root:Large gap between audio n_frames(163) and target_length (204). Is the audio_target_length setting correct?\n",
            "WARNING:root:Large gap between audio n_frames(163) and target_length (204). Is the audio_target_length setting correct?\n",
            "WARNING:root:Large gap between audio n_frames(163) and target_length (204). Is the audio_target_length setting correct?\n"
          ]
        },
        {
          "output_type": "stream",
          "name": "stdout",
          "text": [
            "Batch 4/75\n"
          ]
        },
        {
          "output_type": "stream",
          "name": "stderr",
          "text": [
            "WARNING:root:Large gap between audio n_frames(150) and target_length (204). Is the audio_target_length setting correct?\n",
            "WARNING:root:Large gap between audio n_frames(150) and target_length (204). Is the audio_target_length setting correct?\n",
            "WARNING:root:Large gap between audio n_frames(150) and target_length (204). Is the audio_target_length setting correct?\n",
            "WARNING:root:Large gap between audio n_frames(161) and target_length (204). Is the audio_target_length setting correct?\n",
            "WARNING:root:Large gap between audio n_frames(161) and target_length (204). Is the audio_target_length setting correct?\n",
            "WARNING:root:Large gap between audio n_frames(161) and target_length (204). Is the audio_target_length setting correct?\n",
            "WARNING:root:Large gap between audio n_frames(143) and target_length (204). Is the audio_target_length setting correct?\n",
            "WARNING:root:Large gap between audio n_frames(143) and target_length (204). Is the audio_target_length setting correct?\n",
            "WARNING:root:Large gap between audio n_frames(143) and target_length (204). Is the audio_target_length setting correct?\n",
            "WARNING:root:Large gap between audio n_frames(164) and target_length (204). Is the audio_target_length setting correct?\n",
            "WARNING:root:Large gap between audio n_frames(164) and target_length (204). Is the audio_target_length setting correct?\n",
            "WARNING:root:Large gap between audio n_frames(164) and target_length (204). Is the audio_target_length setting correct?\n",
            "WARNING:root:Large gap between audio n_frames(123) and target_length (204). Is the audio_target_length setting correct?\n",
            "WARNING:root:Large gap between audio n_frames(123) and target_length (204). Is the audio_target_length setting correct?\n",
            "WARNING:root:Large gap between audio n_frames(123) and target_length (204). Is the audio_target_length setting correct?\n",
            "WARNING:root:Large gap between audio n_frames(166) and target_length (204). Is the audio_target_length setting correct?\n",
            "WARNING:root:Large gap between audio n_frames(166) and target_length (204). Is the audio_target_length setting correct?\n",
            "WARNING:root:Large gap between audio n_frames(166) and target_length (204). Is the audio_target_length setting correct?\n",
            "WARNING:root:Large gap between audio n_frames(160) and target_length (204). Is the audio_target_length setting correct?\n",
            "WARNING:root:Large gap between audio n_frames(160) and target_length (204). Is the audio_target_length setting correct?\n",
            "WARNING:root:Large gap between audio n_frames(160) and target_length (204). Is the audio_target_length setting correct?\n"
          ]
        },
        {
          "output_type": "stream",
          "name": "stdout",
          "text": [
            "Batch 5/75\n"
          ]
        },
        {
          "output_type": "stream",
          "name": "stderr",
          "text": [
            "WARNING:root:Large gap between audio n_frames(144) and target_length (204). Is the audio_target_length setting correct?\n",
            "WARNING:root:Large gap between audio n_frames(144) and target_length (204). Is the audio_target_length setting correct?\n",
            "WARNING:root:Large gap between audio n_frames(144) and target_length (204). Is the audio_target_length setting correct?\n",
            "WARNING:root:Large gap between audio n_frames(130) and target_length (204). Is the audio_target_length setting correct?\n",
            "WARNING:root:Large gap between audio n_frames(130) and target_length (204). Is the audio_target_length setting correct?\n",
            "WARNING:root:Large gap between audio n_frames(130) and target_length (204). Is the audio_target_length setting correct?\n",
            "WARNING:root:Large gap between audio n_frames(128) and target_length (204). Is the audio_target_length setting correct?\n",
            "WARNING:root:Large gap between audio n_frames(128) and target_length (204). Is the audio_target_length setting correct?\n",
            "WARNING:root:Large gap between audio n_frames(128) and target_length (204). Is the audio_target_length setting correct?\n",
            "WARNING:root:Large gap between audio n_frames(104) and target_length (204). Is the audio_target_length setting correct?\n",
            "WARNING:root:Large gap between audio n_frames(104) and target_length (204). Is the audio_target_length setting correct?\n",
            "WARNING:root:Large gap between audio n_frames(104) and target_length (204). Is the audio_target_length setting correct?\n",
            "WARNING:root:Large gap between audio n_frames(143) and target_length (204). Is the audio_target_length setting correct?\n",
            "WARNING:root:Large gap between audio n_frames(143) and target_length (204). Is the audio_target_length setting correct?\n",
            "WARNING:root:Large gap between audio n_frames(143) and target_length (204). Is the audio_target_length setting correct?\n",
            "WARNING:root:Large gap between audio n_frames(160) and target_length (204). Is the audio_target_length setting correct?\n",
            "WARNING:root:Large gap between audio n_frames(160) and target_length (204). Is the audio_target_length setting correct?\n",
            "WARNING:root:Large gap between audio n_frames(160) and target_length (204). Is the audio_target_length setting correct?\n"
          ]
        },
        {
          "output_type": "stream",
          "name": "stdout",
          "text": [
            "Batch 6/75\n"
          ]
        },
        {
          "output_type": "stream",
          "name": "stderr",
          "text": [
            "WARNING:root:Large gap between audio n_frames(135) and target_length (204). Is the audio_target_length setting correct?\n",
            "WARNING:root:Large gap between audio n_frames(135) and target_length (204). Is the audio_target_length setting correct?\n",
            "WARNING:root:Large gap between audio n_frames(135) and target_length (204). Is the audio_target_length setting correct?\n",
            "WARNING:root:Large gap between audio n_frames(166) and target_length (204). Is the audio_target_length setting correct?\n",
            "WARNING:root:Large gap between audio n_frames(166) and target_length (204). Is the audio_target_length setting correct?\n",
            "WARNING:root:Large gap between audio n_frames(166) and target_length (204). Is the audio_target_length setting correct?\n",
            "WARNING:root:Large gap between audio n_frames(124) and target_length (204). Is the audio_target_length setting correct?\n",
            "WARNING:root:Large gap between audio n_frames(124) and target_length (204). Is the audio_target_length setting correct?\n",
            "WARNING:root:Large gap between audio n_frames(124) and target_length (204). Is the audio_target_length setting correct?\n",
            "WARNING:root:Large gap between audio n_frames(157) and target_length (204). Is the audio_target_length setting correct?\n",
            "WARNING:root:Large gap between audio n_frames(157) and target_length (204). Is the audio_target_length setting correct?\n",
            "WARNING:root:Large gap between audio n_frames(157) and target_length (204). Is the audio_target_length setting correct?\n",
            "WARNING:root:Large gap between audio n_frames(116) and target_length (204). Is the audio_target_length setting correct?\n",
            "WARNING:root:Large gap between audio n_frames(116) and target_length (204). Is the audio_target_length setting correct?\n",
            "WARNING:root:Large gap between audio n_frames(116) and target_length (204). Is the audio_target_length setting correct?\n",
            "WARNING:root:Large gap between audio n_frames(118) and target_length (204). Is the audio_target_length setting correct?\n",
            "WARNING:root:Large gap between audio n_frames(118) and target_length (204). Is the audio_target_length setting correct?\n",
            "WARNING:root:Large gap between audio n_frames(118) and target_length (204). Is the audio_target_length setting correct?\n",
            "WARNING:root:Large gap between audio n_frames(144) and target_length (204). Is the audio_target_length setting correct?\n",
            "WARNING:root:Large gap between audio n_frames(144) and target_length (204). Is the audio_target_length setting correct?\n",
            "WARNING:root:Large gap between audio n_frames(144) and target_length (204). Is the audio_target_length setting correct?\n",
            "WARNING:root:Large gap between audio n_frames(136) and target_length (204). Is the audio_target_length setting correct?\n",
            "WARNING:root:Large gap between audio n_frames(136) and target_length (204). Is the audio_target_length setting correct?\n",
            "WARNING:root:Large gap between audio n_frames(136) and target_length (204). Is the audio_target_length setting correct?\n",
            "WARNING:root:Large gap between audio n_frames(164) and target_length (204). Is the audio_target_length setting correct?\n",
            "WARNING:root:Large gap between audio n_frames(164) and target_length (204). Is the audio_target_length setting correct?\n",
            "WARNING:root:Large gap between audio n_frames(164) and target_length (204). Is the audio_target_length setting correct?\n"
          ]
        },
        {
          "output_type": "stream",
          "name": "stdout",
          "text": [
            "Batch 7/75\n"
          ]
        },
        {
          "output_type": "stream",
          "name": "stderr",
          "text": [
            "WARNING:root:Large gap between audio n_frames(119) and target_length (204). Is the audio_target_length setting correct?\n",
            "WARNING:root:Large gap between audio n_frames(119) and target_length (204). Is the audio_target_length setting correct?\n",
            "WARNING:root:Large gap between audio n_frames(119) and target_length (204). Is the audio_target_length setting correct?\n",
            "WARNING:root:Large gap between audio n_frames(96) and target_length (204). Is the audio_target_length setting correct?\n",
            "WARNING:root:Large gap between audio n_frames(96) and target_length (204). Is the audio_target_length setting correct?\n",
            "WARNING:root:Large gap between audio n_frames(96) and target_length (204). Is the audio_target_length setting correct?\n"
          ]
        },
        {
          "output_type": "stream",
          "name": "stdout",
          "text": [
            "Batch 8/75\n",
            "Batch 9/75\n"
          ]
        },
        {
          "output_type": "stream",
          "name": "stderr",
          "text": [
            "WARNING:root:Large gap between audio n_frames(128) and target_length (204). Is the audio_target_length setting correct?\n",
            "WARNING:root:Large gap between audio n_frames(128) and target_length (204). Is the audio_target_length setting correct?\n",
            "WARNING:root:Large gap between audio n_frames(128) and target_length (204). Is the audio_target_length setting correct?\n"
          ]
        },
        {
          "output_type": "stream",
          "name": "stdout",
          "text": [
            "Batch 10/75\n",
            "Batch 11/75\n"
          ]
        },
        {
          "output_type": "stream",
          "name": "stderr",
          "text": [
            "WARNING:root:Large gap between audio n_frames(128) and target_length (204). Is the audio_target_length setting correct?\n",
            "WARNING:root:Large gap between audio n_frames(128) and target_length (204). Is the audio_target_length setting correct?\n",
            "WARNING:root:Large gap between audio n_frames(128) and target_length (204). Is the audio_target_length setting correct?\n"
          ]
        },
        {
          "output_type": "stream",
          "name": "stdout",
          "text": [
            "Batch 12/75\n"
          ]
        },
        {
          "output_type": "stream",
          "name": "stderr",
          "text": [
            "WARNING:root:Large gap between audio n_frames(163) and target_length (204). Is the audio_target_length setting correct?\n",
            "WARNING:root:Large gap between audio n_frames(163) and target_length (204). Is the audio_target_length setting correct?\n",
            "WARNING:root:Large gap between audio n_frames(163) and target_length (204). Is the audio_target_length setting correct?\n",
            "WARNING:root:Large gap between audio n_frames(122) and target_length (204). Is the audio_target_length setting correct?\n",
            "WARNING:root:Large gap between audio n_frames(122) and target_length (204). Is the audio_target_length setting correct?\n",
            "WARNING:root:Large gap between audio n_frames(122) and target_length (204). Is the audio_target_length setting correct?\n",
            "WARNING:root:Large gap between audio n_frames(160) and target_length (204). Is the audio_target_length setting correct?\n",
            "WARNING:root:Large gap between audio n_frames(160) and target_length (204). Is the audio_target_length setting correct?\n",
            "WARNING:root:Large gap between audio n_frames(160) and target_length (204). Is the audio_target_length setting correct?\n",
            "WARNING:root:Large gap between audio n_frames(142) and target_length (204). Is the audio_target_length setting correct?\n",
            "WARNING:root:Large gap between audio n_frames(142) and target_length (204). Is the audio_target_length setting correct?\n",
            "WARNING:root:Large gap between audio n_frames(142) and target_length (204). Is the audio_target_length setting correct?\n"
          ]
        },
        {
          "output_type": "stream",
          "name": "stdout",
          "text": [
            "Batch 13/75\n"
          ]
        },
        {
          "output_type": "stream",
          "name": "stderr",
          "text": [
            "WARNING:root:Large gap between audio n_frames(102) and target_length (204). Is the audio_target_length setting correct?\n",
            "WARNING:root:Large gap between audio n_frames(102) and target_length (204). Is the audio_target_length setting correct?\n",
            "WARNING:root:Large gap between audio n_frames(102) and target_length (204). Is the audio_target_length setting correct?\n",
            "WARNING:root:Large gap between audio n_frames(131) and target_length (204). Is the audio_target_length setting correct?\n",
            "WARNING:root:Large gap between audio n_frames(131) and target_length (204). Is the audio_target_length setting correct?\n",
            "WARNING:root:Large gap between audio n_frames(131) and target_length (204). Is the audio_target_length setting correct?\n",
            "WARNING:root:Large gap between audio n_frames(145) and target_length (204). Is the audio_target_length setting correct?\n",
            "WARNING:root:Large gap between audio n_frames(145) and target_length (204). Is the audio_target_length setting correct?\n",
            "WARNING:root:Large gap between audio n_frames(145) and target_length (204). Is the audio_target_length setting correct?\n"
          ]
        },
        {
          "output_type": "stream",
          "name": "stdout",
          "text": [
            "Batch 14/75\n"
          ]
        },
        {
          "output_type": "stream",
          "name": "stderr",
          "text": [
            "WARNING:root:Large gap between audio n_frames(103) and target_length (204). Is the audio_target_length setting correct?\n",
            "WARNING:root:Large gap between audio n_frames(103) and target_length (204). Is the audio_target_length setting correct?\n",
            "WARNING:root:Large gap between audio n_frames(103) and target_length (204). Is the audio_target_length setting correct?\n",
            "WARNING:root:Large gap between audio n_frames(147) and target_length (204). Is the audio_target_length setting correct?\n",
            "WARNING:root:Large gap between audio n_frames(147) and target_length (204). Is the audio_target_length setting correct?\n",
            "WARNING:root:Large gap between audio n_frames(147) and target_length (204). Is the audio_target_length setting correct?\n",
            "WARNING:root:Large gap between audio n_frames(143) and target_length (204). Is the audio_target_length setting correct?\n",
            "WARNING:root:Large gap between audio n_frames(143) and target_length (204). Is the audio_target_length setting correct?\n",
            "WARNING:root:Large gap between audio n_frames(143) and target_length (204). Is the audio_target_length setting correct?\n",
            "WARNING:root:Large gap between audio n_frames(143) and target_length (204). Is the audio_target_length setting correct?\n",
            "WARNING:root:Large gap between audio n_frames(143) and target_length (204). Is the audio_target_length setting correct?\n",
            "WARNING:root:Large gap between audio n_frames(143) and target_length (204). Is the audio_target_length setting correct?\n",
            "WARNING:root:Large gap between audio n_frames(116) and target_length (204). Is the audio_target_length setting correct?\n",
            "WARNING:root:Large gap between audio n_frames(116) and target_length (204). Is the audio_target_length setting correct?\n",
            "WARNING:root:Large gap between audio n_frames(116) and target_length (204). Is the audio_target_length setting correct?\n",
            "WARNING:root:Large gap between audio n_frames(122) and target_length (204). Is the audio_target_length setting correct?\n",
            "WARNING:root:Large gap between audio n_frames(122) and target_length (204). Is the audio_target_length setting correct?\n",
            "WARNING:root:Large gap between audio n_frames(122) and target_length (204). Is the audio_target_length setting correct?\n",
            "WARNING:root:Large gap between audio n_frames(138) and target_length (204). Is the audio_target_length setting correct?\n",
            "WARNING:root:Large gap between audio n_frames(138) and target_length (204). Is the audio_target_length setting correct?\n"
          ]
        },
        {
          "output_type": "stream",
          "name": "stdout",
          "text": [
            "Batch 15/75\n"
          ]
        },
        {
          "output_type": "stream",
          "name": "stderr",
          "text": [
            "WARNING:root:Large gap between audio n_frames(138) and target_length (204). Is the audio_target_length setting correct?\n",
            "WARNING:root:Large gap between audio n_frames(112) and target_length (204). Is the audio_target_length setting correct?\n",
            "WARNING:root:Large gap between audio n_frames(112) and target_length (204). Is the audio_target_length setting correct?\n",
            "WARNING:root:Large gap between audio n_frames(112) and target_length (204). Is the audio_target_length setting correct?\n",
            "WARNING:root:Large gap between audio n_frames(149) and target_length (204). Is the audio_target_length setting correct?\n",
            "WARNING:root:Large gap between audio n_frames(149) and target_length (204). Is the audio_target_length setting correct?\n",
            "WARNING:root:Large gap between audio n_frames(149) and target_length (204). Is the audio_target_length setting correct?\n",
            "WARNING:root:Large gap between audio n_frames(159) and target_length (204). Is the audio_target_length setting correct?\n",
            "WARNING:root:Large gap between audio n_frames(159) and target_length (204). Is the audio_target_length setting correct?\n",
            "WARNING:root:Large gap between audio n_frames(159) and target_length (204). Is the audio_target_length setting correct?\n",
            "WARNING:root:Large gap between audio n_frames(111) and target_length (204). Is the audio_target_length setting correct?\n",
            "WARNING:root:Large gap between audio n_frames(111) and target_length (204). Is the audio_target_length setting correct?\n",
            "WARNING:root:Large gap between audio n_frames(111) and target_length (204). Is the audio_target_length setting correct?\n",
            "WARNING:root:Large gap between audio n_frames(134) and target_length (204). Is the audio_target_length setting correct?\n",
            "WARNING:root:Large gap between audio n_frames(134) and target_length (204). Is the audio_target_length setting correct?\n",
            "WARNING:root:Large gap between audio n_frames(134) and target_length (204). Is the audio_target_length setting correct?\n",
            "WARNING:root:Large gap between audio n_frames(112) and target_length (204). Is the audio_target_length setting correct?\n",
            "WARNING:root:Large gap between audio n_frames(112) and target_length (204). Is the audio_target_length setting correct?\n",
            "WARNING:root:Large gap between audio n_frames(112) and target_length (204). Is the audio_target_length setting correct?\n",
            "WARNING:root:Large gap between audio n_frames(123) and target_length (204). Is the audio_target_length setting correct?\n",
            "WARNING:root:Large gap between audio n_frames(123) and target_length (204). Is the audio_target_length setting correct?\n",
            "WARNING:root:Large gap between audio n_frames(123) and target_length (204). Is the audio_target_length setting correct?\n"
          ]
        },
        {
          "output_type": "stream",
          "name": "stdout",
          "text": [
            "Batch 16/75\n"
          ]
        },
        {
          "output_type": "stream",
          "name": "stderr",
          "text": [
            "WARNING:root:Large gap between audio n_frames(162) and target_length (204). Is the audio_target_length setting correct?\n",
            "WARNING:root:Large gap between audio n_frames(162) and target_length (204). Is the audio_target_length setting correct?\n",
            "WARNING:root:Large gap between audio n_frames(162) and target_length (204). Is the audio_target_length setting correct?\n",
            "WARNING:root:Large gap between audio n_frames(142) and target_length (204). Is the audio_target_length setting correct?\n",
            "WARNING:root:Large gap between audio n_frames(142) and target_length (204). Is the audio_target_length setting correct?\n",
            "WARNING:root:Large gap between audio n_frames(142) and target_length (204). Is the audio_target_length setting correct?\n",
            "WARNING:root:Large gap between audio n_frames(155) and target_length (204). Is the audio_target_length setting correct?\n",
            "WARNING:root:Large gap between audio n_frames(155) and target_length (204). Is the audio_target_length setting correct?\n",
            "WARNING:root:Large gap between audio n_frames(155) and target_length (204). Is the audio_target_length setting correct?\n",
            "WARNING:root:Large gap between audio n_frames(99) and target_length (204). Is the audio_target_length setting correct?\n",
            "WARNING:root:Large gap between audio n_frames(99) and target_length (204). Is the audio_target_length setting correct?\n",
            "WARNING:root:Large gap between audio n_frames(99) and target_length (204). Is the audio_target_length setting correct?\n",
            "WARNING:root:Large gap between audio n_frames(102) and target_length (204). Is the audio_target_length setting correct?\n",
            "WARNING:root:Large gap between audio n_frames(102) and target_length (204). Is the audio_target_length setting correct?\n",
            "WARNING:root:Large gap between audio n_frames(102) and target_length (204). Is the audio_target_length setting correct?\n",
            "WARNING:root:Large gap between audio n_frames(144) and target_length (204). Is the audio_target_length setting correct?\n",
            "WARNING:root:Large gap between audio n_frames(144) and target_length (204). Is the audio_target_length setting correct?\n",
            "WARNING:root:Large gap between audio n_frames(144) and target_length (204). Is the audio_target_length setting correct?\n",
            "WARNING:root:Large gap between audio n_frames(102) and target_length (204). Is the audio_target_length setting correct?\n",
            "WARNING:root:Large gap between audio n_frames(102) and target_length (204). Is the audio_target_length setting correct?\n",
            "WARNING:root:Large gap between audio n_frames(102) and target_length (204). Is the audio_target_length setting correct?\n"
          ]
        },
        {
          "output_type": "stream",
          "name": "stdout",
          "text": [
            "Batch 17/75\n"
          ]
        },
        {
          "output_type": "stream",
          "name": "stderr",
          "text": [
            "WARNING:root:Large gap between audio n_frames(137) and target_length (204). Is the audio_target_length setting correct?\n",
            "WARNING:root:Large gap between audio n_frames(137) and target_length (204). Is the audio_target_length setting correct?\n",
            "WARNING:root:Large gap between audio n_frames(137) and target_length (204). Is the audio_target_length setting correct?\n",
            "WARNING:root:Large gap between audio n_frames(131) and target_length (204). Is the audio_target_length setting correct?\n",
            "WARNING:root:Large gap between audio n_frames(131) and target_length (204). Is the audio_target_length setting correct?\n",
            "WARNING:root:Large gap between audio n_frames(131) and target_length (204). Is the audio_target_length setting correct?\n",
            "WARNING:root:Large gap between audio n_frames(152) and target_length (204). Is the audio_target_length setting correct?\n",
            "WARNING:root:Large gap between audio n_frames(152) and target_length (204). Is the audio_target_length setting correct?\n",
            "WARNING:root:Large gap between audio n_frames(152) and target_length (204). Is the audio_target_length setting correct?\n",
            "WARNING:root:Large gap between audio n_frames(121) and target_length (204). Is the audio_target_length setting correct?\n",
            "WARNING:root:Large gap between audio n_frames(121) and target_length (204). Is the audio_target_length setting correct?\n",
            "WARNING:root:Large gap between audio n_frames(121) and target_length (204). Is the audio_target_length setting correct?\n",
            "WARNING:root:Large gap between audio n_frames(147) and target_length (204). Is the audio_target_length setting correct?\n",
            "WARNING:root:Large gap between audio n_frames(147) and target_length (204). Is the audio_target_length setting correct?\n",
            "WARNING:root:Large gap between audio n_frames(147) and target_length (204). Is the audio_target_length setting correct?\n"
          ]
        },
        {
          "output_type": "stream",
          "name": "stdout",
          "text": [
            "Batch 18/75\n"
          ]
        },
        {
          "output_type": "stream",
          "name": "stderr",
          "text": [
            "WARNING:root:Large gap between audio n_frames(112) and target_length (204). Is the audio_target_length setting correct?\n",
            "WARNING:root:Large gap between audio n_frames(112) and target_length (204). Is the audio_target_length setting correct?\n",
            "WARNING:root:Large gap between audio n_frames(112) and target_length (204). Is the audio_target_length setting correct?\n",
            "WARNING:root:Large gap between audio n_frames(158) and target_length (204). Is the audio_target_length setting correct?\n",
            "WARNING:root:Large gap between audio n_frames(158) and target_length (204). Is the audio_target_length setting correct?\n",
            "WARNING:root:Large gap between audio n_frames(158) and target_length (204). Is the audio_target_length setting correct?\n",
            "WARNING:root:Large gap between audio n_frames(140) and target_length (204). Is the audio_target_length setting correct?\n",
            "WARNING:root:Large gap between audio n_frames(140) and target_length (204). Is the audio_target_length setting correct?\n",
            "WARNING:root:Large gap between audio n_frames(140) and target_length (204). Is the audio_target_length setting correct?\n",
            "WARNING:root:Large gap between audio n_frames(96) and target_length (204). Is the audio_target_length setting correct?\n",
            "WARNING:root:Large gap between audio n_frames(96) and target_length (204). Is the audio_target_length setting correct?\n",
            "WARNING:root:Large gap between audio n_frames(96) and target_length (204). Is the audio_target_length setting correct?\n",
            "WARNING:root:Large gap between audio n_frames(130) and target_length (204). Is the audio_target_length setting correct?\n",
            "WARNING:root:Large gap between audio n_frames(130) and target_length (204). Is the audio_target_length setting correct?\n",
            "WARNING:root:Large gap between audio n_frames(130) and target_length (204). Is the audio_target_length setting correct?\n",
            "WARNING:root:Large gap between audio n_frames(120) and target_length (204). Is the audio_target_length setting correct?\n",
            "WARNING:root:Large gap between audio n_frames(120) and target_length (204). Is the audio_target_length setting correct?\n",
            "WARNING:root:Large gap between audio n_frames(120) and target_length (204). Is the audio_target_length setting correct?\n"
          ]
        },
        {
          "output_type": "stream",
          "name": "stdout",
          "text": [
            "Batch 19/75\n"
          ]
        },
        {
          "output_type": "stream",
          "name": "stderr",
          "text": [
            "WARNING:root:Large gap between audio n_frames(129) and target_length (204). Is the audio_target_length setting correct?\n",
            "WARNING:root:Large gap between audio n_frames(129) and target_length (204). Is the audio_target_length setting correct?\n",
            "WARNING:root:Large gap between audio n_frames(129) and target_length (204). Is the audio_target_length setting correct?\n",
            "WARNING:root:Large gap between audio n_frames(168) and target_length (204). Is the audio_target_length setting correct?\n",
            "WARNING:root:Large gap between audio n_frames(168) and target_length (204). Is the audio_target_length setting correct?\n",
            "WARNING:root:Large gap between audio n_frames(168) and target_length (204). Is the audio_target_length setting correct?\n",
            "WARNING:root:Large gap between audio n_frames(154) and target_length (204). Is the audio_target_length setting correct?\n",
            "WARNING:root:Large gap between audio n_frames(154) and target_length (204). Is the audio_target_length setting correct?\n",
            "WARNING:root:Large gap between audio n_frames(154) and target_length (204). Is the audio_target_length setting correct?\n"
          ]
        },
        {
          "output_type": "stream",
          "name": "stdout",
          "text": [
            "Batch 20/75\n"
          ]
        },
        {
          "output_type": "stream",
          "name": "stderr",
          "text": [
            "WARNING:root:Large gap between audio n_frames(140) and target_length (204). Is the audio_target_length setting correct?\n",
            "WARNING:root:Large gap between audio n_frames(140) and target_length (204). Is the audio_target_length setting correct?\n",
            "WARNING:root:Large gap between audio n_frames(140) and target_length (204). Is the audio_target_length setting correct?\n",
            "WARNING:root:Large gap between audio n_frames(118) and target_length (204). Is the audio_target_length setting correct?\n",
            "WARNING:root:Large gap between audio n_frames(118) and target_length (204). Is the audio_target_length setting correct?\n",
            "WARNING:root:Large gap between audio n_frames(118) and target_length (204). Is the audio_target_length setting correct?\n",
            "WARNING:root:Large gap between audio n_frames(84) and target_length (204). Is the audio_target_length setting correct?\n",
            "WARNING:root:Large gap between audio n_frames(84) and target_length (204). Is the audio_target_length setting correct?\n",
            "WARNING:root:Large gap between audio n_frames(84) and target_length (204). Is the audio_target_length setting correct?\n",
            "WARNING:root:Large gap between audio n_frames(141) and target_length (204). Is the audio_target_length setting correct?\n",
            "WARNING:root:Large gap between audio n_frames(141) and target_length (204). Is the audio_target_length setting correct?\n",
            "WARNING:root:Large gap between audio n_frames(141) and target_length (204). Is the audio_target_length setting correct?\n"
          ]
        },
        {
          "output_type": "stream",
          "name": "stdout",
          "text": [
            "Batch 21/75\n",
            "Batch 22/75\n"
          ]
        },
        {
          "output_type": "stream",
          "name": "stderr",
          "text": [
            "WARNING:root:Large gap between audio n_frames(163) and target_length (204). Is the audio_target_length setting correct?\n",
            "WARNING:root:Large gap between audio n_frames(163) and target_length (204). Is the audio_target_length setting correct?\n",
            "WARNING:root:Large gap between audio n_frames(163) and target_length (204). Is the audio_target_length setting correct?\n"
          ]
        },
        {
          "output_type": "stream",
          "name": "stdout",
          "text": [
            "Batch 23/75\n",
            "Batch 24/75\n",
            "Batch 25/75\n"
          ]
        },
        {
          "output_type": "stream",
          "name": "stderr",
          "text": [
            "WARNING:root:Large gap between audio n_frames(153) and target_length (204). Is the audio_target_length setting correct?\n",
            "WARNING:root:Large gap between audio n_frames(153) and target_length (204). Is the audio_target_length setting correct?\n",
            "WARNING:root:Large gap between audio n_frames(153) and target_length (204). Is the audio_target_length setting correct?\n",
            "WARNING:root:Large gap between audio n_frames(165) and target_length (204). Is the audio_target_length setting correct?\n",
            "WARNING:root:Large gap between audio n_frames(165) and target_length (204). Is the audio_target_length setting correct?\n",
            "WARNING:root:Large gap between audio n_frames(165) and target_length (204). Is the audio_target_length setting correct?\n",
            "WARNING:root:Large gap between audio n_frames(152) and target_length (204). Is the audio_target_length setting correct?\n",
            "WARNING:root:Large gap between audio n_frames(152) and target_length (204). Is the audio_target_length setting correct?\n",
            "WARNING:root:Large gap between audio n_frames(152) and target_length (204). Is the audio_target_length setting correct?\n"
          ]
        },
        {
          "output_type": "stream",
          "name": "stdout",
          "text": [
            "Batch 26/75\n"
          ]
        },
        {
          "output_type": "stream",
          "name": "stderr",
          "text": [
            "WARNING:root:Large gap between audio n_frames(155) and target_length (204). Is the audio_target_length setting correct?\n",
            "WARNING:root:Large gap between audio n_frames(155) and target_length (204). Is the audio_target_length setting correct?\n",
            "WARNING:root:Large gap between audio n_frames(155) and target_length (204). Is the audio_target_length setting correct?\n",
            "WARNING:root:Large gap between audio n_frames(124) and target_length (204). Is the audio_target_length setting correct?\n",
            "WARNING:root:Large gap between audio n_frames(124) and target_length (204). Is the audio_target_length setting correct?\n",
            "WARNING:root:Large gap between audio n_frames(124) and target_length (204). Is the audio_target_length setting correct?\n",
            "WARNING:root:Large gap between audio n_frames(115) and target_length (204). Is the audio_target_length setting correct?\n",
            "WARNING:root:Large gap between audio n_frames(115) and target_length (204). Is the audio_target_length setting correct?\n",
            "WARNING:root:Large gap between audio n_frames(115) and target_length (204). Is the audio_target_length setting correct?\n"
          ]
        },
        {
          "output_type": "stream",
          "name": "stdout",
          "text": [
            "Batch 27/75\n",
            "Batch 28/75\n"
          ]
        },
        {
          "output_type": "stream",
          "name": "stderr",
          "text": [
            "WARNING:root:Large gap between audio n_frames(157) and target_length (204). Is the audio_target_length setting correct?\n",
            "WARNING:root:Large gap between audio n_frames(157) and target_length (204). Is the audio_target_length setting correct?\n",
            "WARNING:root:Large gap between audio n_frames(157) and target_length (204). Is the audio_target_length setting correct?\n",
            "WARNING:root:Large gap between audio n_frames(128) and target_length (204). Is the audio_target_length setting correct?\n",
            "WARNING:root:Large gap between audio n_frames(128) and target_length (204). Is the audio_target_length setting correct?\n",
            "WARNING:root:Large gap between audio n_frames(128) and target_length (204). Is the audio_target_length setting correct?\n",
            "WARNING:root:Large gap between audio n_frames(141) and target_length (204). Is the audio_target_length setting correct?\n",
            "WARNING:root:Large gap between audio n_frames(141) and target_length (204). Is the audio_target_length setting correct?\n",
            "WARNING:root:Large gap between audio n_frames(141) and target_length (204). Is the audio_target_length setting correct?\n",
            "WARNING:root:Large gap between audio n_frames(163) and target_length (204). Is the audio_target_length setting correct?\n",
            "WARNING:root:Large gap between audio n_frames(163) and target_length (204). Is the audio_target_length setting correct?\n",
            "WARNING:root:Large gap between audio n_frames(163) and target_length (204). Is the audio_target_length setting correct?\n"
          ]
        },
        {
          "output_type": "stream",
          "name": "stdout",
          "text": [
            "Batch 29/75\n"
          ]
        },
        {
          "output_type": "stream",
          "name": "stderr",
          "text": [
            "WARNING:root:Large gap between audio n_frames(166) and target_length (204). Is the audio_target_length setting correct?\n",
            "WARNING:root:Large gap between audio n_frames(166) and target_length (204). Is the audio_target_length setting correct?\n",
            "WARNING:root:Large gap between audio n_frames(166) and target_length (204). Is the audio_target_length setting correct?\n",
            "WARNING:root:Large gap between audio n_frames(136) and target_length (204). Is the audio_target_length setting correct?\n",
            "WARNING:root:Large gap between audio n_frames(136) and target_length (204). Is the audio_target_length setting correct?\n",
            "WARNING:root:Large gap between audio n_frames(136) and target_length (204). Is the audio_target_length setting correct?\n",
            "WARNING:root:Large gap between audio n_frames(155) and target_length (204). Is the audio_target_length setting correct?\n",
            "WARNING:root:Large gap between audio n_frames(155) and target_length (204). Is the audio_target_length setting correct?\n",
            "WARNING:root:Large gap between audio n_frames(155) and target_length (204). Is the audio_target_length setting correct?\n",
            "WARNING:root:Large gap between audio n_frames(118) and target_length (204). Is the audio_target_length setting correct?\n",
            "WARNING:root:Large gap between audio n_frames(118) and target_length (204). Is the audio_target_length setting correct?\n",
            "WARNING:root:Large gap between audio n_frames(118) and target_length (204). Is the audio_target_length setting correct?\n",
            "WARNING:root:Large gap between audio n_frames(148) and target_length (204). Is the audio_target_length setting correct?\n",
            "WARNING:root:Large gap between audio n_frames(148) and target_length (204). Is the audio_target_length setting correct?\n",
            "WARNING:root:Large gap between audio n_frames(148) and target_length (204). Is the audio_target_length setting correct?\n"
          ]
        },
        {
          "output_type": "stream",
          "name": "stdout",
          "text": [
            "Batch 30/75\n"
          ]
        },
        {
          "output_type": "stream",
          "name": "stderr",
          "text": [
            "WARNING:root:Large gap between audio n_frames(142) and target_length (204). Is the audio_target_length setting correct?\n",
            "WARNING:root:Large gap between audio n_frames(142) and target_length (204). Is the audio_target_length setting correct?\n",
            "WARNING:root:Large gap between audio n_frames(142) and target_length (204). Is the audio_target_length setting correct?\n",
            "WARNING:root:Large gap between audio n_frames(123) and target_length (204). Is the audio_target_length setting correct?\n",
            "WARNING:root:Large gap between audio n_frames(123) and target_length (204). Is the audio_target_length setting correct?\n",
            "WARNING:root:Large gap between audio n_frames(123) and target_length (204). Is the audio_target_length setting correct?\n"
          ]
        },
        {
          "output_type": "stream",
          "name": "stdout",
          "text": [
            "Batch 31/75\n"
          ]
        },
        {
          "output_type": "stream",
          "name": "stderr",
          "text": [
            "WARNING:root:Large gap between audio n_frames(160) and target_length (204). Is the audio_target_length setting correct?\n",
            "WARNING:root:Large gap between audio n_frames(160) and target_length (204). Is the audio_target_length setting correct?\n",
            "WARNING:root:Large gap between audio n_frames(160) and target_length (204). Is the audio_target_length setting correct?\n",
            "WARNING:root:Large gap between audio n_frames(124) and target_length (204). Is the audio_target_length setting correct?\n",
            "WARNING:root:Large gap between audio n_frames(124) and target_length (204). Is the audio_target_length setting correct?\n",
            "WARNING:root:Large gap between audio n_frames(124) and target_length (204). Is the audio_target_length setting correct?\n",
            "WARNING:root:Large gap between audio n_frames(163) and target_length (204). Is the audio_target_length setting correct?\n",
            "WARNING:root:Large gap between audio n_frames(163) and target_length (204). Is the audio_target_length setting correct?\n",
            "WARNING:root:Large gap between audio n_frames(163) and target_length (204). Is the audio_target_length setting correct?\n",
            "WARNING:root:Large gap between audio n_frames(117) and target_length (204). Is the audio_target_length setting correct?\n",
            "WARNING:root:Large gap between audio n_frames(117) and target_length (204). Is the audio_target_length setting correct?\n",
            "WARNING:root:Large gap between audio n_frames(117) and target_length (204). Is the audio_target_length setting correct?\n",
            "WARNING:root:Large gap between audio n_frames(137) and target_length (204). Is the audio_target_length setting correct?\n",
            "WARNING:root:Large gap between audio n_frames(137) and target_length (204). Is the audio_target_length setting correct?\n",
            "WARNING:root:Large gap between audio n_frames(137) and target_length (204). Is the audio_target_length setting correct?\n",
            "WARNING:root:Large gap between audio n_frames(137) and target_length (204). Is the audio_target_length setting correct?\n",
            "WARNING:root:Large gap between audio n_frames(137) and target_length (204). Is the audio_target_length setting correct?\n",
            "WARNING:root:Large gap between audio n_frames(137) and target_length (204). Is the audio_target_length setting correct?\n",
            "WARNING:root:Large gap between audio n_frames(133) and target_length (204). Is the audio_target_length setting correct?\n",
            "WARNING:root:Large gap between audio n_frames(133) and target_length (204). Is the audio_target_length setting correct?\n"
          ]
        },
        {
          "output_type": "stream",
          "name": "stdout",
          "text": [
            "Batch 32/75\n"
          ]
        },
        {
          "output_type": "stream",
          "name": "stderr",
          "text": [
            "WARNING:root:Large gap between audio n_frames(133) and target_length (204). Is the audio_target_length setting correct?\n",
            "WARNING:root:Large gap between audio n_frames(150) and target_length (204). Is the audio_target_length setting correct?\n",
            "WARNING:root:Large gap between audio n_frames(150) and target_length (204). Is the audio_target_length setting correct?\n",
            "WARNING:root:Large gap between audio n_frames(150) and target_length (204). Is the audio_target_length setting correct?\n",
            "WARNING:root:Large gap between audio n_frames(159) and target_length (204). Is the audio_target_length setting correct?\n",
            "WARNING:root:Large gap between audio n_frames(159) and target_length (204). Is the audio_target_length setting correct?\n",
            "WARNING:root:Large gap between audio n_frames(159) and target_length (204). Is the audio_target_length setting correct?\n"
          ]
        },
        {
          "output_type": "stream",
          "name": "stdout",
          "text": [
            "Batch 33/75\n"
          ]
        },
        {
          "output_type": "stream",
          "name": "stderr",
          "text": [
            "WARNING:root:Large gap between audio n_frames(152) and target_length (204). Is the audio_target_length setting correct?\n",
            "WARNING:root:Large gap between audio n_frames(152) and target_length (204). Is the audio_target_length setting correct?\n",
            "WARNING:root:Large gap between audio n_frames(152) and target_length (204). Is the audio_target_length setting correct?\n",
            "WARNING:root:Large gap between audio n_frames(158) and target_length (204). Is the audio_target_length setting correct?\n",
            "WARNING:root:Large gap between audio n_frames(158) and target_length (204). Is the audio_target_length setting correct?\n",
            "WARNING:root:Large gap between audio n_frames(158) and target_length (204). Is the audio_target_length setting correct?\n",
            "WARNING:root:Large gap between audio n_frames(136) and target_length (204). Is the audio_target_length setting correct?\n",
            "WARNING:root:Large gap between audio n_frames(136) and target_length (204). Is the audio_target_length setting correct?\n",
            "WARNING:root:Large gap between audio n_frames(136) and target_length (204). Is the audio_target_length setting correct?\n"
          ]
        },
        {
          "output_type": "stream",
          "name": "stdout",
          "text": [
            "Batch 34/75\n"
          ]
        },
        {
          "output_type": "stream",
          "name": "stderr",
          "text": [
            "WARNING:root:Large gap between audio n_frames(160) and target_length (204). Is the audio_target_length setting correct?\n",
            "WARNING:root:Large gap between audio n_frames(160) and target_length (204). Is the audio_target_length setting correct?\n",
            "WARNING:root:Large gap between audio n_frames(160) and target_length (204). Is the audio_target_length setting correct?\n",
            "WARNING:root:Large gap between audio n_frames(142) and target_length (204). Is the audio_target_length setting correct?\n",
            "WARNING:root:Large gap between audio n_frames(142) and target_length (204). Is the audio_target_length setting correct?\n",
            "WARNING:root:Large gap between audio n_frames(142) and target_length (204). Is the audio_target_length setting correct?\n",
            "WARNING:root:Large gap between audio n_frames(143) and target_length (204). Is the audio_target_length setting correct?\n",
            "WARNING:root:Large gap between audio n_frames(143) and target_length (204). Is the audio_target_length setting correct?\n",
            "WARNING:root:Large gap between audio n_frames(143) and target_length (204). Is the audio_target_length setting correct?\n"
          ]
        },
        {
          "output_type": "stream",
          "name": "stdout",
          "text": [
            "Batch 35/75\n"
          ]
        },
        {
          "output_type": "stream",
          "name": "stderr",
          "text": [
            "WARNING:root:Large gap between audio n_frames(102) and target_length (204). Is the audio_target_length setting correct?\n",
            "WARNING:root:Large gap between audio n_frames(102) and target_length (204). Is the audio_target_length setting correct?\n",
            "WARNING:root:Large gap between audio n_frames(102) and target_length (204). Is the audio_target_length setting correct?\n",
            "WARNING:root:Large gap between audio n_frames(134) and target_length (204). Is the audio_target_length setting correct?\n",
            "WARNING:root:Large gap between audio n_frames(134) and target_length (204). Is the audio_target_length setting correct?\n",
            "WARNING:root:Large gap between audio n_frames(134) and target_length (204). Is the audio_target_length setting correct?\n"
          ]
        },
        {
          "output_type": "stream",
          "name": "stdout",
          "text": [
            "Batch 36/75\n"
          ]
        },
        {
          "output_type": "stream",
          "name": "stderr",
          "text": [
            "WARNING:root:Large gap between audio n_frames(141) and target_length (204). Is the audio_target_length setting correct?\n",
            "WARNING:root:Large gap between audio n_frames(141) and target_length (204). Is the audio_target_length setting correct?\n",
            "WARNING:root:Large gap between audio n_frames(141) and target_length (204). Is the audio_target_length setting correct?\n"
          ]
        },
        {
          "output_type": "stream",
          "name": "stdout",
          "text": [
            "Batch 37/75\n"
          ]
        },
        {
          "output_type": "stream",
          "name": "stderr",
          "text": [
            "WARNING:root:Large gap between audio n_frames(112) and target_length (204). Is the audio_target_length setting correct?\n",
            "WARNING:root:Large gap between audio n_frames(112) and target_length (204). Is the audio_target_length setting correct?\n",
            "WARNING:root:Large gap between audio n_frames(112) and target_length (204). Is the audio_target_length setting correct?\n",
            "WARNING:root:Large gap between audio n_frames(162) and target_length (204). Is the audio_target_length setting correct?\n",
            "WARNING:root:Large gap between audio n_frames(162) and target_length (204). Is the audio_target_length setting correct?\n",
            "WARNING:root:Large gap between audio n_frames(162) and target_length (204). Is the audio_target_length setting correct?\n",
            "WARNING:root:Large gap between audio n_frames(158) and target_length (204). Is the audio_target_length setting correct?\n",
            "WARNING:root:Large gap between audio n_frames(158) and target_length (204). Is the audio_target_length setting correct?\n",
            "WARNING:root:Large gap between audio n_frames(158) and target_length (204). Is the audio_target_length setting correct?\n",
            "WARNING:root:Large gap between audio n_frames(130) and target_length (204). Is the audio_target_length setting correct?\n",
            "WARNING:root:Large gap between audio n_frames(130) and target_length (204). Is the audio_target_length setting correct?\n",
            "WARNING:root:Large gap between audio n_frames(130) and target_length (204). Is the audio_target_length setting correct?\n",
            "WARNING:root:Large gap between audio n_frames(137) and target_length (204). Is the audio_target_length setting correct?\n",
            "WARNING:root:Large gap between audio n_frames(137) and target_length (204). Is the audio_target_length setting correct?\n",
            "WARNING:root:Large gap between audio n_frames(137) and target_length (204). Is the audio_target_length setting correct?\n"
          ]
        },
        {
          "output_type": "stream",
          "name": "stdout",
          "text": [
            "Batch 38/75\n"
          ]
        },
        {
          "output_type": "stream",
          "name": "stderr",
          "text": [
            "WARNING:root:Large gap between audio n_frames(166) and target_length (204). Is the audio_target_length setting correct?\n",
            "WARNING:root:Large gap between audio n_frames(166) and target_length (204). Is the audio_target_length setting correct?\n",
            "WARNING:root:Large gap between audio n_frames(166) and target_length (204). Is the audio_target_length setting correct?\n",
            "WARNING:root:Large gap between audio n_frames(162) and target_length (204). Is the audio_target_length setting correct?\n",
            "WARNING:root:Large gap between audio n_frames(162) and target_length (204). Is the audio_target_length setting correct?\n",
            "WARNING:root:Large gap between audio n_frames(162) and target_length (204). Is the audio_target_length setting correct?\n",
            "WARNING:root:Large gap between audio n_frames(128) and target_length (204). Is the audio_target_length setting correct?\n"
          ]
        },
        {
          "output_type": "stream",
          "name": "stdout",
          "text": [
            "Batch 39/75\n"
          ]
        },
        {
          "output_type": "stream",
          "name": "stderr",
          "text": [
            "WARNING:root:Large gap between audio n_frames(128) and target_length (204). Is the audio_target_length setting correct?\n",
            "WARNING:root:Large gap between audio n_frames(128) and target_length (204). Is the audio_target_length setting correct?\n",
            "WARNING:root:Large gap between audio n_frames(139) and target_length (204). Is the audio_target_length setting correct?\n",
            "WARNING:root:Large gap between audio n_frames(139) and target_length (204). Is the audio_target_length setting correct?\n",
            "WARNING:root:Large gap between audio n_frames(139) and target_length (204). Is the audio_target_length setting correct?\n",
            "WARNING:root:Large gap between audio n_frames(169) and target_length (204). Is the audio_target_length setting correct?\n",
            "WARNING:root:Large gap between audio n_frames(169) and target_length (204). Is the audio_target_length setting correct?\n",
            "WARNING:root:Large gap between audio n_frames(169) and target_length (204). Is the audio_target_length setting correct?\n",
            "WARNING:root:Large gap between audio n_frames(133) and target_length (204). Is the audio_target_length setting correct?\n",
            "WARNING:root:Large gap between audio n_frames(133) and target_length (204). Is the audio_target_length setting correct?\n",
            "WARNING:root:Large gap between audio n_frames(133) and target_length (204). Is the audio_target_length setting correct?\n",
            "WARNING:root:Large gap between audio n_frames(130) and target_length (204). Is the audio_target_length setting correct?\n",
            "WARNING:root:Large gap between audio n_frames(130) and target_length (204). Is the audio_target_length setting correct?\n",
            "WARNING:root:Large gap between audio n_frames(130) and target_length (204). Is the audio_target_length setting correct?\n"
          ]
        },
        {
          "output_type": "stream",
          "name": "stdout",
          "text": [
            "Batch 40/75\n"
          ]
        },
        {
          "output_type": "stream",
          "name": "stderr",
          "text": [
            "WARNING:root:Large gap between audio n_frames(159) and target_length (204). Is the audio_target_length setting correct?\n",
            "WARNING:root:Large gap between audio n_frames(159) and target_length (204). Is the audio_target_length setting correct?\n",
            "WARNING:root:Large gap between audio n_frames(159) and target_length (204). Is the audio_target_length setting correct?\n",
            "WARNING:root:Large gap between audio n_frames(145) and target_length (204). Is the audio_target_length setting correct?\n",
            "WARNING:root:Large gap between audio n_frames(145) and target_length (204). Is the audio_target_length setting correct?\n",
            "WARNING:root:Large gap between audio n_frames(145) and target_length (204). Is the audio_target_length setting correct?\n",
            "WARNING:root:Large gap between audio n_frames(130) and target_length (204). Is the audio_target_length setting correct?\n",
            "WARNING:root:Large gap between audio n_frames(130) and target_length (204). Is the audio_target_length setting correct?\n",
            "WARNING:root:Large gap between audio n_frames(130) and target_length (204). Is the audio_target_length setting correct?\n",
            "WARNING:root:Large gap between audio n_frames(161) and target_length (204). Is the audio_target_length setting correct?\n",
            "WARNING:root:Large gap between audio n_frames(161) and target_length (204). Is the audio_target_length setting correct?\n",
            "WARNING:root:Large gap between audio n_frames(161) and target_length (204). Is the audio_target_length setting correct?\n"
          ]
        },
        {
          "output_type": "stream",
          "name": "stdout",
          "text": [
            "Batch 41/75\n"
          ]
        },
        {
          "output_type": "stream",
          "name": "stderr",
          "text": [
            "WARNING:root:Large gap between audio n_frames(143) and target_length (204). Is the audio_target_length setting correct?\n",
            "WARNING:root:Large gap between audio n_frames(143) and target_length (204). Is the audio_target_length setting correct?\n",
            "WARNING:root:Large gap between audio n_frames(143) and target_length (204). Is the audio_target_length setting correct?\n",
            "WARNING:root:Large gap between audio n_frames(121) and target_length (204). Is the audio_target_length setting correct?\n",
            "WARNING:root:Large gap between audio n_frames(121) and target_length (204). Is the audio_target_length setting correct?\n",
            "WARNING:root:Large gap between audio n_frames(121) and target_length (204). Is the audio_target_length setting correct?\n"
          ]
        },
        {
          "output_type": "stream",
          "name": "stdout",
          "text": [
            "Batch 42/75\n",
            "Batch 43/75\n"
          ]
        },
        {
          "output_type": "stream",
          "name": "stderr",
          "text": [
            "WARNING:root:Large gap between audio n_frames(117) and target_length (204). Is the audio_target_length setting correct?\n",
            "WARNING:root:Large gap between audio n_frames(117) and target_length (204). Is the audio_target_length setting correct?\n",
            "WARNING:root:Large gap between audio n_frames(117) and target_length (204). Is the audio_target_length setting correct?\n",
            "WARNING:root:Large gap between audio n_frames(118) and target_length (204). Is the audio_target_length setting correct?\n",
            "WARNING:root:Large gap between audio n_frames(118) and target_length (204). Is the audio_target_length setting correct?\n",
            "WARNING:root:Large gap between audio n_frames(118) and target_length (204). Is the audio_target_length setting correct?\n"
          ]
        },
        {
          "output_type": "stream",
          "name": "stdout",
          "text": [
            "Batch 44/75\n"
          ]
        },
        {
          "output_type": "stream",
          "name": "stderr",
          "text": [
            "WARNING:root:Large gap between audio n_frames(160) and target_length (204). Is the audio_target_length setting correct?\n",
            "WARNING:root:Large gap between audio n_frames(160) and target_length (204). Is the audio_target_length setting correct?\n",
            "WARNING:root:Large gap between audio n_frames(160) and target_length (204). Is the audio_target_length setting correct?\n"
          ]
        },
        {
          "output_type": "stream",
          "name": "stdout",
          "text": [
            "Batch 45/75\n"
          ]
        },
        {
          "output_type": "stream",
          "name": "stderr",
          "text": [
            "WARNING:root:Large gap between audio n_frames(136) and target_length (204). Is the audio_target_length setting correct?\n",
            "WARNING:root:Large gap between audio n_frames(136) and target_length (204). Is the audio_target_length setting correct?\n",
            "WARNING:root:Large gap between audio n_frames(136) and target_length (204). Is the audio_target_length setting correct?\n",
            "WARNING:root:Large gap between audio n_frames(144) and target_length (204). Is the audio_target_length setting correct?\n",
            "WARNING:root:Large gap between audio n_frames(144) and target_length (204). Is the audio_target_length setting correct?\n",
            "WARNING:root:Large gap between audio n_frames(144) and target_length (204). Is the audio_target_length setting correct?\n"
          ]
        },
        {
          "output_type": "stream",
          "name": "stdout",
          "text": [
            "Batch 46/75\n"
          ]
        },
        {
          "output_type": "stream",
          "name": "stderr",
          "text": [
            "WARNING:root:Large gap between audio n_frames(130) and target_length (204). Is the audio_target_length setting correct?\n",
            "WARNING:root:Large gap between audio n_frames(130) and target_length (204). Is the audio_target_length setting correct?\n",
            "WARNING:root:Large gap between audio n_frames(130) and target_length (204). Is the audio_target_length setting correct?\n",
            "WARNING:root:Large gap between audio n_frames(144) and target_length (204). Is the audio_target_length setting correct?\n",
            "WARNING:root:Large gap between audio n_frames(144) and target_length (204). Is the audio_target_length setting correct?\n",
            "WARNING:root:Large gap between audio n_frames(144) and target_length (204). Is the audio_target_length setting correct?\n"
          ]
        },
        {
          "output_type": "stream",
          "name": "stdout",
          "text": [
            "Batch 47/75\n"
          ]
        },
        {
          "output_type": "stream",
          "name": "stderr",
          "text": [
            "WARNING:root:Large gap between audio n_frames(165) and target_length (204). Is the audio_target_length setting correct?\n",
            "WARNING:root:Large gap between audio n_frames(165) and target_length (204). Is the audio_target_length setting correct?\n",
            "WARNING:root:Large gap between audio n_frames(165) and target_length (204). Is the audio_target_length setting correct?\n",
            "WARNING:root:Large gap between audio n_frames(126) and target_length (204). Is the audio_target_length setting correct?\n",
            "WARNING:root:Large gap between audio n_frames(126) and target_length (204). Is the audio_target_length setting correct?\n",
            "WARNING:root:Large gap between audio n_frames(126) and target_length (204). Is the audio_target_length setting correct?\n",
            "WARNING:root:Large gap between audio n_frames(83) and target_length (204). Is the audio_target_length setting correct?\n",
            "WARNING:root:Large gap between audio n_frames(83) and target_length (204). Is the audio_target_length setting correct?\n",
            "WARNING:root:Large gap between audio n_frames(83) and target_length (204). Is the audio_target_length setting correct?\n",
            "WARNING:root:Large gap between audio n_frames(127) and target_length (204). Is the audio_target_length setting correct?\n",
            "WARNING:root:Large gap between audio n_frames(127) and target_length (204). Is the audio_target_length setting correct?\n",
            "WARNING:root:Large gap between audio n_frames(127) and target_length (204). Is the audio_target_length setting correct?\n",
            "WARNING:root:Large gap between audio n_frames(136) and target_length (204). Is the audio_target_length setting correct?\n",
            "WARNING:root:Large gap between audio n_frames(136) and target_length (204). Is the audio_target_length setting correct?\n",
            "WARNING:root:Large gap between audio n_frames(136) and target_length (204). Is the audio_target_length setting correct?\n"
          ]
        },
        {
          "output_type": "stream",
          "name": "stdout",
          "text": [
            "Batch 48/75\n",
            "Batch 49/75\n"
          ]
        },
        {
          "output_type": "stream",
          "name": "stderr",
          "text": [
            "WARNING:root:Large gap between audio n_frames(141) and target_length (204). Is the audio_target_length setting correct?\n",
            "WARNING:root:Large gap between audio n_frames(141) and target_length (204). Is the audio_target_length setting correct?\n",
            "WARNING:root:Large gap between audio n_frames(141) and target_length (204). Is the audio_target_length setting correct?\n",
            "WARNING:root:Large gap between audio n_frames(152) and target_length (204). Is the audio_target_length setting correct?\n",
            "WARNING:root:Large gap between audio n_frames(152) and target_length (204). Is the audio_target_length setting correct?\n",
            "WARNING:root:Large gap between audio n_frames(152) and target_length (204). Is the audio_target_length setting correct?\n"
          ]
        },
        {
          "output_type": "stream",
          "name": "stdout",
          "text": [
            "Batch 50/75\n",
            "Batch 51/75\n"
          ]
        },
        {
          "output_type": "stream",
          "name": "stderr",
          "text": [
            "WARNING:root:Large gap between audio n_frames(158) and target_length (204). Is the audio_target_length setting correct?\n",
            "WARNING:root:Large gap between audio n_frames(158) and target_length (204). Is the audio_target_length setting correct?\n",
            "WARNING:root:Large gap between audio n_frames(158) and target_length (204). Is the audio_target_length setting correct?\n",
            "WARNING:root:Large gap between audio n_frames(133) and target_length (204). Is the audio_target_length setting correct?\n",
            "WARNING:root:Large gap between audio n_frames(133) and target_length (204). Is the audio_target_length setting correct?\n",
            "WARNING:root:Large gap between audio n_frames(133) and target_length (204). Is the audio_target_length setting correct?\n"
          ]
        },
        {
          "output_type": "stream",
          "name": "stdout",
          "text": [
            "Batch 52/75\n"
          ]
        },
        {
          "output_type": "stream",
          "name": "stderr",
          "text": [
            "WARNING:root:Large gap between audio n_frames(148) and target_length (204). Is the audio_target_length setting correct?\n",
            "WARNING:root:Large gap between audio n_frames(148) and target_length (204). Is the audio_target_length setting correct?\n",
            "WARNING:root:Large gap between audio n_frames(148) and target_length (204). Is the audio_target_length setting correct?\n",
            "WARNING:root:Large gap between audio n_frames(111) and target_length (204). Is the audio_target_length setting correct?\n",
            "WARNING:root:Large gap between audio n_frames(111) and target_length (204). Is the audio_target_length setting correct?\n",
            "WARNING:root:Large gap between audio n_frames(111) and target_length (204). Is the audio_target_length setting correct?\n",
            "WARNING:root:Large gap between audio n_frames(115) and target_length (204). Is the audio_target_length setting correct?\n",
            "WARNING:root:Large gap between audio n_frames(115) and target_length (204). Is the audio_target_length setting correct?\n",
            "WARNING:root:Large gap between audio n_frames(115) and target_length (204). Is the audio_target_length setting correct?\n",
            "WARNING:root:Large gap between audio n_frames(108) and target_length (204). Is the audio_target_length setting correct?\n",
            "WARNING:root:Large gap between audio n_frames(108) and target_length (204). Is the audio_target_length setting correct?\n",
            "WARNING:root:Large gap between audio n_frames(108) and target_length (204). Is the audio_target_length setting correct?\n",
            "WARNING:root:Large gap between audio n_frames(141) and target_length (204). Is the audio_target_length setting correct?\n",
            "WARNING:root:Large gap between audio n_frames(141) and target_length (204). Is the audio_target_length setting correct?\n",
            "WARNING:root:Large gap between audio n_frames(141) and target_length (204). Is the audio_target_length setting correct?\n"
          ]
        },
        {
          "output_type": "stream",
          "name": "stdout",
          "text": [
            "Batch 53/75\n"
          ]
        },
        {
          "output_type": "stream",
          "name": "stderr",
          "text": [
            "WARNING:root:Large gap between audio n_frames(109) and target_length (204). Is the audio_target_length setting correct?\n",
            "WARNING:root:Large gap between audio n_frames(109) and target_length (204). Is the audio_target_length setting correct?\n",
            "WARNING:root:Large gap between audio n_frames(109) and target_length (204). Is the audio_target_length setting correct?\n",
            "WARNING:root:Large gap between audio n_frames(140) and target_length (204). Is the audio_target_length setting correct?\n",
            "WARNING:root:Large gap between audio n_frames(140) and target_length (204). Is the audio_target_length setting correct?\n",
            "WARNING:root:Large gap between audio n_frames(140) and target_length (204). Is the audio_target_length setting correct?\n",
            "WARNING:root:Large gap between audio n_frames(117) and target_length (204). Is the audio_target_length setting correct?\n",
            "WARNING:root:Large gap between audio n_frames(117) and target_length (204). Is the audio_target_length setting correct?\n",
            "WARNING:root:Large gap between audio n_frames(117) and target_length (204). Is the audio_target_length setting correct?\n"
          ]
        },
        {
          "output_type": "stream",
          "name": "stdout",
          "text": [
            "Batch 54/75\n"
          ]
        },
        {
          "output_type": "stream",
          "name": "stderr",
          "text": [
            "WARNING:root:Large gap between audio n_frames(141) and target_length (204). Is the audio_target_length setting correct?\n",
            "WARNING:root:Large gap between audio n_frames(141) and target_length (204). Is the audio_target_length setting correct?\n",
            "WARNING:root:Large gap between audio n_frames(141) and target_length (204). Is the audio_target_length setting correct?\n",
            "WARNING:root:Large gap between audio n_frames(165) and target_length (204). Is the audio_target_length setting correct?\n",
            "WARNING:root:Large gap between audio n_frames(165) and target_length (204). Is the audio_target_length setting correct?\n",
            "WARNING:root:Large gap between audio n_frames(165) and target_length (204). Is the audio_target_length setting correct?\n"
          ]
        },
        {
          "output_type": "stream",
          "name": "stdout",
          "text": [
            "Batch 55/75\n"
          ]
        },
        {
          "output_type": "stream",
          "name": "stderr",
          "text": [
            "WARNING:root:Large gap between audio n_frames(135) and target_length (204). Is the audio_target_length setting correct?\n",
            "WARNING:root:Large gap between audio n_frames(135) and target_length (204). Is the audio_target_length setting correct?\n",
            "WARNING:root:Large gap between audio n_frames(135) and target_length (204). Is the audio_target_length setting correct?\n"
          ]
        },
        {
          "output_type": "stream",
          "name": "stdout",
          "text": [
            "Batch 56/75\n"
          ]
        },
        {
          "output_type": "stream",
          "name": "stderr",
          "text": [
            "WARNING:root:Large gap between audio n_frames(160) and target_length (204). Is the audio_target_length setting correct?\n",
            "WARNING:root:Large gap between audio n_frames(160) and target_length (204). Is the audio_target_length setting correct?\n",
            "WARNING:root:Large gap between audio n_frames(160) and target_length (204). Is the audio_target_length setting correct?\n",
            "WARNING:root:Large gap between audio n_frames(85) and target_length (204). Is the audio_target_length setting correct?\n",
            "WARNING:root:Large gap between audio n_frames(85) and target_length (204). Is the audio_target_length setting correct?\n",
            "WARNING:root:Large gap between audio n_frames(85) and target_length (204). Is the audio_target_length setting correct?\n",
            "WARNING:root:Large gap between audio n_frames(114) and target_length (204). Is the audio_target_length setting correct?\n",
            "WARNING:root:Large gap between audio n_frames(114) and target_length (204). Is the audio_target_length setting correct?\n",
            "WARNING:root:Large gap between audio n_frames(114) and target_length (204). Is the audio_target_length setting correct?\n",
            "WARNING:root:Large gap between audio n_frames(167) and target_length (204). Is the audio_target_length setting correct?\n",
            "WARNING:root:Large gap between audio n_frames(167) and target_length (204). Is the audio_target_length setting correct?\n",
            "WARNING:root:Large gap between audio n_frames(167) and target_length (204). Is the audio_target_length setting correct?\n"
          ]
        },
        {
          "output_type": "stream",
          "name": "stdout",
          "text": [
            "Batch 57/75\n"
          ]
        },
        {
          "output_type": "stream",
          "name": "stderr",
          "text": [
            "WARNING:root:Large gap between audio n_frames(143) and target_length (204). Is the audio_target_length setting correct?\n",
            "WARNING:root:Large gap between audio n_frames(143) and target_length (204). Is the audio_target_length setting correct?\n",
            "WARNING:root:Large gap between audio n_frames(143) and target_length (204). Is the audio_target_length setting correct?\n",
            "WARNING:root:Large gap between audio n_frames(121) and target_length (204). Is the audio_target_length setting correct?\n",
            "WARNING:root:Large gap between audio n_frames(121) and target_length (204). Is the audio_target_length setting correct?\n",
            "WARNING:root:Large gap between audio n_frames(121) and target_length (204). Is the audio_target_length setting correct?\n",
            "WARNING:root:Large gap between audio n_frames(130) and target_length (204). Is the audio_target_length setting correct?\n",
            "WARNING:root:Large gap between audio n_frames(130) and target_length (204). Is the audio_target_length setting correct?\n",
            "WARNING:root:Large gap between audio n_frames(130) and target_length (204). Is the audio_target_length setting correct?\n"
          ]
        },
        {
          "output_type": "stream",
          "name": "stdout",
          "text": [
            "Batch 58/75\n"
          ]
        },
        {
          "output_type": "stream",
          "name": "stderr",
          "text": [
            "WARNING:root:Large gap between audio n_frames(160) and target_length (204). Is the audio_target_length setting correct?\n",
            "WARNING:root:Large gap between audio n_frames(160) and target_length (204). Is the audio_target_length setting correct?\n",
            "WARNING:root:Large gap between audio n_frames(160) and target_length (204). Is the audio_target_length setting correct?\n"
          ]
        },
        {
          "output_type": "stream",
          "name": "stdout",
          "text": [
            "Batch 59/75\n",
            "Batch 60/75\n",
            "Batch 61/75\n"
          ]
        },
        {
          "output_type": "stream",
          "name": "stderr",
          "text": [
            "WARNING:root:Large gap between audio n_frames(113) and target_length (204). Is the audio_target_length setting correct?\n",
            "WARNING:root:Large gap between audio n_frames(113) and target_length (204). Is the audio_target_length setting correct?\n",
            "WARNING:root:Large gap between audio n_frames(113) and target_length (204). Is the audio_target_length setting correct?\n",
            "WARNING:root:Large gap between audio n_frames(155) and target_length (204). Is the audio_target_length setting correct?\n",
            "WARNING:root:Large gap between audio n_frames(155) and target_length (204). Is the audio_target_length setting correct?\n",
            "WARNING:root:Large gap between audio n_frames(155) and target_length (204). Is the audio_target_length setting correct?\n"
          ]
        },
        {
          "output_type": "stream",
          "name": "stdout",
          "text": [
            "Batch 62/75\n"
          ]
        },
        {
          "output_type": "stream",
          "name": "stderr",
          "text": [
            "WARNING:root:Large gap between audio n_frames(160) and target_length (204). Is the audio_target_length setting correct?\n",
            "WARNING:root:Large gap between audio n_frames(160) and target_length (204). Is the audio_target_length setting correct?\n",
            "WARNING:root:Large gap between audio n_frames(160) and target_length (204). Is the audio_target_length setting correct?\n"
          ]
        },
        {
          "output_type": "stream",
          "name": "stdout",
          "text": [
            "Batch 63/75\n"
          ]
        },
        {
          "output_type": "stream",
          "name": "stderr",
          "text": [
            "WARNING:root:Large gap between audio n_frames(160) and target_length (204). Is the audio_target_length setting correct?\n",
            "WARNING:root:Large gap between audio n_frames(160) and target_length (204). Is the audio_target_length setting correct?\n",
            "WARNING:root:Large gap between audio n_frames(160) and target_length (204). Is the audio_target_length setting correct?\n",
            "WARNING:root:Large gap between audio n_frames(118) and target_length (204). Is the audio_target_length setting correct?\n",
            "WARNING:root:Large gap between audio n_frames(118) and target_length (204). Is the audio_target_length setting correct?\n",
            "WARNING:root:Large gap between audio n_frames(118) and target_length (204). Is the audio_target_length setting correct?\n",
            "WARNING:root:Large gap between audio n_frames(161) and target_length (204). Is the audio_target_length setting correct?\n",
            "WARNING:root:Large gap between audio n_frames(161) and target_length (204). Is the audio_target_length setting correct?\n",
            "WARNING:root:Large gap between audio n_frames(161) and target_length (204). Is the audio_target_length setting correct?\n",
            "WARNING:root:Large gap between audio n_frames(165) and target_length (204). Is the audio_target_length setting correct?\n",
            "WARNING:root:Large gap between audio n_frames(165) and target_length (204). Is the audio_target_length setting correct?\n",
            "WARNING:root:Large gap between audio n_frames(165) and target_length (204). Is the audio_target_length setting correct?\n"
          ]
        },
        {
          "output_type": "stream",
          "name": "stdout",
          "text": [
            "Batch 64/75\n"
          ]
        },
        {
          "output_type": "stream",
          "name": "stderr",
          "text": [
            "WARNING:root:Large gap between audio n_frames(144) and target_length (204). Is the audio_target_length setting correct?\n",
            "WARNING:root:Large gap between audio n_frames(144) and target_length (204). Is the audio_target_length setting correct?\n",
            "WARNING:root:Large gap between audio n_frames(144) and target_length (204). Is the audio_target_length setting correct?\n",
            "WARNING:root:Large gap between audio n_frames(135) and target_length (204). Is the audio_target_length setting correct?\n",
            "WARNING:root:Large gap between audio n_frames(135) and target_length (204). Is the audio_target_length setting correct?\n",
            "WARNING:root:Large gap between audio n_frames(135) and target_length (204). Is the audio_target_length setting correct?\n",
            "WARNING:root:Large gap between audio n_frames(156) and target_length (204). Is the audio_target_length setting correct?\n",
            "WARNING:root:Large gap between audio n_frames(156) and target_length (204). Is the audio_target_length setting correct?\n",
            "WARNING:root:Large gap between audio n_frames(156) and target_length (204). Is the audio_target_length setting correct?\n",
            "WARNING:root:Large gap between audio n_frames(139) and target_length (204). Is the audio_target_length setting correct?\n",
            "WARNING:root:Large gap between audio n_frames(139) and target_length (204). Is the audio_target_length setting correct?\n",
            "WARNING:root:Large gap between audio n_frames(139) and target_length (204). Is the audio_target_length setting correct?\n"
          ]
        },
        {
          "output_type": "stream",
          "name": "stdout",
          "text": [
            "Batch 65/75\n"
          ]
        },
        {
          "output_type": "stream",
          "name": "stderr",
          "text": [
            "WARNING:root:Large gap between audio n_frames(145) and target_length (204). Is the audio_target_length setting correct?\n",
            "WARNING:root:Large gap between audio n_frames(145) and target_length (204). Is the audio_target_length setting correct?\n",
            "WARNING:root:Large gap between audio n_frames(145) and target_length (204). Is the audio_target_length setting correct?\n",
            "WARNING:root:Large gap between audio n_frames(162) and target_length (204). Is the audio_target_length setting correct?\n",
            "WARNING:root:Large gap between audio n_frames(162) and target_length (204). Is the audio_target_length setting correct?\n",
            "WARNING:root:Large gap between audio n_frames(162) and target_length (204). Is the audio_target_length setting correct?\n",
            "WARNING:root:Large gap between audio n_frames(147) and target_length (204). Is the audio_target_length setting correct?\n",
            "WARNING:root:Large gap between audio n_frames(147) and target_length (204). Is the audio_target_length setting correct?\n",
            "WARNING:root:Large gap between audio n_frames(147) and target_length (204). Is the audio_target_length setting correct?\n",
            "WARNING:root:Large gap between audio n_frames(88) and target_length (204). Is the audio_target_length setting correct?\n",
            "WARNING:root:Large gap between audio n_frames(88) and target_length (204). Is the audio_target_length setting correct?\n",
            "WARNING:root:Large gap between audio n_frames(88) and target_length (204). Is the audio_target_length setting correct?\n"
          ]
        },
        {
          "output_type": "stream",
          "name": "stdout",
          "text": [
            "Batch 66/75\n",
            "Batch 67/75\n"
          ]
        },
        {
          "output_type": "stream",
          "name": "stderr",
          "text": [
            "WARNING:root:Large gap between audio n_frames(153) and target_length (204). Is the audio_target_length setting correct?\n",
            "WARNING:root:Large gap between audio n_frames(153) and target_length (204). Is the audio_target_length setting correct?\n",
            "WARNING:root:Large gap between audio n_frames(153) and target_length (204). Is the audio_target_length setting correct?\n",
            "WARNING:root:Large gap between audio n_frames(121) and target_length (204). Is the audio_target_length setting correct?\n",
            "WARNING:root:Large gap between audio n_frames(121) and target_length (204). Is the audio_target_length setting correct?\n",
            "WARNING:root:Large gap between audio n_frames(121) and target_length (204). Is the audio_target_length setting correct?\n",
            "WARNING:root:Large gap between audio n_frames(136) and target_length (204). Is the audio_target_length setting correct?\n",
            "WARNING:root:Large gap between audio n_frames(136) and target_length (204). Is the audio_target_length setting correct?\n",
            "WARNING:root:Large gap between audio n_frames(136) and target_length (204). Is the audio_target_length setting correct?\n",
            "WARNING:root:Large gap between audio n_frames(137) and target_length (204). Is the audio_target_length setting correct?\n",
            "WARNING:root:Large gap between audio n_frames(137) and target_length (204). Is the audio_target_length setting correct?\n",
            "WARNING:root:Large gap between audio n_frames(137) and target_length (204). Is the audio_target_length setting correct?\n",
            "WARNING:root:Large gap between audio n_frames(141) and target_length (204). Is the audio_target_length setting correct?\n",
            "WARNING:root:Large gap between audio n_frames(141) and target_length (204). Is the audio_target_length setting correct?\n",
            "WARNING:root:Large gap between audio n_frames(141) and target_length (204). Is the audio_target_length setting correct?\n"
          ]
        },
        {
          "output_type": "stream",
          "name": "stdout",
          "text": [
            "Batch 68/75\n"
          ]
        },
        {
          "output_type": "stream",
          "name": "stderr",
          "text": [
            "WARNING:root:Large gap between audio n_frames(114) and target_length (204). Is the audio_target_length setting correct?\n",
            "WARNING:root:Large gap between audio n_frames(114) and target_length (204). Is the audio_target_length setting correct?\n",
            "WARNING:root:Large gap between audio n_frames(114) and target_length (204). Is the audio_target_length setting correct?\n",
            "WARNING:root:Large gap between audio n_frames(164) and target_length (204). Is the audio_target_length setting correct?\n",
            "WARNING:root:Large gap between audio n_frames(164) and target_length (204). Is the audio_target_length setting correct?\n",
            "WARNING:root:Large gap between audio n_frames(164) and target_length (204). Is the audio_target_length setting correct?\n",
            "WARNING:root:Large gap between audio n_frames(164) and target_length (204). Is the audio_target_length setting correct?\n",
            "WARNING:root:Large gap between audio n_frames(164) and target_length (204). Is the audio_target_length setting correct?\n",
            "WARNING:root:Large gap between audio n_frames(164) and target_length (204). Is the audio_target_length setting correct?\n",
            "WARNING:root:Large gap between audio n_frames(150) and target_length (204). Is the audio_target_length setting correct?\n",
            "WARNING:root:Large gap between audio n_frames(150) and target_length (204). Is the audio_target_length setting correct?\n",
            "WARNING:root:Large gap between audio n_frames(150) and target_length (204). Is the audio_target_length setting correct?\n",
            "WARNING:root:Large gap between audio n_frames(162) and target_length (204). Is the audio_target_length setting correct?\n",
            "WARNING:root:Large gap between audio n_frames(162) and target_length (204). Is the audio_target_length setting correct?\n",
            "WARNING:root:Large gap between audio n_frames(162) and target_length (204). Is the audio_target_length setting correct?\n",
            "WARNING:root:Large gap between audio n_frames(125) and target_length (204). Is the audio_target_length setting correct?\n",
            "WARNING:root:Large gap between audio n_frames(125) and target_length (204). Is the audio_target_length setting correct?\n",
            "WARNING:root:Large gap between audio n_frames(125) and target_length (204). Is the audio_target_length setting correct?\n"
          ]
        },
        {
          "output_type": "stream",
          "name": "stdout",
          "text": [
            "Batch 69/75\n"
          ]
        },
        {
          "output_type": "stream",
          "name": "stderr",
          "text": [
            "WARNING:root:Large gap between audio n_frames(145) and target_length (204). Is the audio_target_length setting correct?\n",
            "WARNING:root:Large gap between audio n_frames(145) and target_length (204). Is the audio_target_length setting correct?\n",
            "WARNING:root:Large gap between audio n_frames(145) and target_length (204). Is the audio_target_length setting correct?\n",
            "WARNING:root:Large gap between audio n_frames(131) and target_length (204). Is the audio_target_length setting correct?\n",
            "WARNING:root:Large gap between audio n_frames(131) and target_length (204). Is the audio_target_length setting correct?\n",
            "WARNING:root:Large gap between audio n_frames(131) and target_length (204). Is the audio_target_length setting correct?\n",
            "WARNING:root:Large gap between audio n_frames(130) and target_length (204). Is the audio_target_length setting correct?\n",
            "WARNING:root:Large gap between audio n_frames(130) and target_length (204). Is the audio_target_length setting correct?\n",
            "WARNING:root:Large gap between audio n_frames(130) and target_length (204). Is the audio_target_length setting correct?\n"
          ]
        },
        {
          "output_type": "stream",
          "name": "stdout",
          "text": [
            "Batch 70/75\n"
          ]
        },
        {
          "output_type": "stream",
          "name": "stderr",
          "text": [
            "WARNING:root:Large gap between audio n_frames(103) and target_length (204). Is the audio_target_length setting correct?\n",
            "WARNING:root:Large gap between audio n_frames(103) and target_length (204). Is the audio_target_length setting correct?\n",
            "WARNING:root:Large gap between audio n_frames(103) and target_length (204). Is the audio_target_length setting correct?\n",
            "WARNING:root:Large gap between audio n_frames(152) and target_length (204). Is the audio_target_length setting correct?\n",
            "WARNING:root:Large gap between audio n_frames(152) and target_length (204). Is the audio_target_length setting correct?\n",
            "WARNING:root:Large gap between audio n_frames(152) and target_length (204). Is the audio_target_length setting correct?\n"
          ]
        },
        {
          "output_type": "stream",
          "name": "stdout",
          "text": [
            "Batch 71/75\n"
          ]
        },
        {
          "output_type": "stream",
          "name": "stderr",
          "text": [
            "WARNING:root:Large gap between audio n_frames(101) and target_length (204). Is the audio_target_length setting correct?\n",
            "WARNING:root:Large gap between audio n_frames(101) and target_length (204). Is the audio_target_length setting correct?\n",
            "WARNING:root:Large gap between audio n_frames(101) and target_length (204). Is the audio_target_length setting correct?\n"
          ]
        },
        {
          "output_type": "stream",
          "name": "stdout",
          "text": [
            "Batch 72/75\n"
          ]
        },
        {
          "output_type": "stream",
          "name": "stderr",
          "text": [
            "WARNING:root:Large gap between audio n_frames(159) and target_length (204). Is the audio_target_length setting correct?\n",
            "WARNING:root:Large gap between audio n_frames(159) and target_length (204). Is the audio_target_length setting correct?\n",
            "WARNING:root:Large gap between audio n_frames(159) and target_length (204). Is the audio_target_length setting correct?\n",
            "WARNING:root:Large gap between audio n_frames(163) and target_length (204). Is the audio_target_length setting correct?\n",
            "WARNING:root:Large gap between audio n_frames(163) and target_length (204). Is the audio_target_length setting correct?\n",
            "WARNING:root:Large gap between audio n_frames(163) and target_length (204). Is the audio_target_length setting correct?\n",
            "WARNING:root:Large gap between audio n_frames(143) and target_length (204). Is the audio_target_length setting correct?\n",
            "WARNING:root:Large gap between audio n_frames(143) and target_length (204). Is the audio_target_length setting correct?\n",
            "WARNING:root:Large gap between audio n_frames(143) and target_length (204). Is the audio_target_length setting correct?\n",
            "WARNING:root:Large gap between audio n_frames(146) and target_length (204). Is the audio_target_length setting correct?\n",
            "WARNING:root:Large gap between audio n_frames(146) and target_length (204). Is the audio_target_length setting correct?\n",
            "WARNING:root:Large gap between audio n_frames(146) and target_length (204). Is the audio_target_length setting correct?\n"
          ]
        },
        {
          "output_type": "stream",
          "name": "stdout",
          "text": [
            "Batch 73/75\n"
          ]
        },
        {
          "output_type": "stream",
          "name": "stderr",
          "text": [
            "WARNING:root:Large gap between audio n_frames(74) and target_length (204). Is the audio_target_length setting correct?\n",
            "WARNING:root:Large gap between audio n_frames(74) and target_length (204). Is the audio_target_length setting correct?\n",
            "WARNING:root:Large gap between audio n_frames(74) and target_length (204). Is the audio_target_length setting correct?\n",
            "WARNING:root:Large gap between audio n_frames(135) and target_length (204). Is the audio_target_length setting correct?\n",
            "WARNING:root:Large gap between audio n_frames(135) and target_length (204). Is the audio_target_length setting correct?\n",
            "WARNING:root:Large gap between audio n_frames(135) and target_length (204). Is the audio_target_length setting correct?\n",
            "WARNING:root:Large gap between audio n_frames(148) and target_length (204). Is the audio_target_length setting correct?\n",
            "WARNING:root:Large gap between audio n_frames(148) and target_length (204). Is the audio_target_length setting correct?\n",
            "WARNING:root:Large gap between audio n_frames(148) and target_length (204). Is the audio_target_length setting correct?\n",
            "WARNING:root:Large gap between audio n_frames(151) and target_length (204). Is the audio_target_length setting correct?\n",
            "WARNING:root:Large gap between audio n_frames(151) and target_length (204). Is the audio_target_length setting correct?\n",
            "WARNING:root:Large gap between audio n_frames(151) and target_length (204). Is the audio_target_length setting correct?\n",
            "WARNING:root:Large gap between audio n_frames(163) and target_length (204). Is the audio_target_length setting correct?\n",
            "WARNING:root:Large gap between audio n_frames(163) and target_length (204). Is the audio_target_length setting correct?\n",
            "WARNING:root:Large gap between audio n_frames(163) and target_length (204). Is the audio_target_length setting correct?\n",
            "WARNING:root:Large gap between audio n_frames(126) and target_length (204). Is the audio_target_length setting correct?\n",
            "WARNING:root:Large gap between audio n_frames(126) and target_length (204). Is the audio_target_length setting correct?\n",
            "WARNING:root:Large gap between audio n_frames(126) and target_length (204). Is the audio_target_length setting correct?\n"
          ]
        },
        {
          "output_type": "stream",
          "name": "stdout",
          "text": [
            "Batch 74/75\n"
          ]
        },
        {
          "output_type": "stream",
          "name": "stderr",
          "text": [
            "WARNING:root:Large gap between audio n_frames(158) and target_length (204). Is the audio_target_length setting correct?\n",
            "WARNING:root:Large gap between audio n_frames(158) and target_length (204). Is the audio_target_length setting correct?\n",
            "WARNING:root:Large gap between audio n_frames(158) and target_length (204). Is the audio_target_length setting correct?\n",
            "WARNING:root:Large gap between audio n_frames(132) and target_length (204). Is the audio_target_length setting correct?\n",
            "WARNING:root:Large gap between audio n_frames(132) and target_length (204). Is the audio_target_length setting correct?\n",
            "WARNING:root:Large gap between audio n_frames(132) and target_length (204). Is the audio_target_length setting correct?\n",
            "WARNING:root:Large gap between audio n_frames(156) and target_length (204). Is the audio_target_length setting correct?\n",
            "WARNING:root:Large gap between audio n_frames(156) and target_length (204). Is the audio_target_length setting correct?\n",
            "WARNING:root:Large gap between audio n_frames(156) and target_length (204). Is the audio_target_length setting correct?\n",
            "WARNING:root:Large gap between audio n_frames(124) and target_length (204). Is the audio_target_length setting correct?\n",
            "WARNING:root:Large gap between audio n_frames(124) and target_length (204). Is the audio_target_length setting correct?\n",
            "WARNING:root:Large gap between audio n_frames(124) and target_length (204). Is the audio_target_length setting correct?\n"
          ]
        },
        {
          "output_type": "stream",
          "name": "stdout",
          "text": [
            "Batch 75/75\n"
          ]
        },
        {
          "output_type": "stream",
          "name": "stderr",
          "text": [
            "WARNING:root:Large gap between audio n_frames(119) and target_length (204). Is the audio_target_length setting correct?\n",
            "WARNING:root:Large gap between audio n_frames(119) and target_length (204). Is the audio_target_length setting correct?\n",
            "WARNING:root:Large gap between audio n_frames(119) and target_length (204). Is the audio_target_length setting correct?\n",
            "WARNING:root:Large gap between audio n_frames(106) and target_length (204). Is the audio_target_length setting correct?\n",
            "WARNING:root:Large gap between audio n_frames(106) and target_length (204). Is the audio_target_length setting correct?\n",
            "WARNING:root:Large gap between audio n_frames(106) and target_length (204). Is the audio_target_length setting correct?\n",
            "WARNING:root:Large gap between audio n_frames(159) and target_length (204). Is the audio_target_length setting correct?\n",
            "WARNING:root:Large gap between audio n_frames(159) and target_length (204). Is the audio_target_length setting correct?\n",
            "WARNING:root:Large gap between audio n_frames(159) and target_length (204). Is the audio_target_length setting correct?\n",
            "WARNING:root:Large gap between audio n_frames(133) and target_length (204). Is the audio_target_length setting correct?\n",
            "WARNING:root:Large gap between audio n_frames(133) and target_length (204). Is the audio_target_length setting correct?\n"
          ]
        },
        {
          "output_type": "stream",
          "name": "stdout",
          "text": [
            "Processing session Session5......\n",
            "Batch 1/78\n"
          ]
        },
        {
          "output_type": "stream",
          "name": "stderr",
          "text": [
            "WARNING:root:Large gap between audio n_frames(133) and target_length (204). Is the audio_target_length setting correct?\n",
            "WARNING:root:Large gap between audio n_frames(154) and target_length (204). Is the audio_target_length setting correct?\n",
            "WARNING:root:Large gap between audio n_frames(154) and target_length (204). Is the audio_target_length setting correct?\n",
            "WARNING:root:Large gap between audio n_frames(154) and target_length (204). Is the audio_target_length setting correct?\n",
            "WARNING:root:Large gap between audio n_frames(163) and target_length (204). Is the audio_target_length setting correct?\n",
            "WARNING:root:Large gap between audio n_frames(163) and target_length (204). Is the audio_target_length setting correct?\n",
            "WARNING:root:Large gap between audio n_frames(163) and target_length (204). Is the audio_target_length setting correct?\n"
          ]
        },
        {
          "output_type": "stream",
          "name": "stdout",
          "text": [
            "Batch 2/78\n"
          ]
        },
        {
          "output_type": "stream",
          "name": "stderr",
          "text": [
            "WARNING:root:Large gap between audio n_frames(135) and target_length (204). Is the audio_target_length setting correct?\n",
            "WARNING:root:Large gap between audio n_frames(135) and target_length (204). Is the audio_target_length setting correct?\n",
            "WARNING:root:Large gap between audio n_frames(135) and target_length (204). Is the audio_target_length setting correct?\n"
          ]
        },
        {
          "output_type": "stream",
          "name": "stdout",
          "text": [
            "Batch 3/78\n"
          ]
        },
        {
          "output_type": "stream",
          "name": "stderr",
          "text": [
            "WARNING:root:Large gap between audio n_frames(118) and target_length (204). Is the audio_target_length setting correct?\n",
            "WARNING:root:Large gap between audio n_frames(118) and target_length (204). Is the audio_target_length setting correct?\n",
            "WARNING:root:Large gap between audio n_frames(118) and target_length (204). Is the audio_target_length setting correct?\n",
            "WARNING:root:Large gap between audio n_frames(151) and target_length (204). Is the audio_target_length setting correct?\n",
            "WARNING:root:Large gap between audio n_frames(151) and target_length (204). Is the audio_target_length setting correct?\n",
            "WARNING:root:Large gap between audio n_frames(151) and target_length (204). Is the audio_target_length setting correct?\n",
            "WARNING:root:Large gap between audio n_frames(168) and target_length (204). Is the audio_target_length setting correct?\n",
            "WARNING:root:Large gap between audio n_frames(168) and target_length (204). Is the audio_target_length setting correct?\n",
            "WARNING:root:Large gap between audio n_frames(168) and target_length (204). Is the audio_target_length setting correct?\n",
            "WARNING:root:Large gap between audio n_frames(153) and target_length (204). Is the audio_target_length setting correct?\n",
            "WARNING:root:Large gap between audio n_frames(153) and target_length (204). Is the audio_target_length setting correct?\n",
            "WARNING:root:Large gap between audio n_frames(153) and target_length (204). Is the audio_target_length setting correct?\n"
          ]
        },
        {
          "output_type": "stream",
          "name": "stdout",
          "text": [
            "Batch 4/78\n",
            "Batch 5/78\n"
          ]
        },
        {
          "output_type": "stream",
          "name": "stderr",
          "text": [
            "WARNING:root:Large gap between audio n_frames(111) and target_length (204). Is the audio_target_length setting correct?\n",
            "WARNING:root:Large gap between audio n_frames(111) and target_length (204). Is the audio_target_length setting correct?\n",
            "WARNING:root:Large gap between audio n_frames(111) and target_length (204). Is the audio_target_length setting correct?\n",
            "WARNING:root:Large gap between audio n_frames(112) and target_length (204). Is the audio_target_length setting correct?\n",
            "WARNING:root:Large gap between audio n_frames(112) and target_length (204). Is the audio_target_length setting correct?\n",
            "WARNING:root:Large gap between audio n_frames(112) and target_length (204). Is the audio_target_length setting correct?\n",
            "WARNING:root:Large gap between audio n_frames(116) and target_length (204). Is the audio_target_length setting correct?\n",
            "WARNING:root:Large gap between audio n_frames(116) and target_length (204). Is the audio_target_length setting correct?\n",
            "WARNING:root:Large gap between audio n_frames(116) and target_length (204). Is the audio_target_length setting correct?\n",
            "WARNING:root:Large gap between audio n_frames(169) and target_length (204). Is the audio_target_length setting correct?\n",
            "WARNING:root:Large gap between audio n_frames(169) and target_length (204). Is the audio_target_length setting correct?\n",
            "WARNING:root:Large gap between audio n_frames(169) and target_length (204). Is the audio_target_length setting correct?\n",
            "WARNING:root:Large gap between audio n_frames(151) and target_length (204). Is the audio_target_length setting correct?\n",
            "WARNING:root:Large gap between audio n_frames(151) and target_length (204). Is the audio_target_length setting correct?\n",
            "WARNING:root:Large gap between audio n_frames(151) and target_length (204). Is the audio_target_length setting correct?\n",
            "WARNING:root:Large gap between audio n_frames(123) and target_length (204). Is the audio_target_length setting correct?\n",
            "WARNING:root:Large gap between audio n_frames(123) and target_length (204). Is the audio_target_length setting correct?\n",
            "WARNING:root:Large gap between audio n_frames(123) and target_length (204). Is the audio_target_length setting correct?\n",
            "WARNING:root:Large gap between audio n_frames(166) and target_length (204). Is the audio_target_length setting correct?\n",
            "WARNING:root:Large gap between audio n_frames(166) and target_length (204). Is the audio_target_length setting correct?\n",
            "WARNING:root:Large gap between audio n_frames(166) and target_length (204). Is the audio_target_length setting correct?\n",
            "WARNING:root:Large gap between audio n_frames(125) and target_length (204). Is the audio_target_length setting correct?\n",
            "WARNING:root:Large gap between audio n_frames(125) and target_length (204). Is the audio_target_length setting correct?\n"
          ]
        },
        {
          "output_type": "stream",
          "name": "stdout",
          "text": [
            "Batch 6/78\n"
          ]
        },
        {
          "output_type": "stream",
          "name": "stderr",
          "text": [
            "WARNING:root:Large gap between audio n_frames(125) and target_length (204). Is the audio_target_length setting correct?\n",
            "WARNING:root:Large gap between audio n_frames(124) and target_length (204). Is the audio_target_length setting correct?\n",
            "WARNING:root:Large gap between audio n_frames(124) and target_length (204). Is the audio_target_length setting correct?\n",
            "WARNING:root:Large gap between audio n_frames(124) and target_length (204). Is the audio_target_length setting correct?\n",
            "WARNING:root:Large gap between audio n_frames(128) and target_length (204). Is the audio_target_length setting correct?\n",
            "WARNING:root:Large gap between audio n_frames(128) and target_length (204). Is the audio_target_length setting correct?\n",
            "WARNING:root:Large gap between audio n_frames(128) and target_length (204). Is the audio_target_length setting correct?\n",
            "WARNING:root:Large gap between audio n_frames(107) and target_length (204). Is the audio_target_length setting correct?\n",
            "WARNING:root:Large gap between audio n_frames(107) and target_length (204). Is the audio_target_length setting correct?\n",
            "WARNING:root:Large gap between audio n_frames(107) and target_length (204). Is the audio_target_length setting correct?\n",
            "WARNING:root:Large gap between audio n_frames(120) and target_length (204). Is the audio_target_length setting correct?\n",
            "WARNING:root:Large gap between audio n_frames(120) and target_length (204). Is the audio_target_length setting correct?\n",
            "WARNING:root:Large gap between audio n_frames(120) and target_length (204). Is the audio_target_length setting correct?\n",
            "WARNING:root:Large gap between audio n_frames(163) and target_length (204). Is the audio_target_length setting correct?\n",
            "WARNING:root:Large gap between audio n_frames(163) and target_length (204). Is the audio_target_length setting correct?\n",
            "WARNING:root:Large gap between audio n_frames(163) and target_length (204). Is the audio_target_length setting correct?\n",
            "WARNING:root:Large gap between audio n_frames(154) and target_length (204). Is the audio_target_length setting correct?\n",
            "WARNING:root:Large gap between audio n_frames(154) and target_length (204). Is the audio_target_length setting correct?\n",
            "WARNING:root:Large gap between audio n_frames(154) and target_length (204). Is the audio_target_length setting correct?\n",
            "WARNING:root:Large gap between audio n_frames(156) and target_length (204). Is the audio_target_length setting correct?\n",
            "WARNING:root:Large gap between audio n_frames(156) and target_length (204). Is the audio_target_length setting correct?\n",
            "WARNING:root:Large gap between audio n_frames(156) and target_length (204). Is the audio_target_length setting correct?\n",
            "WARNING:root:Large gap between audio n_frames(137) and target_length (204). Is the audio_target_length setting correct?\n",
            "WARNING:root:Large gap between audio n_frames(137) and target_length (204). Is the audio_target_length setting correct?\n",
            "WARNING:root:Large gap between audio n_frames(137) and target_length (204). Is the audio_target_length setting correct?\n",
            "WARNING:root:Large gap between audio n_frames(109) and target_length (204). Is the audio_target_length setting correct?\n",
            "WARNING:root:Large gap between audio n_frames(109) and target_length (204). Is the audio_target_length setting correct?\n",
            "WARNING:root:Large gap between audio n_frames(109) and target_length (204). Is the audio_target_length setting correct?\n"
          ]
        },
        {
          "output_type": "stream",
          "name": "stdout",
          "text": [
            "Batch 7/78\n"
          ]
        },
        {
          "output_type": "stream",
          "name": "stderr",
          "text": [
            "WARNING:root:Large gap between audio n_frames(108) and target_length (204). Is the audio_target_length setting correct?\n",
            "WARNING:root:Large gap between audio n_frames(108) and target_length (204). Is the audio_target_length setting correct?\n",
            "WARNING:root:Large gap between audio n_frames(108) and target_length (204). Is the audio_target_length setting correct?\n",
            "WARNING:root:Large gap between audio n_frames(137) and target_length (204). Is the audio_target_length setting correct?\n",
            "WARNING:root:Large gap between audio n_frames(137) and target_length (204). Is the audio_target_length setting correct?\n",
            "WARNING:root:Large gap between audio n_frames(137) and target_length (204). Is the audio_target_length setting correct?\n",
            "WARNING:root:Large gap between audio n_frames(118) and target_length (204). Is the audio_target_length setting correct?\n",
            "WARNING:root:Large gap between audio n_frames(118) and target_length (204). Is the audio_target_length setting correct?\n",
            "WARNING:root:Large gap between audio n_frames(118) and target_length (204). Is the audio_target_length setting correct?\n",
            "WARNING:root:Large gap between audio n_frames(134) and target_length (204). Is the audio_target_length setting correct?\n",
            "WARNING:root:Large gap between audio n_frames(134) and target_length (204). Is the audio_target_length setting correct?\n",
            "WARNING:root:Large gap between audio n_frames(134) and target_length (204). Is the audio_target_length setting correct?\n",
            "WARNING:root:Large gap between audio n_frames(159) and target_length (204). Is the audio_target_length setting correct?\n",
            "WARNING:root:Large gap between audio n_frames(159) and target_length (204). Is the audio_target_length setting correct?\n",
            "WARNING:root:Large gap between audio n_frames(159) and target_length (204). Is the audio_target_length setting correct?\n",
            "WARNING:root:Large gap between audio n_frames(163) and target_length (204). Is the audio_target_length setting correct?\n",
            "WARNING:root:Large gap between audio n_frames(163) and target_length (204). Is the audio_target_length setting correct?\n",
            "WARNING:root:Large gap between audio n_frames(163) and target_length (204). Is the audio_target_length setting correct?\n",
            "WARNING:root:Large gap between audio n_frames(149) and target_length (204). Is the audio_target_length setting correct?\n",
            "WARNING:root:Large gap between audio n_frames(149) and target_length (204). Is the audio_target_length setting correct?\n",
            "WARNING:root:Large gap between audio n_frames(149) and target_length (204). Is the audio_target_length setting correct?\n",
            "WARNING:root:Large gap between audio n_frames(137) and target_length (204). Is the audio_target_length setting correct?\n",
            "WARNING:root:Large gap between audio n_frames(137) and target_length (204). Is the audio_target_length setting correct?\n",
            "WARNING:root:Large gap between audio n_frames(137) and target_length (204). Is the audio_target_length setting correct?\n"
          ]
        },
        {
          "output_type": "stream",
          "name": "stdout",
          "text": [
            "Batch 8/78\n"
          ]
        },
        {
          "output_type": "stream",
          "name": "stderr",
          "text": [
            "WARNING:root:Large gap between audio n_frames(152) and target_length (204). Is the audio_target_length setting correct?\n",
            "WARNING:root:Large gap between audio n_frames(152) and target_length (204). Is the audio_target_length setting correct?\n",
            "WARNING:root:Large gap between audio n_frames(152) and target_length (204). Is the audio_target_length setting correct?\n",
            "WARNING:root:Large gap between audio n_frames(112) and target_length (204). Is the audio_target_length setting correct?\n",
            "WARNING:root:Large gap between audio n_frames(112) and target_length (204). Is the audio_target_length setting correct?\n",
            "WARNING:root:Large gap between audio n_frames(112) and target_length (204). Is the audio_target_length setting correct?\n",
            "WARNING:root:Large gap between audio n_frames(125) and target_length (204). Is the audio_target_length setting correct?\n",
            "WARNING:root:Large gap between audio n_frames(125) and target_length (204). Is the audio_target_length setting correct?\n",
            "WARNING:root:Large gap between audio n_frames(125) and target_length (204). Is the audio_target_length setting correct?\n",
            "WARNING:root:Large gap between audio n_frames(125) and target_length (204). Is the audio_target_length setting correct?\n",
            "WARNING:root:Large gap between audio n_frames(125) and target_length (204). Is the audio_target_length setting correct?\n",
            "WARNING:root:Large gap between audio n_frames(125) and target_length (204). Is the audio_target_length setting correct?\n",
            "WARNING:root:Large gap between audio n_frames(167) and target_length (204). Is the audio_target_length setting correct?\n",
            "WARNING:root:Large gap between audio n_frames(167) and target_length (204). Is the audio_target_length setting correct?\n",
            "WARNING:root:Large gap between audio n_frames(167) and target_length (204). Is the audio_target_length setting correct?\n",
            "WARNING:root:Large gap between audio n_frames(133) and target_length (204). Is the audio_target_length setting correct?\n",
            "WARNING:root:Large gap between audio n_frames(133) and target_length (204). Is the audio_target_length setting correct?\n",
            "WARNING:root:Large gap between audio n_frames(133) and target_length (204). Is the audio_target_length setting correct?\n",
            "WARNING:root:Large gap between audio n_frames(159) and target_length (204). Is the audio_target_length setting correct?\n",
            "WARNING:root:Large gap between audio n_frames(159) and target_length (204). Is the audio_target_length setting correct?\n",
            "WARNING:root:Large gap between audio n_frames(159) and target_length (204). Is the audio_target_length setting correct?\n"
          ]
        },
        {
          "output_type": "stream",
          "name": "stdout",
          "text": [
            "Batch 9/78\n"
          ]
        },
        {
          "output_type": "stream",
          "name": "stderr",
          "text": [
            "WARNING:root:Large gap between audio n_frames(163) and target_length (204). Is the audio_target_length setting correct?\n",
            "WARNING:root:Large gap between audio n_frames(163) and target_length (204). Is the audio_target_length setting correct?\n",
            "WARNING:root:Large gap between audio n_frames(163) and target_length (204). Is the audio_target_length setting correct?\n",
            "WARNING:root:Large gap between audio n_frames(125) and target_length (204). Is the audio_target_length setting correct?\n",
            "WARNING:root:Large gap between audio n_frames(125) and target_length (204). Is the audio_target_length setting correct?\n",
            "WARNING:root:Large gap between audio n_frames(125) and target_length (204). Is the audio_target_length setting correct?\n",
            "WARNING:root:Large gap between audio n_frames(88) and target_length (204). Is the audio_target_length setting correct?\n",
            "WARNING:root:Large gap between audio n_frames(88) and target_length (204). Is the audio_target_length setting correct?\n",
            "WARNING:root:Large gap between audio n_frames(88) and target_length (204). Is the audio_target_length setting correct?\n",
            "WARNING:root:Large gap between audio n_frames(139) and target_length (204). Is the audio_target_length setting correct?\n",
            "WARNING:root:Large gap between audio n_frames(139) and target_length (204). Is the audio_target_length setting correct?\n",
            "WARNING:root:Large gap between audio n_frames(139) and target_length (204). Is the audio_target_length setting correct?\n",
            "WARNING:root:Large gap between audio n_frames(122) and target_length (204). Is the audio_target_length setting correct?\n",
            "WARNING:root:Large gap between audio n_frames(122) and target_length (204). Is the audio_target_length setting correct?\n",
            "WARNING:root:Large gap between audio n_frames(122) and target_length (204). Is the audio_target_length setting correct?\n",
            "WARNING:root:Large gap between audio n_frames(125) and target_length (204). Is the audio_target_length setting correct?\n",
            "WARNING:root:Large gap between audio n_frames(125) and target_length (204). Is the audio_target_length setting correct?\n",
            "WARNING:root:Large gap between audio n_frames(125) and target_length (204). Is the audio_target_length setting correct?\n",
            "WARNING:root:Large gap between audio n_frames(158) and target_length (204). Is the audio_target_length setting correct?\n",
            "WARNING:root:Large gap between audio n_frames(158) and target_length (204). Is the audio_target_length setting correct?\n",
            "WARNING:root:Large gap between audio n_frames(158) and target_length (204). Is the audio_target_length setting correct?\n",
            "WARNING:root:Large gap between audio n_frames(159) and target_length (204). Is the audio_target_length setting correct?\n",
            "WARNING:root:Large gap between audio n_frames(159) and target_length (204). Is the audio_target_length setting correct?\n",
            "WARNING:root:Large gap between audio n_frames(159) and target_length (204). Is the audio_target_length setting correct?\n",
            "WARNING:root:Large gap between audio n_frames(153) and target_length (204). Is the audio_target_length setting correct?\n",
            "WARNING:root:Large gap between audio n_frames(153) and target_length (204). Is the audio_target_length setting correct?\n",
            "WARNING:root:Large gap between audio n_frames(153) and target_length (204). Is the audio_target_length setting correct?\n",
            "WARNING:root:Large gap between audio n_frames(160) and target_length (204). Is the audio_target_length setting correct?\n",
            "WARNING:root:Large gap between audio n_frames(160) and target_length (204). Is the audio_target_length setting correct?\n",
            "WARNING:root:Large gap between audio n_frames(160) and target_length (204). Is the audio_target_length setting correct?\n"
          ]
        },
        {
          "output_type": "stream",
          "name": "stdout",
          "text": [
            "Batch 10/78\n"
          ]
        },
        {
          "output_type": "stream",
          "name": "stderr",
          "text": [
            "WARNING:root:Large gap between audio n_frames(166) and target_length (204). Is the audio_target_length setting correct?\n",
            "WARNING:root:Large gap between audio n_frames(166) and target_length (204). Is the audio_target_length setting correct?\n",
            "WARNING:root:Large gap between audio n_frames(166) and target_length (204). Is the audio_target_length setting correct?\n"
          ]
        },
        {
          "output_type": "stream",
          "name": "stdout",
          "text": [
            "Batch 11/78\n"
          ]
        },
        {
          "output_type": "stream",
          "name": "stderr",
          "text": [
            "WARNING:root:Large gap between audio n_frames(160) and target_length (204). Is the audio_target_length setting correct?\n",
            "WARNING:root:Large gap between audio n_frames(160) and target_length (204). Is the audio_target_length setting correct?\n",
            "WARNING:root:Large gap between audio n_frames(160) and target_length (204). Is the audio_target_length setting correct?\n",
            "WARNING:root:Large gap between audio n_frames(143) and target_length (204). Is the audio_target_length setting correct?\n",
            "WARNING:root:Large gap between audio n_frames(143) and target_length (204). Is the audio_target_length setting correct?\n",
            "WARNING:root:Large gap between audio n_frames(143) and target_length (204). Is the audio_target_length setting correct?\n",
            "WARNING:root:Large gap between audio n_frames(129) and target_length (204). Is the audio_target_length setting correct?\n",
            "WARNING:root:Large gap between audio n_frames(129) and target_length (204). Is the audio_target_length setting correct?\n",
            "WARNING:root:Large gap between audio n_frames(129) and target_length (204). Is the audio_target_length setting correct?\n",
            "WARNING:root:Large gap between audio n_frames(146) and target_length (204). Is the audio_target_length setting correct?\n",
            "WARNING:root:Large gap between audio n_frames(146) and target_length (204). Is the audio_target_length setting correct?\n",
            "WARNING:root:Large gap between audio n_frames(146) and target_length (204). Is the audio_target_length setting correct?\n",
            "WARNING:root:Large gap between audio n_frames(149) and target_length (204). Is the audio_target_length setting correct?\n",
            "WARNING:root:Large gap between audio n_frames(149) and target_length (204). Is the audio_target_length setting correct?\n",
            "WARNING:root:Large gap between audio n_frames(149) and target_length (204). Is the audio_target_length setting correct?\n",
            "WARNING:root:Large gap between audio n_frames(125) and target_length (204). Is the audio_target_length setting correct?\n",
            "WARNING:root:Large gap between audio n_frames(125) and target_length (204). Is the audio_target_length setting correct?\n",
            "WARNING:root:Large gap between audio n_frames(125) and target_length (204). Is the audio_target_length setting correct?\n"
          ]
        },
        {
          "output_type": "stream",
          "name": "stdout",
          "text": [
            "Batch 12/78\n"
          ]
        },
        {
          "output_type": "stream",
          "name": "stderr",
          "text": [
            "WARNING:root:Large gap between audio n_frames(135) and target_length (204). Is the audio_target_length setting correct?\n",
            "WARNING:root:Large gap between audio n_frames(135) and target_length (204). Is the audio_target_length setting correct?\n",
            "WARNING:root:Large gap between audio n_frames(135) and target_length (204). Is the audio_target_length setting correct?\n",
            "WARNING:root:Large gap between audio n_frames(164) and target_length (204). Is the audio_target_length setting correct?\n",
            "WARNING:root:Large gap between audio n_frames(164) and target_length (204). Is the audio_target_length setting correct?\n",
            "WARNING:root:Large gap between audio n_frames(164) and target_length (204). Is the audio_target_length setting correct?\n"
          ]
        },
        {
          "output_type": "stream",
          "name": "stdout",
          "text": [
            "Batch 13/78\n"
          ]
        },
        {
          "output_type": "stream",
          "name": "stderr",
          "text": [
            "WARNING:root:Large gap between audio n_frames(135) and target_length (204). Is the audio_target_length setting correct?\n",
            "WARNING:root:Large gap between audio n_frames(135) and target_length (204). Is the audio_target_length setting correct?\n",
            "WARNING:root:Large gap between audio n_frames(135) and target_length (204). Is the audio_target_length setting correct?\n",
            "WARNING:root:Large gap between audio n_frames(126) and target_length (204). Is the audio_target_length setting correct?\n",
            "WARNING:root:Large gap between audio n_frames(126) and target_length (204). Is the audio_target_length setting correct?\n",
            "WARNING:root:Large gap between audio n_frames(126) and target_length (204). Is the audio_target_length setting correct?\n",
            "WARNING:root:Large gap between audio n_frames(126) and target_length (204). Is the audio_target_length setting correct?\n",
            "WARNING:root:Large gap between audio n_frames(126) and target_length (204). Is the audio_target_length setting correct?\n",
            "WARNING:root:Large gap between audio n_frames(126) and target_length (204). Is the audio_target_length setting correct?\n",
            "WARNING:root:Large gap between audio n_frames(126) and target_length (204). Is the audio_target_length setting correct?\n",
            "WARNING:root:Large gap between audio n_frames(126) and target_length (204). Is the audio_target_length setting correct?\n",
            "WARNING:root:Large gap between audio n_frames(126) and target_length (204). Is the audio_target_length setting correct?\n"
          ]
        },
        {
          "output_type": "stream",
          "name": "stdout",
          "text": [
            "Batch 14/78\n",
            "Batch 15/78\n"
          ]
        },
        {
          "output_type": "stream",
          "name": "stderr",
          "text": [
            "WARNING:root:Large gap between audio n_frames(109) and target_length (204). Is the audio_target_length setting correct?\n",
            "WARNING:root:Large gap between audio n_frames(109) and target_length (204). Is the audio_target_length setting correct?\n",
            "WARNING:root:Large gap between audio n_frames(109) and target_length (204). Is the audio_target_length setting correct?\n",
            "WARNING:root:Large gap between audio n_frames(119) and target_length (204). Is the audio_target_length setting correct?\n",
            "WARNING:root:Large gap between audio n_frames(119) and target_length (204). Is the audio_target_length setting correct?\n",
            "WARNING:root:Large gap between audio n_frames(119) and target_length (204). Is the audio_target_length setting correct?\n",
            "WARNING:root:Large gap between audio n_frames(123) and target_length (204). Is the audio_target_length setting correct?\n",
            "WARNING:root:Large gap between audio n_frames(123) and target_length (204). Is the audio_target_length setting correct?\n",
            "WARNING:root:Large gap between audio n_frames(123) and target_length (204). Is the audio_target_length setting correct?\n",
            "WARNING:root:Large gap between audio n_frames(144) and target_length (204). Is the audio_target_length setting correct?\n"
          ]
        },
        {
          "output_type": "stream",
          "name": "stdout",
          "text": [
            "Batch 16/78\n"
          ]
        },
        {
          "output_type": "stream",
          "name": "stderr",
          "text": [
            "WARNING:root:Large gap between audio n_frames(144) and target_length (204). Is the audio_target_length setting correct?\n",
            "WARNING:root:Large gap between audio n_frames(144) and target_length (204). Is the audio_target_length setting correct?\n",
            "WARNING:root:Large gap between audio n_frames(136) and target_length (204). Is the audio_target_length setting correct?\n",
            "WARNING:root:Large gap between audio n_frames(136) and target_length (204). Is the audio_target_length setting correct?\n",
            "WARNING:root:Large gap between audio n_frames(136) and target_length (204). Is the audio_target_length setting correct?\n",
            "WARNING:root:Large gap between audio n_frames(146) and target_length (204). Is the audio_target_length setting correct?\n",
            "WARNING:root:Large gap between audio n_frames(146) and target_length (204). Is the audio_target_length setting correct?\n",
            "WARNING:root:Large gap between audio n_frames(146) and target_length (204). Is the audio_target_length setting correct?\n",
            "WARNING:root:Large gap between audio n_frames(134) and target_length (204). Is the audio_target_length setting correct?\n",
            "WARNING:root:Large gap between audio n_frames(134) and target_length (204). Is the audio_target_length setting correct?\n",
            "WARNING:root:Large gap between audio n_frames(134) and target_length (204). Is the audio_target_length setting correct?\n"
          ]
        },
        {
          "output_type": "stream",
          "name": "stdout",
          "text": [
            "Batch 17/78\n"
          ]
        },
        {
          "output_type": "stream",
          "name": "stderr",
          "text": [
            "WARNING:root:Large gap between audio n_frames(164) and target_length (204). Is the audio_target_length setting correct?\n",
            "WARNING:root:Large gap between audio n_frames(164) and target_length (204). Is the audio_target_length setting correct?\n",
            "WARNING:root:Large gap between audio n_frames(164) and target_length (204). Is the audio_target_length setting correct?\n",
            "WARNING:root:Large gap between audio n_frames(149) and target_length (204). Is the audio_target_length setting correct?\n",
            "WARNING:root:Large gap between audio n_frames(149) and target_length (204). Is the audio_target_length setting correct?\n",
            "WARNING:root:Large gap between audio n_frames(149) and target_length (204). Is the audio_target_length setting correct?\n",
            "WARNING:root:Large gap between audio n_frames(138) and target_length (204). Is the audio_target_length setting correct?\n",
            "WARNING:root:Large gap between audio n_frames(138) and target_length (204). Is the audio_target_length setting correct?\n",
            "WARNING:root:Large gap between audio n_frames(138) and target_length (204). Is the audio_target_length setting correct?\n",
            "WARNING:root:Large gap between audio n_frames(154) and target_length (204). Is the audio_target_length setting correct?\n",
            "WARNING:root:Large gap between audio n_frames(154) and target_length (204). Is the audio_target_length setting correct?\n",
            "WARNING:root:Large gap between audio n_frames(154) and target_length (204). Is the audio_target_length setting correct?\n",
            "WARNING:root:Large gap between audio n_frames(142) and target_length (204). Is the audio_target_length setting correct?\n",
            "WARNING:root:Large gap between audio n_frames(142) and target_length (204). Is the audio_target_length setting correct?\n",
            "WARNING:root:Large gap between audio n_frames(142) and target_length (204). Is the audio_target_length setting correct?\n",
            "WARNING:root:Large gap between audio n_frames(149) and target_length (204). Is the audio_target_length setting correct?\n",
            "WARNING:root:Large gap between audio n_frames(149) and target_length (204). Is the audio_target_length setting correct?\n",
            "WARNING:root:Large gap between audio n_frames(149) and target_length (204). Is the audio_target_length setting correct?\n"
          ]
        },
        {
          "output_type": "stream",
          "name": "stdout",
          "text": [
            "Batch 18/78\n"
          ]
        },
        {
          "output_type": "stream",
          "name": "stderr",
          "text": [
            "WARNING:root:Large gap between audio n_frames(166) and target_length (204). Is the audio_target_length setting correct?\n",
            "WARNING:root:Large gap between audio n_frames(166) and target_length (204). Is the audio_target_length setting correct?\n",
            "WARNING:root:Large gap between audio n_frames(166) and target_length (204). Is the audio_target_length setting correct?\n",
            "WARNING:root:Large gap between audio n_frames(168) and target_length (204). Is the audio_target_length setting correct?\n",
            "WARNING:root:Large gap between audio n_frames(168) and target_length (204). Is the audio_target_length setting correct?\n",
            "WARNING:root:Large gap between audio n_frames(168) and target_length (204). Is the audio_target_length setting correct?\n",
            "WARNING:root:Large gap between audio n_frames(162) and target_length (204). Is the audio_target_length setting correct?\n",
            "WARNING:root:Large gap between audio n_frames(162) and target_length (204). Is the audio_target_length setting correct?\n",
            "WARNING:root:Large gap between audio n_frames(162) and target_length (204). Is the audio_target_length setting correct?\n",
            "WARNING:root:Large gap between audio n_frames(100) and target_length (204). Is the audio_target_length setting correct?\n",
            "WARNING:root:Large gap between audio n_frames(100) and target_length (204). Is the audio_target_length setting correct?\n",
            "WARNING:root:Large gap between audio n_frames(100) and target_length (204). Is the audio_target_length setting correct?\n",
            "WARNING:root:Large gap between audio n_frames(147) and target_length (204). Is the audio_target_length setting correct?\n",
            "WARNING:root:Large gap between audio n_frames(147) and target_length (204). Is the audio_target_length setting correct?\n",
            "WARNING:root:Large gap between audio n_frames(147) and target_length (204). Is the audio_target_length setting correct?\n",
            "WARNING:root:Large gap between audio n_frames(112) and target_length (204). Is the audio_target_length setting correct?\n",
            "WARNING:root:Large gap between audio n_frames(112) and target_length (204). Is the audio_target_length setting correct?\n",
            "WARNING:root:Large gap between audio n_frames(112) and target_length (204). Is the audio_target_length setting correct?\n"
          ]
        },
        {
          "output_type": "stream",
          "name": "stdout",
          "text": [
            "Batch 19/78\n"
          ]
        },
        {
          "output_type": "stream",
          "name": "stderr",
          "text": [
            "WARNING:root:Large gap between audio n_frames(137) and target_length (204). Is the audio_target_length setting correct?\n",
            "WARNING:root:Large gap between audio n_frames(137) and target_length (204). Is the audio_target_length setting correct?\n",
            "WARNING:root:Large gap between audio n_frames(137) and target_length (204). Is the audio_target_length setting correct?\n",
            "WARNING:root:Large gap between audio n_frames(122) and target_length (204). Is the audio_target_length setting correct?\n",
            "WARNING:root:Large gap between audio n_frames(122) and target_length (204). Is the audio_target_length setting correct?\n",
            "WARNING:root:Large gap between audio n_frames(122) and target_length (204). Is the audio_target_length setting correct?\n",
            "WARNING:root:Large gap between audio n_frames(140) and target_length (204). Is the audio_target_length setting correct?\n",
            "WARNING:root:Large gap between audio n_frames(140) and target_length (204). Is the audio_target_length setting correct?\n",
            "WARNING:root:Large gap between audio n_frames(140) and target_length (204). Is the audio_target_length setting correct?\n",
            "WARNING:root:Large gap between audio n_frames(86) and target_length (204). Is the audio_target_length setting correct?\n",
            "WARNING:root:Large gap between audio n_frames(86) and target_length (204). Is the audio_target_length setting correct?\n",
            "WARNING:root:Large gap between audio n_frames(86) and target_length (204). Is the audio_target_length setting correct?\n",
            "WARNING:root:Large gap between audio n_frames(122) and target_length (204). Is the audio_target_length setting correct?\n",
            "WARNING:root:Large gap between audio n_frames(122) and target_length (204). Is the audio_target_length setting correct?\n",
            "WARNING:root:Large gap between audio n_frames(122) and target_length (204). Is the audio_target_length setting correct?\n",
            "WARNING:root:Large gap between audio n_frames(147) and target_length (204). Is the audio_target_length setting correct?\n",
            "WARNING:root:Large gap between audio n_frames(147) and target_length (204). Is the audio_target_length setting correct?\n",
            "WARNING:root:Large gap between audio n_frames(147) and target_length (204). Is the audio_target_length setting correct?\n",
            "WARNING:root:Large gap between audio n_frames(121) and target_length (204). Is the audio_target_length setting correct?\n",
            "WARNING:root:Large gap between audio n_frames(121) and target_length (204). Is the audio_target_length setting correct?\n",
            "WARNING:root:Large gap between audio n_frames(121) and target_length (204). Is the audio_target_length setting correct?\n",
            "WARNING:root:Large gap between audio n_frames(134) and target_length (204). Is the audio_target_length setting correct?\n",
            "WARNING:root:Large gap between audio n_frames(134) and target_length (204). Is the audio_target_length setting correct?\n",
            "WARNING:root:Large gap between audio n_frames(134) and target_length (204). Is the audio_target_length setting correct?\n",
            "WARNING:root:Large gap between audio n_frames(106) and target_length (204). Is the audio_target_length setting correct?\n",
            "WARNING:root:Large gap between audio n_frames(106) and target_length (204). Is the audio_target_length setting correct?\n",
            "WARNING:root:Large gap between audio n_frames(106) and target_length (204). Is the audio_target_length setting correct?\n",
            "WARNING:root:Large gap between audio n_frames(114) and target_length (204). Is the audio_target_length setting correct?\n"
          ]
        },
        {
          "output_type": "stream",
          "name": "stdout",
          "text": [
            "Batch 20/78\n"
          ]
        },
        {
          "output_type": "stream",
          "name": "stderr",
          "text": [
            "WARNING:root:Large gap between audio n_frames(114) and target_length (204). Is the audio_target_length setting correct?\n",
            "WARNING:root:Large gap between audio n_frames(114) and target_length (204). Is the audio_target_length setting correct?\n",
            "WARNING:root:Large gap between audio n_frames(104) and target_length (204). Is the audio_target_length setting correct?\n",
            "WARNING:root:Large gap between audio n_frames(104) and target_length (204). Is the audio_target_length setting correct?\n",
            "WARNING:root:Large gap between audio n_frames(104) and target_length (204). Is the audio_target_length setting correct?\n",
            "WARNING:root:Large gap between audio n_frames(145) and target_length (204). Is the audio_target_length setting correct?\n",
            "WARNING:root:Large gap between audio n_frames(145) and target_length (204). Is the audio_target_length setting correct?\n",
            "WARNING:root:Large gap between audio n_frames(145) and target_length (204). Is the audio_target_length setting correct?\n",
            "WARNING:root:Large gap between audio n_frames(92) and target_length (204). Is the audio_target_length setting correct?\n",
            "WARNING:root:Large gap between audio n_frames(92) and target_length (204). Is the audio_target_length setting correct?\n",
            "WARNING:root:Large gap between audio n_frames(92) and target_length (204). Is the audio_target_length setting correct?\n"
          ]
        },
        {
          "output_type": "stream",
          "name": "stdout",
          "text": [
            "Batch 21/78\n"
          ]
        },
        {
          "output_type": "stream",
          "name": "stderr",
          "text": [
            "WARNING:root:Large gap between audio n_frames(149) and target_length (204). Is the audio_target_length setting correct?\n",
            "WARNING:root:Large gap between audio n_frames(149) and target_length (204). Is the audio_target_length setting correct?\n",
            "WARNING:root:Large gap between audio n_frames(149) and target_length (204). Is the audio_target_length setting correct?\n",
            "WARNING:root:Large gap between audio n_frames(149) and target_length (204). Is the audio_target_length setting correct?\n",
            "WARNING:root:Large gap between audio n_frames(149) and target_length (204). Is the audio_target_length setting correct?\n",
            "WARNING:root:Large gap between audio n_frames(149) and target_length (204). Is the audio_target_length setting correct?\n",
            "WARNING:root:Large gap between audio n_frames(113) and target_length (204). Is the audio_target_length setting correct?\n",
            "WARNING:root:Large gap between audio n_frames(113) and target_length (204). Is the audio_target_length setting correct?\n",
            "WARNING:root:Large gap between audio n_frames(113) and target_length (204). Is the audio_target_length setting correct?\n",
            "WARNING:root:Large gap between audio n_frames(118) and target_length (204). Is the audio_target_length setting correct?\n",
            "WARNING:root:Large gap between audio n_frames(118) and target_length (204). Is the audio_target_length setting correct?\n",
            "WARNING:root:Large gap between audio n_frames(118) and target_length (204). Is the audio_target_length setting correct?\n",
            "WARNING:root:Large gap between audio n_frames(76) and target_length (204). Is the audio_target_length setting correct?\n",
            "WARNING:root:Large gap between audio n_frames(76) and target_length (204). Is the audio_target_length setting correct?\n",
            "WARNING:root:Large gap between audio n_frames(76) and target_length (204). Is the audio_target_length setting correct?\n",
            "WARNING:root:Large gap between audio n_frames(112) and target_length (204). Is the audio_target_length setting correct?\n",
            "WARNING:root:Large gap between audio n_frames(112) and target_length (204). Is the audio_target_length setting correct?\n",
            "WARNING:root:Large gap between audio n_frames(112) and target_length (204). Is the audio_target_length setting correct?\n",
            "WARNING:root:Large gap between audio n_frames(124) and target_length (204). Is the audio_target_length setting correct?\n",
            "WARNING:root:Large gap between audio n_frames(124) and target_length (204). Is the audio_target_length setting correct?\n",
            "WARNING:root:Large gap between audio n_frames(124) and target_length (204). Is the audio_target_length setting correct?\n",
            "WARNING:root:Large gap between audio n_frames(149) and target_length (204). Is the audio_target_length setting correct?\n",
            "WARNING:root:Large gap between audio n_frames(149) and target_length (204). Is the audio_target_length setting correct?\n",
            "WARNING:root:Large gap between audio n_frames(149) and target_length (204). Is the audio_target_length setting correct?\n"
          ]
        },
        {
          "output_type": "stream",
          "name": "stdout",
          "text": [
            "Batch 22/78\n"
          ]
        },
        {
          "output_type": "stream",
          "name": "stderr",
          "text": [
            "WARNING:root:Large gap between audio n_frames(101) and target_length (204). Is the audio_target_length setting correct?\n",
            "WARNING:root:Large gap between audio n_frames(101) and target_length (204). Is the audio_target_length setting correct?\n",
            "WARNING:root:Large gap between audio n_frames(101) and target_length (204). Is the audio_target_length setting correct?\n",
            "WARNING:root:Large gap between audio n_frames(133) and target_length (204). Is the audio_target_length setting correct?\n",
            "WARNING:root:Large gap between audio n_frames(133) and target_length (204). Is the audio_target_length setting correct?\n",
            "WARNING:root:Large gap between audio n_frames(133) and target_length (204). Is the audio_target_length setting correct?\n",
            "WARNING:root:Large gap between audio n_frames(119) and target_length (204). Is the audio_target_length setting correct?\n",
            "WARNING:root:Large gap between audio n_frames(119) and target_length (204). Is the audio_target_length setting correct?\n",
            "WARNING:root:Large gap between audio n_frames(119) and target_length (204). Is the audio_target_length setting correct?\n",
            "WARNING:root:Large gap between audio n_frames(128) and target_length (204). Is the audio_target_length setting correct?\n",
            "WARNING:root:Large gap between audio n_frames(128) and target_length (204). Is the audio_target_length setting correct?\n",
            "WARNING:root:Large gap between audio n_frames(128) and target_length (204). Is the audio_target_length setting correct?\n",
            "WARNING:root:Large gap between audio n_frames(148) and target_length (204). Is the audio_target_length setting correct?\n",
            "WARNING:root:Large gap between audio n_frames(148) and target_length (204). Is the audio_target_length setting correct?\n",
            "WARNING:root:Large gap between audio n_frames(148) and target_length (204). Is the audio_target_length setting correct?\n",
            "WARNING:root:Large gap between audio n_frames(136) and target_length (204). Is the audio_target_length setting correct?\n",
            "WARNING:root:Large gap between audio n_frames(136) and target_length (204). Is the audio_target_length setting correct?\n",
            "WARNING:root:Large gap between audio n_frames(136) and target_length (204). Is the audio_target_length setting correct?\n",
            "WARNING:root:Large gap between audio n_frames(142) and target_length (204). Is the audio_target_length setting correct?\n",
            "WARNING:root:Large gap between audio n_frames(142) and target_length (204). Is the audio_target_length setting correct?\n",
            "WARNING:root:Large gap between audio n_frames(142) and target_length (204). Is the audio_target_length setting correct?\n",
            "WARNING:root:Large gap between audio n_frames(76) and target_length (204). Is the audio_target_length setting correct?\n",
            "WARNING:root:Large gap between audio n_frames(76) and target_length (204). Is the audio_target_length setting correct?\n",
            "WARNING:root:Large gap between audio n_frames(76) and target_length (204). Is the audio_target_length setting correct?\n",
            "WARNING:root:Large gap between audio n_frames(131) and target_length (204). Is the audio_target_length setting correct?\n",
            "WARNING:root:Large gap between audio n_frames(131) and target_length (204). Is the audio_target_length setting correct?\n"
          ]
        },
        {
          "output_type": "stream",
          "name": "stdout",
          "text": [
            "Batch 23/78\n"
          ]
        },
        {
          "output_type": "stream",
          "name": "stderr",
          "text": [
            "WARNING:root:Large gap between audio n_frames(131) and target_length (204). Is the audio_target_length setting correct?\n",
            "WARNING:root:Large gap between audio n_frames(110) and target_length (204). Is the audio_target_length setting correct?\n",
            "WARNING:root:Large gap between audio n_frames(110) and target_length (204). Is the audio_target_length setting correct?\n",
            "WARNING:root:Large gap between audio n_frames(110) and target_length (204). Is the audio_target_length setting correct?\n",
            "WARNING:root:Large gap between audio n_frames(123) and target_length (204). Is the audio_target_length setting correct?\n",
            "WARNING:root:Large gap between audio n_frames(123) and target_length (204). Is the audio_target_length setting correct?\n",
            "WARNING:root:Large gap between audio n_frames(123) and target_length (204). Is the audio_target_length setting correct?\n",
            "WARNING:root:Large gap between audio n_frames(123) and target_length (204). Is the audio_target_length setting correct?\n",
            "WARNING:root:Large gap between audio n_frames(123) and target_length (204). Is the audio_target_length setting correct?\n",
            "WARNING:root:Large gap between audio n_frames(123) and target_length (204). Is the audio_target_length setting correct?\n",
            "WARNING:root:Large gap between audio n_frames(107) and target_length (204). Is the audio_target_length setting correct?\n",
            "WARNING:root:Large gap between audio n_frames(107) and target_length (204). Is the audio_target_length setting correct?\n",
            "WARNING:root:Large gap between audio n_frames(107) and target_length (204). Is the audio_target_length setting correct?\n",
            "WARNING:root:Large gap between audio n_frames(111) and target_length (204). Is the audio_target_length setting correct?\n",
            "WARNING:root:Large gap between audio n_frames(111) and target_length (204). Is the audio_target_length setting correct?\n",
            "WARNING:root:Large gap between audio n_frames(111) and target_length (204). Is the audio_target_length setting correct?\n",
            "WARNING:root:Large gap between audio n_frames(166) and target_length (204). Is the audio_target_length setting correct?\n",
            "WARNING:root:Large gap between audio n_frames(166) and target_length (204). Is the audio_target_length setting correct?\n",
            "WARNING:root:Large gap between audio n_frames(166) and target_length (204). Is the audio_target_length setting correct?\n",
            "WARNING:root:Large gap between audio n_frames(108) and target_length (204). Is the audio_target_length setting correct?\n",
            "WARNING:root:Large gap between audio n_frames(108) and target_length (204). Is the audio_target_length setting correct?\n",
            "WARNING:root:Large gap between audio n_frames(108) and target_length (204). Is the audio_target_length setting correct?\n",
            "WARNING:root:Large gap between audio n_frames(90) and target_length (204). Is the audio_target_length setting correct?\n",
            "WARNING:root:Large gap between audio n_frames(90) and target_length (204). Is the audio_target_length setting correct?\n",
            "WARNING:root:Large gap between audio n_frames(90) and target_length (204). Is the audio_target_length setting correct?\n",
            "WARNING:root:Large gap between audio n_frames(118) and target_length (204). Is the audio_target_length setting correct?\n",
            "WARNING:root:Large gap between audio n_frames(118) and target_length (204). Is the audio_target_length setting correct?\n",
            "WARNING:root:Large gap between audio n_frames(118) and target_length (204). Is the audio_target_length setting correct?\n",
            "WARNING:root:Large gap between audio n_frames(151) and target_length (204). Is the audio_target_length setting correct?\n",
            "WARNING:root:Large gap between audio n_frames(151) and target_length (204). Is the audio_target_length setting correct?\n",
            "WARNING:root:Large gap between audio n_frames(151) and target_length (204). Is the audio_target_length setting correct?\n"
          ]
        },
        {
          "output_type": "stream",
          "name": "stdout",
          "text": [
            "Batch 24/78\n"
          ]
        },
        {
          "output_type": "stream",
          "name": "stderr",
          "text": [
            "WARNING:root:Large gap between audio n_frames(144) and target_length (204). Is the audio_target_length setting correct?\n",
            "WARNING:root:Large gap between audio n_frames(144) and target_length (204). Is the audio_target_length setting correct?\n",
            "WARNING:root:Large gap between audio n_frames(144) and target_length (204). Is the audio_target_length setting correct?\n"
          ]
        },
        {
          "output_type": "stream",
          "name": "stdout",
          "text": [
            "Batch 25/78\n",
            "Batch 26/78\n"
          ]
        },
        {
          "output_type": "stream",
          "name": "stderr",
          "text": [
            "WARNING:root:Large gap between audio n_frames(164) and target_length (204). Is the audio_target_length setting correct?\n",
            "WARNING:root:Large gap between audio n_frames(164) and target_length (204). Is the audio_target_length setting correct?\n",
            "WARNING:root:Large gap between audio n_frames(164) and target_length (204). Is the audio_target_length setting correct?\n"
          ]
        },
        {
          "output_type": "stream",
          "name": "stdout",
          "text": [
            "Batch 27/78\n"
          ]
        },
        {
          "output_type": "stream",
          "name": "stderr",
          "text": [
            "WARNING:root:Large gap between audio n_frames(164) and target_length (204). Is the audio_target_length setting correct?\n",
            "WARNING:root:Large gap between audio n_frames(164) and target_length (204). Is the audio_target_length setting correct?\n",
            "WARNING:root:Large gap between audio n_frames(164) and target_length (204). Is the audio_target_length setting correct?\n",
            "WARNING:root:Large gap between audio n_frames(121) and target_length (204). Is the audio_target_length setting correct?\n",
            "WARNING:root:Large gap between audio n_frames(121) and target_length (204). Is the audio_target_length setting correct?\n",
            "WARNING:root:Large gap between audio n_frames(121) and target_length (204). Is the audio_target_length setting correct?\n"
          ]
        },
        {
          "output_type": "stream",
          "name": "stdout",
          "text": [
            "Batch 28/78\n"
          ]
        },
        {
          "output_type": "stream",
          "name": "stderr",
          "text": [
            "WARNING:root:Large gap between audio n_frames(151) and target_length (204). Is the audio_target_length setting correct?\n",
            "WARNING:root:Large gap between audio n_frames(151) and target_length (204). Is the audio_target_length setting correct?\n",
            "WARNING:root:Large gap between audio n_frames(151) and target_length (204). Is the audio_target_length setting correct?\n",
            "WARNING:root:Large gap between audio n_frames(167) and target_length (204). Is the audio_target_length setting correct?\n",
            "WARNING:root:Large gap between audio n_frames(167) and target_length (204). Is the audio_target_length setting correct?\n",
            "WARNING:root:Large gap between audio n_frames(167) and target_length (204). Is the audio_target_length setting correct?\n",
            "WARNING:root:Large gap between audio n_frames(151) and target_length (204). Is the audio_target_length setting correct?\n",
            "WARNING:root:Large gap between audio n_frames(151) and target_length (204). Is the audio_target_length setting correct?\n"
          ]
        },
        {
          "output_type": "stream",
          "name": "stdout",
          "text": [
            "Batch 29/78\n"
          ]
        },
        {
          "output_type": "stream",
          "name": "stderr",
          "text": [
            "WARNING:root:Large gap between audio n_frames(151) and target_length (204). Is the audio_target_length setting correct?\n",
            "WARNING:root:Large gap between audio n_frames(100) and target_length (204). Is the audio_target_length setting correct?\n",
            "WARNING:root:Large gap between audio n_frames(100) and target_length (204). Is the audio_target_length setting correct?\n",
            "WARNING:root:Large gap between audio n_frames(100) and target_length (204). Is the audio_target_length setting correct?\n",
            "WARNING:root:Large gap between audio n_frames(154) and target_length (204). Is the audio_target_length setting correct?\n",
            "WARNING:root:Large gap between audio n_frames(154) and target_length (204). Is the audio_target_length setting correct?\n",
            "WARNING:root:Large gap between audio n_frames(154) and target_length (204). Is the audio_target_length setting correct?\n"
          ]
        },
        {
          "output_type": "stream",
          "name": "stdout",
          "text": [
            "Batch 30/78\n"
          ]
        },
        {
          "output_type": "stream",
          "name": "stderr",
          "text": [
            "WARNING:root:Large gap between audio n_frames(113) and target_length (204). Is the audio_target_length setting correct?\n",
            "WARNING:root:Large gap between audio n_frames(113) and target_length (204). Is the audio_target_length setting correct?\n",
            "WARNING:root:Large gap between audio n_frames(113) and target_length (204). Is the audio_target_length setting correct?\n",
            "WARNING:root:Large gap between audio n_frames(141) and target_length (204). Is the audio_target_length setting correct?\n",
            "WARNING:root:Large gap between audio n_frames(141) and target_length (204). Is the audio_target_length setting correct?\n",
            "WARNING:root:Large gap between audio n_frames(141) and target_length (204). Is the audio_target_length setting correct?\n",
            "WARNING:root:Large gap between audio n_frames(124) and target_length (204). Is the audio_target_length setting correct?\n",
            "WARNING:root:Large gap between audio n_frames(124) and target_length (204). Is the audio_target_length setting correct?\n",
            "WARNING:root:Large gap between audio n_frames(124) and target_length (204). Is the audio_target_length setting correct?\n",
            "WARNING:root:Large gap between audio n_frames(139) and target_length (204). Is the audio_target_length setting correct?\n",
            "WARNING:root:Large gap between audio n_frames(139) and target_length (204). Is the audio_target_length setting correct?\n"
          ]
        },
        {
          "output_type": "stream",
          "name": "stdout",
          "text": [
            "Batch 31/78\n"
          ]
        },
        {
          "output_type": "stream",
          "name": "stderr",
          "text": [
            "WARNING:root:Large gap between audio n_frames(139) and target_length (204). Is the audio_target_length setting correct?\n",
            "WARNING:root:Large gap between audio n_frames(135) and target_length (204). Is the audio_target_length setting correct?\n",
            "WARNING:root:Large gap between audio n_frames(135) and target_length (204). Is the audio_target_length setting correct?\n",
            "WARNING:root:Large gap between audio n_frames(135) and target_length (204). Is the audio_target_length setting correct?\n",
            "WARNING:root:Large gap between audio n_frames(139) and target_length (204). Is the audio_target_length setting correct?\n",
            "WARNING:root:Large gap between audio n_frames(139) and target_length (204). Is the audio_target_length setting correct?\n",
            "WARNING:root:Large gap between audio n_frames(139) and target_length (204). Is the audio_target_length setting correct?\n",
            "WARNING:root:Large gap between audio n_frames(165) and target_length (204). Is the audio_target_length setting correct?\n",
            "WARNING:root:Large gap between audio n_frames(165) and target_length (204). Is the audio_target_length setting correct?\n",
            "WARNING:root:Large gap between audio n_frames(165) and target_length (204). Is the audio_target_length setting correct?\n"
          ]
        },
        {
          "output_type": "stream",
          "name": "stdout",
          "text": [
            "Batch 32/78\n"
          ]
        },
        {
          "output_type": "stream",
          "name": "stderr",
          "text": [
            "WARNING:root:Large gap between audio n_frames(140) and target_length (204). Is the audio_target_length setting correct?\n",
            "WARNING:root:Large gap between audio n_frames(140) and target_length (204). Is the audio_target_length setting correct?\n",
            "WARNING:root:Large gap between audio n_frames(140) and target_length (204). Is the audio_target_length setting correct?\n",
            "WARNING:root:Large gap between audio n_frames(145) and target_length (204). Is the audio_target_length setting correct?\n",
            "WARNING:root:Large gap between audio n_frames(145) and target_length (204). Is the audio_target_length setting correct?\n",
            "WARNING:root:Large gap between audio n_frames(145) and target_length (204). Is the audio_target_length setting correct?\n"
          ]
        },
        {
          "output_type": "stream",
          "name": "stdout",
          "text": [
            "Batch 33/78\n"
          ]
        },
        {
          "output_type": "stream",
          "name": "stderr",
          "text": [
            "WARNING:root:Large gap between audio n_frames(162) and target_length (204). Is the audio_target_length setting correct?\n",
            "WARNING:root:Large gap between audio n_frames(162) and target_length (204). Is the audio_target_length setting correct?\n",
            "WARNING:root:Large gap between audio n_frames(162) and target_length (204). Is the audio_target_length setting correct?\n",
            "WARNING:root:Large gap between audio n_frames(150) and target_length (204). Is the audio_target_length setting correct?\n",
            "WARNING:root:Large gap between audio n_frames(150) and target_length (204). Is the audio_target_length setting correct?\n",
            "WARNING:root:Large gap between audio n_frames(150) and target_length (204). Is the audio_target_length setting correct?\n",
            "WARNING:root:Large gap between audio n_frames(156) and target_length (204). Is the audio_target_length setting correct?\n",
            "WARNING:root:Large gap between audio n_frames(156) and target_length (204). Is the audio_target_length setting correct?\n",
            "WARNING:root:Large gap between audio n_frames(156) and target_length (204). Is the audio_target_length setting correct?\n",
            "WARNING:root:Large gap between audio n_frames(159) and target_length (204). Is the audio_target_length setting correct?\n",
            "WARNING:root:Large gap between audio n_frames(159) and target_length (204). Is the audio_target_length setting correct?\n",
            "WARNING:root:Large gap between audio n_frames(159) and target_length (204). Is the audio_target_length setting correct?\n"
          ]
        },
        {
          "output_type": "stream",
          "name": "stdout",
          "text": [
            "Batch 34/78\n"
          ]
        },
        {
          "output_type": "stream",
          "name": "stderr",
          "text": [
            "WARNING:root:Large gap between audio n_frames(165) and target_length (204). Is the audio_target_length setting correct?\n",
            "WARNING:root:Large gap between audio n_frames(165) and target_length (204). Is the audio_target_length setting correct?\n",
            "WARNING:root:Large gap between audio n_frames(165) and target_length (204). Is the audio_target_length setting correct?\n",
            "WARNING:root:Large gap between audio n_frames(165) and target_length (204). Is the audio_target_length setting correct?\n",
            "WARNING:root:Large gap between audio n_frames(165) and target_length (204). Is the audio_target_length setting correct?\n",
            "WARNING:root:Large gap between audio n_frames(165) and target_length (204). Is the audio_target_length setting correct?\n",
            "WARNING:root:Large gap between audio n_frames(135) and target_length (204). Is the audio_target_length setting correct?\n",
            "WARNING:root:Large gap between audio n_frames(135) and target_length (204). Is the audio_target_length setting correct?\n",
            "WARNING:root:Large gap between audio n_frames(135) and target_length (204). Is the audio_target_length setting correct?\n"
          ]
        },
        {
          "output_type": "stream",
          "name": "stdout",
          "text": [
            "Batch 35/78\n"
          ]
        },
        {
          "output_type": "stream",
          "name": "stderr",
          "text": [
            "WARNING:root:Large gap between audio n_frames(147) and target_length (204). Is the audio_target_length setting correct?\n",
            "WARNING:root:Large gap between audio n_frames(147) and target_length (204). Is the audio_target_length setting correct?\n",
            "WARNING:root:Large gap between audio n_frames(147) and target_length (204). Is the audio_target_length setting correct?\n"
          ]
        },
        {
          "output_type": "stream",
          "name": "stdout",
          "text": [
            "Batch 36/78\n"
          ]
        },
        {
          "output_type": "stream",
          "name": "stderr",
          "text": [
            "WARNING:root:Large gap between audio n_frames(151) and target_length (204). Is the audio_target_length setting correct?\n",
            "WARNING:root:Large gap between audio n_frames(151) and target_length (204). Is the audio_target_length setting correct?\n",
            "WARNING:root:Large gap between audio n_frames(151) and target_length (204). Is the audio_target_length setting correct?\n",
            "WARNING:root:Large gap between audio n_frames(150) and target_length (204). Is the audio_target_length setting correct?\n",
            "WARNING:root:Large gap between audio n_frames(150) and target_length (204). Is the audio_target_length setting correct?\n",
            "WARNING:root:Large gap between audio n_frames(150) and target_length (204). Is the audio_target_length setting correct?\n"
          ]
        },
        {
          "output_type": "stream",
          "name": "stdout",
          "text": [
            "Batch 37/78\n"
          ]
        },
        {
          "output_type": "stream",
          "name": "stderr",
          "text": [
            "WARNING:root:Large gap between audio n_frames(159) and target_length (204). Is the audio_target_length setting correct?\n",
            "WARNING:root:Large gap between audio n_frames(159) and target_length (204). Is the audio_target_length setting correct?\n",
            "WARNING:root:Large gap between audio n_frames(159) and target_length (204). Is the audio_target_length setting correct?\n",
            "WARNING:root:Large gap between audio n_frames(165) and target_length (204). Is the audio_target_length setting correct?\n",
            "WARNING:root:Large gap between audio n_frames(165) and target_length (204). Is the audio_target_length setting correct?\n",
            "WARNING:root:Large gap between audio n_frames(165) and target_length (204). Is the audio_target_length setting correct?\n"
          ]
        },
        {
          "output_type": "stream",
          "name": "stdout",
          "text": [
            "Batch 38/78\n"
          ]
        },
        {
          "output_type": "stream",
          "name": "stderr",
          "text": [
            "WARNING:root:Large gap between audio n_frames(119) and target_length (204). Is the audio_target_length setting correct?\n",
            "WARNING:root:Large gap between audio n_frames(119) and target_length (204). Is the audio_target_length setting correct?\n",
            "WARNING:root:Large gap between audio n_frames(119) and target_length (204). Is the audio_target_length setting correct?\n",
            "WARNING:root:Large gap between audio n_frames(146) and target_length (204). Is the audio_target_length setting correct?\n",
            "WARNING:root:Large gap between audio n_frames(146) and target_length (204). Is the audio_target_length setting correct?\n",
            "WARNING:root:Large gap between audio n_frames(146) and target_length (204). Is the audio_target_length setting correct?\n",
            "WARNING:root:Large gap between audio n_frames(145) and target_length (204). Is the audio_target_length setting correct?\n",
            "WARNING:root:Large gap between audio n_frames(145) and target_length (204). Is the audio_target_length setting correct?\n",
            "WARNING:root:Large gap between audio n_frames(145) and target_length (204). Is the audio_target_length setting correct?\n",
            "WARNING:root:Large gap between audio n_frames(140) and target_length (204). Is the audio_target_length setting correct?\n",
            "WARNING:root:Large gap between audio n_frames(140) and target_length (204). Is the audio_target_length setting correct?\n",
            "WARNING:root:Large gap between audio n_frames(140) and target_length (204). Is the audio_target_length setting correct?\n"
          ]
        },
        {
          "output_type": "stream",
          "name": "stdout",
          "text": [
            "Batch 39/78\n"
          ]
        },
        {
          "output_type": "stream",
          "name": "stderr",
          "text": [
            "WARNING:root:Large gap between audio n_frames(121) and target_length (204). Is the audio_target_length setting correct?\n",
            "WARNING:root:Large gap between audio n_frames(121) and target_length (204). Is the audio_target_length setting correct?\n",
            "WARNING:root:Large gap between audio n_frames(121) and target_length (204). Is the audio_target_length setting correct?\n",
            "WARNING:root:Large gap between audio n_frames(108) and target_length (204). Is the audio_target_length setting correct?\n",
            "WARNING:root:Large gap between audio n_frames(108) and target_length (204). Is the audio_target_length setting correct?\n",
            "WARNING:root:Large gap between audio n_frames(108) and target_length (204). Is the audio_target_length setting correct?\n",
            "WARNING:root:Large gap between audio n_frames(106) and target_length (204). Is the audio_target_length setting correct?\n",
            "WARNING:root:Large gap between audio n_frames(106) and target_length (204). Is the audio_target_length setting correct?\n",
            "WARNING:root:Large gap between audio n_frames(106) and target_length (204). Is the audio_target_length setting correct?\n",
            "WARNING:root:Large gap between audio n_frames(139) and target_length (204). Is the audio_target_length setting correct?\n",
            "WARNING:root:Large gap between audio n_frames(139) and target_length (204). Is the audio_target_length setting correct?\n",
            "WARNING:root:Large gap between audio n_frames(139) and target_length (204). Is the audio_target_length setting correct?\n"
          ]
        },
        {
          "output_type": "stream",
          "name": "stdout",
          "text": [
            "Batch 40/78\n"
          ]
        },
        {
          "output_type": "stream",
          "name": "stderr",
          "text": [
            "WARNING:root:Large gap between audio n_frames(160) and target_length (204). Is the audio_target_length setting correct?\n",
            "WARNING:root:Large gap between audio n_frames(160) and target_length (204). Is the audio_target_length setting correct?\n",
            "WARNING:root:Large gap between audio n_frames(160) and target_length (204). Is the audio_target_length setting correct?\n",
            "WARNING:root:Large gap between audio n_frames(166) and target_length (204). Is the audio_target_length setting correct?\n",
            "WARNING:root:Large gap between audio n_frames(166) and target_length (204). Is the audio_target_length setting correct?\n",
            "WARNING:root:Large gap between audio n_frames(166) and target_length (204). Is the audio_target_length setting correct?\n",
            "WARNING:root:Large gap between audio n_frames(159) and target_length (204). Is the audio_target_length setting correct?\n",
            "WARNING:root:Large gap between audio n_frames(159) and target_length (204). Is the audio_target_length setting correct?\n",
            "WARNING:root:Large gap between audio n_frames(159) and target_length (204). Is the audio_target_length setting correct?\n"
          ]
        },
        {
          "output_type": "stream",
          "name": "stdout",
          "text": [
            "Batch 41/78\n"
          ]
        },
        {
          "output_type": "stream",
          "name": "stderr",
          "text": [
            "WARNING:root:Large gap between audio n_frames(137) and target_length (204). Is the audio_target_length setting correct?\n",
            "WARNING:root:Large gap between audio n_frames(137) and target_length (204). Is the audio_target_length setting correct?\n",
            "WARNING:root:Large gap between audio n_frames(137) and target_length (204). Is the audio_target_length setting correct?\n",
            "WARNING:root:Large gap between audio n_frames(149) and target_length (204). Is the audio_target_length setting correct?\n",
            "WARNING:root:Large gap between audio n_frames(149) and target_length (204). Is the audio_target_length setting correct?\n",
            "WARNING:root:Large gap between audio n_frames(149) and target_length (204). Is the audio_target_length setting correct?\n",
            "WARNING:root:Large gap between audio n_frames(99) and target_length (204). Is the audio_target_length setting correct?\n",
            "WARNING:root:Large gap between audio n_frames(99) and target_length (204). Is the audio_target_length setting correct?\n",
            "WARNING:root:Large gap between audio n_frames(99) and target_length (204). Is the audio_target_length setting correct?\n",
            "WARNING:root:Large gap between audio n_frames(104) and target_length (204). Is the audio_target_length setting correct?\n",
            "WARNING:root:Large gap between audio n_frames(104) and target_length (204). Is the audio_target_length setting correct?\n",
            "WARNING:root:Large gap between audio n_frames(104) and target_length (204). Is the audio_target_length setting correct?\n"
          ]
        },
        {
          "output_type": "stream",
          "name": "stdout",
          "text": [
            "Batch 42/78\n"
          ]
        },
        {
          "output_type": "stream",
          "name": "stderr",
          "text": [
            "WARNING:root:Large gap between audio n_frames(97) and target_length (204). Is the audio_target_length setting correct?\n",
            "WARNING:root:Large gap between audio n_frames(97) and target_length (204). Is the audio_target_length setting correct?\n",
            "WARNING:root:Large gap between audio n_frames(97) and target_length (204). Is the audio_target_length setting correct?\n",
            "WARNING:root:Large gap between audio n_frames(140) and target_length (204). Is the audio_target_length setting correct?\n",
            "WARNING:root:Large gap between audio n_frames(140) and target_length (204). Is the audio_target_length setting correct?\n",
            "WARNING:root:Large gap between audio n_frames(140) and target_length (204). Is the audio_target_length setting correct?\n"
          ]
        },
        {
          "output_type": "stream",
          "name": "stdout",
          "text": [
            "Batch 43/78\n"
          ]
        },
        {
          "output_type": "stream",
          "name": "stderr",
          "text": [
            "WARNING:root:Large gap between audio n_frames(124) and target_length (204). Is the audio_target_length setting correct?\n",
            "WARNING:root:Large gap between audio n_frames(124) and target_length (204). Is the audio_target_length setting correct?\n",
            "WARNING:root:Large gap between audio n_frames(124) and target_length (204). Is the audio_target_length setting correct?\n",
            "WARNING:root:Large gap between audio n_frames(140) and target_length (204). Is the audio_target_length setting correct?\n",
            "WARNING:root:Large gap between audio n_frames(140) and target_length (204). Is the audio_target_length setting correct?\n",
            "WARNING:root:Large gap between audio n_frames(140) and target_length (204). Is the audio_target_length setting correct?\n",
            "WARNING:root:Large gap between audio n_frames(124) and target_length (204). Is the audio_target_length setting correct?\n",
            "WARNING:root:Large gap between audio n_frames(124) and target_length (204). Is the audio_target_length setting correct?\n",
            "WARNING:root:Large gap between audio n_frames(124) and target_length (204). Is the audio_target_length setting correct?\n",
            "WARNING:root:Large gap between audio n_frames(132) and target_length (204). Is the audio_target_length setting correct?\n",
            "WARNING:root:Large gap between audio n_frames(132) and target_length (204). Is the audio_target_length setting correct?\n",
            "WARNING:root:Large gap between audio n_frames(132) and target_length (204). Is the audio_target_length setting correct?\n",
            "WARNING:root:Large gap between audio n_frames(145) and target_length (204). Is the audio_target_length setting correct?\n",
            "WARNING:root:Large gap between audio n_frames(145) and target_length (204). Is the audio_target_length setting correct?\n",
            "WARNING:root:Large gap between audio n_frames(145) and target_length (204). Is the audio_target_length setting correct?\n"
          ]
        },
        {
          "output_type": "stream",
          "name": "stdout",
          "text": [
            "Batch 44/78\n"
          ]
        },
        {
          "output_type": "stream",
          "name": "stderr",
          "text": [
            "WARNING:root:Large gap between audio n_frames(142) and target_length (204). Is the audio_target_length setting correct?\n",
            "WARNING:root:Large gap between audio n_frames(142) and target_length (204). Is the audio_target_length setting correct?\n",
            "WARNING:root:Large gap between audio n_frames(142) and target_length (204). Is the audio_target_length setting correct?\n",
            "WARNING:root:Large gap between audio n_frames(100) and target_length (204). Is the audio_target_length setting correct?\n",
            "WARNING:root:Large gap between audio n_frames(100) and target_length (204). Is the audio_target_length setting correct?\n",
            "WARNING:root:Large gap between audio n_frames(100) and target_length (204). Is the audio_target_length setting correct?\n",
            "WARNING:root:Large gap between audio n_frames(136) and target_length (204). Is the audio_target_length setting correct?\n",
            "WARNING:root:Large gap between audio n_frames(136) and target_length (204). Is the audio_target_length setting correct?\n",
            "WARNING:root:Large gap between audio n_frames(136) and target_length (204). Is the audio_target_length setting correct?\n",
            "WARNING:root:Large gap between audio n_frames(129) and target_length (204). Is the audio_target_length setting correct?\n",
            "WARNING:root:Large gap between audio n_frames(129) and target_length (204). Is the audio_target_length setting correct?\n",
            "WARNING:root:Large gap between audio n_frames(129) and target_length (204). Is the audio_target_length setting correct?\n"
          ]
        },
        {
          "output_type": "stream",
          "name": "stdout",
          "text": [
            "Batch 45/78\n"
          ]
        },
        {
          "output_type": "stream",
          "name": "stderr",
          "text": [
            "WARNING:root:Large gap between audio n_frames(113) and target_length (204). Is the audio_target_length setting correct?\n",
            "WARNING:root:Large gap between audio n_frames(113) and target_length (204). Is the audio_target_length setting correct?\n",
            "WARNING:root:Large gap between audio n_frames(113) and target_length (204). Is the audio_target_length setting correct?\n",
            "WARNING:root:Large gap between audio n_frames(114) and target_length (204). Is the audio_target_length setting correct?\n",
            "WARNING:root:Large gap between audio n_frames(114) and target_length (204). Is the audio_target_length setting correct?\n",
            "WARNING:root:Large gap between audio n_frames(114) and target_length (204). Is the audio_target_length setting correct?\n",
            "WARNING:root:Large gap between audio n_frames(130) and target_length (204). Is the audio_target_length setting correct?\n",
            "WARNING:root:Large gap between audio n_frames(130) and target_length (204). Is the audio_target_length setting correct?\n",
            "WARNING:root:Large gap between audio n_frames(130) and target_length (204). Is the audio_target_length setting correct?\n",
            "WARNING:root:Large gap between audio n_frames(160) and target_length (204). Is the audio_target_length setting correct?\n",
            "WARNING:root:Large gap between audio n_frames(160) and target_length (204). Is the audio_target_length setting correct?\n",
            "WARNING:root:Large gap between audio n_frames(160) and target_length (204). Is the audio_target_length setting correct?\n"
          ]
        },
        {
          "output_type": "stream",
          "name": "stdout",
          "text": [
            "Batch 46/78\n"
          ]
        },
        {
          "output_type": "stream",
          "name": "stderr",
          "text": [
            "WARNING:root:Large gap between audio n_frames(110) and target_length (204). Is the audio_target_length setting correct?\n",
            "WARNING:root:Large gap between audio n_frames(110) and target_length (204). Is the audio_target_length setting correct?\n",
            "WARNING:root:Large gap between audio n_frames(110) and target_length (204). Is the audio_target_length setting correct?\n",
            "WARNING:root:Large gap between audio n_frames(158) and target_length (204). Is the audio_target_length setting correct?\n",
            "WARNING:root:Large gap between audio n_frames(158) and target_length (204). Is the audio_target_length setting correct?\n",
            "WARNING:root:Large gap between audio n_frames(158) and target_length (204). Is the audio_target_length setting correct?\n",
            "WARNING:root:Large gap between audio n_frames(145) and target_length (204). Is the audio_target_length setting correct?\n",
            "WARNING:root:Large gap between audio n_frames(145) and target_length (204). Is the audio_target_length setting correct?\n",
            "WARNING:root:Large gap between audio n_frames(145) and target_length (204). Is the audio_target_length setting correct?\n",
            "WARNING:root:Large gap between audio n_frames(127) and target_length (204). Is the audio_target_length setting correct?\n",
            "WARNING:root:Large gap between audio n_frames(127) and target_length (204). Is the audio_target_length setting correct?\n"
          ]
        },
        {
          "output_type": "stream",
          "name": "stdout",
          "text": [
            "Batch 47/78\n"
          ]
        },
        {
          "output_type": "stream",
          "name": "stderr",
          "text": [
            "WARNING:root:Large gap between audio n_frames(127) and target_length (204). Is the audio_target_length setting correct?\n",
            "WARNING:root:Large gap between audio n_frames(168) and target_length (204). Is the audio_target_length setting correct?\n",
            "WARNING:root:Large gap between audio n_frames(168) and target_length (204). Is the audio_target_length setting correct?\n",
            "WARNING:root:Large gap between audio n_frames(168) and target_length (204). Is the audio_target_length setting correct?\n",
            "WARNING:root:Large gap between audio n_frames(161) and target_length (204). Is the audio_target_length setting correct?\n",
            "WARNING:root:Large gap between audio n_frames(161) and target_length (204). Is the audio_target_length setting correct?\n",
            "WARNING:root:Large gap between audio n_frames(161) and target_length (204). Is the audio_target_length setting correct?\n",
            "WARNING:root:Large gap between audio n_frames(120) and target_length (204). Is the audio_target_length setting correct?\n",
            "WARNING:root:Large gap between audio n_frames(120) and target_length (204). Is the audio_target_length setting correct?\n",
            "WARNING:root:Large gap between audio n_frames(120) and target_length (204). Is the audio_target_length setting correct?\n",
            "WARNING:root:Large gap between audio n_frames(164) and target_length (204). Is the audio_target_length setting correct?\n",
            "WARNING:root:Large gap between audio n_frames(164) and target_length (204). Is the audio_target_length setting correct?\n",
            "WARNING:root:Large gap between audio n_frames(164) and target_length (204). Is the audio_target_length setting correct?\n",
            "WARNING:root:Large gap between audio n_frames(136) and target_length (204). Is the audio_target_length setting correct?\n",
            "WARNING:root:Large gap between audio n_frames(136) and target_length (204). Is the audio_target_length setting correct?\n",
            "WARNING:root:Large gap between audio n_frames(136) and target_length (204). Is the audio_target_length setting correct?\n",
            "WARNING:root:Large gap between audio n_frames(135) and target_length (204). Is the audio_target_length setting correct?\n",
            "WARNING:root:Large gap between audio n_frames(135) and target_length (204). Is the audio_target_length setting correct?\n",
            "WARNING:root:Large gap between audio n_frames(135) and target_length (204). Is the audio_target_length setting correct?\n",
            "WARNING:root:Large gap between audio n_frames(143) and target_length (204). Is the audio_target_length setting correct?\n",
            "WARNING:root:Large gap between audio n_frames(143) and target_length (204). Is the audio_target_length setting correct?\n",
            "WARNING:root:Large gap between audio n_frames(143) and target_length (204). Is the audio_target_length setting correct?\n"
          ]
        },
        {
          "output_type": "stream",
          "name": "stdout",
          "text": [
            "Batch 48/78\n"
          ]
        },
        {
          "output_type": "stream",
          "name": "stderr",
          "text": [
            "WARNING:root:Large gap between audio n_frames(89) and target_length (204). Is the audio_target_length setting correct?\n",
            "WARNING:root:Large gap between audio n_frames(89) and target_length (204). Is the audio_target_length setting correct?\n",
            "WARNING:root:Large gap between audio n_frames(89) and target_length (204). Is the audio_target_length setting correct?\n",
            "WARNING:root:Large gap between audio n_frames(97) and target_length (204). Is the audio_target_length setting correct?\n",
            "WARNING:root:Large gap between audio n_frames(97) and target_length (204). Is the audio_target_length setting correct?\n",
            "WARNING:root:Large gap between audio n_frames(97) and target_length (204). Is the audio_target_length setting correct?\n",
            "WARNING:root:Large gap between audio n_frames(165) and target_length (204). Is the audio_target_length setting correct?\n",
            "WARNING:root:Large gap between audio n_frames(165) and target_length (204). Is the audio_target_length setting correct?\n",
            "WARNING:root:Large gap between audio n_frames(165) and target_length (204). Is the audio_target_length setting correct?\n"
          ]
        },
        {
          "output_type": "stream",
          "name": "stdout",
          "text": [
            "Batch 49/78\n"
          ]
        },
        {
          "output_type": "stream",
          "name": "stderr",
          "text": [
            "WARNING:root:Large gap between audio n_frames(159) and target_length (204). Is the audio_target_length setting correct?\n",
            "WARNING:root:Large gap between audio n_frames(159) and target_length (204). Is the audio_target_length setting correct?\n",
            "WARNING:root:Large gap between audio n_frames(159) and target_length (204). Is the audio_target_length setting correct?\n",
            "WARNING:root:Large gap between audio n_frames(140) and target_length (204). Is the audio_target_length setting correct?\n",
            "WARNING:root:Large gap between audio n_frames(140) and target_length (204). Is the audio_target_length setting correct?\n",
            "WARNING:root:Large gap between audio n_frames(140) and target_length (204). Is the audio_target_length setting correct?\n",
            "WARNING:root:Large gap between audio n_frames(148) and target_length (204). Is the audio_target_length setting correct?\n",
            "WARNING:root:Large gap between audio n_frames(148) and target_length (204). Is the audio_target_length setting correct?\n",
            "WARNING:root:Large gap between audio n_frames(148) and target_length (204). Is the audio_target_length setting correct?\n",
            "WARNING:root:Large gap between audio n_frames(150) and target_length (204). Is the audio_target_length setting correct?\n",
            "WARNING:root:Large gap between audio n_frames(150) and target_length (204). Is the audio_target_length setting correct?\n",
            "WARNING:root:Large gap between audio n_frames(150) and target_length (204). Is the audio_target_length setting correct?\n",
            "WARNING:root:Large gap between audio n_frames(154) and target_length (204). Is the audio_target_length setting correct?\n",
            "WARNING:root:Large gap between audio n_frames(154) and target_length (204). Is the audio_target_length setting correct?\n",
            "WARNING:root:Large gap between audio n_frames(154) and target_length (204). Is the audio_target_length setting correct?\n",
            "WARNING:root:Large gap between audio n_frames(135) and target_length (204). Is the audio_target_length setting correct?\n",
            "WARNING:root:Large gap between audio n_frames(135) and target_length (204). Is the audio_target_length setting correct?\n",
            "WARNING:root:Large gap between audio n_frames(135) and target_length (204). Is the audio_target_length setting correct?\n"
          ]
        },
        {
          "output_type": "stream",
          "name": "stdout",
          "text": [
            "Batch 50/78\n"
          ]
        },
        {
          "output_type": "stream",
          "name": "stderr",
          "text": [
            "WARNING:root:Large gap between audio n_frames(117) and target_length (204). Is the audio_target_length setting correct?\n",
            "WARNING:root:Large gap between audio n_frames(117) and target_length (204). Is the audio_target_length setting correct?\n",
            "WARNING:root:Large gap between audio n_frames(117) and target_length (204). Is the audio_target_length setting correct?\n",
            "WARNING:root:Large gap between audio n_frames(122) and target_length (204). Is the audio_target_length setting correct?\n",
            "WARNING:root:Large gap between audio n_frames(122) and target_length (204). Is the audio_target_length setting correct?\n",
            "WARNING:root:Large gap between audio n_frames(122) and target_length (204). Is the audio_target_length setting correct?\n",
            "WARNING:root:Large gap between audio n_frames(164) and target_length (204). Is the audio_target_length setting correct?\n",
            "WARNING:root:Large gap between audio n_frames(164) and target_length (204). Is the audio_target_length setting correct?\n",
            "WARNING:root:Large gap between audio n_frames(164) and target_length (204). Is the audio_target_length setting correct?\n",
            "WARNING:root:Large gap between audio n_frames(139) and target_length (204). Is the audio_target_length setting correct?\n",
            "WARNING:root:Large gap between audio n_frames(139) and target_length (204). Is the audio_target_length setting correct?\n",
            "WARNING:root:Large gap between audio n_frames(139) and target_length (204). Is the audio_target_length setting correct?\n",
            "WARNING:root:Large gap between audio n_frames(135) and target_length (204). Is the audio_target_length setting correct?\n",
            "WARNING:root:Large gap between audio n_frames(135) and target_length (204). Is the audio_target_length setting correct?\n",
            "WARNING:root:Large gap between audio n_frames(135) and target_length (204). Is the audio_target_length setting correct?\n",
            "WARNING:root:Large gap between audio n_frames(114) and target_length (204). Is the audio_target_length setting correct?\n",
            "WARNING:root:Large gap between audio n_frames(114) and target_length (204). Is the audio_target_length setting correct?\n",
            "WARNING:root:Large gap between audio n_frames(114) and target_length (204). Is the audio_target_length setting correct?\n",
            "WARNING:root:Large gap between audio n_frames(168) and target_length (204). Is the audio_target_length setting correct?\n"
          ]
        },
        {
          "output_type": "stream",
          "name": "stdout",
          "text": [
            "Batch 51/78\n"
          ]
        },
        {
          "output_type": "stream",
          "name": "stderr",
          "text": [
            "WARNING:root:Large gap between audio n_frames(168) and target_length (204). Is the audio_target_length setting correct?\n",
            "WARNING:root:Large gap between audio n_frames(168) and target_length (204). Is the audio_target_length setting correct?\n",
            "WARNING:root:Large gap between audio n_frames(118) and target_length (204). Is the audio_target_length setting correct?\n",
            "WARNING:root:Large gap between audio n_frames(118) and target_length (204). Is the audio_target_length setting correct?\n",
            "WARNING:root:Large gap between audio n_frames(118) and target_length (204). Is the audio_target_length setting correct?\n",
            "WARNING:root:Large gap between audio n_frames(169) and target_length (204). Is the audio_target_length setting correct?\n",
            "WARNING:root:Large gap between audio n_frames(169) and target_length (204). Is the audio_target_length setting correct?\n",
            "WARNING:root:Large gap between audio n_frames(169) and target_length (204). Is the audio_target_length setting correct?\n",
            "WARNING:root:Large gap between audio n_frames(167) and target_length (204). Is the audio_target_length setting correct?\n",
            "WARNING:root:Large gap between audio n_frames(167) and target_length (204). Is the audio_target_length setting correct?\n",
            "WARNING:root:Large gap between audio n_frames(167) and target_length (204). Is the audio_target_length setting correct?\n"
          ]
        },
        {
          "output_type": "stream",
          "name": "stdout",
          "text": [
            "Batch 52/78\n"
          ]
        },
        {
          "output_type": "stream",
          "name": "stderr",
          "text": [
            "WARNING:root:Large gap between audio n_frames(120) and target_length (204). Is the audio_target_length setting correct?\n",
            "WARNING:root:Large gap between audio n_frames(120) and target_length (204). Is the audio_target_length setting correct?\n",
            "WARNING:root:Large gap between audio n_frames(120) and target_length (204). Is the audio_target_length setting correct?\n",
            "WARNING:root:Large gap between audio n_frames(134) and target_length (204). Is the audio_target_length setting correct?\n",
            "WARNING:root:Large gap between audio n_frames(134) and target_length (204). Is the audio_target_length setting correct?\n",
            "WARNING:root:Large gap between audio n_frames(134) and target_length (204). Is the audio_target_length setting correct?\n",
            "WARNING:root:Large gap between audio n_frames(150) and target_length (204). Is the audio_target_length setting correct?\n",
            "WARNING:root:Large gap between audio n_frames(150) and target_length (204). Is the audio_target_length setting correct?\n",
            "WARNING:root:Large gap between audio n_frames(150) and target_length (204). Is the audio_target_length setting correct?\n",
            "WARNING:root:Large gap between audio n_frames(121) and target_length (204). Is the audio_target_length setting correct?\n",
            "WARNING:root:Large gap between audio n_frames(121) and target_length (204). Is the audio_target_length setting correct?\n",
            "WARNING:root:Large gap between audio n_frames(121) and target_length (204). Is the audio_target_length setting correct?\n"
          ]
        },
        {
          "output_type": "stream",
          "name": "stdout",
          "text": [
            "Batch 53/78\n"
          ]
        },
        {
          "output_type": "stream",
          "name": "stderr",
          "text": [
            "WARNING:root:Large gap between audio n_frames(126) and target_length (204). Is the audio_target_length setting correct?\n",
            "WARNING:root:Large gap between audio n_frames(126) and target_length (204). Is the audio_target_length setting correct?\n",
            "WARNING:root:Large gap between audio n_frames(126) and target_length (204). Is the audio_target_length setting correct?\n",
            "WARNING:root:Large gap between audio n_frames(139) and target_length (204). Is the audio_target_length setting correct?\n",
            "WARNING:root:Large gap between audio n_frames(139) and target_length (204). Is the audio_target_length setting correct?\n",
            "WARNING:root:Large gap between audio n_frames(139) and target_length (204). Is the audio_target_length setting correct?\n",
            "WARNING:root:Large gap between audio n_frames(105) and target_length (204). Is the audio_target_length setting correct?\n",
            "WARNING:root:Large gap between audio n_frames(105) and target_length (204). Is the audio_target_length setting correct?\n",
            "WARNING:root:Large gap between audio n_frames(105) and target_length (204). Is the audio_target_length setting correct?\n",
            "WARNING:root:Large gap between audio n_frames(140) and target_length (204). Is the audio_target_length setting correct?\n",
            "WARNING:root:Large gap between audio n_frames(140) and target_length (204). Is the audio_target_length setting correct?\n",
            "WARNING:root:Large gap between audio n_frames(140) and target_length (204). Is the audio_target_length setting correct?\n",
            "WARNING:root:Large gap between audio n_frames(130) and target_length (204). Is the audio_target_length setting correct?\n",
            "WARNING:root:Large gap between audio n_frames(130) and target_length (204). Is the audio_target_length setting correct?\n",
            "WARNING:root:Large gap between audio n_frames(130) and target_length (204). Is the audio_target_length setting correct?\n",
            "WARNING:root:Large gap between audio n_frames(87) and target_length (204). Is the audio_target_length setting correct?\n",
            "WARNING:root:Large gap between audio n_frames(87) and target_length (204). Is the audio_target_length setting correct?\n",
            "WARNING:root:Large gap between audio n_frames(87) and target_length (204). Is the audio_target_length setting correct?\n",
            "WARNING:root:Large gap between audio n_frames(106) and target_length (204). Is the audio_target_length setting correct?\n",
            "WARNING:root:Large gap between audio n_frames(106) and target_length (204). Is the audio_target_length setting correct?\n",
            "WARNING:root:Large gap between audio n_frames(106) and target_length (204). Is the audio_target_length setting correct?\n",
            "WARNING:root:Large gap between audio n_frames(131) and target_length (204). Is the audio_target_length setting correct?\n",
            "WARNING:root:Large gap between audio n_frames(131) and target_length (204). Is the audio_target_length setting correct?\n",
            "WARNING:root:Large gap between audio n_frames(131) and target_length (204). Is the audio_target_length setting correct?\n",
            "WARNING:root:Large gap between audio n_frames(163) and target_length (204). Is the audio_target_length setting correct?\n",
            "WARNING:root:Large gap between audio n_frames(163) and target_length (204). Is the audio_target_length setting correct?\n",
            "WARNING:root:Large gap between audio n_frames(163) and target_length (204). Is the audio_target_length setting correct?\n",
            "WARNING:root:Large gap between audio n_frames(118) and target_length (204). Is the audio_target_length setting correct?\n",
            "WARNING:root:Large gap between audio n_frames(118) and target_length (204). Is the audio_target_length setting correct?\n"
          ]
        },
        {
          "output_type": "stream",
          "name": "stdout",
          "text": [
            "Batch 54/78\n"
          ]
        },
        {
          "output_type": "stream",
          "name": "stderr",
          "text": [
            "WARNING:root:Large gap between audio n_frames(118) and target_length (204). Is the audio_target_length setting correct?\n",
            "WARNING:root:Large gap between audio n_frames(139) and target_length (204). Is the audio_target_length setting correct?\n",
            "WARNING:root:Large gap between audio n_frames(139) and target_length (204). Is the audio_target_length setting correct?\n",
            "WARNING:root:Large gap between audio n_frames(139) and target_length (204). Is the audio_target_length setting correct?\n",
            "WARNING:root:Large gap between audio n_frames(143) and target_length (204). Is the audio_target_length setting correct?\n",
            "WARNING:root:Large gap between audio n_frames(143) and target_length (204). Is the audio_target_length setting correct?\n",
            "WARNING:root:Large gap between audio n_frames(143) and target_length (204). Is the audio_target_length setting correct?\n",
            "WARNING:root:Large gap between audio n_frames(151) and target_length (204). Is the audio_target_length setting correct?\n",
            "WARNING:root:Large gap between audio n_frames(151) and target_length (204). Is the audio_target_length setting correct?\n",
            "WARNING:root:Large gap between audio n_frames(151) and target_length (204). Is the audio_target_length setting correct?\n",
            "WARNING:root:Large gap between audio n_frames(153) and target_length (204). Is the audio_target_length setting correct?\n",
            "WARNING:root:Large gap between audio n_frames(153) and target_length (204). Is the audio_target_length setting correct?\n",
            "WARNING:root:Large gap between audio n_frames(153) and target_length (204). Is the audio_target_length setting correct?\n",
            "WARNING:root:Large gap between audio n_frames(164) and target_length (204). Is the audio_target_length setting correct?\n",
            "WARNING:root:Large gap between audio n_frames(164) and target_length (204). Is the audio_target_length setting correct?\n",
            "WARNING:root:Large gap between audio n_frames(164) and target_length (204). Is the audio_target_length setting correct?\n",
            "WARNING:root:Large gap between audio n_frames(134) and target_length (204). Is the audio_target_length setting correct?\n",
            "WARNING:root:Large gap between audio n_frames(134) and target_length (204). Is the audio_target_length setting correct?\n",
            "WARNING:root:Large gap between audio n_frames(134) and target_length (204). Is the audio_target_length setting correct?\n",
            "WARNING:root:Large gap between audio n_frames(111) and target_length (204). Is the audio_target_length setting correct?\n",
            "WARNING:root:Large gap between audio n_frames(111) and target_length (204). Is the audio_target_length setting correct?\n",
            "WARNING:root:Large gap between audio n_frames(111) and target_length (204). Is the audio_target_length setting correct?\n",
            "WARNING:root:Large gap between audio n_frames(157) and target_length (204). Is the audio_target_length setting correct?\n",
            "WARNING:root:Large gap between audio n_frames(157) and target_length (204). Is the audio_target_length setting correct?\n",
            "WARNING:root:Large gap between audio n_frames(157) and target_length (204). Is the audio_target_length setting correct?\n",
            "WARNING:root:Large gap between audio n_frames(161) and target_length (204). Is the audio_target_length setting correct?\n",
            "WARNING:root:Large gap between audio n_frames(161) and target_length (204). Is the audio_target_length setting correct?\n",
            "WARNING:root:Large gap between audio n_frames(161) and target_length (204). Is the audio_target_length setting correct?\n",
            "WARNING:root:Large gap between audio n_frames(167) and target_length (204). Is the audio_target_length setting correct?\n",
            "WARNING:root:Large gap between audio n_frames(167) and target_length (204). Is the audio_target_length setting correct?\n",
            "WARNING:root:Large gap between audio n_frames(167) and target_length (204). Is the audio_target_length setting correct?\n",
            "WARNING:root:Large gap between audio n_frames(143) and target_length (204). Is the audio_target_length setting correct?\n"
          ]
        },
        {
          "output_type": "stream",
          "name": "stdout",
          "text": [
            "Batch 55/78\n"
          ]
        },
        {
          "output_type": "stream",
          "name": "stderr",
          "text": [
            "WARNING:root:Large gap between audio n_frames(143) and target_length (204). Is the audio_target_length setting correct?\n",
            "WARNING:root:Large gap between audio n_frames(143) and target_length (204). Is the audio_target_length setting correct?\n",
            "WARNING:root:Large gap between audio n_frames(141) and target_length (204). Is the audio_target_length setting correct?\n",
            "WARNING:root:Large gap between audio n_frames(141) and target_length (204). Is the audio_target_length setting correct?\n",
            "WARNING:root:Large gap between audio n_frames(141) and target_length (204). Is the audio_target_length setting correct?\n",
            "WARNING:root:Large gap between audio n_frames(159) and target_length (204). Is the audio_target_length setting correct?\n",
            "WARNING:root:Large gap between audio n_frames(159) and target_length (204). Is the audio_target_length setting correct?\n",
            "WARNING:root:Large gap between audio n_frames(159) and target_length (204). Is the audio_target_length setting correct?\n",
            "WARNING:root:Large gap between audio n_frames(107) and target_length (204). Is the audio_target_length setting correct?\n",
            "WARNING:root:Large gap between audio n_frames(107) and target_length (204). Is the audio_target_length setting correct?\n",
            "WARNING:root:Large gap between audio n_frames(107) and target_length (204). Is the audio_target_length setting correct?\n",
            "WARNING:root:Large gap between audio n_frames(131) and target_length (204). Is the audio_target_length setting correct?\n",
            "WARNING:root:Large gap between audio n_frames(131) and target_length (204). Is the audio_target_length setting correct?\n",
            "WARNING:root:Large gap between audio n_frames(131) and target_length (204). Is the audio_target_length setting correct?\n",
            "WARNING:root:Large gap between audio n_frames(100) and target_length (204). Is the audio_target_length setting correct?\n",
            "WARNING:root:Large gap between audio n_frames(100) and target_length (204). Is the audio_target_length setting correct?\n",
            "WARNING:root:Large gap between audio n_frames(100) and target_length (204). Is the audio_target_length setting correct?\n",
            "WARNING:root:Large gap between audio n_frames(111) and target_length (204). Is the audio_target_length setting correct?\n",
            "WARNING:root:Large gap between audio n_frames(111) and target_length (204). Is the audio_target_length setting correct?\n",
            "WARNING:root:Large gap between audio n_frames(111) and target_length (204). Is the audio_target_length setting correct?\n",
            "WARNING:root:Large gap between audio n_frames(140) and target_length (204). Is the audio_target_length setting correct?\n",
            "WARNING:root:Large gap between audio n_frames(140) and target_length (204). Is the audio_target_length setting correct?\n",
            "WARNING:root:Large gap between audio n_frames(140) and target_length (204). Is the audio_target_length setting correct?\n",
            "WARNING:root:Large gap between audio n_frames(96) and target_length (204). Is the audio_target_length setting correct?\n",
            "WARNING:root:Large gap between audio n_frames(96) and target_length (204). Is the audio_target_length setting correct?\n",
            "WARNING:root:Large gap between audio n_frames(96) and target_length (204). Is the audio_target_length setting correct?\n"
          ]
        },
        {
          "output_type": "stream",
          "name": "stdout",
          "text": [
            "Batch 56/78\n"
          ]
        },
        {
          "output_type": "stream",
          "name": "stderr",
          "text": [
            "WARNING:root:Large gap between audio n_frames(118) and target_length (204). Is the audio_target_length setting correct?\n",
            "WARNING:root:Large gap between audio n_frames(118) and target_length (204). Is the audio_target_length setting correct?\n",
            "WARNING:root:Large gap between audio n_frames(118) and target_length (204). Is the audio_target_length setting correct?\n",
            "WARNING:root:Large gap between audio n_frames(154) and target_length (204). Is the audio_target_length setting correct?\n",
            "WARNING:root:Large gap between audio n_frames(154) and target_length (204). Is the audio_target_length setting correct?\n",
            "WARNING:root:Large gap between audio n_frames(154) and target_length (204). Is the audio_target_length setting correct?\n",
            "WARNING:root:Large gap between audio n_frames(162) and target_length (204). Is the audio_target_length setting correct?\n",
            "WARNING:root:Large gap between audio n_frames(162) and target_length (204). Is the audio_target_length setting correct?\n",
            "WARNING:root:Large gap between audio n_frames(162) and target_length (204). Is the audio_target_length setting correct?\n",
            "WARNING:root:Large gap between audio n_frames(143) and target_length (204). Is the audio_target_length setting correct?\n",
            "WARNING:root:Large gap between audio n_frames(143) and target_length (204). Is the audio_target_length setting correct?\n",
            "WARNING:root:Large gap between audio n_frames(143) and target_length (204). Is the audio_target_length setting correct?\n",
            "WARNING:root:Large gap between audio n_frames(112) and target_length (204). Is the audio_target_length setting correct?\n",
            "WARNING:root:Large gap between audio n_frames(112) and target_length (204). Is the audio_target_length setting correct?\n",
            "WARNING:root:Large gap between audio n_frames(112) and target_length (204). Is the audio_target_length setting correct?\n",
            "WARNING:root:Large gap between audio n_frames(124) and target_length (204). Is the audio_target_length setting correct?\n",
            "WARNING:root:Large gap between audio n_frames(124) and target_length (204). Is the audio_target_length setting correct?\n",
            "WARNING:root:Large gap between audio n_frames(124) and target_length (204). Is the audio_target_length setting correct?\n",
            "WARNING:root:Large gap between audio n_frames(98) and target_length (204). Is the audio_target_length setting correct?\n",
            "WARNING:root:Large gap between audio n_frames(98) and target_length (204). Is the audio_target_length setting correct?\n",
            "WARNING:root:Large gap between audio n_frames(98) and target_length (204). Is the audio_target_length setting correct?\n",
            "WARNING:root:Large gap between audio n_frames(129) and target_length (204). Is the audio_target_length setting correct?\n",
            "WARNING:root:Large gap between audio n_frames(129) and target_length (204). Is the audio_target_length setting correct?\n",
            "WARNING:root:Large gap between audio n_frames(129) and target_length (204). Is the audio_target_length setting correct?\n",
            "WARNING:root:Large gap between audio n_frames(169) and target_length (204). Is the audio_target_length setting correct?\n",
            "WARNING:root:Large gap between audio n_frames(169) and target_length (204). Is the audio_target_length setting correct?\n",
            "WARNING:root:Large gap between audio n_frames(169) and target_length (204). Is the audio_target_length setting correct?\n",
            "WARNING:root:Large gap between audio n_frames(164) and target_length (204). Is the audio_target_length setting correct?\n"
          ]
        },
        {
          "output_type": "stream",
          "name": "stdout",
          "text": [
            "Batch 57/78\n"
          ]
        },
        {
          "output_type": "stream",
          "name": "stderr",
          "text": [
            "WARNING:root:Large gap between audio n_frames(164) and target_length (204). Is the audio_target_length setting correct?\n",
            "WARNING:root:Large gap between audio n_frames(164) and target_length (204). Is the audio_target_length setting correct?\n",
            "WARNING:root:Large gap between audio n_frames(98) and target_length (204). Is the audio_target_length setting correct?\n",
            "WARNING:root:Large gap between audio n_frames(98) and target_length (204). Is the audio_target_length setting correct?\n",
            "WARNING:root:Large gap between audio n_frames(98) and target_length (204). Is the audio_target_length setting correct?\n",
            "WARNING:root:Large gap between audio n_frames(108) and target_length (204). Is the audio_target_length setting correct?\n",
            "WARNING:root:Large gap between audio n_frames(108) and target_length (204). Is the audio_target_length setting correct?\n",
            "WARNING:root:Large gap between audio n_frames(108) and target_length (204). Is the audio_target_length setting correct?\n",
            "WARNING:root:Large gap between audio n_frames(166) and target_length (204). Is the audio_target_length setting correct?\n",
            "WARNING:root:Large gap between audio n_frames(166) and target_length (204). Is the audio_target_length setting correct?\n",
            "WARNING:root:Large gap between audio n_frames(166) and target_length (204). Is the audio_target_length setting correct?\n",
            "WARNING:root:Large gap between audio n_frames(157) and target_length (204). Is the audio_target_length setting correct?\n",
            "WARNING:root:Large gap between audio n_frames(157) and target_length (204). Is the audio_target_length setting correct?\n"
          ]
        },
        {
          "output_type": "stream",
          "name": "stdout",
          "text": [
            "Batch 58/78\n"
          ]
        },
        {
          "output_type": "stream",
          "name": "stderr",
          "text": [
            "WARNING:root:Large gap between audio n_frames(157) and target_length (204). Is the audio_target_length setting correct?\n",
            "WARNING:root:Large gap between audio n_frames(165) and target_length (204). Is the audio_target_length setting correct?\n",
            "WARNING:root:Large gap between audio n_frames(165) and target_length (204). Is the audio_target_length setting correct?\n",
            "WARNING:root:Large gap between audio n_frames(165) and target_length (204). Is the audio_target_length setting correct?\n",
            "WARNING:root:Large gap between audio n_frames(141) and target_length (204). Is the audio_target_length setting correct?\n",
            "WARNING:root:Large gap between audio n_frames(141) and target_length (204). Is the audio_target_length setting correct?\n",
            "WARNING:root:Large gap between audio n_frames(141) and target_length (204). Is the audio_target_length setting correct?\n"
          ]
        },
        {
          "output_type": "stream",
          "name": "stdout",
          "text": [
            "Batch 59/78\n"
          ]
        },
        {
          "output_type": "stream",
          "name": "stderr",
          "text": [
            "WARNING:root:Large gap between audio n_frames(142) and target_length (204). Is the audio_target_length setting correct?\n",
            "WARNING:root:Large gap between audio n_frames(142) and target_length (204). Is the audio_target_length setting correct?\n",
            "WARNING:root:Large gap between audio n_frames(142) and target_length (204). Is the audio_target_length setting correct?\n"
          ]
        },
        {
          "output_type": "stream",
          "name": "stdout",
          "text": [
            "Batch 60/78\n"
          ]
        },
        {
          "output_type": "stream",
          "name": "stderr",
          "text": [
            "WARNING:root:Large gap between audio n_frames(160) and target_length (204). Is the audio_target_length setting correct?\n",
            "WARNING:root:Large gap between audio n_frames(160) and target_length (204). Is the audio_target_length setting correct?\n"
          ]
        },
        {
          "output_type": "stream",
          "name": "stdout",
          "text": [
            "Batch 61/78\n"
          ]
        },
        {
          "output_type": "stream",
          "name": "stderr",
          "text": [
            "WARNING:root:Large gap between audio n_frames(160) and target_length (204). Is the audio_target_length setting correct?\n"
          ]
        },
        {
          "output_type": "stream",
          "name": "stdout",
          "text": [
            "Batch 62/78\n",
            "Batch 63/78\n",
            "Batch 64/78\n"
          ]
        },
        {
          "output_type": "stream",
          "name": "stderr",
          "text": [
            "WARNING:root:Large gap between audio n_frames(147) and target_length (204). Is the audio_target_length setting correct?\n",
            "WARNING:root:Large gap between audio n_frames(147) and target_length (204). Is the audio_target_length setting correct?\n",
            "WARNING:root:Large gap between audio n_frames(147) and target_length (204). Is the audio_target_length setting correct?\n",
            "WARNING:root:Large gap between audio n_frames(151) and target_length (204). Is the audio_target_length setting correct?\n",
            "WARNING:root:Large gap between audio n_frames(151) and target_length (204). Is the audio_target_length setting correct?\n",
            "WARNING:root:Large gap between audio n_frames(151) and target_length (204). Is the audio_target_length setting correct?\n"
          ]
        },
        {
          "output_type": "stream",
          "name": "stdout",
          "text": [
            "Batch 65/78\n"
          ]
        },
        {
          "output_type": "stream",
          "name": "stderr",
          "text": [
            "WARNING:root:Large gap between audio n_frames(151) and target_length (204). Is the audio_target_length setting correct?\n",
            "WARNING:root:Large gap between audio n_frames(151) and target_length (204). Is the audio_target_length setting correct?\n",
            "WARNING:root:Large gap between audio n_frames(151) and target_length (204). Is the audio_target_length setting correct?\n",
            "WARNING:root:Large gap between audio n_frames(166) and target_length (204). Is the audio_target_length setting correct?\n",
            "WARNING:root:Large gap between audio n_frames(166) and target_length (204). Is the audio_target_length setting correct?\n",
            "WARNING:root:Large gap between audio n_frames(166) and target_length (204). Is the audio_target_length setting correct?\n",
            "WARNING:root:Large gap between audio n_frames(160) and target_length (204). Is the audio_target_length setting correct?\n",
            "WARNING:root:Large gap between audio n_frames(160) and target_length (204). Is the audio_target_length setting correct?\n",
            "WARNING:root:Large gap between audio n_frames(160) and target_length (204). Is the audio_target_length setting correct?\n"
          ]
        },
        {
          "output_type": "stream",
          "name": "stdout",
          "text": [
            "Batch 66/78\n"
          ]
        },
        {
          "output_type": "stream",
          "name": "stderr",
          "text": [
            "WARNING:root:Large gap between audio n_frames(169) and target_length (204). Is the audio_target_length setting correct?\n",
            "WARNING:root:Large gap between audio n_frames(169) and target_length (204). Is the audio_target_length setting correct?\n",
            "WARNING:root:Large gap between audio n_frames(169) and target_length (204). Is the audio_target_length setting correct?\n",
            "WARNING:root:Large gap between audio n_frames(135) and target_length (204). Is the audio_target_length setting correct?\n",
            "WARNING:root:Large gap between audio n_frames(135) and target_length (204). Is the audio_target_length setting correct?\n",
            "WARNING:root:Large gap between audio n_frames(135) and target_length (204). Is the audio_target_length setting correct?\n",
            "WARNING:root:Large gap between audio n_frames(119) and target_length (204). Is the audio_target_length setting correct?\n",
            "WARNING:root:Large gap between audio n_frames(119) and target_length (204). Is the audio_target_length setting correct?\n",
            "WARNING:root:Large gap between audio n_frames(119) and target_length (204). Is the audio_target_length setting correct?\n",
            "WARNING:root:Large gap between audio n_frames(158) and target_length (204). Is the audio_target_length setting correct?\n",
            "WARNING:root:Large gap between audio n_frames(158) and target_length (204). Is the audio_target_length setting correct?\n",
            "WARNING:root:Large gap between audio n_frames(158) and target_length (204). Is the audio_target_length setting correct?\n"
          ]
        },
        {
          "output_type": "stream",
          "name": "stdout",
          "text": [
            "Batch 67/78\n"
          ]
        },
        {
          "output_type": "stream",
          "name": "stderr",
          "text": [
            "WARNING:root:Large gap between audio n_frames(112) and target_length (204). Is the audio_target_length setting correct?\n",
            "WARNING:root:Large gap between audio n_frames(112) and target_length (204). Is the audio_target_length setting correct?\n",
            "WARNING:root:Large gap between audio n_frames(112) and target_length (204). Is the audio_target_length setting correct?\n",
            "WARNING:root:Large gap between audio n_frames(108) and target_length (204). Is the audio_target_length setting correct?\n",
            "WARNING:root:Large gap between audio n_frames(108) and target_length (204). Is the audio_target_length setting correct?\n",
            "WARNING:root:Large gap between audio n_frames(108) and target_length (204). Is the audio_target_length setting correct?\n",
            "WARNING:root:Large gap between audio n_frames(131) and target_length (204). Is the audio_target_length setting correct?\n",
            "WARNING:root:Large gap between audio n_frames(131) and target_length (204). Is the audio_target_length setting correct?\n",
            "WARNING:root:Large gap between audio n_frames(131) and target_length (204). Is the audio_target_length setting correct?\n",
            "WARNING:root:Large gap between audio n_frames(128) and target_length (204). Is the audio_target_length setting correct?\n",
            "WARNING:root:Large gap between audio n_frames(128) and target_length (204). Is the audio_target_length setting correct?\n",
            "WARNING:root:Large gap between audio n_frames(128) and target_length (204). Is the audio_target_length setting correct?\n",
            "WARNING:root:Large gap between audio n_frames(141) and target_length (204). Is the audio_target_length setting correct?\n",
            "WARNING:root:Large gap between audio n_frames(141) and target_length (204). Is the audio_target_length setting correct?\n",
            "WARNING:root:Large gap between audio n_frames(141) and target_length (204). Is the audio_target_length setting correct?\n",
            "WARNING:root:Large gap between audio n_frames(118) and target_length (204). Is the audio_target_length setting correct?\n",
            "WARNING:root:Large gap between audio n_frames(118) and target_length (204). Is the audio_target_length setting correct?\n"
          ]
        },
        {
          "output_type": "stream",
          "name": "stdout",
          "text": [
            "Batch 68/78\n"
          ]
        },
        {
          "output_type": "stream",
          "name": "stderr",
          "text": [
            "WARNING:root:Large gap between audio n_frames(118) and target_length (204). Is the audio_target_length setting correct?\n",
            "WARNING:root:Large gap between audio n_frames(168) and target_length (204). Is the audio_target_length setting correct?\n",
            "WARNING:root:Large gap between audio n_frames(168) and target_length (204). Is the audio_target_length setting correct?\n",
            "WARNING:root:Large gap between audio n_frames(168) and target_length (204). Is the audio_target_length setting correct?\n",
            "WARNING:root:Large gap between audio n_frames(133) and target_length (204). Is the audio_target_length setting correct?\n",
            "WARNING:root:Large gap between audio n_frames(133) and target_length (204). Is the audio_target_length setting correct?\n",
            "WARNING:root:Large gap between audio n_frames(133) and target_length (204). Is the audio_target_length setting correct?\n",
            "WARNING:root:Large gap between audio n_frames(133) and target_length (204). Is the audio_target_length setting correct?\n",
            "WARNING:root:Large gap between audio n_frames(133) and target_length (204). Is the audio_target_length setting correct?\n",
            "WARNING:root:Large gap between audio n_frames(133) and target_length (204). Is the audio_target_length setting correct?\n",
            "WARNING:root:Large gap between audio n_frames(105) and target_length (204). Is the audio_target_length setting correct?\n",
            "WARNING:root:Large gap between audio n_frames(105) and target_length (204). Is the audio_target_length setting correct?\n",
            "WARNING:root:Large gap between audio n_frames(105) and target_length (204). Is the audio_target_length setting correct?\n",
            "WARNING:root:Large gap between audio n_frames(146) and target_length (204). Is the audio_target_length setting correct?\n",
            "WARNING:root:Large gap between audio n_frames(146) and target_length (204). Is the audio_target_length setting correct?\n",
            "WARNING:root:Large gap between audio n_frames(146) and target_length (204). Is the audio_target_length setting correct?\n",
            "WARNING:root:Large gap between audio n_frames(131) and target_length (204). Is the audio_target_length setting correct?\n",
            "WARNING:root:Large gap between audio n_frames(131) and target_length (204). Is the audio_target_length setting correct?\n",
            "WARNING:root:Large gap between audio n_frames(131) and target_length (204). Is the audio_target_length setting correct?\n",
            "WARNING:root:Large gap between audio n_frames(137) and target_length (204). Is the audio_target_length setting correct?\n",
            "WARNING:root:Large gap between audio n_frames(137) and target_length (204). Is the audio_target_length setting correct?\n",
            "WARNING:root:Large gap between audio n_frames(137) and target_length (204). Is the audio_target_length setting correct?\n",
            "WARNING:root:Large gap between audio n_frames(153) and target_length (204). Is the audio_target_length setting correct?\n",
            "WARNING:root:Large gap between audio n_frames(153) and target_length (204). Is the audio_target_length setting correct?\n",
            "WARNING:root:Large gap between audio n_frames(153) and target_length (204). Is the audio_target_length setting correct?\n"
          ]
        },
        {
          "output_type": "stream",
          "name": "stdout",
          "text": [
            "Batch 69/78\n"
          ]
        },
        {
          "output_type": "stream",
          "name": "stderr",
          "text": [
            "WARNING:root:Large gap between audio n_frames(169) and target_length (204). Is the audio_target_length setting correct?\n",
            "WARNING:root:Large gap between audio n_frames(169) and target_length (204). Is the audio_target_length setting correct?\n",
            "WARNING:root:Large gap between audio n_frames(169) and target_length (204). Is the audio_target_length setting correct?\n",
            "WARNING:root:Large gap between audio n_frames(161) and target_length (204). Is the audio_target_length setting correct?\n",
            "WARNING:root:Large gap between audio n_frames(161) and target_length (204). Is the audio_target_length setting correct?\n",
            "WARNING:root:Large gap between audio n_frames(161) and target_length (204). Is the audio_target_length setting correct?\n",
            "WARNING:root:Large gap between audio n_frames(159) and target_length (204). Is the audio_target_length setting correct?\n",
            "WARNING:root:Large gap between audio n_frames(159) and target_length (204). Is the audio_target_length setting correct?\n",
            "WARNING:root:Large gap between audio n_frames(159) and target_length (204). Is the audio_target_length setting correct?\n",
            "WARNING:root:Large gap between audio n_frames(144) and target_length (204). Is the audio_target_length setting correct?\n",
            "WARNING:root:Large gap between audio n_frames(144) and target_length (204). Is the audio_target_length setting correct?\n",
            "WARNING:root:Large gap between audio n_frames(144) and target_length (204). Is the audio_target_length setting correct?\n"
          ]
        },
        {
          "output_type": "stream",
          "name": "stdout",
          "text": [
            "Batch 70/78\n"
          ]
        },
        {
          "output_type": "stream",
          "name": "stderr",
          "text": [
            "WARNING:root:Large gap between audio n_frames(130) and target_length (204). Is the audio_target_length setting correct?\n",
            "WARNING:root:Large gap between audio n_frames(130) and target_length (204). Is the audio_target_length setting correct?\n",
            "WARNING:root:Large gap between audio n_frames(130) and target_length (204). Is the audio_target_length setting correct?\n",
            "WARNING:root:Large gap between audio n_frames(147) and target_length (204). Is the audio_target_length setting correct?\n",
            "WARNING:root:Large gap between audio n_frames(147) and target_length (204). Is the audio_target_length setting correct?\n",
            "WARNING:root:Large gap between audio n_frames(147) and target_length (204). Is the audio_target_length setting correct?\n",
            "WARNING:root:Large gap between audio n_frames(110) and target_length (204). Is the audio_target_length setting correct?\n",
            "WARNING:root:Large gap between audio n_frames(110) and target_length (204). Is the audio_target_length setting correct?\n",
            "WARNING:root:Large gap between audio n_frames(110) and target_length (204). Is the audio_target_length setting correct?\n",
            "WARNING:root:Large gap between audio n_frames(121) and target_length (204). Is the audio_target_length setting correct?\n",
            "WARNING:root:Large gap between audio n_frames(121) and target_length (204). Is the audio_target_length setting correct?\n",
            "WARNING:root:Large gap between audio n_frames(121) and target_length (204). Is the audio_target_length setting correct?\n",
            "WARNING:root:Large gap between audio n_frames(88) and target_length (204). Is the audio_target_length setting correct?\n",
            "WARNING:root:Large gap between audio n_frames(88) and target_length (204). Is the audio_target_length setting correct?\n",
            "WARNING:root:Large gap between audio n_frames(88) and target_length (204). Is the audio_target_length setting correct?\n",
            "WARNING:root:Large gap between audio n_frames(156) and target_length (204). Is the audio_target_length setting correct?\n",
            "WARNING:root:Large gap between audio n_frames(156) and target_length (204). Is the audio_target_length setting correct?\n",
            "WARNING:root:Large gap between audio n_frames(156) and target_length (204). Is the audio_target_length setting correct?\n"
          ]
        },
        {
          "output_type": "stream",
          "name": "stdout",
          "text": [
            "Batch 71/78\n"
          ]
        },
        {
          "output_type": "stream",
          "name": "stderr",
          "text": [
            "WARNING:root:Large gap between audio n_frames(146) and target_length (204). Is the audio_target_length setting correct?\n",
            "WARNING:root:Large gap between audio n_frames(146) and target_length (204). Is the audio_target_length setting correct?\n",
            "WARNING:root:Large gap between audio n_frames(146) and target_length (204). Is the audio_target_length setting correct?\n",
            "WARNING:root:Large gap between audio n_frames(159) and target_length (204). Is the audio_target_length setting correct?\n",
            "WARNING:root:Large gap between audio n_frames(159) and target_length (204). Is the audio_target_length setting correct?\n",
            "WARNING:root:Large gap between audio n_frames(159) and target_length (204). Is the audio_target_length setting correct?\n",
            "WARNING:root:Large gap between audio n_frames(115) and target_length (204). Is the audio_target_length setting correct?\n",
            "WARNING:root:Large gap between audio n_frames(115) and target_length (204). Is the audio_target_length setting correct?\n",
            "WARNING:root:Large gap between audio n_frames(115) and target_length (204). Is the audio_target_length setting correct?\n",
            "WARNING:root:Large gap between audio n_frames(131) and target_length (204). Is the audio_target_length setting correct?\n",
            "WARNING:root:Large gap between audio n_frames(131) and target_length (204). Is the audio_target_length setting correct?\n",
            "WARNING:root:Large gap between audio n_frames(131) and target_length (204). Is the audio_target_length setting correct?\n",
            "WARNING:root:Large gap between audio n_frames(165) and target_length (204). Is the audio_target_length setting correct?\n",
            "WARNING:root:Large gap between audio n_frames(165) and target_length (204). Is the audio_target_length setting correct?\n",
            "WARNING:root:Large gap between audio n_frames(165) and target_length (204). Is the audio_target_length setting correct?\n"
          ]
        },
        {
          "output_type": "stream",
          "name": "stdout",
          "text": [
            "Batch 72/78\n"
          ]
        },
        {
          "output_type": "stream",
          "name": "stderr",
          "text": [
            "WARNING:root:Large gap between audio n_frames(165) and target_length (204). Is the audio_target_length setting correct?\n",
            "WARNING:root:Large gap between audio n_frames(165) and target_length (204). Is the audio_target_length setting correct?\n",
            "WARNING:root:Large gap between audio n_frames(165) and target_length (204). Is the audio_target_length setting correct?\n",
            "WARNING:root:Large gap between audio n_frames(133) and target_length (204). Is the audio_target_length setting correct?\n",
            "WARNING:root:Large gap between audio n_frames(133) and target_length (204). Is the audio_target_length setting correct?\n",
            "WARNING:root:Large gap between audio n_frames(133) and target_length (204). Is the audio_target_length setting correct?\n",
            "WARNING:root:Large gap between audio n_frames(167) and target_length (204). Is the audio_target_length setting correct?\n",
            "WARNING:root:Large gap between audio n_frames(167) and target_length (204). Is the audio_target_length setting correct?\n",
            "WARNING:root:Large gap between audio n_frames(167) and target_length (204). Is the audio_target_length setting correct?\n"
          ]
        },
        {
          "output_type": "stream",
          "name": "stdout",
          "text": [
            "Batch 73/78\n",
            "Batch 74/78\n"
          ]
        },
        {
          "output_type": "stream",
          "name": "stderr",
          "text": [
            "WARNING:root:Large gap between audio n_frames(144) and target_length (204). Is the audio_target_length setting correct?\n",
            "WARNING:root:Large gap between audio n_frames(144) and target_length (204). Is the audio_target_length setting correct?\n",
            "WARNING:root:Large gap between audio n_frames(144) and target_length (204). Is the audio_target_length setting correct?\n",
            "WARNING:root:Large gap between audio n_frames(162) and target_length (204). Is the audio_target_length setting correct?\n",
            "WARNING:root:Large gap between audio n_frames(162) and target_length (204). Is the audio_target_length setting correct?\n",
            "WARNING:root:Large gap between audio n_frames(162) and target_length (204). Is the audio_target_length setting correct?\n"
          ]
        },
        {
          "output_type": "stream",
          "name": "stdout",
          "text": [
            "Batch 75/78\n"
          ]
        },
        {
          "output_type": "stream",
          "name": "stderr",
          "text": [
            "WARNING:root:Large gap between audio n_frames(102) and target_length (204). Is the audio_target_length setting correct?\n",
            "WARNING:root:Large gap between audio n_frames(102) and target_length (204). Is the audio_target_length setting correct?\n",
            "WARNING:root:Large gap between audio n_frames(102) and target_length (204). Is the audio_target_length setting correct?\n",
            "WARNING:root:Large gap between audio n_frames(140) and target_length (204). Is the audio_target_length setting correct?\n",
            "WARNING:root:Large gap between audio n_frames(140) and target_length (204). Is the audio_target_length setting correct?\n",
            "WARNING:root:Large gap between audio n_frames(140) and target_length (204). Is the audio_target_length setting correct?\n",
            "WARNING:root:Large gap between audio n_frames(124) and target_length (204). Is the audio_target_length setting correct?\n",
            "WARNING:root:Large gap between audio n_frames(124) and target_length (204). Is the audio_target_length setting correct?\n",
            "WARNING:root:Large gap between audio n_frames(124) and target_length (204). Is the audio_target_length setting correct?\n"
          ]
        },
        {
          "output_type": "stream",
          "name": "stdout",
          "text": [
            "Batch 76/78\n"
          ]
        },
        {
          "output_type": "stream",
          "name": "stderr",
          "text": [
            "WARNING:root:Large gap between audio n_frames(94) and target_length (204). Is the audio_target_length setting correct?\n",
            "WARNING:root:Large gap between audio n_frames(94) and target_length (204). Is the audio_target_length setting correct?\n",
            "WARNING:root:Large gap between audio n_frames(94) and target_length (204). Is the audio_target_length setting correct?\n",
            "WARNING:root:Large gap between audio n_frames(99) and target_length (204). Is the audio_target_length setting correct?\n",
            "WARNING:root:Large gap between audio n_frames(99) and target_length (204). Is the audio_target_length setting correct?\n",
            "WARNING:root:Large gap between audio n_frames(99) and target_length (204). Is the audio_target_length setting correct?\n",
            "WARNING:root:Large gap between audio n_frames(114) and target_length (204). Is the audio_target_length setting correct?\n",
            "WARNING:root:Large gap between audio n_frames(114) and target_length (204). Is the audio_target_length setting correct?\n",
            "WARNING:root:Large gap between audio n_frames(114) and target_length (204). Is the audio_target_length setting correct?\n",
            "WARNING:root:Large gap between audio n_frames(163) and target_length (204). Is the audio_target_length setting correct?\n",
            "WARNING:root:Large gap between audio n_frames(163) and target_length (204). Is the audio_target_length setting correct?\n",
            "WARNING:root:Large gap between audio n_frames(163) and target_length (204). Is the audio_target_length setting correct?\n",
            "WARNING:root:Large gap between audio n_frames(116) and target_length (204). Is the audio_target_length setting correct?\n",
            "WARNING:root:Large gap between audio n_frames(116) and target_length (204). Is the audio_target_length setting correct?\n",
            "WARNING:root:Large gap between audio n_frames(116) and target_length (204). Is the audio_target_length setting correct?\n"
          ]
        },
        {
          "output_type": "stream",
          "name": "stdout",
          "text": [
            "Batch 77/78\n"
          ]
        },
        {
          "output_type": "stream",
          "name": "stderr",
          "text": [
            "WARNING:root:Large gap between audio n_frames(123) and target_length (204). Is the audio_target_length setting correct?\n",
            "WARNING:root:Large gap between audio n_frames(123) and target_length (204). Is the audio_target_length setting correct?\n",
            "WARNING:root:Large gap between audio n_frames(123) and target_length (204). Is the audio_target_length setting correct?\n",
            "WARNING:root:Large gap between audio n_frames(142) and target_length (204). Is the audio_target_length setting correct?\n",
            "WARNING:root:Large gap between audio n_frames(142) and target_length (204). Is the audio_target_length setting correct?\n",
            "WARNING:root:Large gap between audio n_frames(142) and target_length (204). Is the audio_target_length setting correct?\n"
          ]
        },
        {
          "output_type": "stream",
          "name": "stdout",
          "text": [
            "Batch 78/78\n"
          ]
        }
      ]
    },
    {
      "cell_type": "code",
      "source": [
        "sessions = ['Session1', 'Session2', 'Session3', 'Session4', 'Session5']\n",
        "\n",
        "for session in sessions:\n",
        "  print(f\"Processing session {session}......\")\n",
        "  labels = list(emotion_labels[session].values())\n",
        "  text_list = list(text_data[session].values())\n",
        "  audio_paths = list(audio_data[session].values())\n",
        "\n",
        "  labels_save, audio_embeddings, text_embeddings = batch_process_audio_text(batch_size, len(text_list))\n",
        "\n",
        "  np.savetxt(f\"/content/drive/MyDrive/coms6998_final_project/Embeddings/audio_embeddings_{session}.csv\", audio_embeddings, delimiter=\",\")\n",
        "  np.savetxt(f\"/content/drive/MyDrive/coms6998_final_project/Embeddings/text_embeddings_{session}.csv\", text_embeddings, delimiter=\",\")\n",
        "  np.savetxt(f\"/content/drive/MyDrive/coms6998_final_project/Embeddings/labels_{session}.csv\", labels_save, delimiter=\",\" ,fmt=\"%s\")\n"
      ],
      "metadata": {
        "id": "GlCH8iu82Yi8"
      },
      "execution_count": null,
      "outputs": []
    },
    {
      "cell_type": "markdown",
      "source": [
        "# Prepare, Train and Test Classification Model - Session 1 ONLY"
      ],
      "metadata": {
        "id": "t2F4XG62nf6v"
      }
    },
    {
      "cell_type": "markdown",
      "source": [
        "## VISION-AUDIO Session 1"
      ],
      "metadata": {
        "id": "NwGh6hnLqUAN"
      }
    },
    {
      "cell_type": "code",
      "source": [
        "## VISION AUDIO SESSION 1\n",
        "\n",
        "# Read single modality embeddings into DF\n",
        "audio_embedding_df = pd.read_csv('./drive/MyDrive/coms6998_final_project/Embeddings/Session 1/audio_embeddings.csv', header=None)\n",
        "video_embedding_df = pd.read_csv('./drive/MyDrive/coms6998_final_project/Embeddings/Session 1/vision_embeddings.csv', header=None)\n",
        "\n",
        "# Read in emotion labels\n",
        "emotion_labels = pd.read_csv('./drive/MyDrive/coms6998_final_project/Embeddings/Session 1/emotion_labels.csv', header=None, names=['Dialog_ID', 'Emotion'])\n",
        "labels_subset = pd.read_csv('./drive/MyDrive/coms6998_final_project/Embeddings/Session 1/labels.csv', header=None, names=['Dialog_ID'])\n",
        "emotion_labels_subset = emotion_labels.set_index('Dialog_ID').join(labels_subset.set_index('Dialog_ID'), on='Dialog_ID', how='right').reset_index()\n",
        "\n",
        "# Add emotion label to single modality DFs\n",
        "audio_embedding_df['Emotion'] = emotion_labels_subset['Emotion']\n",
        "video_embedding_df['Emotion'] = emotion_labels_subset['Emotion']\n",
        "\n",
        "# Filter single modality DFs to 4 emotions\n",
        "y_labels = ['ang', 'hap', 'sad', 'neu']\n",
        "audio_embedding_df = audio_embedding_df[audio_embedding_df['Emotion'].isin(y_labels)]\n",
        "video_embedding_df = video_embedding_df[video_embedding_df['Emotion'].isin(y_labels)]\n",
        "\n",
        "# Convert filtered single modality DFs into embeddings to combine\n",
        "audio_embedding = torch.tensor(audio_embedding_df.drop('Emotion', axis=1).values)\n",
        "video_embedding = torch.tensor(video_embedding_df.drop('Emotion', axis=1).values)\n",
        "\n",
        "# Combine modalities\n",
        "vision_audio_embeddings = torch.softmax(video_embedding @ audio_embedding.T,\n",
        "                                        dim=-1)\n",
        "emotion_labels_subset = emotion_labels_subset[emotion_labels_subset['Emotion'].isin(y_labels)].reset_index()\n",
        "\n",
        "# Add emotion labels to combined modality to prepare dataset for training\n",
        "vision_audio_data = pd.DataFrame(vision_audio_embeddings)\n",
        "vision_audio_data['Emotion'] = emotion_labels_subset['Emotion']\n",
        "\n",
        "####### Vision - Audio Model\n",
        "\n",
        "# Separate target variable\n",
        "vision_audio_x = vision_audio_data.drop('Emotion', axis=1)\n",
        "vision_audio_y = vision_audio_data['Emotion']\n",
        "\n",
        "# Split data into dev and test datasets using 80:20 split\n",
        "X_dev, X_test, y_dev, y_test = train_test_split(vision_audio_x,\n",
        "                                                vision_audio_y,\n",
        "                                                test_size=0.2,\n",
        "                                                stratify=vision_audio_y,\n",
        "                                                random_state=1)\n",
        "\n",
        "# Split dev data into train and validation datasets using 80:20 split\n",
        "X_train, X_val, y_train, y_val = train_test_split(X_dev,\n",
        "                                                  y_dev,\n",
        "                                                  test_size=0.2,\n",
        "                                                  stratify=y_dev,\n",
        "                                                  random_state=1)\n",
        "\n",
        "# Complete hyperparameter tuning to find optimal hyperparameters for NuSVC model\n",
        "param_dist = {\n",
        "    'nu': [0.2, 0.25, 0.3, 0.35, 0.4, 0.45, 0.5, 0.55, 0.6],\n",
        "    'gamma': np.logspace(-9, 3, 13),\n",
        "    'kernel': ['rbf', 'linear', 'poly'],\n",
        "}\n",
        "\n",
        "vision_audio_model = NuSVC(random_state=42,\n",
        "                           class_weight='balanced',\n",
        "                           decision_function_shape='ovo')\n",
        "\n",
        "random_search = RandomizedSearchCV(vision_audio_model,\n",
        "                                   param_distributions=param_dist,\n",
        "                                   n_iter=100, cv=5, random_state=42)\n",
        "\n",
        "random_search.fit(X_train, y_train)\n",
        "best_params_random = random_search.best_params_\n",
        "best_scores_random = random_search.best_score_\n",
        "print(\"Best set of hyperparameters: \", best_params_random)\n",
        "print(\"Best score: \", best_scores_random)"
      ],
      "metadata": {
        "colab": {
          "base_uri": "https://localhost:8080/"
        },
        "id": "FZ9lske6khbs",
        "outputId": "3e7e1421-4a52-405f-8a7e-1e80a0e441f3"
      },
      "execution_count": null,
      "outputs": [
        {
          "output_type": "stream",
          "name": "stdout",
          "text": [
            "Best set of hyperparameters:  {'nu': 0.2, 'kernel': 'rbf', 'gamma': 1000.0}\n",
            "Best score:  0.6940701754385965\n"
          ]
        },
        {
          "output_type": "stream",
          "name": "stderr",
          "text": [
            "/usr/local/lib/python3.10/dist-packages/sklearn/model_selection/_validation.py:540: FitFailedWarning: \n",
            "131 fits failed out of a total of 500.\n",
            "The score on these train-test partitions for these parameters will be set to nan.\n",
            "If these failures are not expected, you can try to debug them by setting error_score='raise'.\n",
            "\n",
            "Below are more details about the failures:\n",
            "--------------------------------------------------------------------------------\n",
            "96 fits failed with the following error:\n",
            "Traceback (most recent call last):\n",
            "  File \"/usr/local/lib/python3.10/dist-packages/sklearn/model_selection/_validation.py\", line 888, in _fit_and_score\n",
            "    estimator.fit(X_train, y_train, **fit_params)\n",
            "  File \"/usr/local/lib/python3.10/dist-packages/sklearn/base.py\", line 1473, in wrapper\n",
            "    return fit_method(estimator, *args, **kwargs)\n",
            "  File \"/usr/local/lib/python3.10/dist-packages/sklearn/svm/_base.py\", line 268, in fit\n",
            "    raise ValueError(\n",
            "ValueError: The dual coefficients or intercepts are not finite. The input data may contain large values and need to be preprocessed.\n",
            "\n",
            "--------------------------------------------------------------------------------\n",
            "35 fits failed with the following error:\n",
            "Traceback (most recent call last):\n",
            "  File \"/usr/local/lib/python3.10/dist-packages/sklearn/model_selection/_validation.py\", line 888, in _fit_and_score\n",
            "    estimator.fit(X_train, y_train, **fit_params)\n",
            "  File \"/usr/local/lib/python3.10/dist-packages/sklearn/base.py\", line 1473, in wrapper\n",
            "    return fit_method(estimator, *args, **kwargs)\n",
            "  File \"/usr/local/lib/python3.10/dist-packages/sklearn/svm/_base.py\", line 250, in fit\n",
            "    fit(X, y, sample_weight, solver_type, kernel, random_seed=seed)\n",
            "  File \"/usr/local/lib/python3.10/dist-packages/sklearn/svm/_base.py\", line 328, in _dense_fit\n",
            "    ) = libsvm.fit(\n",
            "  File \"_libsvm.pyx\", line 216, in sklearn.svm._libsvm.fit\n",
            "ValueError: specified nu is infeasible\n",
            "\n",
            "  warnings.warn(some_fits_failed_message, FitFailedWarning)\n",
            "/usr/local/lib/python3.10/dist-packages/sklearn/model_selection/_search.py:1103: UserWarning: One or more of the test scores are non-finite: [       nan 0.69140351 0.67035088 0.36950877 0.36933333 0.62284211\n",
            "        nan 0.40635088        nan 0.3217193  0.25610526 0.45926316\n",
            " 0.34007018 0.36950877 0.40635088 0.45126316 0.67814035 0.3217193\n",
            "        nan 0.34031579        nan 0.36950877 0.36933333 0.62270175\n",
            "        nan 0.24512281        nan 0.43263158 0.45126316 0.3374386\n",
            " 0.27438596 0.55666667        nan 0.40635088        nan        nan\n",
            " 0.55666667        nan 0.27196491        nan        nan        nan\n",
            " 0.56729825        nan 0.58319298        nan        nan 0.27192982\n",
            " 0.27196491 0.69407018 0.55666667        nan        nan        nan\n",
            " 0.34010526 0.45926316 0.27196491 0.56729825 0.36950877        nan\n",
            " 0.56729825        nan 0.43263158 0.60435088        nan        nan\n",
            " 0.27196491        nan 0.34031579 0.65442105 0.45126316 0.34010526\n",
            " 0.43263158 0.45926316 0.45126316 0.29575439        nan        nan\n",
            "        nan 0.56729825 0.34031579 0.35350877 0.36950877 0.36933333\n",
            " 0.27196491        nan 0.62277193 0.58035088 0.56733333 0.25610526\n",
            " 0.6622807         nan 0.33754386 0.34010526 0.34031579 0.36898246\n",
            " 0.39533333 0.3217193  0.6465614         nan]\n",
            "  warnings.warn(\n"
          ]
        }
      ]
    },
    {
      "cell_type": "code",
      "source": [
        "## VISION AUDIO SESSION 1 TEST\n",
        "\n",
        "vision_audio_model = NuSVC(nu=0.2,\n",
        "                          gamma=1000,\n",
        "                          kernel='rbf',\n",
        "                          class_weight='balanced',\n",
        "                          random_state=42,\n",
        "                          decision_function_shape='ovo')\n",
        "vision_audio_model.fit(X_train, y_train)\n",
        "vision_audio_pred = vision_audio_model.predict(X_test)\n",
        "\n",
        "# Calculate evaluation metrics\n",
        "print(classification_report(y_test, vision_audio_pred))"
      ],
      "metadata": {
        "colab": {
          "base_uri": "https://localhost:8080/"
        },
        "id": "djE3U1Iym854",
        "outputId": "a35af84b-4207-4705-a9eb-943d9c71a894"
      },
      "execution_count": null,
      "outputs": [
        {
          "output_type": "stream",
          "name": "stdout",
          "text": [
            "              precision    recall  f1-score   support\n",
            "\n",
            "         ang       0.62      0.75      0.68        28\n",
            "         hap       0.68      0.72      0.70        18\n",
            "         neu       0.68      0.65      0.67        46\n",
            "         sad       0.68      0.56      0.61        27\n",
            "\n",
            "    accuracy                           0.66       119\n",
            "   macro avg       0.67      0.67      0.66       119\n",
            "weighted avg       0.67      0.66      0.66       119\n",
            "\n"
          ]
        }
      ]
    },
    {
      "cell_type": "markdown",
      "source": [
        "## AUDIO-TEXT SESSION 1"
      ],
      "metadata": {
        "id": "vGVDS4uHqX54"
      }
    },
    {
      "cell_type": "code",
      "source": [
        "## AUDIO TEXT SESSION 1\n",
        "\n",
        "# Read single modality embeddings into DF\n",
        "audio_embedding_df = pd.read_csv('./drive/MyDrive/coms6998_final_project/Embeddings/Session 1/audio_embeddings.csv', header=None)\n",
        "text_embedding_df = pd.read_csv('./drive/MyDrive/coms6998_final_project/Embeddings/Session 1/text_embeddings.csv', header=None)\n",
        "\n",
        "# Read in emotion labels\n",
        "emotion_labels = pd.read_csv('./drive/MyDrive/coms6998_final_project/Embeddings/Session 1/emotion_labels.csv', header=None, names=['Dialog_ID', 'Emotion'])\n",
        "labels_subset = pd.read_csv('./drive/MyDrive/coms6998_final_project/Embeddings/Session 1/labels.csv', header=None, names=['Dialog_ID'])\n",
        "emotion_labels_subset = emotion_labels.set_index('Dialog_ID').join(labels_subset.set_index('Dialog_ID'), on='Dialog_ID', how='right').reset_index()\n",
        "\n",
        "# Add emotion label to single modality DFs to prepare for filtering\n",
        "audio_embedding_df['Emotion'] = emotion_labels_subset['Emotion']\n",
        "text_embedding_df['Emotion'] = emotion_labels_subset['Emotion']\n",
        "\n",
        "# Filter single modality DFs to 4 emotions\n",
        "y_labels = ['ang', 'hap', 'sad', 'neu']\n",
        "audio_embedding_df = audio_embedding_df[audio_embedding_df['Emotion'].isin(y_labels)]\n",
        "text_embedding_df = text_embedding_df[text_embedding_df['Emotion'].isin(y_labels)]\n",
        "\n",
        "# Convert filtered single modality DFs into embeddings to combine\n",
        "audio_embedding = torch.tensor(audio_embedding_df.drop('Emotion', axis=1).values)\n",
        "text_embedding = torch.tensor(text_embedding_df.drop('Emotion', axis=1).values)\n",
        "\n",
        "# Combine modalities\n",
        "audio_text_embeddings = torch.softmax(audio_embedding @ text_embedding.T,\n",
        "                                        dim=-1)\n",
        "emotion_labels_subset = emotion_labels_subset[emotion_labels_subset['Emotion'].isin(y_labels)].reset_index()\n",
        "\n",
        "# Add emotion labels to combined modality to prepare dataset for training\n",
        "audio_text_data = pd.DataFrame(audio_text_embeddings)\n",
        "audio_text_data['Emotion'] = emotion_labels_subset['Emotion']\n",
        "\n",
        "####### Audio - Text Model\n",
        "\n",
        "# Separate target variable\n",
        "audio_text_x = audio_text_data.drop('Emotion', axis=1)\n",
        "audio_text_y = audio_text_data['Emotion']\n",
        "\n",
        "# Split data into dev and test datasets using 80:20 split\n",
        "X_dev, X_test, y_dev, y_test = train_test_split(audio_text_x,\n",
        "                                                audio_text_y,\n",
        "                                                test_size=0.2,\n",
        "                                                stratify=audio_text_y,\n",
        "                                                random_state=1)\n",
        "\n",
        "# Split dev data into train and validation datasets using 80:20 split\n",
        "X_train, X_val, y_train, y_val = train_test_split(X_dev,\n",
        "                                                  y_dev,\n",
        "                                                  test_size=0.2,\n",
        "                                                  stratify=y_dev,\n",
        "                                                  random_state=1)\n",
        "\n",
        "# Complete hyperparameter tuning to find optimal hyperparameters for NuSVC model\n",
        "param_dist = {\n",
        "    'nu': [0.2, 0.25, 0.3, 0.35, 0.4, 0.45, 0.5, 0.55, 0.6],\n",
        "    'gamma': [0.001, 0.01, 0.1, 1.e+00, 10],\n",
        "    'kernel': ['rbf', 'linear', 'poly'],\n",
        "}\n",
        "\n",
        "audio_text_model = NuSVC(random_state=42,\n",
        "                           class_weight='balanced',\n",
        "                           decision_function_shape='ovo')\n",
        "\n",
        "# audio_text_model.fit(X_train, y_train)\n",
        "# audio_text_model.score(X_val, y_val)\n",
        "\n",
        "random_search = RandomizedSearchCV(audio_text_model,\n",
        "                                   param_distributions=param_dist,\n",
        "                                   n_iter=100, cv=5, random_state=42)\n",
        "\n",
        "random_search.fit(X_train, y_train)\n",
        "best_params_random = random_search.best_params_\n",
        "best_scores_random = random_search.best_score_\n",
        "print(\"Best set of hyperparameters: \", best_params_random)\n",
        "print(\"Best score: \", best_scores_random)"
      ],
      "metadata": {
        "id": "3jWUYa0AmbyW",
        "colab": {
          "base_uri": "https://localhost:8080/"
        },
        "outputId": "128ebce9-2454-449e-ec1e-8a3d132da11b"
      },
      "execution_count": null,
      "outputs": [
        {
          "output_type": "stream",
          "name": "stdout",
          "text": [
            "Best set of hyperparameters:  {'nu': 0.4, 'kernel': 'rbf', 'gamma': 0.1}\n",
            "Best score:  0.4168771929824562\n"
          ]
        },
        {
          "output_type": "stream",
          "name": "stderr",
          "text": [
            "/usr/local/lib/python3.10/dist-packages/sklearn/model_selection/_validation.py:540: FitFailedWarning: \n",
            "93 fits failed out of a total of 500.\n",
            "The score on these train-test partitions for these parameters will be set to nan.\n",
            "If these failures are not expected, you can try to debug them by setting error_score='raise'.\n",
            "\n",
            "Below are more details about the failures:\n",
            "--------------------------------------------------------------------------------\n",
            "55 fits failed with the following error:\n",
            "Traceback (most recent call last):\n",
            "  File \"/usr/local/lib/python3.10/dist-packages/sklearn/model_selection/_validation.py\", line 888, in _fit_and_score\n",
            "    estimator.fit(X_train, y_train, **fit_params)\n",
            "  File \"/usr/local/lib/python3.10/dist-packages/sklearn/base.py\", line 1473, in wrapper\n",
            "    return fit_method(estimator, *args, **kwargs)\n",
            "  File \"/usr/local/lib/python3.10/dist-packages/sklearn/svm/_base.py\", line 250, in fit\n",
            "    fit(X, y, sample_weight, solver_type, kernel, random_seed=seed)\n",
            "  File \"/usr/local/lib/python3.10/dist-packages/sklearn/svm/_base.py\", line 328, in _dense_fit\n",
            "    ) = libsvm.fit(\n",
            "  File \"_libsvm.pyx\", line 216, in sklearn.svm._libsvm.fit\n",
            "ValueError: specified nu is infeasible\n",
            "\n",
            "--------------------------------------------------------------------------------\n",
            "38 fits failed with the following error:\n",
            "Traceback (most recent call last):\n",
            "  File \"/usr/local/lib/python3.10/dist-packages/sklearn/model_selection/_validation.py\", line 888, in _fit_and_score\n",
            "    estimator.fit(X_train, y_train, **fit_params)\n",
            "  File \"/usr/local/lib/python3.10/dist-packages/sklearn/base.py\", line 1473, in wrapper\n",
            "    return fit_method(estimator, *args, **kwargs)\n",
            "  File \"/usr/local/lib/python3.10/dist-packages/sklearn/svm/_base.py\", line 268, in fit\n",
            "    raise ValueError(\n",
            "ValueError: The dual coefficients or intercepts are not finite. The input data may contain large values and need to be preprocessed.\n",
            "\n",
            "  warnings.warn(some_fits_failed_message, FitFailedWarning)\n",
            "/usr/local/lib/python3.10/dist-packages/sklearn/model_selection/_search.py:1103: UserWarning: One or more of the test scores are non-finite: [       nan 0.37747368 0.35094737        nan 0.37747368        nan\n",
            " 0.29824561 0.3694386         nan 0.38021053        nan 0.37747368\n",
            " 0.25322807 0.26403509 0.24807018 0.38782456        nan 0.35880702\n",
            " 0.39315789 0.27417544 0.37477193        nan 0.37470175        nan\n",
            " 0.29519298 0.35094737        nan 0.24807018 0.37747368        nan\n",
            " 0.38792982 0.38792982 0.25568421 0.23207018 0.35364912 0.30870175\n",
            "        nan 0.37992982 0.29519298 0.27701754 0.37747368 0.30624561\n",
            " 0.29824561        nan 0.24807018 0.37747368 0.29824561 0.33508772\n",
            " 0.35070175 0.28221053 0.29824561 0.25568421 0.40905263 0.37185965\n",
            "        nan 0.37747368 0.29824561 0.39326316 0.29519298 0.37470175\n",
            "        nan 0.36673684        nan 0.25326316 0.38526316        nan\n",
            "        nan 0.39585965 0.29824561 0.38       0.37470175 0.37470175\n",
            " 0.32424561 0.38273684 0.40378947        nan 0.37747368 0.35364912\n",
            " 0.34021053        nan 0.24807018 0.25842105 0.38526316 0.40905263\n",
            " 0.25596491 0.25568421 0.33270175 0.23480702        nan 0.37747368\n",
            "        nan 0.35357895 0.40638596 0.32452632 0.388      0.39305263\n",
            " 0.29519298 0.35364912 0.41687719 0.25568421]\n",
            "  warnings.warn(\n"
          ]
        }
      ]
    },
    {
      "cell_type": "code",
      "source": [
        "## AUDIO TEXT SESSION 1 TEST\n",
        "\n",
        "audio_text_model = NuSVC(nu=0.4,\n",
        "                          gamma=0.1,\n",
        "                          kernel='rbf',\n",
        "                          class_weight='balanced',\n",
        "                          random_state=42,\n",
        "                          decision_function_shape='ovo')\n",
        "audio_text_model.fit(X_train, y_train)\n",
        "audio_text_pred = audio_text_model.predict(X_test)\n",
        "\n",
        "# Calculate evaluation metrics\n",
        "print(classification_report(y_test, audio_text_pred))"
      ],
      "metadata": {
        "id": "3TA4s_P4nK_O",
        "colab": {
          "base_uri": "https://localhost:8080/"
        },
        "outputId": "c8a3e9e1-b166-4d80-bf93-08e62c7ba6fc"
      },
      "execution_count": null,
      "outputs": [
        {
          "output_type": "stream",
          "name": "stdout",
          "text": [
            "              precision    recall  f1-score   support\n",
            "\n",
            "         ang       0.50      0.71      0.59        28\n",
            "         hap       0.20      0.06      0.09        18\n",
            "         neu       0.42      0.24      0.31        46\n",
            "         sad       0.29      0.52      0.37        27\n",
            "\n",
            "    accuracy                           0.39       119\n",
            "   macro avg       0.35      0.38      0.34       119\n",
            "weighted avg       0.38      0.39      0.35       119\n",
            "\n"
          ]
        }
      ]
    },
    {
      "cell_type": "markdown",
      "source": [
        "## VISION-TEXT SESSION 1"
      ],
      "metadata": {
        "id": "0jo0n4Z9qdp6"
      }
    },
    {
      "cell_type": "code",
      "source": [
        "## VISION TEXT SESSION 1\n",
        "\n",
        "# Read single modality embeddings into DF\n",
        "text_embedding_df = pd.read_csv('./drive/MyDrive/coms6998_final_project/Embeddings/Session 1/text_embeddings.csv', header=None)\n",
        "video_embedding_df = pd.read_csv('./drive/MyDrive/coms6998_final_project/Embeddings/Session 1/vision_embeddings.csv', header=None)\n",
        "\n",
        "# Read in emotion labels\n",
        "emotion_labels = pd.read_csv('./drive/MyDrive/coms6998_final_project/Embeddings/Session 1/emotion_labels.csv', header=None, names=['Dialog_ID', 'Emotion'])\n",
        "labels_subset = pd.read_csv('./drive/MyDrive/coms6998_final_project/Embeddings/Session 1/labels.csv', header=None, names=['Dialog_ID'])\n",
        "emotion_labels_subset = emotion_labels.set_index('Dialog_ID').join(labels_subset.set_index('Dialog_ID'), on='Dialog_ID', how='right').reset_index()\n",
        "\n",
        "# Add emotion label to single modality DFs\n",
        "text_embedding_df['Emotion'] = emotion_labels_subset['Emotion']\n",
        "video_embedding_df['Emotion'] = emotion_labels_subset['Emotion']\n",
        "\n",
        "# Filter single modality DFs to 4 emotions\n",
        "y_labels = ['ang', 'hap', 'sad', 'neu']\n",
        "text_embedding_df = text_embedding_df[text_embedding_df['Emotion'].isin(y_labels)]\n",
        "video_embedding_df = video_embedding_df[video_embedding_df['Emotion'].isin(y_labels)]\n",
        "\n",
        "# Convert filtered single modality DFs into embeddings to combine\n",
        "text_embedding = torch.tensor(text_embedding_df.drop('Emotion', axis=1).values)\n",
        "video_embedding = torch.tensor(video_embedding_df.drop('Emotion', axis=1).values)\n",
        "\n",
        "# Combine modalities\n",
        "vision_text_embeddings = torch.softmax(video_embedding @ text_embedding.T,\n",
        "                                        dim=-1)\n",
        "emotion_labels_subset = emotion_labels_subset[emotion_labels_subset['Emotion'].isin(y_labels)].reset_index()\n",
        "\n",
        "# Add emotion labels to combined modality to prepare dataset for training\n",
        "vision_text_data = pd.DataFrame(vision_text_embeddings)\n",
        "vision_text_data['Emotion'] = emotion_labels_subset['Emotion']\n",
        "\n",
        "####### Vision - Text Model\n",
        "\n",
        "# Separate target variable\n",
        "vision_text_x = vision_text_data.drop('Emotion', axis=1)\n",
        "vision_text_y = vision_text_data['Emotion']\n",
        "\n",
        "# Split data into dev and test datasets using 80:20 split\n",
        "X_dev, X_test, y_dev, y_test = train_test_split(vision_text_x,\n",
        "                                                vision_text_y,\n",
        "                                                test_size=0.2,\n",
        "                                                stratify=vision_text_y,\n",
        "                                                random_state=1)\n",
        "\n",
        "# Split dev data into train and validation datasets using 80:20 split\n",
        "X_train, X_val, y_train, y_val = train_test_split(X_dev,\n",
        "                                                  y_dev,\n",
        "                                                  test_size=0.2,\n",
        "                                                  stratify=y_dev,\n",
        "                                                  random_state=1)\n",
        "\n",
        "# Complete hyperparameter tuning to find optimal hyperparameters for NuSVC model\n",
        "param_dist = {\n",
        "    'nu': [0.2, 0.25, 0.3, 0.35, 0.4, 0.45, 0.5, 0.55, 0.6],\n",
        "    'gamma': np.logspace(-9, 3, 13),\n",
        "    'kernel': ['rbf', 'linear', 'poly'],\n",
        "}\n",
        "\n",
        "vision_text_model = NuSVC(random_state=42,\n",
        "                           class_weight='balanced',\n",
        "                           decision_function_shape='ovo')\n",
        "\n",
        "random_search = RandomizedSearchCV(vision_text_model,\n",
        "                                   param_distributions=param_dist,\n",
        "                                   n_iter=100, cv=5, random_state=42)\n",
        "\n",
        "random_search.fit(X_train, y_train)\n",
        "best_params_random = random_search.best_params_\n",
        "best_scores_random = random_search.best_score_\n",
        "print(\"Best set of hyperparameters: \", best_params_random)\n",
        "print(\"Best score: \", best_scores_random)"
      ],
      "metadata": {
        "colab": {
          "base_uri": "https://localhost:8080/"
        },
        "id": "gRc0MH0XnrXY",
        "outputId": "e1c727e0-96bd-4a08-e743-8d825c3d3948"
      },
      "execution_count": null,
      "outputs": [
        {
          "output_type": "stream",
          "name": "stderr",
          "text": [
            "/usr/local/lib/python3.10/dist-packages/sklearn/model_selection/_validation.py:540: FitFailedWarning: \n",
            "91 fits failed out of a total of 500.\n",
            "The score on these train-test partitions for these parameters will be set to nan.\n",
            "If these failures are not expected, you can try to debug them by setting error_score='raise'.\n",
            "\n",
            "Below are more details about the failures:\n",
            "--------------------------------------------------------------------------------\n",
            "56 fits failed with the following error:\n",
            "Traceback (most recent call last):\n",
            "  File \"/usr/local/lib/python3.10/dist-packages/sklearn/model_selection/_validation.py\", line 888, in _fit_and_score\n",
            "    estimator.fit(X_train, y_train, **fit_params)\n",
            "  File \"/usr/local/lib/python3.10/dist-packages/sklearn/base.py\", line 1473, in wrapper\n",
            "    return fit_method(estimator, *args, **kwargs)\n",
            "  File \"/usr/local/lib/python3.10/dist-packages/sklearn/svm/_base.py\", line 268, in fit\n",
            "    raise ValueError(\n",
            "ValueError: The dual coefficients or intercepts are not finite. The input data may contain large values and need to be preprocessed.\n",
            "\n",
            "--------------------------------------------------------------------------------\n",
            "35 fits failed with the following error:\n",
            "Traceback (most recent call last):\n",
            "  File \"/usr/local/lib/python3.10/dist-packages/sklearn/model_selection/_validation.py\", line 888, in _fit_and_score\n",
            "    estimator.fit(X_train, y_train, **fit_params)\n",
            "  File \"/usr/local/lib/python3.10/dist-packages/sklearn/base.py\", line 1473, in wrapper\n",
            "    return fit_method(estimator, *args, **kwargs)\n",
            "  File \"/usr/local/lib/python3.10/dist-packages/sklearn/svm/_base.py\", line 250, in fit\n",
            "    fit(X, y, sample_weight, solver_type, kernel, random_seed=seed)\n",
            "  File \"/usr/local/lib/python3.10/dist-packages/sklearn/svm/_base.py\", line 328, in _dense_fit\n",
            "    ) = libsvm.fit(\n",
            "  File \"_libsvm.pyx\", line 216, in sklearn.svm._libsvm.fit\n",
            "ValueError: specified nu is infeasible\n",
            "\n",
            "  warnings.warn(some_fits_failed_message, FitFailedWarning)\n",
            "/usr/local/lib/python3.10/dist-packages/sklearn/model_selection/_search.py:1103: UserWarning: One or more of the test scores are non-finite: [       nan 0.59375439 0.60168421 0.28761404 0.23757895 0.56729825\n",
            "        nan 0.52238596        nan 0.23736842 0.33487719 0.53291228\n",
            " 0.17666667 0.28761404 0.52238596 0.55133333 0.55950877 0.23736842\n",
            "        nan 0.42484211        nan 0.28761404 0.23757895 0.56992982\n",
            "        nan 0.22185965        nan 0.41954386 0.55133333 0.36389474\n",
            " 0.53277193 0.51189474        nan 0.52238596 0.57014035        nan\n",
            " 0.51189474        nan 0.26126316 0.57014035 0.25603509 0.25589474\n",
            " 0.56989474        nan 0.55414035        nan        nan 0.59649123\n",
            " 0.26126316 0.52235088 0.51189474        nan 0.26922807 0.23747368\n",
            " 0.2322807  0.53291228 0.26126316 0.56989474 0.28761404 0.20038596\n",
            " 0.56989474        nan 0.41954386 0.51175439        nan 0.57014035\n",
            " 0.26126316        nan 0.42484211 0.52235088 0.55133333 0.2322807\n",
            " 0.41954386 0.53291228 0.55133333 0.58852632        nan 0.21098246\n",
            " 0.57014035 0.56989474 0.42484211 0.2137193  0.28761404 0.23757895\n",
            " 0.26908772        nan 0.58049123 0.56982456 0.54091228 0.33487719\n",
            " 0.59375439        nan 0.24284211 0.2322807  0.42484211 0.56203509\n",
            " 0.45126316 0.23736842 0.58578947        nan]\n",
            "  warnings.warn(\n"
          ]
        },
        {
          "output_type": "stream",
          "name": "stdout",
          "text": [
            "Best set of hyperparameters:  {'nu': 0.25, 'kernel': 'poly', 'gamma': 100.0}\n",
            "Best score:  0.6016842105263158\n"
          ]
        }
      ]
    },
    {
      "cell_type": "code",
      "source": [
        "## VISION TEXT SESSION 1 TEST\n",
        "\n",
        "vision_text_model = NuSVC(nu=0.25,\n",
        "                          gamma=100,\n",
        "                          kernel='poly',\n",
        "                          class_weight='balanced',\n",
        "                          random_state=42,\n",
        "                          decision_function_shape='ovo')\n",
        "vision_text_model.fit(X_train, y_train)\n",
        "vision_text_pred = vision_text_model.predict(X_test)\n",
        "\n",
        "# Calculate evaluation metrics\n",
        "print(classification_report(y_test, vision_text_pred))"
      ],
      "metadata": {
        "colab": {
          "base_uri": "https://localhost:8080/"
        },
        "id": "RdtAeltnoRN6",
        "outputId": "0485547f-d62f-46c8-8c9f-5a90e144d958"
      },
      "execution_count": null,
      "outputs": [
        {
          "output_type": "stream",
          "name": "stdout",
          "text": [
            "              precision    recall  f1-score   support\n",
            "\n",
            "         ang       0.50      0.50      0.50        28\n",
            "         hap       0.58      0.61      0.59        18\n",
            "         neu       0.57      0.54      0.56        46\n",
            "         sad       0.57      0.59      0.58        27\n",
            "\n",
            "    accuracy                           0.55       119\n",
            "   macro avg       0.55      0.56      0.56       119\n",
            "weighted avg       0.55      0.55      0.55       119\n",
            "\n"
          ]
        }
      ]
    },
    {
      "cell_type": "markdown",
      "source": [
        "## Class Distribution (Session 1)"
      ],
      "metadata": {
        "id": "jmhpzCGCqqxj"
      }
    },
    {
      "cell_type": "code",
      "source": [
        "fig, ax =plt.subplots(figsize=(5,5))\n",
        "sns.countplot(emotion_labels_subset, x=\"Emotion\")\n",
        "plt.title('Distribution of Emotion Labels (Session 1)')\n",
        "fig.show()"
      ],
      "metadata": {
        "id": "0Tl_oAAjqpy_",
        "colab": {
          "base_uri": "https://localhost:8080/",
          "height": 487
        },
        "outputId": "a5c261af-5a47-4a20-dd15-9013cffabc99"
      },
      "execution_count": 54,
      "outputs": [
        {
          "output_type": "display_data",
          "data": {
            "text/plain": [
              "<Figure size 500x500 with 1 Axes>"
            ],
            "image/png": "[encoded data removed]"
          },
          "metadata": {}
        }
      ]
    },
    {
      "cell_type": "markdown",
      "source": [
        "# Prepare, Train, and Test Classification Model - Session 1-5 (Audio-Text ONLY)"
      ],
      "metadata": {
        "id": "MfPXJXqUpz9C"
      }
    },
    {
      "cell_type": "markdown",
      "source": [
        "## AUDIO-TEXT Session 1-5"
      ],
      "metadata": {
        "id": "RW1Plp5gqx34"
      }
    },
    {
      "cell_type": "code",
      "source": [
        "sessions_audiotext = ['Session1', 'Session2', 'Session4'] # Session 3 and Session 5 have different number of samples\n",
        "\n",
        "# Read in complete audio/text data\n",
        "audio_embedding_df_complete = pd.DataFrame()\n",
        "text_embedding_df_complete = pd.DataFrame()\n",
        "emotion_df_complete = pd.DataFrame()\n",
        "for session in sessions_audiotext:\n",
        "  curr_session_audio = pd.read_csv(f'./drive/MyDrive/coms6998_final_project/Embeddings/audio_embeddings_{session}.csv', header=None)\n",
        "  audio_embedding_df_complete = pd.concat([audio_embedding_df_complete, curr_session_audio], ignore_index=True)\n",
        "\n",
        "  curr_session_text = pd.read_csv(f'./drive/MyDrive/coms6998_final_project/Embeddings/text_embeddings_{session}.csv', header=None)\n",
        "  text_embedding_df_complete = pd.concat([text_embedding_df_complete, curr_session_text], ignore_index=True)\n",
        "\n",
        "  curr_emotions = pd.read_csv(f'./drive/MyDrive/coms6998_final_project/Embeddings/labels_{session}.csv', header=None, names=['Dialog_ID', 'Emotion'])\n",
        "  emotion_df_complete = pd.concat([emotion_df_complete, curr_emotions], ignore_index=True)\n",
        "\n",
        "\n",
        "# Read in emotion labels\n",
        "emotion_labels = pd.read_csv('./drive/MyDrive/coms6998_final_project/Embeddings/Session 1/emotion_labels.csv', header=None, names=['Dialog_ID', 'Emotion'])\n",
        "labels_subset = pd.read_csv('./drive/MyDrive/coms6998_final_project/Embeddings/Session 1/labels.csv', header=None, names=['Dialog_ID'])\n",
        "emotion_labels_subset = emotion_labels.set_index('Dialog_ID').join(labels_subset.set_index('Dialog_ID'), on='Dialog_ID', how='right').reset_index()\n",
        "\n",
        "# Add emotion label to single modality DFs to prepare for filtering\n",
        "audio_embedding_df_complete['Emotion'] = emotion_labels_subset['Emotion']\n",
        "text_embedding_df_complete['Emotion'] = emotion_labels_subset['Emotion']\n",
        "\n",
        "# Filter single modality DFs to 4 emotions\n",
        "y_labels = ['ang', 'hap', 'sad', 'neu']\n",
        "audio_embedding_df_complete = audio_embedding_df_complete[audio_embedding_df_complete['Emotion'].isin(y_labels)]\n",
        "text_embedding_df_complete = text_embedding_df_complete[text_embedding_df_complete['Emotion'].isin(y_labels)]\n",
        "\n",
        "# Convert filtered single modality DFs into embeddings to combine\n",
        "audio_embedding = torch.tensor(audio_embedding_df_complete.drop('Emotion', axis=1).values)\n",
        "text_embedding = torch.tensor(text_embedding_df_complete.drop('Emotion', axis=1).values)\n",
        "\n",
        "# Combine modalities\n",
        "audio_text_embeddings = torch.softmax(audio_embedding @ text_embedding.T,\n",
        "                                        dim=-1)\n",
        "emotion_labels_subset = emotion_labels_subset[emotion_labels_subset['Emotion'].isin(y_labels)].reset_index()\n",
        "\n",
        "# Add emotion labels to combined modality to prepare dataset for training\n",
        "audio_text_data = pd.DataFrame(audio_text_embeddings)\n",
        "audio_text_data['Emotion'] = emotion_labels_subset['Emotion']\n",
        "\n",
        "####### Audio - Text Model\n",
        "\n",
        "# Separate target variable\n",
        "audio_text_x = audio_text_data.drop('Emotion', axis=1)\n",
        "audio_text_y = audio_text_data['Emotion']\n",
        "\n",
        "# Split data into dev and test datasets using 80:20 split\n",
        "X_dev, X_test, y_dev, y_test = train_test_split(audio_text_x,\n",
        "                                                audio_text_y,\n",
        "                                                test_size=0.2,\n",
        "                                                stratify=audio_text_y,\n",
        "                                                random_state=1)\n",
        "\n",
        "# Split dev data into train and validation datasets using 80:20 split\n",
        "X_train, X_val, y_train, y_val = train_test_split(X_dev,\n",
        "                                                  y_dev,\n",
        "                                                  test_size=0.2,\n",
        "                                                  stratify=y_dev,\n",
        "                                                  random_state=1)\n",
        "\n",
        "# Complete hyperparameter tuning to find optimal hyperparameters for NuSVC model\n",
        "param_dist = {\n",
        "    'nu': [0.2, 0.25, 0.3, 0.35, 0.4, 0.45, 0.5, 0.55, 0.6],\n",
        "    'gamma': [0.001, 0.01, 0.1, 1.e+00, 10],\n",
        "    'kernel': ['rbf', 'linear', 'poly'],\n",
        "}\n",
        "\n",
        "audio_text_model = NuSVC(random_state=42,\n",
        "                           class_weight='balanced',\n",
        "                           decision_function_shape='ovo')\n",
        "\n",
        "random_search = RandomizedSearchCV(audio_text_model,\n",
        "                                   param_distributions=param_dist,\n",
        "                                   n_iter=100, cv=5, random_state=42)\n",
        "\n",
        "random_search.fit(X_train, y_train)\n",
        "best_params_random = random_search.best_params_\n",
        "best_scores_random = random_search.best_score_\n",
        "print(\"Best set of hyperparameters: \", best_params_random)\n",
        "print(\"Best score: \", best_scores_random)"
      ],
      "metadata": {
        "id": "Vgde_uTyp-Ln",
        "colab": {
          "base_uri": "https://localhost:8080/"
        },
        "outputId": "017efffb-ffcc-48a8-8c96-e8d36d39f4ef"
      },
      "execution_count": null,
      "outputs": [
        {
          "output_type": "stream",
          "name": "stdout",
          "text": [
            "Best set of hyperparameters:  {'nu': 0.4, 'kernel': 'rbf', 'gamma': 0.1}\n",
            "Best score:  0.4168771929824562\n"
          ]
        },
        {
          "output_type": "stream",
          "name": "stderr",
          "text": [
            "/usr/local/lib/python3.10/dist-packages/sklearn/model_selection/_validation.py:540: FitFailedWarning: \n",
            "93 fits failed out of a total of 500.\n",
            "The score on these train-test partitions for these parameters will be set to nan.\n",
            "If these failures are not expected, you can try to debug them by setting error_score='raise'.\n",
            "\n",
            "Below are more details about the failures:\n",
            "--------------------------------------------------------------------------------\n",
            "55 fits failed with the following error:\n",
            "Traceback (most recent call last):\n",
            "  File \"/usr/local/lib/python3.10/dist-packages/sklearn/model_selection/_validation.py\", line 888, in _fit_and_score\n",
            "    estimator.fit(X_train, y_train, **fit_params)\n",
            "  File \"/usr/local/lib/python3.10/dist-packages/sklearn/base.py\", line 1473, in wrapper\n",
            "    return fit_method(estimator, *args, **kwargs)\n",
            "  File \"/usr/local/lib/python3.10/dist-packages/sklearn/svm/_base.py\", line 250, in fit\n",
            "    fit(X, y, sample_weight, solver_type, kernel, random_seed=seed)\n",
            "  File \"/usr/local/lib/python3.10/dist-packages/sklearn/svm/_base.py\", line 328, in _dense_fit\n",
            "    ) = libsvm.fit(\n",
            "  File \"_libsvm.pyx\", line 216, in sklearn.svm._libsvm.fit\n",
            "ValueError: specified nu is infeasible\n",
            "\n",
            "--------------------------------------------------------------------------------\n",
            "38 fits failed with the following error:\n",
            "Traceback (most recent call last):\n",
            "  File \"/usr/local/lib/python3.10/dist-packages/sklearn/model_selection/_validation.py\", line 888, in _fit_and_score\n",
            "    estimator.fit(X_train, y_train, **fit_params)\n",
            "  File \"/usr/local/lib/python3.10/dist-packages/sklearn/base.py\", line 1473, in wrapper\n",
            "    return fit_method(estimator, *args, **kwargs)\n",
            "  File \"/usr/local/lib/python3.10/dist-packages/sklearn/svm/_base.py\", line 268, in fit\n",
            "    raise ValueError(\n",
            "ValueError: The dual coefficients or intercepts are not finite. The input data may contain large values and need to be preprocessed.\n",
            "\n",
            "  warnings.warn(some_fits_failed_message, FitFailedWarning)\n",
            "/usr/local/lib/python3.10/dist-packages/sklearn/model_selection/_search.py:1103: UserWarning: One or more of the test scores are non-finite: [       nan 0.37747368 0.35094737        nan 0.37747368        nan\n",
            " 0.29824561 0.3694386         nan 0.38021053        nan 0.37747368\n",
            " 0.25322807 0.26403509 0.24807018 0.38782456        nan 0.35880702\n",
            " 0.39315789 0.27417544 0.37477193        nan 0.37470175        nan\n",
            " 0.29519298 0.35094737        nan 0.24807018 0.37747368        nan\n",
            " 0.38792982 0.38792982 0.25568421 0.23207018 0.35364912 0.30870175\n",
            "        nan 0.37992982 0.29519298 0.27701754 0.37747368 0.30624561\n",
            " 0.29824561        nan 0.24807018 0.37747368 0.29824561 0.33508772\n",
            " 0.35070175 0.28221053 0.29824561 0.25568421 0.40905263 0.37185965\n",
            "        nan 0.37747368 0.29824561 0.39326316 0.29519298 0.37470175\n",
            "        nan 0.36673684        nan 0.25326316 0.38526316        nan\n",
            "        nan 0.39585965 0.29824561 0.38       0.37470175 0.37470175\n",
            " 0.32424561 0.38273684 0.40378947        nan 0.37747368 0.35364912\n",
            " 0.34021053        nan 0.24807018 0.25842105 0.38526316 0.40905263\n",
            " 0.25596491 0.25568421 0.33270175 0.23480702        nan 0.37747368\n",
            "        nan 0.35357895 0.40638596 0.32452632 0.388      0.39305263\n",
            " 0.29519298 0.35364912 0.41687719 0.25568421]\n",
            "  warnings.warn(\n"
          ]
        }
      ]
    },
    {
      "cell_type": "code",
      "source": [
        "## AUDIO TEXT SESSION 1-5 TEST\n",
        "\n",
        "audio_text_model = NuSVC(nu=0.5,\n",
        "                          gamma=0.1,\n",
        "                          kernel='rbf',\n",
        "                          class_weight='balanced',\n",
        "                          random_state=42,\n",
        "                          decision_function_shape='ovo')\n",
        "audio_text_model.fit(X_train, y_train)\n",
        "audio_text_pred = audio_text_model.predict(X_test)\n",
        "\n",
        "# Calculate evaluation metrics\n",
        "print(classification_report(y_test, audio_text_pred))"
      ],
      "metadata": {
        "colab": {
          "base_uri": "https://localhost:8080/"
        },
        "id": "pAWQy-RMyV8k",
        "outputId": "ca7efb93-8993-4891-c474-9ddf016472a9"
      },
      "execution_count": 6,
      "outputs": [
        {
          "output_type": "stream",
          "name": "stdout",
          "text": [
            "              precision    recall  f1-score   support\n",
            "\n",
            "         ang       0.21      0.29      0.24        28\n",
            "         hap       0.33      0.11      0.17        18\n",
            "         neu       0.42      0.57      0.48        46\n",
            "         sad       0.17      0.07      0.10        27\n",
            "\n",
            "    accuracy                           0.32       119\n",
            "   macro avg       0.28      0.26      0.25       119\n",
            "weighted avg       0.30      0.32      0.29       119\n",
            "\n"
          ]
        }
      ]
    },
    {
      "cell_type": "markdown",
      "source": [
        "## Class Distribution (Session 1-5)"
      ],
      "metadata": {
        "id": "SXPcTLCcqvoi"
      }
    },
    {
      "cell_type": "code",
      "source": [
        "fig, ax =plt.subplots(figsize=(5,5))\n",
        "sns.countplot(emotion_df_complete, x=\"Emotion\")\n",
        "plt.title('Distribution of Emotion Labels (Session 1-5)')\n",
        "fig.show()"
      ],
      "metadata": {
        "id": "LGDgg5tCqGXj",
        "colab": {
          "base_uri": "https://localhost:8080/",
          "height": 487
        },
        "outputId": "9c501f92-9558-4f78-cc75-0b3159d1e0fa"
      },
      "execution_count": null,
      "outputs": [
        {
          "output_type": "display_data",
          "data": {
            "text/plain": [
              "<Figure size 500x500 with 1 Axes>"
            ],
            "image/png": "[encoded data removed]"
          },
          "metadata": {}
        }
      ]
    }
  ]
}